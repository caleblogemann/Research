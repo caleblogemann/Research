{
 "cells": [
  {
   "cell_type": "code",
   "execution_count": 1,
   "metadata": {},
   "outputs": [],
   "source": [
    "from sageresearch.discontinuousgalerkin import basis\n",
    "from sageresearch.discontinuousgalerkin import canonical_element\n",
    "from sageresearch.discontinuousgalerkin import flux_functions"
   ]
  },
  {
   "cell_type": "markdown",
   "metadata": {},
   "source": [
    "# Discontinuous Galerkin Formulation"
   ]
  },
  {
   "cell_type": "markdown",
   "metadata": {},
   "source": [
    "## Flux Integral"
   ]
  },
  {
   "cell_type": "markdown",
   "metadata": {},
   "source": [
    "The dg formulation involves a integral of the flux multiplied by the gradient of the test functions or basis \n",
    "$$\n",
    "    \\int_{K_i}{\\underline{f}(q, x, t) (\\underline{D\\phi}_i(x))^T} \\mathrm{d}x\n",
    "$$\n",
    "The flux function $\\underline{f}$ is a function whose output is a matrix of shape (num_eqns, num_dims)\n",
    "$\\underline{D\\phi}$ is the jacobian of the basis functions in vector form, the output is a matrix of shape (num_basis_cpts, num_dims), $\\underline{D\\phi}_{jk} = \\phi^j_{i,x_k}$\n",
    "The tranpose is taken so that the flux function in each dimension is multiplied by the derivative of the basis functions in that direction.\n",
    "\n",
    "This integral can be converted to the canonical element $\\mathcal{K}$ using the linear transformations $c_i(x)$ and $b_i(\\xi)$\n",
    "\n",
    "$$\n",
    "    \\int_{b_i(K)}{\\underline{f}(q, x, t) (\\underline{D\\phi}_i(x))^T} \\mathrm{d}x = \n",
    "    \\int_{K}{\\underline{f}(q, b_i(\\xi), t) (\\underline{D_x\\phi}_i(b_i(\\xi)))^T} |b_i'(xi)| \\mathrm{d} \\xi\n",
    "$$\n",
    "\n",
    "The jacobian of the basis function can be simplified as follows\n",
    "$$\n",
    "    D_x(\\phi_i(x)) = D_x(\\phi(c_i(x)) = D_{\\xi}\\phi(c_i(x)) D_x c_i(x) = \\phi'(c_i(x)) c_i'(x)\n",
    "$$\n",
    "\n",
    "$$\n",
    "    D_x(\\phi_i(x))_{x=b_i(\\xi)} = \\phi'(c_i(b_i(\\xi)) c_i'(b_i(\\xi)) = \\phi'(\\xi) c_i'(b_i(\\xi)\n",
    "$$\n",
    "\n",
    "$$\n",
    "    \\int_{K_i}{\\underline{f}(q, x, t) (\\underline{D\\phi}_i(x))^T} \\mathrm{d}x = \\int_{K} \\underline{f}(q, b_i(\\xi), t) \\underline{c}_i'(b_i(\\xi))^T \\underline{\\phi}'(\\xi)^T |b_i'(\\xi)|\\mathrm{d} \\xi\n",
    "$$"
   ]
  },
  {
   "cell_type": "markdown",
   "metadata": {},
   "source": [
    "### 1D"
   ]
  },
  {
   "cell_type": "code",
   "execution_count": 2,
   "metadata": {},
   "outputs": [],
   "source": [
    "phi = vector(basis.get_legendre_basis_1d(4))\n",
    "xi = canonical_element.get_canonical_variables_1d()\n",
    "x = canonical_element.get_mesh_variables_1d()\n",
    "vertex_list = canonical_element.get_mesh_element_vertices_1d()\n",
    "c_i = canonical_element.get_transformation_to_canonical_1d_vertex_list(vertex_list)\n",
    "b_i = canonical_element.get_transformation_to_mesh_1d_vertex_list(vertex_list)\n",
    "phi_i = phi(c_i(x)).function(x)\n",
    "d_phi = jacobian(phi, xi)\n",
    "d_phi_i = jacobian(phi_i, x)\n",
    "d_c_i = jacobian(c_i, x)\n",
    "d_b_i = jacobian(b_i, xi)"
   ]
  },
  {
   "cell_type": "markdown",
   "metadata": {},
   "source": [
    "$ D_x(\\phi_i(x)) = \\phi'(c_i(x)) c_i'(x) $"
   ]
  },
  {
   "cell_type": "code",
   "execution_count": 3,
   "metadata": {},
   "outputs": [
    {
     "data": {
      "text/plain": [
       "[0]\n",
       "[0]\n",
       "[0]\n",
       "[0]"
      ]
     },
     "execution_count": 3,
     "metadata": {},
     "output_type": "execute_result"
    }
   ],
   "source": [
    "(d_phi(c_i(x)) * d_c_i(x) - d_phi_i(x)).simplify_full()"
   ]
  },
  {
   "cell_type": "markdown",
   "metadata": {},
   "source": [
    "$ D_x(\\phi_i(x))_{x=b_i(\\xi)} = \\phi'(\\xi) c_i'(b_i(\\xi) $"
   ]
  },
  {
   "cell_type": "code",
   "execution_count": 4,
   "metadata": {},
   "outputs": [
    {
     "data": {
      "text/plain": [
       "[0]\n",
       "[0]\n",
       "[0]\n",
       "[0]"
      ]
     },
     "execution_count": 4,
     "metadata": {},
     "output_type": "execute_result"
    }
   ],
   "source": [
    "(d_phi_i(b_i(xi)) - d_phi(xi) * d_c_i(b_i(xi))).simplify_full()"
   ]
  },
  {
   "cell_type": "markdown",
   "metadata": {},
   "source": [
    "$ \\int_{K_i}{\\underline{f}(q, x, t) (\\underline{D\\phi}_i(x))^T} \\mathrm{d}x = \\int_{K} \\underline{f}(q, b_i(\\xi), t) \\underline{c}_i'(b_i(\\xi))^T \\underline{\\phi}'(\\xi)^T \\mathrm{d} \\xi $"
   ]
  },
  {
   "cell_type": "code",
   "execution_count": 9,
   "metadata": {},
   "outputs": [
    {
     "data": {
      "text/plain": [
       "[0 0 0 0]"
      ]
     },
     "execution_count": 9,
     "metadata": {},
     "output_type": "execute_result"
    }
   ],
   "source": [
    "q = sin(x).function(x)\n",
    "f = flux_functions.get_advection_1d(1)\n",
    "t = flux_functions.get_t_variable()\n",
    "mesh_integrand = f(q(x), x, t) * d_phi_i(x).transpose()\n",
    "mesh_integral = [canonical_element.integrate_over_mesh_element_1d_vertex_list(i, vertex_list) for i in mesh_integrand]\n",
    "mesh_integral = matrix(mesh_integral)\n",
    "canonical_integrand = f(q(b_i(xi)), b_i(xi), t) * d_c_i(b_i(xi)).transpose() * d_phi(xi).transpose() * d_b_i(xi).det()\n",
    "canonical_integral = [canonical_element.integrate_over_canonical_element_1d(i) for i in canonical_integrand]\n",
    "canonical_integral = matrix(canonical_integral)\n",
    "(mesh_integral - canonical_integral).simplify_full()"
   ]
  },
  {
   "cell_type": "markdown",
   "metadata": {},
   "source": [
    "### 2D Rectangles"
   ]
  },
  {
   "cell_type": "code",
   "execution_count": null,
   "metadata": {},
   "outputs": [],
   "source": [
    "phi = vector(basis.get_legendre_basis_2d_rectangle(3))\n",
    "xi = canonical_element.get_canonical_variables_1d()\n",
    "x = canonical_element.get_mesh_variables_1d()\n",
    "vertex_list = canonical_element.get_mesh_element_vertices_1d()\n",
    "c_i = canonical_element.get_transformation_to_canonical_1d_vertex_list(vertex_list)\n",
    "b_i = canonical_element.get_transformation_to_mesh_1d_vertex_list(vertex_list)\n",
    "phi_i = phi(c_i(x)).function(x)\n",
    "d_phi = jacobian(phi, xi)\n",
    "d_phi_i = jacobian(phi_i, x)\n",
    "d_c_i = jacobian(c_i, x)\n",
    "d_b_i = jacobian(b_i, xi)"
   ]
  },
  {
   "cell_type": "markdown",
   "metadata": {},
   "source": [
    "## Numerical Flux Boundary Integral"
   ]
  },
  {
   "cell_type": "markdown",
   "metadata": {},
   "source": [
    "The section we will look at the term\n",
    "$$\n",
    "    \\int_{\\partial K_i} \\underline{\\underline{f}}^* \\underline{n} \\underline{\\phi}_i^T(x) ds\n",
    "$$\n",
    "\n",
    "This term is the integral over the surface of the element $K_i$ of the numerical flux dotted into the outward normal vector times the basis function on the boundary.\n",
    "This integral is very different in different dimensions, that is in 1D this integral is just an evaluation at the boundary which is a single point, in 2D this is a line integral, and in 3D it will be a surface integral."
   ]
  },
  {
   "cell_type": "markdown",
   "metadata": {},
   "source": [
    "### 1D"
   ]
  },
  {
   "cell_type": "markdown",
   "metadata": {},
   "source": [
    "In 1D, $K_i = [x_l, x_r]$, and the outward normal vector at $x_l$ is $n = [-1]$ and at $x_r$ is $n = [1]$.\n",
    "Therefore the boundary integral in 1D is\n",
    "$$\n",
    "    \\int_{\\partial K_i} \\underline{\\underline{f}}^* \\underline{n} \\underline{\\phi}_i^T(x) ds = \\underline{\\underline{f}}^*(x_r) \\underline{\\phi}_i^T(x_r) - \\underline{\\underline{f}}^*(x_l) \\underline{\\phi}_i^T(x_l) \n",
    "$$\n",
    "\n",
    "This can easily be transformed to the canonical element $\\mathcal{K} = [-1, 1]$, using the transformation $b_i(\\xi):\\mathcal{K} \\to K_i$\n",
    "$$\n",
    "    \\underline{\\underline{f}}^*(b_i(1)) \\underline{\\phi}^T(1) - \\underline{\\underline{f}}^*(b_i(-1)) \\underline{\\phi}^T(-1)\n",
    "$$"
   ]
  },
  {
   "cell_type": "code",
   "execution_count": 2,
   "metadata": {},
   "outputs": [
    {
     "data": {
      "text/plain": [
       "(0, 0, 0, 0)"
      ]
     },
     "execution_count": 2,
     "metadata": {},
     "output_type": "execute_result"
    }
   ],
   "source": [
    "phi = vector(basis.get_legendre_basis_1d(4))\n",
    "ce = canonical_element.Interval()\n",
    "xi = ce.get_canonical_variables()\n",
    "x = ce.get_mesh_variables()\n",
    "vertex_list = ce.get_mesh_element_vertices()\n",
    "x_l = vertex_list[0, 0]\n",
    "x_r = vertex_list[1, 0]\n",
    "c_i = ce.get_transformation_to_canonical(vertex_list)\n",
    "b_i = ce.get_transformation_to_mesh(vertex_list)\n",
    "phi_i = phi(c_i(x)).function(x)\n",
    "q = sin(x).function(x)\n",
    "f = flux_functions.get_advection_1d(1)\n",
    "t = flux_functions.get_t_variable()\n",
    "f_star_l = f(q(x_l), x_l, t)\n",
    "f_star_r = f(q(x_r), x_r, t)\n",
    "mesh_boundary_integral = f_star_r * phi_i(x_r) - f_star_l * phi_i(x_l)\n",
    "f_star_m1 = f(q(b_i(-1)), b_i(-1), t)\n",
    "f_star_p1 = f(q(b_i(1)), b_i(1), t)\n",
    "canonical_boundary_integral = f_star_p1 * phi(1) - f_star_m1 * phi(-1)\n",
    "diff = mesh_boundary_integral - canonical_boundary_integral\n",
    "assert norm(diff) == 0\n",
    "diff"
   ]
  },
  {
   "cell_type": "markdown",
   "metadata": {},
   "source": [
    "### 2D"
   ]
  },
  {
   "cell_type": "markdown",
   "metadata": {},
   "source": [
    "In two dimensions, the boundary integral is now a line integral.\n",
    "In order to properly define this integral we need to parameterize the line in 1d.\n",
    "Let $\\underline{r}(s)$ be the parameterization of the line $L$ for $s \\in [s_1, s_2]$, then the line integral is defined as\n",
    "$$\n",
    "    \\int_L h(\\underline{x}) dl = \\int_{t_1}^{t_2} h(\\underline{r}(s)) ||\\underline{r}'(s)|| ds\n",
    "$$\n",
    "\n",
    "The boundary integral for the discontinuous galerkin method can be written as the sum of the integral over the faces of the element.\n",
    "In particular if $\\mathcal{F}_i$ is the set of faces on the mesh element with parameterizations $r_f(s)$ on $s \\in [-1, 1]$, then\n",
    "\n",
    "$$\n",
    "    \\int_{\\partial K_i} \\underline{\\underline{f}}^* \\underline{n} \\underline{\\phi}_i^T(x) ds = \\sum_{f \\in \\mathcal{F}_i} \n",
    "        \\int_{-1}^{1}\\underline{\\underline{f}}^* \\underline{n} \\underline{\\phi}_i^T(r_f(s)) ||r_f'(s)|| ds\n",
    "$$\n",
    "\n",
    "This can also be written as a sum over line integrals over the canonical element.\n",
    "In this case we have parameterizations of the faces of the canonicale element, $r_f(t)$ for $f \\in \\mathcal{F}$ the set of faces of the canonical element.\n",
    "Then we can understand the parameterization of the faces of the mesh element as $\\underline{b}_i(r_f(s))$.\n",
    "This handles the transformation to the canonical element and the parameterization of the face in one step.\n",
    "Note that this is still using the outward normal facing vector of the mesh element.\n",
    "\n",
    "$$\n",
    "    \\int_{\\partial K_i} \\underline{\\underline{f}}^* \\underline{n} \\underline{\\phi}_i^T(x) ds = \\sum_{f \\in \\mathcal{F}} \n",
    "        \\int_{-1}^{1}\\underline{\\underline{f}}^* \\underline{n} \\underline{\\phi}^T(r_f(s)) ||\\underline{b}_i'(r_f(s)) r_f'(s)|| ds\n",
    "$$"
   ]
  },
  {
   "cell_type": "markdown",
   "metadata": {},
   "source": [
    "### 2D Rectangle"
   ]
  },
  {
   "cell_type": "markdown",
   "metadata": {},
   "source": [
    "The parameterizations of the faces of the mesh element are\n",
    "$$\n",
    "    r_l = [x_l, \\frac{y_t + y_b}{2} + \\frac{s}{2}(y_t - y_b)] \\\\\n",
    "    r_r = [x_r, \\frac{y_t + y_b}{2} + \\frac{s}{2}(y_t - y_b)] \\\\\n",
    "    r_b = [\\frac{x_l + x_r}{2} + \\frac{s}{2}(x_r - x_l), y_b] \\\\\n",
    "    r_t = [\\frac{x_l + x_r}{2} + \\frac{s}{2}(x_r - x_l), y_t]\n",
    "$$\n",
    "\n",
    "and the parameterizations of the faces of the canonoical element are\n",
    "$$\n",
    "    r_l = [-1, s] \\\\\n",
    "    r_r = [1, s] \\\\\n",
    "    r_b = [s, -1] \\\\\n",
    "    r_t = [s, 1]\n",
    "$$\n",
    "\n",
    "The normal vectors of the mesh and canonical elements are equal and are given by\n",
    "$$\n",
    "    n_l = [-1, 0] \\\\\n",
    "    n_r = [1, 0] \\\\\n",
    "    n_b = [0, -1] \\\\\n",
    "    n_t = [0, 1]\n",
    "$$"
   ]
  },
  {
   "cell_type": "code",
   "execution_count": 68,
   "metadata": {},
   "outputs": [],
   "source": [
    "square = canonical_element.Square()\n",
    "vertex_list = square.get_mesh_element_vertices()\n",
    "phi = vector(basis.get_legendre_basis_2d_rectangle(3))\n",
    "c_i = square.get_transformation_to_canonical(vertex_list)\n",
    "b_i = square.get_transformation_to_mesh(vertex_list)\n",
    "tuple_ = square.get_mesh_variables()\n",
    "x = tuple_[0]\n",
    "y = tuple_[1]\n",
    "phi_i = phi(c_i(x, y)[0], c_i(x, y)[1]).function(x, y)\n",
    "mesh_faces_parameterizations = square.get_parameterizations_of_mesh_element_faces()\n",
    "canonical_faces_parameterizations = square.get_parameterizations_of_canonical_element_faces()\n",
    "s = square.get_parameterization_variable()\n",
    "mesh_normal_vectors = square.get_outward_normal_vectors_mesh_element() \n",
    "canonical_normal_vectors = square.get_outward_normal_vectors_canonical_element()\n",
    "\n",
    "f = flux_functions.get_advection_2d([1, 1])\n",
    "t = flux_functions.get_t_variable()\n",
    "q = (sin(x) * sin(y)).function(x, y)\n",
    "x_s = [r_f(s)[0].function(s) for r_f in mesh_faces_parameterizations]\n",
    "y_s = [r_f(s)[1].function(s) for r_f in mesh_faces_parameterizations]\n",
    "num_faces = len(x_s)\n",
    "f_star_m = [f(q(x_s[i](s), y_s[i](s)), x_s[i](s), y_s[i](s), t).function(s) for i in range(num_faces)]\n",
    "n = mesh_normal_vectors\n",
    "r_f_p_norm = [r_f.diff(s).norm() for r_f in mesh_faces_parameterizations]\n",
    "# \\dintt{-1}{1}{f^* n \\phi_i^T(r_f(s)) \\norm{r_f'(s)}}{s}\n",
    "left_face_mesh_integral = integrate(f_star_m[0](s) * n[0] * phi_i(x_s[0](s), y_s[0](s)) * r_f_p_norm[0](s), s, -1, 1)\n",
    "right_face_mesh_integral = integrate(f_star_m[1](s) * n[1] * phi_i(x_s[1](s), y_s[1](s)) * r_f_p_norm[1](s), s, -1, 1)\n",
    "bottom_face_mesh_integral = integrate(f_star_m[2](s) * n[2] * phi_i(x_s[2](s), y_s[2](s)) * r_f_p_norm[2](s), s, -1, 1)\n",
    "top_face_mesh_integral = integrate(f_star_m[3](s) * n[3] * phi_i(x_s[3](s), y_s[3](s)) * r_f_p_norm[3](s), s, -1, 1)\n",
    "mesh_integral = left_face_mesh_integral + right_face_mesh_integral + bottom_face_mesh_integral + top_face_mesh_integral\n",
    "\n",
    "xi_s = [r_f(s)[0].function(s) for r_f in canonical_faces_parameterizations]\n",
    "eta_s = [r_f(s)[1].function(s) for r_f in canonical_faces_parameterizations]\n",
    "x_s = [b_i(xi_s[i](s), eta_s[i](s))[0].function(s) for i in range(num_faces)]\n",
    "y_s = [b_i(xi_s[i](s), eta_s[i](s))[1].function(s) for i in range(num_faces)]\n",
    "f_star_c = [f(q(x_s[i](s), y_s[i](s)), x_s[i](s), y_s[i](s), t).function(s) for i in range(num_faces)]\n",
    "\n",
    "# f_star_m should be same as f_star_c\n",
    "assert sum([norm(f_star_m[i](s) - f_star_c[i](s)) for i in range(num_faces)]) == 0\n",
    "\n",
    "b_i_jacobian = square.transform_to_mesh_jacobian(vertex_list)\n",
    "b_i_j_r_f_p_norm = b_i_j_r_f_p_norm = [(b_i_jacobian * r_f.diff(s)).norm() for r_f in canonical_faces_parameterizations]\n",
    "# \\dintt{-1}{1}{f^* n \\phi^T(r_f(s)) \\norm{b_i'(r_f(s)) r_f'(s)}}{s}\n",
    "left_face_canonical_integral = integrate(f_star_c[0](s) * n[0] * phi(xi_s[0](s), eta_s[0](s)) * b_i_j_r_f_p_norm[0](s), s, -1, 1)\n",
    "right_face_canonical_integral = integrate(f_star_c[1](s) * n[1] * phi(xi_s[1](s), eta_s[1](s)) * b_i_j_r_f_p_norm[1](s), s, -1, 1)\n",
    "bottom_face_canonical_integral = integrate(f_star_c[2](s) * n[2] * phi(xi_s[2](s), eta_s[2](s)) * b_i_j_r_f_p_norm[2](s), s, -1, 1)\n",
    "top_face_canonical_integral = integrate(f_star_c[3](s) * n[3] * phi(xi_s[3](s), eta_s[3](s)) * b_i_j_r_f_p_norm[3](s), s, -1, 1)\n",
    "canonical_integral = left_face_canonical_integral + right_face_canonical_integral + bottom_face_canonical_integral + top_face_canonical_integral\n",
    "\n",
    "assert left_face_mesh_integral == left_face_canonical_integral\n",
    "assert right_face_mesh_integral == right_face_canonical_integral\n",
    "assert bottom_face_mesh_integral == bottom_face_canonical_integral\n",
    "assert top_face_mesh_integral == top_face_canonical_integral\n",
    "assert mesh_integral == canonical_integral"
   ]
  },
  {
   "cell_type": "markdown",
   "metadata": {},
   "source": [
    "### 2D Triangle"
   ]
  },
  {
   "cell_type": "markdown",
   "metadata": {},
   "source": [
    "The vertices of the triangular element are $v_0 = (x_0, y_0), v_1 = (x_1, y_1), v_2 = (x_2, y_2)$.\n",
    "The parameterizations of the faces of the mesh element are\n",
    "$$\n",
    "        r_l = ((v_2 - v_1) * s + v_1 + v_2) / 2 \\\\\n",
    "        r_b = ((v_3 - v_2) * s + v_2 + v_3) / 2 \\\\\n",
    "        r_h = ((v_1 - v_3) * s + v_3 + v_1) / 2\n",
    "$$\n",
    "\n",
    "and the parameterizations of the faces of the canonoical element are\n",
    "$$\n",
    "    r_l = [-1, s] \\\\\n",
    "    r_b = [s, -1] \\\\\n",
    "    r_h = [s, -s]\n",
    "$$\n",
    "\n",
    "The normal vectors of the mesh elements are given by\n",
    "$$\n",
    "        n_l = [y_1 - y_0, x_0 - x_1] \\\\\n",
    "        n_b = [y_2 - y_1, x_1 - x_2] \\\\\n",
    "        n_h = [y_0 - y_2, x_2 - x_0]\n",
    "$$\n",
    "These are not unit length and need to be normalized as well."
   ]
  },
  {
   "cell_type": "code",
   "execution_count": 11,
   "metadata": {},
   "outputs": [],
   "source": [
    "triangle = canonical_element.Triangle()\n",
    "vertex_list = triangle.get_mesh_element_vertices()\n",
    "phi = vector(basis.get_modal_basis_2d_triangle(1))\n",
    "c_i = triangle.get_transformation_to_canonical(vertex_list)\n",
    "b_i = triangle.get_transformation_to_mesh(vertex_list)\n",
    "tuple_ = triangle.get_mesh_variables()\n",
    "x = tuple_[0]\n",
    "y = tuple_[1]\n",
    "phi_i = phi(c_i(x, y)[0], c_i(x, y)[1]).function(x, y)\n",
    "mesh_faces_parameterizations = triangle.get_parameterizations_of_mesh_element_faces()\n",
    "canonical_faces_parameterizations = triangle.get_parameterizations_of_canonical_element_faces()\n",
    "s = triangle.get_parameterization_variable()\n",
    "mesh_normal_vectors = triangle.get_outward_normal_vectors_mesh_element() \n",
    "canonical_normal_vectors = triangle.get_outward_normal_vectors_canonical_element()"
   ]
  },
  {
   "cell_type": "code",
   "execution_count": 12,
   "metadata": {},
   "outputs": [],
   "source": [
    "f = flux_functions.get_advection_2d([1, 1])\n",
    "t = flux_functions.get_t_variable()\n",
    "q = (sin(x) * sin(y)).function(x, y)\n",
    "x_s = [r_f(s)[0].function(s) for r_f in mesh_faces_parameterizations]\n",
    "y_s = [r_f(s)[1].function(s) for r_f in mesh_faces_parameterizations]\n",
    "num_faces = len(x_s)\n",
    "f_star_m = [f(q(x_s[i](s), y_s[i](s)), x_s[i](s), y_s[i](s), t).function(s) for i in range(num_faces)]\n",
    "n = mesh_normal_vectors\n",
    "r_f_p_norm = [r_f.diff(s).norm() for r_f in mesh_faces_parameterizations]"
   ]
  },
  {
   "cell_type": "code",
   "execution_count": 15,
   "metadata": {},
   "outputs": [],
   "source": [
    "left_face_mesh_integral = integrate(f_star_m[0](s) * n[0] * phi_i(x_s[0](s), y_s[0](s)) * r_f_p_norm[0](s), s, -1, 1)\n",
    "bottom_face_mesh_integral = integrate(f_star_m[1](s) * n[1] * phi_i(x_s[1](s), y_s[1](s)) * r_f_p_norm[1](s), s, -1, 1)\n",
    "hypotonuse_face_mesh_integral = integrate(f_star_m[2](s) * n[2] * phi_i(x_s[2](s), y_s[2](s)) * r_f_p_norm[2](s), s, -1, 1)\n",
    "mesh_integral = left_face_mesh_integral + bottom_face_mesh_integral + hypotonuse_face_mesh_integral"
   ]
  },
  {
   "cell_type": "code",
   "execution_count": 16,
   "metadata": {},
   "outputs": [
    {
     "ename": "AssertionError",
     "evalue": "",
     "output_type": "error",
     "traceback": [
      "\u001b[0;31m---------------------------------------------------------------------------\u001b[0m",
      "\u001b[0;31mAssertionError\u001b[0m                            Traceback (most recent call last)",
      "\u001b[0;32m<ipython-input-16-d229aeedefa4>\u001b[0m in \u001b[0;36m<module>\u001b[0;34m()\u001b[0m\n\u001b[1;32m     36\u001b[0m \u001b[0;34m\u001b[0m\u001b[0m\n\u001b[1;32m     37\u001b[0m \u001b[0;31m# f_star_m should be same as f_star_c\u001b[0m\u001b[0;34m\u001b[0m\u001b[0;34m\u001b[0m\u001b[0;34m\u001b[0m\u001b[0m\n\u001b[0;32m---> 38\u001b[0;31m \u001b[0;32massert\u001b[0m \u001b[0msum\u001b[0m\u001b[0;34m(\u001b[0m\u001b[0;34m[\u001b[0m\u001b[0mnorm\u001b[0m\u001b[0;34m(\u001b[0m\u001b[0mf_star_m\u001b[0m\u001b[0;34m[\u001b[0m\u001b[0mi\u001b[0m\u001b[0;34m]\u001b[0m\u001b[0;34m(\u001b[0m\u001b[0ms\u001b[0m\u001b[0;34m)\u001b[0m \u001b[0;34m-\u001b[0m \u001b[0mf_star_c\u001b[0m\u001b[0;34m[\u001b[0m\u001b[0mi\u001b[0m\u001b[0;34m]\u001b[0m\u001b[0;34m(\u001b[0m\u001b[0ms\u001b[0m\u001b[0;34m)\u001b[0m\u001b[0;34m)\u001b[0m \u001b[0;32mfor\u001b[0m \u001b[0mi\u001b[0m \u001b[0;32min\u001b[0m \u001b[0mrange\u001b[0m\u001b[0;34m(\u001b[0m\u001b[0mnum_faces\u001b[0m\u001b[0;34m)\u001b[0m\u001b[0;34m]\u001b[0m\u001b[0;34m)\u001b[0m \u001b[0;34m==\u001b[0m \u001b[0mInteger\u001b[0m\u001b[0;34m(\u001b[0m\u001b[0;36m0\u001b[0m\u001b[0;34m)\u001b[0m\u001b[0;34m\u001b[0m\u001b[0;34m\u001b[0m\u001b[0m\n\u001b[0m\u001b[1;32m     39\u001b[0m \u001b[0;34m\u001b[0m\u001b[0m\n\u001b[1;32m     40\u001b[0m \u001b[0mb_i_jacobian\u001b[0m \u001b[0;34m=\u001b[0m \u001b[0msquare\u001b[0m\u001b[0;34m.\u001b[0m\u001b[0mtransform_to_mesh_jacobian\u001b[0m\u001b[0;34m(\u001b[0m\u001b[0mvertex_list\u001b[0m\u001b[0;34m)\u001b[0m\u001b[0;34m\u001b[0m\u001b[0;34m\u001b[0m\u001b[0m\n",
      "\u001b[0;31mAssertionError\u001b[0m: "
     ]
    }
   ],
   "source": [
    "triangle = canonical_element.Triangle()\n",
    "vertex_list = triangle.get_mesh_element_vertices()\n",
    "phi = vector(basis.get_modal_basis_2d_triangle(1))\n",
    "c_i = triangle.get_transformation_to_canonical(vertex_list)\n",
    "b_i = triangle.get_transformation_to_mesh(vertex_list)\n",
    "tuple_ = triangle.get_mesh_variables()\n",
    "x = tuple_[0]\n",
    "y = tuple_[1]\n",
    "phi_i = phi(c_i(x, y)[0], c_i(x, y)[1]).function(x, y)\n",
    "mesh_faces_parameterizations = triangle.get_parameterizations_of_mesh_element_faces()\n",
    "canonical_faces_parameterizations = triangle.get_parameterizations_of_canonical_element_faces()\n",
    "s = triangle.get_parameterization_variable()\n",
    "mesh_normal_vectors = triangle.get_outward_normal_vectors_mesh_element() \n",
    "canonical_normal_vectors = triangle.get_outward_normal_vectors_canonical_element()\n",
    "\n",
    "f = flux_functions.get_advection_2d([1, 1])\n",
    "t = flux_functions.get_t_variable()\n",
    "q = (sin(x) * sin(y)).function(x, y)\n",
    "x_s = [r_f(s)[0].function(s) for r_f in mesh_faces_parameterizations]\n",
    "y_s = [r_f(s)[1].function(s) for r_f in mesh_faces_parameterizations]\n",
    "num_faces = len(x_s)\n",
    "f_star_m = [f(q(x_s[i](s), y_s[i](s)), x_s[i](s), y_s[i](s), t).function(s) for i in range(num_faces)]\n",
    "n = mesh_normal_vectors\n",
    "r_f_p_norm = [r_f.diff(s).norm() for r_f in mesh_faces_parameterizations]\n",
    "# \\dintt{-1}{1}{f^* n \\phi_i^T(r_f(s)) \\norm{r_f'(s)}}{s}\n",
    "left_face_mesh_integral = integrate(f_star_m[0](s) * n[0] * phi_i(x_s[0](s), y_s[0](s)) * r_f_p_norm[0](s), s, -1, 1)\n",
    "bottom_face_mesh_integral = integrate(f_star_m[1](s) * n[1] * phi_i(x_s[1](s), y_s[1](s)) * r_f_p_norm[1](s), s, -1, 1)\n",
    "hypotonuse_face_mesh_integral = integrate(f_star_m[2](s) * n[2] * phi_i(x_s[2](s), y_s[2](s)) * r_f_p_norm[2](s), s, -1, 1)\n",
    "mesh_integral = left_face_mesh_integral + bottom_face_mesh_integral + hypotonuse_face_mesh_integral\n",
    "\n",
    "xi_s = [r_f(s)[0].function(s) for r_f in canonical_faces_parameterizations]\n",
    "eta_s = [r_f(s)[1].function(s) for r_f in canonical_faces_parameterizations]\n",
    "x_s = [b_i(xi_s[i](s), eta_s[i](s))[0].function(s) for i in range(num_faces)]\n",
    "y_s = [b_i(xi_s[i](s), eta_s[i](s))[1].function(s) for i in range(num_faces)]\n",
    "f_star_c = [f(q(x_s[i](s), y_s[i](s)), x_s[i](s), y_s[i](s), t).function(s) for i in range(num_faces)]\n",
    "\n",
    "# f_star_m should be same as f_star_c\n",
    "assert sum([norm(f_star_m[i](s) - f_star_c[i](s)) for i in range(num_faces)]) == 0\n",
    "\n",
    "b_i_jacobian = square.transform_to_mesh_jacobian(vertex_list)\n",
    "b_i_j_r_f_p_norm = b_i_j_r_f_p_norm = [(b_i_jacobian * r_f.diff(s)).norm() for r_f in canonical_faces_parameterizations]\n",
    "# \\dintt{-1}{1}{f^* n \\phi^T(r_f(s)) \\norm{b_i'(r_f(s)) r_f'(s)}}{s}\n",
    "left_face_canonical_integral = integrate(f_star_c[0](s) * n[0] * phi(xi_s[0](s), eta_s[0](s)) * b_i_j_r_f_p_norm[0](s), s, -1, 1)\n",
    "bottom_face_canonical_integral = integrate(f_star_c[1](s) * n[1] * phi(xi_s[1](s), eta_s[1](s)) * b_i_j_r_f_p_norm[1](s), s, -1, 1)\n",
    "hypotonuse_face_canonical_integral = integrate(f_star_c[2](s) * n[2] * phi(xi_s[2](s), eta_s[2](s)) * b_i_j_r_f_p_norm[2](s), s, -1, 1)\n",
    "canonical_integral = left_face_canonical_integral + bottom_face_canonical_integral + hypotonuse_face_canonical_integral\n",
    "\n",
    "assert left_face_mesh_integral == left_face_canonical_integral\n",
    "assert bottom_face_mesh_integral == bottom_face_canonical_integral\n",
    "assert hypotonuse_face_mesh_integral == hypotonuse_face_canonical_integral\n",
    "assert mesh_integral == canonical_integral"
   ]
  },
  {
   "cell_type": "code",
   "execution_count": null,
   "metadata": {},
   "outputs": [],
   "source": []
  }
 ],
 "metadata": {
  "kernelspec": {
   "display_name": "SageMath 9.0",
   "language": "sage",
   "name": "sagemath"
  },
  "language_info": {
   "codemirror_mode": {
    "name": "ipython",
    "version": 3
   },
   "file_extension": ".py",
   "mimetype": "text/x-python",
   "name": "python",
   "nbconvert_exporter": "python",
   "pygments_lexer": "ipython3",
   "version": "3.6.10"
  }
 },
 "nbformat": 4,
 "nbformat_minor": 2
}
