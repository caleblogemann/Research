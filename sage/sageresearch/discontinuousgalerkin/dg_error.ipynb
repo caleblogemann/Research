{
 "cells": [
  {
   "cell_type": "markdown",
   "metadata": {},
   "source": [
    "# Discontinuous Galerkin Error"
   ]
  },
  {
   "cell_type": "markdown",
   "metadata": {},
   "source": [
    "This notebook will be used to explore the correct way to compute the error of a discontinuous Galerkin solution. The approximate solution q_h is a set of coefficients of a basis on each element of the mesh. The exact solution q is a function on the domain. One possibility is to project the exact solution onto the domain as a DG function at a higher order than the approximate solution. The projection of the exact solution needs to be of higher order so that the largest order of error terms are preserved."
   ]
  },
  {
   "cell_type": "code",
   "execution_count": 2,
   "metadata": {},
   "outputs": [],
   "source": [
    "import sageresearch.utils.legendre_polynomials as lp\n",
    "import sageresearch.utils.symbolic_vector_matrix as svm"
   ]
  },
  {
   "cell_type": "code",
   "execution_count": 37,
   "metadata": {},
   "outputs": [],
   "source": [
    "num_basis_cpts = 3\n",
    "phi = vector(lp.get_legendre_polynomials(num_basis_cpts, 1/2))\n",
    "p = svm.get_vector_variable(\"p\", num_basis_cpts)\n",
    "q = svm.get_vector_variable(\"q\", num_basis_cpts)\n",
    "q_h = svm.get_vector_variable(\"q_h\", num_basis_cpts)\n",
    "q_t = q - q_h"
   ]
  },
  {
   "cell_type": "code",
   "execution_count": 25,
   "metadata": {},
   "outputs": [],
   "source": [
    "A = phi.outer_product(q_t) * phi"
   ]
  },
  {
   "cell_type": "code",
   "execution_count": 29,
   "metadata": {},
   "outputs": [
    {
     "data": {
      "text/plain": [
       "(2*q_0 - 2*q_h_0, 2*q_1 - 2*q_h_1, 2*q_2 - 2*q_h_2)"
      ]
     },
     "execution_count": 29,
     "metadata": {},
     "output_type": "execute_result"
    }
   ],
   "source": [
    "A.integrate(x, -1, 1).simplify_full()"
   ]
  },
  {
   "cell_type": "code",
   "execution_count": 35,
   "metadata": {},
   "outputs": [
    {
     "data": {
      "text/plain": [
       "3/2*(sqrt(5)*q_2 - sqrt(5)*q_h_2)*x^2 + (sqrt(3)*q_1 - sqrt(3)*q_h_1)*x - 1/2*sqrt(5)*q_2 + 1/2*sqrt(5)*q_h_2 + q_0 - q_h_0"
      ]
     },
     "execution_count": 35,
     "metadata": {},
     "output_type": "execute_result"
    }
   ],
   "source": [
    "A[0].simplify_full()"
   ]
  },
  {
   "cell_type": "code",
   "execution_count": 38,
   "metadata": {},
   "outputs": [
    {
     "data": {
      "text/plain": [
       "[p_0*(q_0 - q_h_0) p_0*(q_1 - q_h_1) p_0*(q_2 - q_h_2)]\n",
       "[p_1*(q_0 - q_h_0) p_1*(q_1 - q_h_1) p_1*(q_2 - q_h_2)]\n",
       "[p_2*(q_0 - q_h_0) p_2*(q_1 - q_h_1) p_2*(q_2 - q_h_2)]"
      ]
     },
     "execution_count": 38,
     "metadata": {},
     "output_type": "execute_result"
    }
   ],
   "source": [
    "p.outer_product(q_t)"
   ]
  },
  {
   "cell_type": "code",
   "execution_count": null,
   "metadata": {},
   "outputs": [],
   "source": []
  }
 ],
 "metadata": {
  "kernelspec": {
   "display_name": "SageMath 9.0",
   "language": "sage",
   "name": "sagemath"
  },
  "language_info": {
   "codemirror_mode": {
    "name": "ipython",
    "version": 3
   },
   "file_extension": ".py",
   "mimetype": "text/x-python",
   "name": "python",
   "nbconvert_exporter": "python",
   "pygments_lexer": "ipython3",
   "version": "3.6.10"
  }
 },
 "nbformat": 4,
 "nbformat_minor": 2
}
