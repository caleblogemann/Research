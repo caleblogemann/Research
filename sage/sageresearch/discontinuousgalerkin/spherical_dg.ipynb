{
 "cells": [
  {
   "cell_type": "code",
   "execution_count": 36,
   "metadata": {},
   "outputs": [],
   "source": [
    "theta = SR.symbol('theta')\n",
    "phi = SR.symbol('phi')\n",
    "\n",
    "# canonical element\n",
    "r_0 = 1\n",
    "theta_1 = 0\n",
    "theta_2 = pi / 4\n",
    "theta_3 = 0\n",
    "phi_1 = pi / 2\n",
    "phi_2 = pi / 2\n",
    "phi_3 = pi / 4\n",
    "\n",
    "psi_1 = 1\n",
    "\n",
    "dS = sin(phi)\n",
    "\n",
    "def integrate_canonical(psi):\n",
    "    return integrate(integrate(psi * sin(phi), phi, phi_3 + theta, phi_1), theta, theta_1, theta_2)\n",
    "\n",
    "def project(v, u):\n",
    "    return integrate_canonical(u * v) / integrate_canonical(u * u) * u\n",
    "\n",
    "def gram_schmidt(v_list):\n",
    "    u_list = []\n",
    "    n = len(v_list)\n",
    "    u_list.append(v_list[0])\n",
    "    for i in range(1, n):\n",
    "        v = v_list[i]\n",
    "        u = v\n",
    "        m = len(u_list)\n",
    "        for j in range(m):\n",
    "            u = u - project(v, u_list[j])\n",
    "        u_list.append(u)\n",
    "    return u_list"
   ]
  },
  {
   "cell_type": "code",
   "execution_count": 59,
   "metadata": {},
   "outputs": [],
   "source": [
    "#v_list = [1, theta, phi, theta^2, theta*phi, phi^2]\n",
    "v_list = [1, theta, phi]\n",
    "u_list = gram_schmidt(v_list)"
   ]
  },
  {
   "cell_type": "code",
   "execution_count": 74,
   "metadata": {},
   "outputs": [
    {
     "data": {
      "text/plain": [
       "-0.26730349896139313218"
      ]
     },
     "execution_count": 74,
     "metadata": {},
     "output_type": "execute_result"
    }
   ],
   "source": [
    "u_list[1].coefficient(theta, n=0).n(digits=20)"
   ]
  },
  {
   "cell_type": "code",
   "execution_count": 77,
   "metadata": {},
   "outputs": [
    {
     "data": {
      "text/plain": [
       "-0.46768999477444594335"
      ]
     },
     "execution_count": 77,
     "metadata": {},
     "output_type": "execute_result"
    }
   ],
   "source": [
    "u_list[2].coefficient(theta).n(digits=20)"
   ]
  },
  {
   "cell_type": "code",
   "execution_count": 85,
   "metadata": {},
   "outputs": [
    {
     "ename": "TypeError",
     "evalue": "no canonical coercion from <class 'dict'> to Symbolic Ring",
     "output_type": "error",
     "traceback": [
      "\u001b[0;31m---------------------------------------------------------------------------\u001b[0m",
      "\u001b[0;31mTypeError\u001b[0m                                 Traceback (most recent call last)",
      "\u001b[0;32m/Users/caleblogemann/miniconda3/envs/sage/lib/python3.6/site-packages/sage/symbolic/expression.pyx\u001b[0m in \u001b[0;36msage.symbolic.expression.Expression.coerce_in (build/cythonized/sage/symbolic/expression.cpp:22755)\u001b[0;34m()\u001b[0m\n\u001b[1;32m   3191\u001b[0m         \u001b[0;32mtry\u001b[0m\u001b[0;34m:\u001b[0m\u001b[0;34m\u001b[0m\u001b[0;34m\u001b[0m\u001b[0m\n\u001b[0;32m-> 3192\u001b[0;31m             \u001b[0;32mreturn\u001b[0m \u001b[0;34m<\u001b[0m\u001b[0mExpression\u001b[0m\u001b[0;31m?\u001b[0m\u001b[0;34m>\u001b[0m\u001b[0mz\u001b[0m\u001b[0;34m\u001b[0m\u001b[0;34m\u001b[0m\u001b[0m\n\u001b[0m\u001b[1;32m   3193\u001b[0m         \u001b[0;32mexcept\u001b[0m \u001b[0mTypeError\u001b[0m\u001b[0;34m:\u001b[0m\u001b[0;34m\u001b[0m\u001b[0;34m\u001b[0m\u001b[0m\n",
      "\u001b[0;31mTypeError\u001b[0m: Cannot convert dict to sage.symbolic.expression.Expression",
      "\nDuring handling of the above exception, another exception occurred:\n",
      "\u001b[0;31mTypeError\u001b[0m                                 Traceback (most recent call last)",
      "\u001b[0;32m<ipython-input-85-e1453fc91096>\u001b[0m in \u001b[0;36m<module>\u001b[0;34m()\u001b[0m\n\u001b[0;32m----> 1\u001b[0;31m \u001b[0mu_list\u001b[0m\u001b[0;34m[\u001b[0m\u001b[0mInteger\u001b[0m\u001b[0;34m(\u001b[0m\u001b[0;36m2\u001b[0m\u001b[0;34m)\u001b[0m\u001b[0;34m]\u001b[0m\u001b[0;34m.\u001b[0m\u001b[0mcoefficient\u001b[0m\u001b[0;34m(\u001b[0m\u001b[0;34m{\u001b[0m\u001b[0mtheta\u001b[0m\u001b[0;34m:\u001b[0m \u001b[0mInteger\u001b[0m\u001b[0;34m(\u001b[0m\u001b[0;36m0\u001b[0m\u001b[0;34m)\u001b[0m\u001b[0;34m,\u001b[0m \u001b[0mphi\u001b[0m\u001b[0;34m:\u001b[0m \u001b[0mInteger\u001b[0m\u001b[0;34m(\u001b[0m\u001b[0;36m0\u001b[0m\u001b[0;34m)\u001b[0m\u001b[0;34m}\u001b[0m\u001b[0;34m)\u001b[0m\u001b[0;34m\u001b[0m\u001b[0;34m\u001b[0m\u001b[0m\n\u001b[0m",
      "\u001b[0;32m/Users/caleblogemann/miniconda3/envs/sage/lib/python3.6/site-packages/sage/symbolic/expression.pyx\u001b[0m in \u001b[0;36msage.symbolic.expression.Expression.coefficient (build/cythonized/sage/symbolic/expression.cpp:36291)\u001b[0;34m()\u001b[0m\n\u001b[1;32m   6290\u001b[0m             \u001b[0;36m0\u001b[0m\u001b[0;34m\u001b[0m\u001b[0;34m\u001b[0m\u001b[0m\n\u001b[1;32m   6291\u001b[0m         \"\"\"\n\u001b[0;32m-> 6292\u001b[0;31m         \u001b[0mcdef\u001b[0m \u001b[0mExpression\u001b[0m \u001b[0mss\u001b[0m \u001b[0;34m=\u001b[0m \u001b[0mself\u001b[0m\u001b[0;34m.\u001b[0m\u001b[0mcoerce_in\u001b[0m\u001b[0;34m(\u001b[0m\u001b[0ms\u001b[0m\u001b[0;34m)\u001b[0m\u001b[0;34m\u001b[0m\u001b[0;34m\u001b[0m\u001b[0m\n\u001b[0m\u001b[1;32m   6293\u001b[0m         \u001b[0mcdef\u001b[0m \u001b[0mExpression\u001b[0m \u001b[0mnn\u001b[0m \u001b[0;34m=\u001b[0m \u001b[0mself\u001b[0m\u001b[0;34m.\u001b[0m\u001b[0mcoerce_in\u001b[0m\u001b[0;34m(\u001b[0m\u001b[0mn\u001b[0m\u001b[0;34m)\u001b[0m\u001b[0;34m\u001b[0m\u001b[0;34m\u001b[0m\u001b[0m\n\u001b[1;32m   6294\u001b[0m         \u001b[0mcdef\u001b[0m \u001b[0mGEx\u001b[0m \u001b[0mr\u001b[0m\u001b[0;34m\u001b[0m\u001b[0;34m\u001b[0m\u001b[0m\n",
      "\u001b[0;32m/Users/caleblogemann/miniconda3/envs/sage/lib/python3.6/site-packages/sage/symbolic/expression.pyx\u001b[0m in \u001b[0;36msage.symbolic.expression.Expression.coerce_in (build/cythonized/sage/symbolic/expression.cpp:22807)\u001b[0;34m()\u001b[0m\n\u001b[1;32m   3192\u001b[0m             \u001b[0;32mreturn\u001b[0m \u001b[0;34m<\u001b[0m\u001b[0mExpression\u001b[0m\u001b[0;31m?\u001b[0m\u001b[0;34m>\u001b[0m\u001b[0mz\u001b[0m\u001b[0;34m\u001b[0m\u001b[0;34m\u001b[0m\u001b[0m\n\u001b[1;32m   3193\u001b[0m         \u001b[0;32mexcept\u001b[0m \u001b[0mTypeError\u001b[0m\u001b[0;34m:\u001b[0m\u001b[0;34m\u001b[0m\u001b[0;34m\u001b[0m\u001b[0m\n\u001b[0;32m-> 3194\u001b[0;31m             \u001b[0;32mreturn\u001b[0m \u001b[0mself\u001b[0m\u001b[0;34m.\u001b[0m\u001b[0m_parent\u001b[0m\u001b[0;34m.\u001b[0m\u001b[0m_coerce_\u001b[0m\u001b[0;34m(\u001b[0m\u001b[0mz\u001b[0m\u001b[0;34m)\u001b[0m\u001b[0;34m\u001b[0m\u001b[0;34m\u001b[0m\u001b[0m\n\u001b[0m\u001b[1;32m   3195\u001b[0m \u001b[0;34m\u001b[0m\u001b[0m\n\u001b[1;32m   3196\u001b[0m     \u001b[0mcpdef\u001b[0m \u001b[0m_add_\u001b[0m\u001b[0;34m(\u001b[0m\u001b[0mleft\u001b[0m\u001b[0;34m,\u001b[0m \u001b[0mright\u001b[0m\u001b[0;34m)\u001b[0m\u001b[0;34m:\u001b[0m\u001b[0;34m\u001b[0m\u001b[0;34m\u001b[0m\u001b[0m\n",
      "\u001b[0;32m/Users/caleblogemann/miniconda3/envs/sage/lib/python3.6/site-packages/sage/structure/parent_old.pyx\u001b[0m in \u001b[0;36msage.structure.parent_old.Parent._coerce_ (build/cythonized/sage/structure/parent_old.c:3775)\u001b[0;34m()\u001b[0m\n\u001b[1;32m    177\u001b[0m     \u001b[0;32mdef\u001b[0m \u001b[0m_coerce_\u001b[0m\u001b[0;34m(\u001b[0m\u001b[0mself\u001b[0m\u001b[0;34m,\u001b[0m \u001b[0mx\u001b[0m\u001b[0;34m)\u001b[0m\u001b[0;34m:\u001b[0m            \u001b[0;31m# Call this from Python (do not override!)\u001b[0m\u001b[0;34m\u001b[0m\u001b[0;34m\u001b[0m\u001b[0m\n\u001b[1;32m    178\u001b[0m         \u001b[0;32mif\u001b[0m \u001b[0mself\u001b[0m\u001b[0;34m.\u001b[0m\u001b[0m_element_constructor\u001b[0m \u001b[0;32mis\u001b[0m \u001b[0;32mnot\u001b[0m \u001b[0;32mNone\u001b[0m\u001b[0;34m:\u001b[0m\u001b[0;34m\u001b[0m\u001b[0;34m\u001b[0m\u001b[0m\n\u001b[0;32m--> 179\u001b[0;31m             \u001b[0;32mreturn\u001b[0m \u001b[0mself\u001b[0m\u001b[0;34m.\u001b[0m\u001b[0mcoerce\u001b[0m\u001b[0;34m(\u001b[0m\u001b[0mx\u001b[0m\u001b[0;34m)\u001b[0m\u001b[0;34m\u001b[0m\u001b[0;34m\u001b[0m\u001b[0m\n\u001b[0m\u001b[1;32m    180\u001b[0m         \u001b[0mcheck_old_coerce\u001b[0m\u001b[0;34m(\u001b[0m\u001b[0mself\u001b[0m\u001b[0;34m)\u001b[0m\u001b[0;34m\u001b[0m\u001b[0;34m\u001b[0m\u001b[0m\n\u001b[1;32m    181\u001b[0m         \u001b[0;32mreturn\u001b[0m \u001b[0mself\u001b[0m\u001b[0;34m.\u001b[0m\u001b[0m_coerce_c\u001b[0m\u001b[0;34m(\u001b[0m\u001b[0mx\u001b[0m\u001b[0;34m)\u001b[0m\u001b[0;34m\u001b[0m\u001b[0;34m\u001b[0m\u001b[0m\n",
      "\u001b[0;32m/Users/caleblogemann/miniconda3/envs/sage/lib/python3.6/site-packages/sage/structure/parent.pyx\u001b[0m in \u001b[0;36msage.structure.parent.Parent.coerce (build/cythonized/sage/structure/parent.c:10490)\u001b[0;34m()\u001b[0m\n\u001b[1;32m   1142\u001b[0m                 \u001b[0;32mexcept\u001b[0m \u001b[0mException\u001b[0m\u001b[0;34m:\u001b[0m\u001b[0;34m\u001b[0m\u001b[0;34m\u001b[0m\u001b[0m\n\u001b[1;32m   1143\u001b[0m                     \u001b[0m_record_exception\u001b[0m\u001b[0;34m(\u001b[0m\u001b[0;34m)\u001b[0m\u001b[0;34m\u001b[0m\u001b[0;34m\u001b[0m\u001b[0m\n\u001b[0;32m-> 1144\u001b[0;31m             \u001b[0;32mraise\u001b[0m \u001b[0mTypeError\u001b[0m\u001b[0;34m(\u001b[0m\u001b[0m_LazyString\u001b[0m\u001b[0;34m(\u001b[0m\u001b[0m_lazy_format\u001b[0m\u001b[0;34m,\u001b[0m \u001b[0;34m(\u001b[0m\u001b[0;34m\"no canonical coercion from %s to %s\"\u001b[0m\u001b[0;34m,\u001b[0m \u001b[0mparent\u001b[0m\u001b[0;34m(\u001b[0m\u001b[0mx\u001b[0m\u001b[0;34m)\u001b[0m\u001b[0;34m,\u001b[0m \u001b[0mself\u001b[0m\u001b[0;34m)\u001b[0m\u001b[0;34m,\u001b[0m \u001b[0;34m{\u001b[0m\u001b[0;34m}\u001b[0m\u001b[0;34m)\u001b[0m\u001b[0;34m)\u001b[0m\u001b[0;34m\u001b[0m\u001b[0;34m\u001b[0m\u001b[0m\n\u001b[0m\u001b[1;32m   1145\u001b[0m         \u001b[0;32melse\u001b[0m\u001b[0;34m:\u001b[0m\u001b[0;34m\u001b[0m\u001b[0;34m\u001b[0m\u001b[0m\n\u001b[1;32m   1146\u001b[0m             \u001b[0;32mreturn\u001b[0m \u001b[0;34m(\u001b[0m\u001b[0;34m<\u001b[0m\u001b[0mmap\u001b[0m\u001b[0;34m.\u001b[0m\u001b[0mMap\u001b[0m\u001b[0;34m>\u001b[0m\u001b[0mmor\u001b[0m\u001b[0;34m)\u001b[0m\u001b[0;34m.\u001b[0m\u001b[0m_call_\u001b[0m\u001b[0;34m(\u001b[0m\u001b[0mx\u001b[0m\u001b[0;34m)\u001b[0m\u001b[0;34m\u001b[0m\u001b[0;34m\u001b[0m\u001b[0m\n",
      "\u001b[0;31mTypeError\u001b[0m: no canonical coercion from <class 'dict'> to Symbolic Ring"
     ]
    }
   ],
   "source": [
    "u_list[2].coefficient"
   ]
  },
  {
   "cell_type": "code",
   "execution_count": 26,
   "metadata": {},
   "outputs": [],
   "source": [
    "v3 = phi\n",
    "psi_3 = v3 - project(v3, psi_1) - project(v3, psi_2)"
   ]
  },
  {
   "cell_type": "code",
   "execution_count": 28,
   "metadata": {},
   "outputs": [
    {
     "data": {
      "text/plain": [
       "-1/4*(pi^3*(3166815962*sqrt(2) - 4478554083) - 6*pi^2*(1855077841*sqrt(2) - 2623476242) - 4*(pi^2*(1855077841*sqrt(2) - 2623476242) - 8*pi*(1855077841*sqrt(2) - 2623476242) - 265639651376*sqrt(2) + 375671197680)*phi + 2*(pi^2*(2941757281*sqrt(2) - 4160273044) - 32*pi*(1855077841*sqrt(2) - 2623476242) - 817906764064*sqrt(2) + 1156694838496)*theta - 16*pi*(21081032294*sqrt(2) - 29813081779) - 202676221568*sqrt(2) + 286627461312)/(pi^2*(1855077841*sqrt(2) - 2623476242) - 8*pi*(1855077841*sqrt(2) - 2623476242) - 265639651376*sqrt(2) + 375671197680)"
      ]
     },
     "execution_count": 28,
     "metadata": {},
     "output_type": "execute_result"
    }
   ],
   "source": [
    "psi_3.simplify_full()"
   ]
  },
  {
   "cell_type": "code",
   "execution_count": 31,
   "metadata": {},
   "outputs": [
    {
     "data": {
      "text/plain": [
       "0"
      ]
     },
     "execution_count": 31,
     "metadata": {},
     "output_type": "execute_result"
    }
   ],
   "source": [
    "integrate_canonical(psi_3).simplify_full()"
   ]
  },
  {
   "cell_type": "code",
   "execution_count": 24,
   "metadata": {},
   "outputs": [
    {
     "data": {
      "text/plain": [
       "theta + 1/2*(pi - 2*sqrt(2))/(sqrt(2) - 2)"
      ]
     },
     "execution_count": 24,
     "metadata": {},
     "output_type": "execute_result"
    }
   ],
   "source": [
    "psi_2"
   ]
  },
  {
   "cell_type": "code",
   "execution_count": 95,
   "metadata": {},
   "outputs": [],
   "source": [
    "# Area of arbitrary triangle on the sphere\n",
    "from sageresearch.utils import symbolic_vector_matrix as svm\n",
    "r = SR.symbol('r')\n",
    "theta = SR.symbol('theta')\n",
    "phi = SR.symbol('phi')\n",
    "theta_v = svm.get_vector_variable('theta', 4)\n",
    "phi_v = svm.get_vector_variable('phi', 4)\n",
    "phi_upper_bound_1 = phi_v[1] + (theta - theta_v[1]) / (theta_v[2] - theta_v[1]) * (phi_v[2] - phi_v[1])\n",
    "phi_lower_bound_1 = phi_v[2] + (theta - theta_v[2]) / (theta_v[3] - theta_v[2]) * (phi_v[3] - phi_v[2])\n",
    "phi_upper_bound_2 = phi_v[1] + (theta - theta_v[1]) / (theta_v[3] - theta_v[1]) * (phi_v[3] - phi_v[1])\n",
    "x_v = svm.get_vector_variable('x', 4)\n",
    "y_v = svm.get_vector_variable('y', 4)\n",
    "z_v = svm.get_vector_variable('z', 4)\n",
    "\n",
    "subs_s_to_c = {theta_v[1]: arccos(z_v[1]/ r), theta_v[2]: arccos(z_v[2] / r), theta_v[3]: arccos(z_v[3] / r), \n",
    "               phi_v[1]: arctan(y_v[1] / x_v[1]), phi_v[2]: arctan(y_v[2]/x_v[2]), phi_v[3]: arctan(y_v[3]/x_v[3])}\n",
    "\n",
    "test = integrate(r^2 * sin(phi), phi, phi_lower_bound_1, phi_upper_bound_1)"
   ]
  },
  {
   "cell_type": "code",
   "execution_count": 91,
   "metadata": {},
   "outputs": [
    {
     "data": {
      "text/plain": [
       "-r^2*(cos(((phi_1 - phi_2)*theta + phi_2*theta_1 - phi_1*theta_2)/(theta_1 - theta_2)) - cos(((phi_2 - phi_3)*theta + phi_3*theta_2 - phi_2*theta_3)/(theta_2 - theta_3)))"
      ]
     },
     "execution_count": 91,
     "metadata": {},
     "output_type": "execute_result"
    }
   ],
   "source": [
    "test"
   ]
  },
  {
   "cell_type": "code",
   "execution_count": 96,
   "metadata": {},
   "outputs": [],
   "source": [
    "test2 = integrate(test, theta, theta_v[2], theta_v[1])"
   ]
  },
  {
   "cell_type": "code",
   "execution_count": 98,
   "metadata": {},
   "outputs": [
    {
     "data": {
      "text/plain": [
       "(((r^2*x_1*y_2*sqrt((x_1^2 + y_1^2)/x_1^2) - r^2*x_2*y_1*sqrt((x_2^2 + y_2^2)/x_2^2))*arctan(y_2/x_2) - (r^2*x_1*y_2*sqrt((x_1^2 + y_1^2)/x_1^2) - r^2*x_2*y_1*sqrt((x_2^2 + y_2^2)/x_2^2))*arctan(y_3/x_3))*arccos(z_1/r) - (r^2*x_1*y_2*sqrt((x_1^2 + y_1^2)/x_1^2)*arctan(y_1/x_1) - r^2*x_2*y_1*sqrt((x_2^2 + y_2^2)/x_2^2)*arctan(y_2/x_2) - (r^2*x_1*y_2*sqrt((x_1^2 + y_1^2)/x_1^2) - r^2*x_2*y_1*sqrt((x_2^2 + y_2^2)/x_2^2))*arctan(y_3/x_3))*arccos(z_2/r) + (r^2*x_1*y_2*sqrt((x_1^2 + y_1^2)/x_1^2)*arctan(y_1/x_1) - r^2*x_1*y_2*sqrt((x_1^2 + y_1^2)/x_1^2)*arctan(y_2/x_2))*arccos(z_3/r) + ((r^2*x_1*x_2*sqrt((x_1^2 + y_1^2)/x_1^2)*sqrt((x_2^2 + y_2^2)/x_2^2)*arctan(y_1/x_1) - r^2*x_1*x_2*sqrt((x_1^2 + y_1^2)/x_1^2)*sqrt((x_2^2 + y_2^2)/x_2^2)*arctan(y_2/x_2))*arccos(z_2/r) - (r^2*x_1*x_2*sqrt((x_1^2 + y_1^2)/x_1^2)*sqrt((x_2^2 + y_2^2)/x_2^2)*arctan(y_1/x_1) - r^2*x_1*x_2*sqrt((x_1^2 + y_1^2)/x_1^2)*sqrt((x_2^2 + y_2^2)/x_2^2)*arctan(y_2/x_2))*arccos(z_3/r))*sin(((arctan(y_2/x_2) - arctan(y_3/x_3))*arccos(z_1/r) - arccos(z_3/r)*arctan(y_2/x_2) + arccos(z_2/r)*arctan(y_3/x_3))/(arccos(z_2/r) - arccos(z_3/r))))/(x_1*x_2*sqrt((x_1^2 + y_1^2)/x_1^2)*sqrt((x_2^2 + y_2^2)/x_2^2)*arctan(y_1/x_1)*arctan(y_2/x_2) - x_1*x_2*sqrt((x_1^2 + y_1^2)/x_1^2)*sqrt((x_2^2 + y_2^2)/x_2^2)*arctan(y_2/x_2)^2 - (x_1*x_2*sqrt((x_1^2 + y_1^2)/x_1^2)*sqrt((x_2^2 + y_2^2)/x_2^2)*arctan(y_1/x_1) - x_1*x_2*sqrt((x_1^2 + y_1^2)/x_1^2)*sqrt((x_2^2 + y_2^2)/x_2^2)*arctan(y_2/x_2))*arctan(y_3/x_3))"
      ]
     },
     "execution_count": 98,
     "metadata": {},
     "output_type": "execute_result"
    }
   ],
   "source": [
    "test2.subs(subs_s_to_c).simplify_full()"
   ]
  },
  {
   "cell_type": "code",
   "execution_count": 100,
   "metadata": {},
   "outputs": [],
   "source": [
    "test3 = integrate(r^2 * sin(phi), phi, phi_lower_bound_1, phi_upper_bound_2)"
   ]
  },
  {
   "cell_type": "code",
   "execution_count": 102,
   "metadata": {},
   "outputs": [],
   "source": [
    "test4 = integrate(test3, theta, theta_v[1], theta_v[3])"
   ]
  },
  {
   "cell_type": "code",
   "execution_count": 106,
   "metadata": {},
   "outputs": [
    {
     "data": {
      "text/plain": [
       "(((r^2*x_1*x_3*y_2*sqrt((x_1^2 + y_1^2)/x_1^2) - r^2*x_2*x_3*y_1*sqrt((x_2^2 + y_2^2)/x_2^2))*sqrt((x_3^2 + y_3^2)/x_3^2)*arctan(y_3/x_3)^2 - (r^2*x_1*x_2*sqrt((x_1^2 + y_1^2)/x_1^2)*sqrt((x_2^2 + y_2^2)/x_2^2)*arctan(y_1/x_1)*arctan(y_2/x_2) - r^2*x_1*x_2*sqrt((x_1^2 + y_1^2)/x_1^2)*sqrt((x_2^2 + y_2^2)/x_2^2)*arctan(y_2/x_2)^2)*y_3 + ((r^2*x_1*x_2*sqrt((x_1^2 + y_1^2)/x_1^2)*sqrt((x_2^2 + y_2^2)/x_2^2)*arctan(y_1/x_1) - r^2*x_1*x_2*sqrt((x_1^2 + y_1^2)/x_1^2)*sqrt((x_2^2 + y_2^2)/x_2^2)*arctan(y_2/x_2))*y_3 - (r^2*x_1*x_3*y_2*sqrt((x_1^2 + y_1^2)/x_1^2)*arctan(y_1/x_1) + (r^2*x_1*x_3*y_2*sqrt((x_1^2 + y_1^2)/x_1^2) - 2*r^2*x_2*x_3*y_1*sqrt((x_2^2 + y_2^2)/x_2^2))*arctan(y_2/x_2))*sqrt((x_3^2 + y_3^2)/x_3^2))*arctan(y_3/x_3) + (r^2*x_1*x_3*y_2*sqrt((x_1^2 + y_1^2)/x_1^2)*arctan(y_1/x_1)*arctan(y_2/x_2) - r^2*x_2*x_3*y_1*sqrt((x_2^2 + y_2^2)/x_2^2)*arctan(y_2/x_2)^2)*sqrt((x_3^2 + y_3^2)/x_3^2))*arccos(z_1/r) - ((r^2*x_1*x_3*y_2*sqrt((x_1^2 + y_1^2)/x_1^2) - r^2*x_2*x_3*y_1*sqrt((x_2^2 + y_2^2)/x_2^2))*sqrt((x_3^2 + y_3^2)/x_3^2)*arctan(y_3/x_3)^2 - (r^2*x_1*x_2*sqrt((x_1^2 + y_1^2)/x_1^2)*sqrt((x_2^2 + y_2^2)/x_2^2)*arctan(y_1/x_1)^2 - r^2*x_1*x_2*sqrt((x_1^2 + y_1^2)/x_1^2)*sqrt((x_2^2 + y_2^2)/x_2^2)*arctan(y_1/x_1)*arctan(y_2/x_2))*y_3 + ((r^2*x_1*x_2*sqrt((x_1^2 + y_1^2)/x_1^2)*sqrt((x_2^2 + y_2^2)/x_2^2)*arctan(y_1/x_1) - r^2*x_1*x_2*sqrt((x_1^2 + y_1^2)/x_1^2)*sqrt((x_2^2 + y_2^2)/x_2^2)*arctan(y_2/x_2))*y_3 - (2*r^2*x_1*x_3*y_2*sqrt((x_1^2 + y_1^2)/x_1^2)*arctan(y_1/x_1) - r^2*x_2*x_3*y_1*sqrt((x_2^2 + y_2^2)/x_2^2)*arctan(y_1/x_1) - r^2*x_2*x_3*y_1*sqrt((x_2^2 + y_2^2)/x_2^2)*arctan(y_2/x_2))*sqrt((x_3^2 + y_3^2)/x_3^2))*arctan(y_3/x_3) + (r^2*x_1*x_3*y_2*sqrt((x_1^2 + y_1^2)/x_1^2)*arctan(y_1/x_1)^2 - r^2*x_2*x_3*y_1*sqrt((x_2^2 + y_2^2)/x_2^2)*arctan(y_1/x_1)*arctan(y_2/x_2))*sqrt((x_3^2 + y_3^2)/x_3^2))*arccos(z_2/r) - ((r^2*x_1*x_3*y_2*sqrt((x_1^2 + y_1^2)/x_1^2)*arctan(y_1/x_1) - r^2*x_2*x_3*y_1*sqrt((x_2^2 + y_2^2)/x_2^2)*arctan(y_1/x_1) - (r^2*x_1*x_3*y_2*sqrt((x_1^2 + y_1^2)/x_1^2) - r^2*x_2*x_3*y_1*sqrt((x_2^2 + y_2^2)/x_2^2))*arctan(y_2/x_2))*sqrt((x_3^2 + y_3^2)/x_3^2)*arctan(y_3/x_3) + (r^2*x_1*x_2*sqrt((x_1^2 + y_1^2)/x_1^2)*sqrt((x_2^2 + y_2^2)/x_2^2)*arctan(y_1/x_1)^2 - 2*r^2*x_1*x_2*sqrt((x_1^2 + y_1^2)/x_1^2)*sqrt((x_2^2 + y_2^2)/x_2^2)*arctan(y_1/x_1)*arctan(y_2/x_2) + r^2*x_1*x_2*sqrt((x_1^2 + y_1^2)/x_1^2)*sqrt((x_2^2 + y_2^2)/x_2^2)*arctan(y_2/x_2)^2)*y_3 - (r^2*x_1*x_3*y_2*sqrt((x_1^2 + y_1^2)/x_1^2)*arctan(y_1/x_1)^2 + r^2*x_2*x_3*y_1*sqrt((x_2^2 + y_2^2)/x_2^2)*arctan(y_2/x_2)^2 - (r^2*x_1*x_3*y_2*sqrt((x_1^2 + y_1^2)/x_1^2)*arctan(y_1/x_1) + r^2*x_2*x_3*y_1*sqrt((x_2^2 + y_2^2)/x_2^2)*arctan(y_1/x_1))*arctan(y_2/x_2))*sqrt((x_3^2 + y_3^2)/x_3^2))*arccos(z_3/r))/((x_1*x_2*x_3*sqrt((x_1^2 + y_1^2)/x_1^2)*sqrt((x_2^2 + y_2^2)/x_2^2)*arctan(y_1/x_1) - x_1*x_2*x_3*sqrt((x_1^2 + y_1^2)/x_1^2)*sqrt((x_2^2 + y_2^2)/x_2^2)*arctan(y_2/x_2))*sqrt((x_3^2 + y_3^2)/x_3^2)*arctan(y_3/x_3)^2 - (x_1*x_2*x_3*sqrt((x_1^2 + y_1^2)/x_1^2)*sqrt((x_2^2 + y_2^2)/x_2^2)*arctan(y_1/x_1)^2 - x_1*x_2*x_3*sqrt((x_1^2 + y_1^2)/x_1^2)*sqrt((x_2^2 + y_2^2)/x_2^2)*arctan(y_2/x_2)^2)*sqrt((x_3^2 + y_3^2)/x_3^2)*arctan(y_3/x_3) + (x_1*x_2*x_3*sqrt((x_1^2 + y_1^2)/x_1^2)*sqrt((x_2^2 + y_2^2)/x_2^2)*arctan(y_1/x_1)^2*arctan(y_2/x_2) - x_1*x_2*x_3*sqrt((x_1^2 + y_1^2)/x_1^2)*sqrt((x_2^2 + y_2^2)/x_2^2)*arctan(y_1/x_1)*arctan(y_2/x_2)^2)*sqrt((x_3^2 + y_3^2)/x_3^2))"
      ]
     },
     "execution_count": 106,
     "metadata": {},
     "output_type": "execute_result"
    }
   ],
   "source": [
    "(test2 + test4).simplify_full().subs(subs_s_to_c).simplify_full()"
   ]
  },
  {
   "cell_type": "code",
   "execution_count": 109,
   "metadata": {},
   "outputs": [],
   "source": [
    "x_v = svm.get_vector_variable('x', 4)\n",
    "y_v = svm.get_vector_variable('y', 4)\n",
    "z_v = svm.get_vector_variable('z', 4)\n",
    "x1 = vector([x_v[1], y_v[1], z_v[1]])\n",
    "x2 = vector([x_v[2], y_v[2], z_v[2]])\n",
    "x3 = vector([x_v[3], y_v[3], z_v[3]])"
   ]
  },
  {
   "cell_type": "code",
   "execution_count": 115,
   "metadata": {},
   "outputs": [
    {
     "data": {
      "text/plain": [
       "(y_2*z_1 - y_1*z_2, -x_2*z_1 + x_1*z_2, x_2*y_1 - x_1*y_2)"
      ]
     },
     "execution_count": 115,
     "metadata": {},
     "output_type": "execute_result"
    }
   ],
   "source": [
    "x2.cross_product(x1)"
   ]
  },
  {
   "cell_type": "code",
   "execution_count": 114,
   "metadata": {},
   "outputs": [
    {
     "data": {
      "text/plain": [
       "((y_2 - y_3)*z_1 - (y_1 - y_3)*z_2 + (y_1 - y_2)*z_3, -(x_2 - x_3)*z_1 + (x_1 - x_3)*z_2 - (x_1 - x_2)*z_3, (x_2 - x_3)*y_1 - (x_1 - x_3)*y_2 + (x_1 - x_2)*y_3)"
      ]
     },
     "execution_count": 114,
     "metadata": {},
     "output_type": "execute_result"
    }
   ],
   "source": [
    "(x2.cross_product(x1) + x3.cross_product(x2) + x1.cross_product(x3)).simplify_full()"
   ]
  },
  {
   "cell_type": "code",
   "execution_count": 118,
   "metadata": {},
   "outputs": [
    {
     "data": {
      "text/plain": [
       "((y_2 - y_3)*z_1 - (y_1 - y_3)*z_2 + (y_1 - y_2)*z_3, -(x_2 - x_3)*z_1 + (x_1 - x_3)*z_2 - (x_1 - x_2)*z_3, (x_2 - x_3)*y_1 - (x_1 - x_3)*y_2 + (x_1 - x_2)*y_3)"
      ]
     },
     "execution_count": 118,
     "metadata": {},
     "output_type": "execute_result"
    }
   ],
   "source": [
    "(x2 - x1).cross_product(x1 - x3).simplify_full()"
   ]
  },
  {
   "cell_type": "code",
   "execution_count": null,
   "metadata": {},
   "outputs": [],
   "source": []
  }
 ],
 "metadata": {
  "kernelspec": {
   "display_name": "SageMath 9.0",
   "language": "sage",
   "name": "sagemath"
  },
  "language_info": {
   "codemirror_mode": {
    "name": "ipython",
    "version": 3
   },
   "file_extension": ".py",
   "mimetype": "text/x-python",
   "name": "python",
   "nbconvert_exporter": "python",
   "pygments_lexer": "ipython3",
   "version": "3.6.10"
  }
 },
 "nbformat": 4,
 "nbformat_minor": 2
}
