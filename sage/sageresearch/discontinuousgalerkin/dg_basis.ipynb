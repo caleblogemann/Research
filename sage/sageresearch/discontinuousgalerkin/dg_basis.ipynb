{
 "cells": [
  {
   "cell_type": "markdown",
   "metadata": {},
   "source": [
    "## 2D Rectangular Basis"
   ]
  },
  {
   "cell_type": "code",
   "execution_count": 1,
   "metadata": {},
   "outputs": [],
   "source": [
    "import sageresearch.utils.symbolic_vector_matrix as svm"
   ]
  },
  {
   "cell_type": "code",
   "execution_count": 149,
   "metadata": {},
   "outputs": [],
   "source": [
    "# Mesh Coordinates\n",
    "x = svm.get_vector_variable('x', 2)\n",
    "# Canonical Coordinates\n",
    "xi = svm.get_vector_variable('xi', 2)\n",
    "# Mesh Vertices\n",
    "v = svm.get_vector_variable('v', 4)\n",
    "x_i = svm.get_matrix_variable('x_i', 2, 2)\n",
    "delta_x = svm.get_vector_variable('\\\\Delta_x', 2)\n",
    "dict_delta_x = {delta_x[0]: x_i[0, 1] - x_i[0, 0], delta_x[1]: x_i[1, 1] - x_i[1, 0]}\n",
    "# v_0 = (x_0_0, x_1_0), v_1 = (x_0_1, x_1_0), v_2 = (x_0_1, x_1_1), v_3 = (x_0_0, x_1_1)\n",
    "v_0_vec = vector([x_i[0, 0], x_i[1, 0]])\n",
    "v_1_vec = vector([x_i[0, 1], x_i[1, 0]])\n",
    "v_2_vec = vector([x_i[0, 1], x_i[1, 1]])\n",
    "v_3_vec = vector([x_i[0, 0], x_i[1, 1]])\n",
    "v_vec = [v_0_vec, v_1_vec, v_2_vec, v_3_vec]\n",
    "dict_v_to_vec = {v[i]: v_vec[i] for i in range(4)}\n",
    "dict_x_to_v = [{x[0]: v_vec[i][0], x[1]: v_vec[i][1]} for i in range(4)]\n",
    "# mesh faces\n",
    "dict_bottom_face_K = {x[1]: x_i[1, 0]}\n",
    "dict_top_face_K = {x[1]: x_i[1, 1]}\n",
    "dict_right_face_K = {x[0]: x_i[0, 1]}\n",
    "dict_left_face_K = {x[0]: x_i[0, 0]}\n",
    "\n",
    "# Canonical Vertices\n",
    "u = svm.get_vector_variable('u', 4)\n",
    "# u_0 = (-1, -1), u_1 = (1, -1), u_2 = (1, 1), u_3 = (-1, 1)\n",
    "u_0_vec = vector([-1, -1])\n",
    "u_1_vec = vector([1, -1])\n",
    "u_2_vec = vector([1, 1])\n",
    "u_3_vec = vector([-1, 1])\n",
    "u_vec = [u_0_vec, u_1_vec, u_2_vec, u_3_vec]\n",
    "dict_u_to_vec = {u[i]: u_vec[i] for i in range(4)}\n",
    "dict_xi_to_u = [{xi[0]: u_vec[i][0], xi[1]: u_vec[i][1]} for i in range(4)]\n",
    "# canonical faces\n",
    "dict_bottom_face_mcK = {xi[1]: -1}\n",
    "dict_top_face_mcK = {xi[1]: 1}\n",
    "dict_right_face_mcK = {xi[0]: 1}\n",
    "dict_left_face_mcK = {xi[0]: -1}\n",
    "# outward facing normal vectors\n",
    "n_bottom = vector([0, -1])\n",
    "n_top = vector([0, 1])\n",
    "n_right = vector([1, 0])\n",
    "n_left = vector([-1, 0])\n",
    "\n",
    "# transformation\n",
    "# c(x): K -> mcK\n",
    "# b(xi): mcK -> K\n",
    "# elem centers\n",
    "x_c = svm.get_vector_variable('x_c', 2)\n",
    "dict_x_c = {x_c[0]: (x_i[0, 0] + x_i[0, 1]) / 2, x_c[1]: (x_i[1, 0] + x_i[1, 1]) / 2}\n",
    "c_i = SR.symbol('c_i')\n",
    "c_i_vec = vector([(x[0] - x_c[0]) * 2 / delta_x[0], (x[1] - x_c[1]) * 2 / delta_x[1]])\n",
    "dict_c_i = {xi[0]: c_i_vec[0], xi[1]: c_i_vec[1]}\n",
    "b_i = SR.symbol('b_i')\n",
    "b_i_vec = vector([xi[0] * delta_x[0] / 2 + x_c[0], xi[1] * delta_x[1] / 2 + x_c[1]])\n",
    "dict_b_i = {x[0]: b_i_vec[0], x[1]: b_i_vec[1]}\n",
    "\n",
    "c_i_j = jacobian(c_i_vec, x)\n",
    "b_i_j = jacobian(b_i_vec, xi)\n",
    "# c_i_j b_i_j = I = b_i_j c_i_j\n",
    "assert c_i_j * b_i_j == matrix.identity(2)\n",
    "assert b_i_j * c_i_j == matrix.identity(2)\n",
    "\n",
    "# Mesh Element Metric\n",
    "m_i = b_i_j.det()"
   ]
  },
  {
   "cell_type": "code",
   "execution_count": 42,
   "metadata": {},
   "outputs": [],
   "source": [
    "# Transformation by linear algebra solve\n",
    "# c(x) = [c_0_0 x[0] + c_1_0 x[1] + c_2_0, c_0_1 x[0] + c_1_1 x[1] + c_2_1\n",
    "# c(v[i]) = u[i]\n",
    "c = svm.get_matrix_variable('c', 3, 2)\n",
    "c_vec = vector([c[0, 0] * x[0] + c[1, 0] * x[1] + c[2, 0], c[0, 1] * x[0] + c[1, 1] * x[1] + c[2, 1]])\n",
    "sol = solve(\n",
    "    [c_vec[j].subs(dict_x_to_v[i]) == u_vec[i][j] for i in range(4) for j in range(2)], [c[i, j] for i in range(3) for j in range(2)], solution_dict=True\n",
    ")\n",
    "assert norm(c_vec.subs(sol[0]) - c_i_vec.subs(dict_x_c).subs(dict_delta_x)) == 0\n",
    "# b(xi) = [b_0_0 xi[0] + b_1_0 xi[1] + b_2_0, b_0_1 xi[0] + b_1_1 xi[1] + b_2_1\n",
    "# b(u[i]) = v[i]\n",
    "b = svm.get_matrix_variable('b', 3, 2)\n",
    "b_vec = vector([b[0, 0] * xi[0] + b[1, 0] * xi[1] + b[2, 0], b[0, 1] * xi[0] + b[1, 1] * xi[1] + b[2, 1]])\n",
    "sol = solve(\n",
    "    [b_vec[j].subs(dict_xi_to_u[i]) == v_vec[i][j] for i in range(4) for j in range(2)], [b[i, j] for i in range(3) for j in range(2)], solution_dict=True\n",
    ")\n",
    "assert norm(b_vec.subs(sol[0]) - b_i_vec.subs(dict_x_c).subs(dict_delta_x)) == 0"
   ]
  },
  {
   "cell_type": "code",
   "execution_count": 216,
   "metadata": {},
   "outputs": [],
   "source": [
    "from sage.symbolic.integration.integral import definite_integral\n",
    "# check integral transformations\n",
    "# \\dintt{K_i}{f(x)}{x} = \\dintt{mcK}{f(b_i(xi)) m_i}{xi}\n",
    "f = x[0]^2 + x[1]^2\n",
    "mesh_integral = definite_integral(definite_integral(f, x[0], x_i[0, 0], x_i[0, 1]), x[1], x_i[1, 0], x_i[1, 1])\n",
    "canonical_integral = definite_integral(definite_integral(f.subs(dict_b_i) * m_i, xi[0], -1, 1), xi[1], -1, 1).subs(dict_delta_x).subs(dict_x_c)\n",
    "assert mesh_integral == canonical_integral\n",
    "\n",
    "# \\dintt{mcK}{f(xi)}{xi} = \\dintt{K_i}{f(c_i(x)) / m_i}{x}\n",
    "f = xi[0] * xi[1] + xi[1]^2\n",
    "canonical_integral = definite_integral(definite_integral(f, xi[0], -1, 1), xi[1], -1, 1)\n",
    "mesh_integral = definite_integral(definite_integral(\n",
    "    f.subs(dict_c_i) / m_i, x[0], x_i[0, 0], x_i[0, 1]), x[1], x_i[1, 0], x_i[1, 1]).subs(dict_delta_x).subs(dict_x_c)\n",
    "assert canonical_integral == mesh_integral\n",
    "\n",
    "# \\dintt{K_i}{f(x)_{x_0}}{x} = \\dintt{mcK}{(f(b_i(xi))_{xi_0} * c_i[0]_{x_0} + f(b_i(xi))_{xi_1} c_i[1])m_i}{xi}\n",
    "# \\dintt{K_i}{f(x)_{x_0}}{x} = \\dintt{mcK}{f(b_i(xi))_{xi_0} / b_i[0]_{x_0} m_i}{xi}\n",
    "f = x[0]^2 + x[0] * x[1]\n",
    "# d/dx_0 f(x) = d/dxi_0 f(b_i(xi)) * d/dx_0 c_i[0]\n",
    "# d/dx_0 f(x) = d/dxi_0 f(b_i(xi)) / d/dxi_0 b_i[0]\n",
    "mesh_integral = definite_integral(definite_integral(f.diff(x[0]), x[0], x_i[0, 0], x_i[0, 1]), x[1], x_i[1, 0], x_i[1, 1])\n",
    "canonical_integral = definite_integral(definite_integral(\n",
    "    f.subs(dict_b_i).diff(xi[0]) * c_i_j[0, 0] * m_i, xi[0], -1, 1), xi[1], -1, 1).subs(dict_delta_x).subs(dict_x_c)\n",
    "assert mesh_integral == canonical_integral\n",
    "canonical_integral = definite_integral(definite_integral(\n",
    "    f.subs(dict_b_i).diff(xi[0]) / b_i_j[0, 0] * m_i, xi[0], -1, 1), xi[1], -1, 1).subs(dict_delta_x).subs(dict_x_c)\n",
    "assert mesh_integral == canonical_integral\n",
    "# \\dintt{K_i}{f(x)_{x_1}}{x} = \\dintt{mcK}{f(b_i(xi))_{xi_1} * c_i[1]_{x_1} m_i}{xi}\n",
    "# \\dintt{K_i}{f(x)_{x_1}}{x} = \\dintt{mcK}{f(b_i(xi))_{xi_1} / b_i[1]_{xi_1} m_i}{xi}\n",
    "f = x[0] * x[1]^2 + x[1]\n",
    "mesh_integral = definite_integral(definite_integral(f.diff(x[1]), x[0], x_i[0, 0], x_i[0, 1]), x[1], x_i[1, 0], x_i[1, 1])\n",
    "canonical_integral = definite_integral(definite_integral(\n",
    "    f.subs(dict_b_i).diff(xi[1]) * c_i_j[1, 1] * m_i, xi[0], -1, 1), xi[1], -1, 1).subs(dict_delta_x).subs(dict_x_c)\n",
    "assert mesh_integral == canonical_integral\n",
    "canonical_integral = definite_integral(definite_integral(\n",
    "    f.subs(dict_b_i).diff(xi[1]) / b_i_j[1, 1] * m_i, xi[0], -1, 1), xi[1], -1, 1).subs(dict_delta_x).subs(dict_x_c)\n",
    "assert mesh_integral == canonical_integral"
   ]
  },
  {
   "cell_type": "code",
   "execution_count": 209,
   "metadata": {},
   "outputs": [],
   "source": [
    "# Line Integral\n",
    "t = SR.symbol('t')\n",
    "# mesh line = C_i = v_0 + t * (v_2 - v_0)\n",
    "r_m = v_vec[0] + t * (v_vec[2] - v_vec[0])\n",
    "# mesh line = C_i = v_0 + t * (v_1 - v_0)\n",
    "#r_m = vector([x_i[0, 0] + t * (x_i[0, 1] - x_i[0, 0]), x_i[1, 0]])\n",
    "dict_r_m = {x[0]: r_m[0], x[1]: r_m[1]}\n",
    "# \\dintt{C_i}{f(x)}{s} = \\dintt{0}{1}{f(r(t)) \\norm{r'(t)}}{t}\n",
    "f = x[1] * x[0] + x[0]^2\n",
    "mesh_integral = definite_integral(f.subs(dict_r_m) * r_m.diff(t).norm(), t, 0, 1)\n",
    "\n",
    "# canonical line = C = u_0 + t * (u_2 - u_0) = [-1 + 2 t, -1 + 2 t]\n",
    "r_c = vector([-1 + 2 * t, -1 + 2 * t])\n",
    "# canonical line = C = u_0 + t * (u_1 - u_0) = [-1 + 2 t, -1 + 2 t]\n",
    "# r_c = vector([-1 + 2 * t, -1])\n",
    "dict_r_c = {xi[0]: r_c[0], xi[1]: r_c[1]}\n",
    "# r_c = c_i(r_m)\n",
    "# r_m = b_i(r_c)\n",
    "assert r_c == c_i_vec.subs(dict_r_m).subs(dict_x_c).subs(dict_delta_x).simplify_full()\n",
    "# \\dintt{C_i}{f(x)}{s} = \\dintt{0}{1}{f(b_i(r(t))) \\norm{b_i'(r(t)) r'(t)}{t}\n",
    "canonical_integral = definite_integral(\n",
    "    f.subs(dict_b_i).subs(dict_r_c) * (b_i_j.subs(dict_r_c) * r_c.diff(t)).norm(), t, 0, 1\n",
    ").subs(dict_x_c).subs(dict_delta_x)\n",
    "assert mesh_integral == canonical_integral"
   ]
  },
  {
   "cell_type": "code",
   "execution_count": 217,
   "metadata": {},
   "outputs": [],
   "source": [
    "# Surface Integral\n",
    "# \\dintt{\\partial K_i}{f(x)}{s} = \\dintt{a}{b}{f(r(t)) \\norm{r'(t)}}{t}, r(t) parameterization of \\partial K_i\n",
    "# for bottom face r(t) = [t, x_i_1_0],  a = x_i[0, 0], b = x_i[0, 1], norm(r'(t)) = 1, etc for all faces\n",
    "f = x[0]^3 + x[1]^2\n",
    "mesh_bottom_face_integral = definite_integral(f.subs(dict_bottom_face_K), x[0], x_i[0, 0], x_i[0, 1])\n",
    "mesh_right_face_integral = definite_integral(f.subs(dict_right_face_K), x[1], x_i[1, 0], x_i[1, 1])\n",
    "mesh_top_face_integral = definite_integral(f.subs(dict_top_face_K), x[0], x_i[0, 0], x_i[0, 1])\n",
    "mesh_left_face_integral = definite_integral(f.subs(dict_left_face_K), x[1], x_i[1, 0], x_i[1, 1])\n",
    "mesh_integral = mesh_bottom_face_integral + mesh_right_face_integral + mesh_top_face_integral + mesh_left_face_integral\n",
    "\n",
    "# \\dintt{\\partial K_i}{f(x)}{s} = \\dintt{a}{b}{f(b_i(r(t))) \\norm{b_i'(r(t)) r'(t)}}{t}\n",
    "# for bottom face r(t) = [t, -1], a = -1, b = 1, r'(t) = [1, 0], b_i' is constant, \\norm(b_i'(r(t) r'(t))) = b_i_j[0, 0]\n",
    "canonical_bottom_face_integral = definite_integral(\n",
    "    f.subs(dict_b_i).subs(dict_bottom_face_mcK) * b_i_j[0, 0], xi[0], -1, 1\n",
    ").subs(dict_delta_x).subs(dict_x_c)\n",
    "canonical_right_face_integral = definite_integral(\n",
    "    f.subs(dict_b_i).subs(dict_right_face_mcK) * b_i_j[1, 1], xi[1], -1, 1\n",
    ").subs(dict_delta_x).subs(dict_x_c)\n",
    "canonical_top_face_integral = definite_integral(\n",
    "    f.subs(dict_b_i).subs(dict_top_face_mcK) * b_i_j[0, 0], xi[0], -1, 1\n",
    ").subs(dict_delta_x).subs(dict_x_c)\n",
    "canonical_left_face_integral = definite_integral(\n",
    "    f.subs(dict_b_i).subs(dict_left_face_mcK) * b_i_j[1, 1], xi[1], -1, 1\n",
    ").subs(dict_delta_x).subs(dict_x_c)\n",
    "canonical_integral = canonical_bottom_face_integral + canonical_right_face_integral + canonical_top_face_integral + canonical_left_face_integral\n",
    "assert mesh_integral == canonical_integral"
   ]
  },
  {
   "cell_type": "code",
   "execution_count": 76,
   "metadata": {},
   "outputs": [
    {
     "name": "stdout",
     "output_type": "stream",
     "text": [
      "2*x_0 + x_1\n",
      "2*x_0 + x_1\n",
      "2*x_0 + x_1\n"
     ]
    }
   ],
   "source": [
    "f = x[0]^2 + x[0] * x[1]\n",
    "print(f.diff(x[0]))\n",
    "print((f.subs(dict_b_i).diff(xi[0]) * c_i_j[0, 0]).subs(dict_c_i).full_simplify())\n",
    "print((f.subs(dict_b_i).diff(xi[0]) / b_i_j[0, 0]).subs(dict_c_i).full_simplify())"
   ]
  },
  {
   "cell_type": "code",
   "execution_count": 120,
   "metadata": {},
   "outputs": [],
   "source": [
    "# Integration by Parts Verification\n",
    "# \\dintt{K_i}{\\div{f} \\phi}{x} = \\dintt{\\partial K_i}{n . f \\phi}{s} - \\dintt{K_i}{f . \\grad{\\phi}}{x}\n",
    "f = vector([x[0], x[1]])\n",
    "phi = x[0]\n",
    "lhs = definite_integral(definite_integral(f.div(x) * phi, x[0], x_i[0, 0], x_i[0, 1]), x[1], x_i[1, 0], x_i[1, 1])\n",
    "bottom_face_integral = definite_integral((n_bottom * f * phi).subs(dict_bottom_face_K), x[0], x_i[0, 0], x_i[0, 1])\n",
    "right_face_integral = definite_integral((n_right * f * phi).subs(dict_right_face_K), x[1], x_i[1, 0], x_i[1, 1])\n",
    "top_face_integral = definite_integral((n_top * f * phi).subs(dict_top_face_K), x[0], x_i[0, 1], x_i[0, 0])\n",
    "left_face_integral = definite_integral((n_left * f * phi).subs(dict_left_face_K), x[1], x_i[1, 1], x_i[1, 0])\n",
    "rhs_surface_integral = bottom_face_integral + right_face_integral - top_face_integral - left_face_integral\n",
    "rhs_area_integral = definite_integral(definite_integral(f * phi.gradient(x), x[0], x_i[0, 0], x_i[0, 1]), x[1], x_i[1, 0], x_i[1, 1])\n",
    "rhs = rhs_surface_integral - rhs_area_integral\n",
    "assert lhs == rhs\n",
    "\n",
    "# Canonical Element\n",
    "# \\dintt{K_i}{\\div_x{f(x)} \\phi_i(x)}{x} = \\dintt{K_i}{(f(x)_{x_0} + f(x)_{x_1}) \\phi_i(x)}{x} \n",
    "#   = \\dintt{mcK}{(f(b_i(xi))_{\\xi_0} / b_i[0]_{xi_0} + f(b_i(xi))_{xi_1} / b_i[1]_{xi_1}) phi(xi) m_i}{xi}\n",
    "# \\dintt{\\partial K_i}{n . f \\phi}{s} - \\dintt{K_i}{f(x) . \\grad_x{\\phi_i(x)}}{x} = \\dintt{\\partial mcK}{n}{xi} - \\dintt{mcK}{f}\n",
    "# \\dintt{K_i}{f(x) . \\grad_x{\\phi_i(x)}}{x} = \\dintt{K_i}{f_0(x) \\phi_i(x)_{x_0} + f_1(x) \\phi_i(x)_{x_1}}{x}\n",
    "# = \\dintt{mcK}{(f_0(b_i(xi)) \\phi(xi)_{xi_0} / b_i[0]_{xi_0} + f_1(b_i(xi)) \\phi(xi)_{xi_1} / b_i[1]_{xi_0}) m_i}{xi}\n",
    "# \\dintt{\\partial mcK}{n . f(xi) \\phi(xi)}{s} - \\dintt{mcK}{f(xi) . \\grad{\\phi}}{xi}\n",
    "\n",
    "canonical_rhs_area_integral = definite_integral(definite_integral(f))"
   ]
  },
  {
   "cell_type": "code",
   "execution_count": 160,
   "metadata": {},
   "outputs": [],
   "source": [
    "bottom_face_integral = definite_integral((n_bottom * f * phi).subs(dict_bottom_face_K), x[0], x_i[0, 0], x_i[0, 1])\n",
    "right_face_integral = definite_integral((n_right * f * phi).subs(dict_right_face_K), x[1], x_i[1, 0], x_i[1, 1])\n",
    "top_face_integral = definite_integral((n_top * f * phi).subs(dict_top_face_K), x[0], x_i[0, 1], x_i[0, 0])\n",
    "left_face_integral = definite_integral((n_left * f * phi).subs(dict_left_face_K), x[1], x_i[1, 1], x_i[1, 0])\n",
    "rhs_surface_integral = bottom_face_integral + right_face_integral - top_face_integral - left_face_integral\n",
    "rhs_area_integral = definite_integral(definite_integral(f * phi.gradient(x), x[0], x_i[0, 0], x_i[0, 1]), x[1], x_i[1, 0], x_i[1, 1])\n",
    "rhs = rhs_surface_integral - rhs_area_integral"
   ]
  },
  {
   "cell_type": "code",
   "execution_count": 161,
   "metadata": {},
   "outputs": [
    {
     "data": {
      "text/plain": [
       "0"
      ]
     },
     "execution_count": 161,
     "metadata": {},
     "output_type": "execute_result"
    }
   ],
   "source": [
    "# mutlidimensional chain rule"
   ]
  },
  {
   "cell_type": "code",
   "execution_count": 159,
   "metadata": {},
   "outputs": [
    {
     "data": {
      "text/plain": [
       "1/2*(x_i_0_0^2 - x_i_0_1^2)*(x_i_1_0 - x_i_1_1)"
      ]
     },
     "execution_count": 159,
     "metadata": {},
     "output_type": "execute_result"
    }
   ],
   "source": [
    "rhs_area_integral"
   ]
  },
  {
   "cell_type": "markdown",
   "metadata": {},
   "source": [
    "## 2D Triangular Basis from Hesthaven"
   ]
  },
  {
   "cell_type": "code",
   "execution_count": 2,
   "metadata": {},
   "outputs": [],
   "source": [
    "import sageresearch.utils.symbolic_vector_matrix as svm"
   ]
  },
  {
   "cell_type": "code",
   "execution_count": 3,
   "metadata": {},
   "outputs": [],
   "source": [
    "# polynomial order of basis\n",
    "N = SR.symbol('N')\n",
    "# number of points N_p\n",
    "N_p = (N + 1) * (N + 2) / 2"
   ]
  },
  {
   "cell_type": "code",
   "execution_count": 4,
   "metadata": {},
   "outputs": [
    {
     "data": {
      "text/plain": [
       "1/2*(N + 2)*(N + 1)"
      ]
     },
     "execution_count": 4,
     "metadata": {},
     "output_type": "execute_result"
    }
   ],
   "source": [
    "N_p"
   ]
  },
  {
   "cell_type": "code",
   "execution_count": 158,
   "metadata": {},
   "outputs": [],
   "source": [
    "v = svm.get_vector_variable('v', 4)\n",
    "x = svm.get_vector_variable('x', 3)\n",
    "xi = svm.get_vector_variable('xi', 3)\n",
    "lambda_ = svm.get_vector_variable('lambda', 4)\n",
    "\n",
    "# transformation to barycentric coordinate in canonical element\n",
    "# xi^* = lambda^1 [-1, -1] + lamdba^2 [1, -1] + lambda^3 [-1, 1]\n",
    "# 1 = lamdba^1 + lambda^2 + lambda^3\n",
    "xi_star = svm.get_vector_variable('xi_star', 3)\n",
    "mat_xi = matrix([[-1, 1, -1], [-1, -1, 1], [1, 1, 1]])\n",
    "vec_xi = vector([xi_star[1], xi_star[2], 1])\n",
    "lambda_from_canonical = mat_xi.inverse() * vec_xi\n",
    "\n",
    "# transformation to barycentric coordinates in mesh element\n",
    "# x^* = lambda^1 v^1 + lambda^2 v^2 + lambda^3 v^3\n",
    "# 1 = lambda^1 + lambda^2 + lambda^3\n",
    "x_star = svm.get_vector_variable('x_star', 3)\n",
    "x_1 = svm.get_vector_variable('x_1', 4)\n",
    "x_2 = svm.get_vector_variable('x_2', 4)\n",
    "mat_x = matrix([[x_1[1], x_1[2], x_1[3]], [x_2[1], x_2[2], x_2[3]], [1, 1, 1]])\n",
    "vec_x = vector([x_star[1], x_star[2], 1])\n",
    "\n",
    "tmp = mat_x * lambda_from_canonical\n",
    "x_star_1 = tmp[0]\n",
    "x_star_2 = tmp[1]\n",
    "\n",
    "# transformation from canonical to mesh\n",
    "# b_i(xi) = 1/2 (v^2 - v^1) xi_1 + 1/2 (v^3 - v^1) xi_2 + 1/2 (v^2 + v^3)\n",
    "b_i = vector([1/2 * (x_1[2] - x_1[1]) * xi[1] + 1/2 * (x_1[3] - x_1[1]) * xi[2] + 1/2 * (x_1[2] + x_1[3]),\n",
    "             1/2 * (x_2[2] - x_2[1]) * xi[1] + 1/2 * (x_2[3] - x_2[1]) * xi[2] + 1/2 * (x_2[2] + x_2[3])])\n",
    "b_i_j = jacobian(b_i, [xi[1], xi[2]])\n",
    "J = b_i_j.det()\n",
    "\n",
    "xi_1_x_1 = b_i_j[1, 1] / J\n",
    "xi_1_x_2 = -b_i_j[0, 1] / J\n",
    "xi_2_x_1 = -b_i_j[1, 0] / J\n",
    "xi_2_x_2 = b_i_j[0, 0] / J\n",
    "c_i = vector([xi_1_x_1 * x[1] + xi_1_x_2 * x[2], xi_2_x_1 * x[1] + xi_2_x_2 * x[2]])\n",
    "\n",
    "lambda_from_mesh = mat_x.inverse() * vec_x\n",
    "tmp = mat_xi * lambda_from_mesh"
   ]
  },
  {
   "cell_type": "code",
   "execution_count": 160,
   "metadata": {},
   "outputs": [
    {
     "data": {
      "image/png": "[encoded data removed]",
      "text/plain": [
       "Graphics object consisting of 11 graphics primitives"
      ]
     },
     "metadata": {},
     "output_type": "display_data"
    },
    {
     "data": {
      "image/png": "[encoded data removed]",
      "text/plain": [
       "Graphics object consisting of 11 graphics primitives"
      ]
     },
     "metadata": {},
     "output_type": "display_data"
    },
    {
     "name": "stdout",
     "output_type": "stream",
     "text": [
      "(-1/2, -1/2)\n",
      "(-1/4, -1/2)\n"
     ]
    }
   ],
   "source": [
    "v1 = vector([-1, -1])\n",
    "v2 = vector([1, -1])\n",
    "v3 = vector([0, 1])\n",
    "subs_v = {x_1[1]: v1[0], x_1[2]: v2[0], x_1[3]: v3[0], x_2[1]: v1[1], x_2[2]: v2[1], x_2[3]: v3[1]}\n",
    "dy = vector([0, 0.1])\n",
    "xi_star_1 = vector([-3/4, -1/2])\n",
    "subs_xi_star = {xi[1]: xi_star_1[0], xi[2]: xi_star_1[1]}\n",
    "x_star_1 = b_i.subs(subs_v).subs(subs_xi_star)\n",
    "subs_x_star = {x[1]: x_star_1[0], x[2]: x_star_1[1]}\n",
    "xi_star_2 = c_i.subs(subs_v).subs(subs_x_star)\n",
    "D = polygon([v1, v2, v3], fill=False, color='black', axes=False)\n",
    "axes = (arrow((-1.25, -1.25), (-1.25, -0.75), color='black') + \n",
    "    arrow((-1.25, -1.25), (-0.75, -1.25), color='black'))\n",
    "text_D = (text(\"$x_1$\", (-0.65, -1.25), color='black', fontsize=20)\n",
    "          + text(\"$x_2$\", (-1.25, -0.65), color='black', fontsize=20)\n",
    "          + text('Mesh Element i', (0, 1.25), color='black', fontsize=20)\n",
    "          + text('$v_1$', v1 - dy, color='black', fontsize=15)\n",
    "          + text('$v_2$', v2 - dy, color='black', fontsize=15)\n",
    "          + text('$v_3$', v3 + dy, color='black', fontsize=15)\n",
    "          + point(x_star_1, color='black', size=20)\n",
    "          + text('$x^* = b_i(\\\\xi^*)$', x_star_1 + vector([6/10, 0]), color='black', fontsize=20))\n",
    "I = polygon([[-1, -1],[1, -1], [-1, 1]], fill=False, color='black', axes=False)\n",
    "text_I = (text('$\\\\xi_1$', (-0.65, -1.25), color='black', fontsize=20)\n",
    "          + text('$\\\\xi_2$', (-1.25, -0.65), color='black', fontsize=20)\n",
    "          + text('Canonical Element', (0, 1.25), color='black', fontsize=20)\n",
    "          + text('(-1, -1)', (-1, -1.1), color='black')\n",
    "          + text('(1, -1)', (1, -1.1), color='black')\n",
    "          + text('(-1, 1)', (-1, 1.1), color='black')\n",
    "          + text('$\\\\xi^* = c_i(x^*)$', (-0.2, -0.5), color='black', fontsize=20)\n",
    "          + point(xi_star_2, color='black', size=20))\n",
    "show(axes + D + text_D)\n",
    "show(axes + I + text_I)\n",
    "print(x_star_1)\n",
    "print(xi_star_2)"
   ]
  },
  {
   "cell_type": "code",
   "execution_count": 156,
   "metadata": {},
   "outputs": [
    {
     "data": {
      "text/plain": [
       "2*(x_2_1 - x_2_3)*x_star_0/((x_1_1 - x_1_3)*(x_2_1 - x_2_2) - (x_1_1 - x_1_2)*(x_2_1 - x_2_3))"
      ]
     },
     "execution_count": 156,
     "metadata": {},
     "output_type": "execute_result"
    }
   ],
   "source": [
    "xi_1_x_1 * x_star[0]"
   ]
  },
  {
   "cell_type": "code",
   "execution_count": 150,
   "metadata": {},
   "outputs": [
    {
     "data": {
      "image/png": "[encoded data removed]",
      "text/plain": [
       "Graphics object consisting of 1 graphics primitive"
      ]
     },
     "execution_count": 150,
     "metadata": {},
     "output_type": "execute_result"
    }
   ],
   "source": [
    "text('$x^* = b_i(\\\\xi^*)$', x_star_1 + vector([6/10, 0]), color='black', fontsize=20)"
   ]
  },
  {
   "cell_type": "code",
   "execution_count": 163,
   "metadata": {},
   "outputs": [
    {
     "data": {
      "text/plain": [
       "-((x_1_2 + x_1_3)*x_2_1 - (x_1_1 - x_1_3)*x_2_2 - (x_1_1 + x_1_2)*x_2_3 - 2*(x_2_1 - x_2_3)*x_star_1 + 2*(x_1_1 - x_1_3)*x_star_2)/((x_1_2 - x_1_3)*x_2_1 - (x_1_1 - x_1_3)*x_2_2 + (x_1_1 - x_1_2)*x_2_3)"
      ]
     },
     "execution_count": 163,
     "metadata": {},
     "output_type": "execute_result"
    }
   ],
   "source": [
    "tmp[0].simplify_full()"
   ]
  },
  {
   "cell_type": "code",
   "execution_count": 171,
   "metadata": {},
   "outputs": [],
   "source": [
    "test = -((x_1[2] + x_1[3])*x_2[1] - (x_1[1] - x_1[3])*x_2[2] - (x_1[1] + x_1[2])*x_2[3])/((x_1[2] - x_1[3])*x_2[1] - (x_1[1] - x_1[3])*x_2[2] + (x_1[1] - x_1[2])*x_2[3])"
   ]
  },
  {
   "cell_type": "code",
   "execution_count": 172,
   "metadata": {},
   "outputs": [
    {
     "data": {
      "text/plain": [
       "-((x_1_2 + x_1_3)*x_2_1 - (x_1_1 - x_1_3)*x_2_2 - (x_1_1 + x_1_2)*x_2_3)/((x_1_2 - x_1_3)*x_2_1 - (x_1_1 - x_1_3)*x_2_2 + (x_1_1 - x_1_2)*x_2_3)"
      ]
     },
     "execution_count": 172,
     "metadata": {},
     "output_type": "execute_result"
    }
   ],
   "source": [
    "test.simplify_full()"
   ]
  },
  {
   "cell_type": "code",
   "execution_count": 168,
   "metadata": {},
   "outputs": [
    {
     "data": {
      "text/plain": [
       "-1/4*(x_1_2 - x_1_3)*x_2_1 + 1/4*(x_1_1 - x_1_3)*x_2_2 - 1/4*(x_1_1 - x_1_2)*x_2_3"
      ]
     },
     "execution_count": 168,
     "metadata": {},
     "output_type": "execute_result"
    }
   ],
   "source": [
    "J.simplify_full()"
   ]
  },
  {
   "cell_type": "code",
   "execution_count": 170,
   "metadata": {},
   "outputs": [
    {
     "data": {
      "text/plain": [
       "((x_1_2 + x_1_3)*x_2_1 - (x_1_1 + x_1_3)*x_2_2 - (x_1_1 - x_1_2)*x_2_3 - 2*(x_2_1 - x_2_2)*x_star_1 + 2*(x_1_1 - x_1_2)*x_star_2)/((x_1_2 - x_1_3)*x_2_1 - (x_1_1 - x_1_3)*x_2_2 + (x_1_1 - x_1_2)*x_2_3)"
      ]
     },
     "execution_count": 170,
     "metadata": {},
     "output_type": "execute_result"
    }
   ],
   "source": [
    "tmp[1].simplify_full()"
   ]
  },
  {
   "cell_type": "code",
   "execution_count": 4,
   "metadata": {},
   "outputs": [],
   "source": [
    "a = svm.get_matrix_variable('a', 2, 3)\n",
    "b = svm.get_matrix_variable('b', 2, 3)\n",
    "x = svm.get_vector_variable('x', 2)\n",
    "x0 = svm.get_vector_variable('x0', 3)\n",
    "x0[2] = 1\n",
    "x1 = svm.get_vector_variable('x1', 3)\n",
    "x1[2] = 1\n",
    "x2 = svm.get_vector_variable('x2', 3)\n",
    "x2[2] = 1\n",
    "xi = svm.get_vector_variable('xi', 2)\n",
    "xi0 = vector([-1, 1, 1])\n",
    "xi1 = vector([-1, -1, 1])\n",
    "xi2 = vector([1, -1, 1])"
   ]
  },
  {
   "cell_type": "code",
   "execution_count": 12,
   "metadata": {},
   "outputs": [
    {
     "data": {
      "text/plain": [
       "a_0_0*x1_0 + a_0_1*x1_1 + a_0_2"
      ]
     },
     "execution_count": 12,
     "metadata": {},
     "output_type": "execute_result"
    }
   ],
   "source": [
    "(a * x1)[0]"
   ]
  },
  {
   "cell_type": "code",
   "execution_count": 10,
   "metadata": {},
   "outputs": [],
   "source": [
    "sol = solve([(a * x0)[0]==-1, (a*x0)[1]==1, (a*x1)[0]==-1, (a*x1)[1]==-1, (a*x2)[0]==1, (a*x2)[1]==-1], \n",
    "      a[0, 0], a[0, 1], a[0, 2], a[1, 0], a[1, 1], a[1, 2])"
   ]
  },
  {
   "cell_type": "code",
   "execution_count": 6,
   "metadata": {},
   "outputs": [
    {
     "data": {
      "text/plain": [
       "[[b_0_0 == -1/2*x1_0 + 1/2*x2_0, b_0_1 == 1/2*x0_0 - 1/2*x1_0, b_0_2 == 1/2*x0_0 + 1/2*x2_0, b_1_0 == -1/2*x1_1 + 1/2*x2_1, b_1_1 == 1/2*x0_1 - 1/2*x1_1, b_1_2 == 1/2*x0_1 + 1/2*x2_1]]"
      ]
     },
     "execution_count": 6,
     "metadata": {},
     "output_type": "execute_result"
    }
   ],
   "source": [
    "solve([(b*xi0)[0]==x0[0], (b*xi0)[1]==x0[1], (b*xi1)[0]==x1[0], (b*xi1)[1]==x1[1], (b*xi2)[0]==x2[0], \n",
    "       (b*xi2)[1]==x2[1]], b[0, 0], b[0, 1], b[0, 2], b[1, 0], b[1, 1], b[1, 2])"
   ]
  },
  {
   "cell_type": "markdown",
   "metadata": {},
   "source": [
    "# Orthogonal Modal Basis on Triangle"
   ]
  },
  {
   "cell_type": "markdown",
   "metadata": {},
   "source": [
    "### Symbolic"
   ]
  },
  {
   "cell_type": "code",
   "execution_count": 5,
   "metadata": {},
   "outputs": [],
   "source": [
    "xi = SR.symbol('xi')\n",
    "eta = SR.symbol('eta')\n",
    "def integrate_over_triangle(expression):\n",
    "    return integral(integral(expression, xi, -1, -eta), eta, -1, 1)\n",
    "\n",
    "def inner_product(u, v):\n",
    "    return integrate_over_triangle(u * v) / 2\n",
    "\n",
    "def project(u, v):\n",
    "    return inner_product(u, v) * v\n",
    "\n",
    "def gram_schmidt(v_list):\n",
    "    e_list = []\n",
    "    for v in v_list:\n",
    "        u = v\n",
    "        for e in e_list:\n",
    "            u -= project(v, e)\n",
    "        e = u / sqrt(inner_product(u, u))\n",
    "        e_list.append(e)\n",
    "    return e_list"
   ]
  },
  {
   "cell_type": "code",
   "execution_count": 33,
   "metadata": {},
   "outputs": [],
   "source": [
    "e1 = 1\n",
    "v2 = xi\n",
    "u2 = v2 - project(v2, e1)\n",
    "e2 = u2 / sqrt(inner_product(u2, u2))\n",
    "v3 = eta\n",
    "u3 = v3 - project(v3, e1) - project(v3, e2)\n",
    "e3 = u3 / sqrt(inner_product(u3, u3))\n",
    "v4 = xi^2\n",
    "u4 = v4 - project(v4, e1) - project(v4, e2) - project(v4, e3)\n",
    "e4 = u4 / sqrt(inner_product(u4, u4))\n",
    "v5 = xi * eta\n",
    "u5 = v5 - project()"
   ]
  },
  {
   "cell_type": "code",
   "execution_count": 6,
   "metadata": {},
   "outputs": [],
   "source": [
    "v_list = [1, xi, eta, xi^2, xi * eta, eta^2, xi^3, xi^2 * eta, xi * eta^2, eta^3, xi^4, xi^3 * eta, xi^2 * eta^2, xi * eta^3, eta^4]\n",
    "e_list = gram_schmidt(v_list)"
   ]
  },
  {
   "cell_type": "code",
   "execution_count": 7,
   "metadata": {},
   "outputs": [
    {
     "data": {
      "text/plain": [
       "[1,\n",
       " 1/2*sqrt(2)*(3*xi + 1),\n",
       " 3*sqrt(1/6)*(2*eta + xi + 1),\n",
       " 3/2*sqrt(1/3)*(5*xi^2 + 2*xi - 1),\n",
       " 3/4*sqrt(3)*sqrt(1/3)*(5*xi^2 + 2*xi - 1) + 9/4*sqrt(6)*sqrt(1/6)*(2*eta + xi + 1) + 15/2*eta*xi + 9/4*xi + 3/4,\n",
       " 3/4*sqrt(1/15)*(sqrt(3)*sqrt(1/3)*(5*xi^2 + 2*xi - 1) + 15*sqrt(6)*sqrt(1/6)*(2*eta + xi + 1) + 30*eta^2 + 30*eta*xi + 3*xi - 9),\n",
       " 35/4*xi^3 + 3/4*sqrt(3)*sqrt(1/3)*(5*xi^2 + 2*xi - 1) - 21/4*xi,\n",
       " 3/20*sqrt(1/3)*(210*eta*xi^2 + 105*xi^3 + 39*sqrt(3)*sqrt(1/3)*(5*xi^2 + 2*xi - 1) + 5*sqrt(6)*sqrt(1/6)*(2*eta + xi + 1) + 180*eta*xi + 12*xi + 39),\n",
       " 1/4*sqrt(1/5)*(210*eta^2*xi - 70*xi^3 + sqrt(3)*sqrt(1/3)*(210*eta*xi^2 + 105*xi^3 + 39*sqrt(3)*sqrt(1/3)*(5*xi^2 + 2*xi - 1) + 5*sqrt(6)*sqrt(1/6)*(2*eta + xi + 1) + 180*eta*xi + 12*xi + 39) + 5*sqrt(15)*sqrt(1/15)*(sqrt(3)*sqrt(1/3)*(5*xi^2 + 2*xi - 1) + 15*sqrt(6)*sqrt(1/6)*(2*eta + xi + 1) + 30*eta^2 + 30*eta*xi + 3*xi - 9) - 11*sqrt(3)*sqrt(1/3)*(5*xi^2 + 2*xi - 1) - 5*sqrt(6)*sqrt(1/6)*(2*eta + xi + 1) + 30*eta*xi - 33*xi - 11),\n",
       " 1/20*sqrt(1/7)*(700*eta^3 + 175*xi^3 + 5*sqrt(5)*sqrt(1/5)*(210*eta^2*xi - 70*xi^3 + sqrt(3)*sqrt(1/3)*(210*eta*xi^2 + 105*xi^3 + 39*sqrt(3)*sqrt(1/3)*(5*xi^2 + 2*xi - 1) + 5*sqrt(6)*sqrt(1/6)*(2*eta + xi + 1) + 180*eta*xi + 12*xi + 39) + 5*sqrt(15)*sqrt(1/15)*(sqrt(3)*sqrt(1/3)*(5*xi^2 + 2*xi - 1) + 15*sqrt(6)*sqrt(1/6)*(2*eta + xi + 1) + 30*eta^2 + 30*eta*xi + 3*xi - 9) - 11*sqrt(3)*sqrt(1/3)*(5*xi^2 + 2*xi - 1) - 5*sqrt(6)*sqrt(1/6)*(2*eta + xi + 1) + 30*eta*xi - 33*xi - 11) - 3*sqrt(3)*sqrt(1/3)*(210*eta*xi^2 + 105*xi^3 + 39*sqrt(3)*sqrt(1/3)*(5*xi^2 + 2*xi - 1) + 5*sqrt(6)*sqrt(1/6)*(2*eta + xi + 1) + 180*eta*xi + 12*xi + 39) + 10*sqrt(15)*sqrt(1/15)*(sqrt(3)*sqrt(1/3)*(5*xi^2 + 2*xi - 1) + 15*sqrt(6)*sqrt(1/6)*(2*eta + xi + 1) + 30*eta^2 + 30*eta*xi + 3*xi - 9) + 5*sqrt(3)*sqrt(1/3)*(5*xi^2 + 2*xi - 1) - 300*sqrt(6)*sqrt(1/6)*(2*eta + xi + 1) - 300*eta*xi + 15*xi + 180),\n",
       " 1/8*sqrt(1/5)*(315*xi^4 + 140*xi^3 - 42*sqrt(3)*sqrt(1/3)*(5*xi^2 + 2*xi - 1) + 24*xi - 27),\n",
       " 1/4*sqrt(1/15)*(630*eta*xi^3 + 175*xi^3 + sqrt(5)*sqrt(1/5)*(315*xi^4 + 140*xi^3 - 42*sqrt(3)*sqrt(1/3)*(5*xi^2 + 2*xi - 1) + 24*xi - 27) + 3*sqrt(3)*sqrt(1/3)*(210*eta*xi^2 + 105*xi^3 + 39*sqrt(3)*sqrt(1/3)*(5*xi^2 + 2*xi - 1) + 5*sqrt(6)*sqrt(1/6)*(2*eta + xi + 1) + 180*eta*xi + 12*xi + 39) - 12*sqrt(3)*sqrt(1/3)*(5*xi^2 + 2*xi - 1) - 45*sqrt(6)*sqrt(1/6)*(2*eta + xi + 1) - 540*eta*xi - 186*xi - 27),\n",
       " 135/2*eta^2*xi^2 - 25/2*xi^3 + 3/28*sqrt(15)*sqrt(1/15)*(630*eta*xi^3 + 175*xi^3 + sqrt(5)*sqrt(1/5)*(315*xi^4 + 140*xi^3 - 42*sqrt(3)*sqrt(1/3)*(5*xi^2 + 2*xi - 1) + 24*xi - 27) + 3*sqrt(3)*sqrt(1/3)*(210*eta*xi^2 + 105*xi^3 + 39*sqrt(3)*sqrt(1/3)*(5*xi^2 + 2*xi - 1) + 5*sqrt(6)*sqrt(1/6)*(2*eta + xi + 1) + 180*eta*xi + 12*xi + 39) - 12*sqrt(3)*sqrt(1/3)*(5*xi^2 + 2*xi - 1) - 45*sqrt(6)*sqrt(1/6)*(2*eta + xi + 1) - 540*eta*xi - 186*xi - 27) - 1/14*sqrt(5)*sqrt(1/5)*(315*xi^4 + 140*xi^3 - 42*sqrt(3)*sqrt(1/3)*(5*xi^2 + 2*xi - 1) + 24*xi - 27) + 5/14*sqrt(5)*sqrt(1/5)*(210*eta^2*xi - 70*xi^3 + sqrt(3)*sqrt(1/3)*(210*eta*xi^2 + 105*xi^3 + 39*sqrt(3)*sqrt(1/3)*(5*xi^2 + 2*xi - 1) + 5*sqrt(6)*sqrt(1/6)*(2*eta + xi + 1) + 180*eta*xi + 12*xi + 39) + 5*sqrt(15)*sqrt(1/15)*(sqrt(3)*sqrt(1/3)*(5*xi^2 + 2*xi - 1) + 15*sqrt(6)*sqrt(1/6)*(2*eta + xi + 1) + 30*eta^2 + 30*eta*xi + 3*xi - 9) - 11*sqrt(3)*sqrt(1/3)*(5*xi^2 + 2*xi - 1) - 5*sqrt(6)*sqrt(1/6)*(2*eta + xi + 1) + 30*eta*xi - 33*xi - 11) - 9/7*sqrt(15)*sqrt(1/15)*(sqrt(3)*sqrt(1/3)*(5*xi^2 + 2*xi - 1) + 15*sqrt(6)*sqrt(1/6)*(2*eta + xi + 1) + 30*eta^2 + 30*eta*xi + 3*xi - 9) - 15/2*sqrt(3)*sqrt(1/3)*(5*xi^2 + 2*xi - 1) + 45/14*sqrt(6)*sqrt(1/6)*(2*eta + xi + 1) + 75/7*xi - 45/7,\n",
       " 1/16*sqrt(1/35)*(6300*eta^3*xi + 9450*eta^2*xi^2 - 875*xi^3 + 6*sqrt(15)*sqrt(1/15)*(630*eta*xi^3 + 175*xi^3 + sqrt(5)*sqrt(1/5)*(315*xi^4 + 140*xi^3 - 42*sqrt(3)*sqrt(1/3)*(5*xi^2 + 2*xi - 1) + 24*xi - 27) + 3*sqrt(3)*sqrt(1/3)*(210*eta*xi^2 + 105*xi^3 + 39*sqrt(3)*sqrt(1/3)*(5*xi^2 + 2*xi - 1) + 5*sqrt(6)*sqrt(1/6)*(2*eta + xi + 1) + 180*eta*xi + 12*xi + 39) - 12*sqrt(3)*sqrt(1/3)*(5*xi^2 + 2*xi - 1) - 45*sqrt(6)*sqrt(1/6)*(2*eta + xi + 1) - 540*eta*xi - 186*xi - 27) - 5*sqrt(5)*sqrt(1/5)*(315*xi^4 + 140*xi^3 - 42*sqrt(3)*sqrt(1/3)*(5*xi^2 + 2*xi - 1) + 24*xi - 27) + 7*sqrt(7)*sqrt(1/7)*(700*eta^3 + 175*xi^3 + 5*sqrt(5)*sqrt(1/5)*(210*eta^2*xi - 70*xi^3 + sqrt(3)*sqrt(1/3)*(210*eta*xi^2 + 105*xi^3 + 39*sqrt(3)*sqrt(1/3)*(5*xi^2 + 2*xi - 1) + 5*sqrt(6)*sqrt(1/6)*(2*eta + xi + 1) + 180*eta*xi + 12*xi + 39) + 5*sqrt(15)*sqrt(1/15)*(sqrt(3)*sqrt(1/3)*(5*xi^2 + 2*xi - 1) + 15*sqrt(6)*sqrt(1/6)*(2*eta + xi + 1) + 30*eta^2 + 30*eta*xi + 3*xi - 9) - 11*sqrt(3)*sqrt(1/3)*(5*xi^2 + 2*xi - 1) - 5*sqrt(6)*sqrt(1/6)*(2*eta + xi + 1) + 30*eta*xi - 33*xi - 11) - 3*sqrt(3)*sqrt(1/3)*(210*eta*xi^2 + 105*xi^3 + 39*sqrt(3)*sqrt(1/3)*(5*xi^2 + 2*xi - 1) + 5*sqrt(6)*sqrt(1/6)*(2*eta + xi + 1) + 180*eta*xi + 12*xi + 39) + 10*sqrt(15)*sqrt(1/15)*(sqrt(3)*sqrt(1/3)*(5*xi^2 + 2*xi - 1) + 15*sqrt(6)*sqrt(1/6)*(2*eta + xi + 1) + 30*eta^2 + 30*eta*xi + 3*xi - 9) + 5*sqrt(3)*sqrt(1/3)*(5*xi^2 + 2*xi - 1) - 300*sqrt(6)*sqrt(1/6)*(2*eta + xi + 1) - 300*eta*xi + 15*xi + 180) + 45*sqrt(5)*sqrt(1/5)*(210*eta^2*xi - 70*xi^3 + sqrt(3)*sqrt(1/3)*(210*eta*xi^2 + 105*xi^3 + 39*sqrt(3)*sqrt(1/3)*(5*xi^2 + 2*xi - 1) + 5*sqrt(6)*sqrt(1/6)*(2*eta + xi + 1) + 180*eta*xi + 12*xi + 39) + 5*sqrt(15)*sqrt(1/15)*(sqrt(3)*sqrt(1/3)*(5*xi^2 + 2*xi - 1) + 15*sqrt(6)*sqrt(1/6)*(2*eta + xi + 1) + 30*eta^2 + 30*eta*xi + 3*xi - 9) - 11*sqrt(3)*sqrt(1/3)*(5*xi^2 + 2*xi - 1) - 5*sqrt(6)*sqrt(1/6)*(2*eta + xi + 1) + 30*eta*xi - 33*xi - 11) - 9*sqrt(3)*sqrt(1/3)*(210*eta*xi^2 + 105*xi^3 + 39*sqrt(3)*sqrt(1/3)*(5*xi^2 + 2*xi - 1) + 5*sqrt(6)*sqrt(1/6)*(2*eta + xi + 1) + 180*eta*xi + 12*xi + 39) - 225*sqrt(15)*sqrt(1/15)*(sqrt(3)*sqrt(1/3)*(5*xi^2 + 2*xi - 1) + 15*sqrt(6)*sqrt(1/6)*(2*eta + xi + 1) + 30*eta^2 + 30*eta*xi + 3*xi - 9) - 930*sqrt(3)*sqrt(1/3)*(5*xi^2 + 2*xi - 1) + 225*sqrt(6)*sqrt(1/6)*(2*eta + xi + 1) - 4050*eta*xi + 1110*xi - 855),\n",
       " 1/336*sqrt(1/5)*(22050*eta^4 - 37800*eta^2*xi^2 + 4550*xi^3 + 7*sqrt(35)*sqrt(1/35)*(6300*eta^3*xi + 9450*eta^2*xi^2 - 875*xi^3 + 6*sqrt(15)*sqrt(1/15)*(630*eta*xi^3 + 175*xi^3 + sqrt(5)*sqrt(1/5)*(315*xi^4 + 140*xi^3 - 42*sqrt(3)*sqrt(1/3)*(5*xi^2 + 2*xi - 1) + 24*xi - 27) + 3*sqrt(3)*sqrt(1/3)*(210*eta*xi^2 + 105*xi^3 + 39*sqrt(3)*sqrt(1/3)*(5*xi^2 + 2*xi - 1) + 5*sqrt(6)*sqrt(1/6)*(2*eta + xi + 1) + 180*eta*xi + 12*xi + 39) - 12*sqrt(3)*sqrt(1/3)*(5*xi^2 + 2*xi - 1) - 45*sqrt(6)*sqrt(1/6)*(2*eta + xi + 1) - 540*eta*xi - 186*xi - 27) - 5*sqrt(5)*sqrt(1/5)*(315*xi^4 + 140*xi^3 - 42*sqrt(3)*sqrt(1/3)*(5*xi^2 + 2*xi - 1) + 24*xi - 27) + 7*sqrt(7)*sqrt(1/7)*(700*eta^3 + 175*xi^3 + 5*sqrt(5)*sqrt(1/5)*(210*eta^2*xi - 70*xi^3 + sqrt(3)*sqrt(1/3)*(210*eta*xi^2 + 105*xi^3 + 39*sqrt(3)*sqrt(1/3)*(5*xi^2 + 2*xi - 1) + 5*sqrt(6)*sqrt(1/6)*(2*eta + xi + 1) + 180*eta*xi + 12*xi + 39) + 5*sqrt(15)*sqrt(1/15)*(sqrt(3)*sqrt(1/3)*(5*xi^2 + 2*xi - 1) + 15*sqrt(6)*sqrt(1/6)*(2*eta + xi + 1) + 30*eta^2 + 30*eta*xi + 3*xi - 9) - 11*sqrt(3)*sqrt(1/3)*(5*xi^2 + 2*xi - 1) - 5*sqrt(6)*sqrt(1/6)*(2*eta + xi + 1) + 30*eta*xi - 33*xi - 11) - 3*sqrt(3)*sqrt(1/3)*(210*eta*xi^2 + 105*xi^3 + 39*sqrt(3)*sqrt(1/3)*(5*xi^2 + 2*xi - 1) + 5*sqrt(6)*sqrt(1/6)*(2*eta + xi + 1) + 180*eta*xi + 12*xi + 39) + 10*sqrt(15)*sqrt(1/15)*(sqrt(3)*sqrt(1/3)*(5*xi^2 + 2*xi - 1) + 15*sqrt(6)*sqrt(1/6)*(2*eta + xi + 1) + 30*eta^2 + 30*eta*xi + 3*xi - 9) + 5*sqrt(3)*sqrt(1/3)*(5*xi^2 + 2*xi - 1) - 300*sqrt(6)*sqrt(1/6)*(2*eta + xi + 1) - 300*eta*xi + 15*xi + 180) + 45*sqrt(5)*sqrt(1/5)*(210*eta^2*xi - 70*xi^3 + sqrt(3)*sqrt(1/3)*(210*eta*xi^2 + 105*xi^3 + 39*sqrt(3)*sqrt(1/3)*(5*xi^2 + 2*xi - 1) + 5*sqrt(6)*sqrt(1/6)*(2*eta + xi + 1) + 180*eta*xi + 12*xi + 39) + 5*sqrt(15)*sqrt(1/15)*(sqrt(3)*sqrt(1/3)*(5*xi^2 + 2*xi - 1) + 15*sqrt(6)*sqrt(1/6)*(2*eta + xi + 1) + 30*eta^2 + 30*eta*xi + 3*xi - 9) - 11*sqrt(3)*sqrt(1/3)*(5*xi^2 + 2*xi - 1) - 5*sqrt(6)*sqrt(1/6)*(2*eta + xi + 1) + 30*eta*xi - 33*xi - 11) - 9*sqrt(3)*sqrt(1/3)*(210*eta*xi^2 + 105*xi^3 + 39*sqrt(3)*sqrt(1/3)*(5*xi^2 + 2*xi - 1) + 5*sqrt(6)*sqrt(1/6)*(2*eta + xi + 1) + 180*eta*xi + 12*xi + 39) - 225*sqrt(15)*sqrt(1/15)*(sqrt(3)*sqrt(1/3)*(5*xi^2 + 2*xi - 1) + 15*sqrt(6)*sqrt(1/6)*(2*eta + xi + 1) + 30*eta^2 + 30*eta*xi + 3*xi - 9) - 930*sqrt(3)*sqrt(1/3)*(5*xi^2 + 2*xi - 1) + 225*sqrt(6)*sqrt(1/6)*(2*eta + xi + 1) - 4050*eta*xi + 1110*xi - 855) - 32*sqrt(15)*sqrt(1/15)*(630*eta*xi^3 + 175*xi^3 + sqrt(5)*sqrt(1/5)*(315*xi^4 + 140*xi^3 - 42*sqrt(3)*sqrt(1/3)*(5*xi^2 + 2*xi - 1) + 24*xi - 27) + 3*sqrt(3)*sqrt(1/3)*(210*eta*xi^2 + 105*xi^3 + 39*sqrt(3)*sqrt(1/3)*(5*xi^2 + 2*xi - 1) + 5*sqrt(6)*sqrt(1/6)*(2*eta + xi + 1) + 180*eta*xi + 12*xi + 39) - 12*sqrt(3)*sqrt(1/3)*(5*xi^2 + 2*xi - 1) - 45*sqrt(6)*sqrt(1/6)*(2*eta + xi + 1) - 540*eta*xi - 186*xi - 27) + 26*sqrt(5)*sqrt(1/5)*(315*xi^4 + 140*xi^3 - 42*sqrt(3)*sqrt(1/3)*(5*xi^2 + 2*xi - 1) + 24*xi - 27) + 14*sqrt(7)*sqrt(1/7)*(700*eta^3 + 175*xi^3 + 5*sqrt(5)*sqrt(1/5)*(210*eta^2*xi - 70*xi^3 + sqrt(3)*sqrt(1/3)*(210*eta*xi^2 + 105*xi^3 + 39*sqrt(3)*sqrt(1/3)*(5*xi^2 + 2*xi - 1) + 5*sqrt(6)*sqrt(1/6)*(2*eta + xi + 1) + 180*eta*xi + 12*xi + 39) + 5*sqrt(15)*sqrt(1/15)*(sqrt(3)*sqrt(1/3)*(5*xi^2 + 2*xi - 1) + 15*sqrt(6)*sqrt(1/6)*(2*eta + xi + 1) + 30*eta^2 + 30*eta*xi + 3*xi - 9) - 11*sqrt(3)*sqrt(1/3)*(5*xi^2 + 2*xi - 1) - 5*sqrt(6)*sqrt(1/6)*(2*eta + xi + 1) + 30*eta*xi - 33*xi - 11) - 3*sqrt(3)*sqrt(1/3)*(210*eta*xi^2 + 105*xi^3 + 39*sqrt(3)*sqrt(1/3)*(5*xi^2 + 2*xi - 1) + 5*sqrt(6)*sqrt(1/6)*(2*eta + xi + 1) + 180*eta*xi + 12*xi + 39) + 10*sqrt(15)*sqrt(1/15)*(sqrt(3)*sqrt(1/3)*(5*xi^2 + 2*xi - 1) + 15*sqrt(6)*sqrt(1/6)*(2*eta + xi + 1) + 30*eta^2 + 30*eta*xi + 3*xi - 9) + 5*sqrt(3)*sqrt(1/3)*(5*xi^2 + 2*xi - 1) - 300*sqrt(6)*sqrt(1/6)*(2*eta + xi + 1) - 300*eta*xi + 15*xi + 180) - 270*sqrt(5)*sqrt(1/5)*(210*eta^2*xi - 70*xi^3 + sqrt(3)*sqrt(1/3)*(210*eta*xi^2 + 105*xi^3 + 39*sqrt(3)*sqrt(1/3)*(5*xi^2 + 2*xi - 1) + 5*sqrt(6)*sqrt(1/6)*(2*eta + xi + 1) + 180*eta*xi + 12*xi + 39) + 5*sqrt(15)*sqrt(1/15)*(sqrt(3)*sqrt(1/3)*(5*xi^2 + 2*xi - 1) + 15*sqrt(6)*sqrt(1/6)*(2*eta + xi + 1) + 30*eta^2 + 30*eta*xi + 3*xi - 9) - 11*sqrt(3)*sqrt(1/3)*(5*xi^2 + 2*xi - 1) - 5*sqrt(6)*sqrt(1/6)*(2*eta + xi + 1) + 30*eta*xi - 33*xi - 11) + 42*sqrt(3)*sqrt(1/3)*(210*eta*xi^2 + 105*xi^3 + 39*sqrt(3)*sqrt(1/3)*(5*xi^2 + 2*xi - 1) + 5*sqrt(6)*sqrt(1/6)*(2*eta + xi + 1) + 180*eta*xi + 12*xi + 39) + 90*sqrt(15)*sqrt(1/15)*(sqrt(3)*sqrt(1/3)*(5*xi^2 + 2*xi - 1) + 15*sqrt(6)*sqrt(1/6)*(2*eta + xi + 1) + 30*eta^2 + 30*eta*xi + 3*xi - 9) + 4620*sqrt(3)*sqrt(1/3)*(5*xi^2 + 2*xi - 1) + 7650*sqrt(6)*sqrt(1/6)*(2*eta + xi + 1) + 18900*eta*xi - 2640*xi - 180)]"
      ]
     },
     "execution_count": 7,
     "metadata": {},
     "output_type": "execute_result"
    }
   ],
   "source": [
    "e_list"
   ]
  },
  {
   "cell_type": "code",
   "execution_count": 8,
   "metadata": {},
   "outputs": [],
   "source": [
    "m = [[e.expand().coefficient(v) for v in v_list[1:]] for e in e_list]"
   ]
  },
  {
   "cell_type": "markdown",
   "metadata": {},
   "source": [
    "### Polynomial Ring"
   ]
  },
  {
   "cell_type": "code",
   "execution_count": 2,
   "metadata": {},
   "outputs": [],
   "source": [
    "R.<xi, eta> = PolynomialRing(SR, order='negdeglex')"
   ]
  },
  {
   "cell_type": "code",
   "execution_count": 3,
   "metadata": {},
   "outputs": [],
   "source": [
    "def integral_over_triangle(poly):\n",
    "    xi_integral = poly.integral(xi)\n",
    "    xi_definite_integral = xi_integral(-1, eta) - xi_integral(-eta, eta)\n",
    "    eta_integral = xi_definite_integral.integral(eta)\n",
    "    eta_definite_integral = eta_integral(xi, -1) - eta_integral(xi, 1)\n",
    "    return eta_definite_integral\n",
    "\n",
    "def inner_product(u, v):\n",
    "    return integral_over_triangle(u * v) / 2\n",
    "\n",
    "def project(u, v):\n",
    "    return inner_product(u, v) * v\n",
    "\n",
    "def gram_schmidt(v_list):\n",
    "    e_list = []\n",
    "    for v in v_list:\n",
    "        u = v\n",
    "        for e in e_list:\n",
    "            u -= project(v, e)\n",
    "        e = u / sqrt(inner_product(u, u))\n",
    "        e_list.append(e)\n",
    "    return e_list"
   ]
  },
  {
   "cell_type": "code",
   "execution_count": 4,
   "metadata": {},
   "outputs": [],
   "source": [
    "max_degree = 4\n",
    "v_list = [R(1), xi, eta, xi^2, xi * eta, eta^2, xi^3, xi^2 * eta, xi * eta^2, eta^3, xi^4, xi^3 * eta, xi^2 * eta^2, xi * eta^3, eta^4]\n",
    "e_list = gram_schmidt(v_list)"
   ]
  },
  {
   "cell_type": "code",
   "execution_count": 4,
   "metadata": {},
   "outputs": [
    {
     "data": {
      "text/plain": [
       "[1,\n",
       " 1/2*sqrt(2) + 3/2*sqrt(2)*xi,\n",
       " 3*sqrt(1/6) + 3*sqrt(1/6)*xi + 6*sqrt(1/6)*eta,\n",
       " -3/2*sqrt(1/3) + 3*sqrt(1/3)*xi + 15/2*sqrt(1/3)*xi^2,\n",
       " 9/4 + 6*xi + 9/2*eta + 15/4*xi^2 + 15/2*xi*eta,\n",
       " 15/4*sqrt(1/15) + 15*sqrt(1/15)*xi + 45/2*sqrt(1/15)*eta + 15/4*sqrt(1/15)*xi^2 + 45/2*sqrt(1/15)*xi*eta + 45/2*sqrt(1/15)*eta^2,\n",
       " -3/4 + (-15/4)*xi + 15/4*xi^2 + 35/4*xi^3,\n",
       " 3/4*sqrt(1/3) + 57/4*sqrt(1/3)*xi + 3/2*sqrt(1/3)*eta + 117/4*sqrt(1/3)*xi^2 + 27*sqrt(1/3)*xi*eta + 63/4*sqrt(1/3)*xi^3 + 63/2*sqrt(1/3)*xi^2*eta,\n",
       " 25/4*sqrt(1/5) + 135/4*sqrt(1/5)*xi + 75/2*sqrt(1/5)*eta + 165/4*sqrt(1/5)*xi^2 + 90*sqrt(1/5)*xi*eta + 75/2*sqrt(1/5)*eta^2 + 35/4*sqrt(1/5)*xi^3 + 105/2*sqrt(1/5)*xi^2*eta + 105/2*sqrt(1/5)*xi*eta^2,\n",
       " 7/4*sqrt(1/7) + 63/4*sqrt(1/7)*xi + 21*sqrt(1/7)*eta + 63/4*sqrt(1/7)*xi^2 + 63*sqrt(1/7)*xi*eta + 105/2*sqrt(1/7)*eta^2 + 7/4*sqrt(1/7)*xi^3 + 21*sqrt(1/7)*xi^2*eta + 105/2*sqrt(1/7)*xi*eta^2 + 35*sqrt(1/7)*eta^3,\n",
       " 15/8*sqrt(1/5) + (-15/2*sqrt(1/5))*xi + (-105/4*sqrt(1/5))*xi^2 + 35/2*sqrt(1/5)*xi^3 + 315/8*sqrt(1/5)*xi^4,\n",
       " -15/2*sqrt(1/15) + (-15/2*sqrt(1/15))*xi + (-15*sqrt(1/15))*eta + 315/4*sqrt(1/15)*xi^2 + 315/2*sqrt(1/15)*xi^3 + 315/2*sqrt(1/15)*xi^2*eta + 315/4*sqrt(1/15)*xi^4 + 315/2*sqrt(1/15)*xi^3*eta,\n",
       " 5/2 + 45/2*xi + 15*eta + 255/4*xi^2 + 90*xi*eta + 15*eta^2 + 115/2*xi^3 + 285/2*xi^2*eta + 75*xi*eta^2 + 45/4*xi^4 + 135/2*xi^3*eta + 135/2*xi^2*eta^2,\n",
       " 245/16*sqrt(1/35) + 315/2*sqrt(1/35)*xi + 735/4*sqrt(1/35)*eta + 315*sqrt(1/35)*xi^2 + 1575/2*sqrt(1/35)*xi*eta + 3675/8*sqrt(1/35)*eta^2 + 385/2*sqrt(1/35)*xi^3 + 1785/2*sqrt(1/35)*xi^2*eta + 1050*sqrt(1/35)*xi*eta^2 + 1225/4*sqrt(1/35)*eta^3 + 315/16*sqrt(1/35)*xi^4 + 945/4*sqrt(1/35)*xi^3*eta + 4725/8*sqrt(1/35)*xi^2*eta^2 + 1575/4*sqrt(1/35)*xi*eta^3,\n",
       " 15/16*sqrt(1/5) + 15*sqrt(1/5)*xi + 75/4*sqrt(1/5)*eta + 135/4*sqrt(1/5)*xi^2 + 225/2*sqrt(1/5)*xi*eta + 675/8*sqrt(1/5)*eta^2 + 15*sqrt(1/5)*xi^3 + 225/2*sqrt(1/5)*xi^2*eta + 225*sqrt(1/5)*xi*eta^2 + 525/4*sqrt(1/5)*eta^3 + 15/16*sqrt(1/5)*xi^4 + 75/4*sqrt(1/5)*xi^3*eta + 675/8*sqrt(1/5)*xi^2*eta^2 + 525/4*sqrt(1/5)*xi*eta^3 + 525/8*sqrt(1/5)*eta^4]"
      ]
     },
     "execution_count": 4,
     "metadata": {},
     "output_type": "execute_result"
    }
   ],
   "source": [
    "e_list"
   ]
  },
  {
   "cell_type": "code",
   "execution_count": 5,
   "metadata": {},
   "outputs": [],
   "source": [
    "m = []\n",
    "for poly in e_list:\n",
    "    coefficients = []\n",
    "    for degree in range(max_degree + 1):\n",
    "        for eta_degree in range(degree + 1):\n",
    "            xi_degree = degree - eta_degree\n",
    "            coefficients.append(poly.coefficient({xi: xi_degree, eta: eta_degree}))\n",
    "    m.append(coefficients)"
   ]
  },
  {
   "cell_type": "code",
   "execution_count": 6,
   "metadata": {},
   "outputs": [
    {
     "data": {
      "text/plain": [
       "[[1, 0, 0, 0, 0, 0, 0, 0, 0, 0, 0, 0, 0, 0, 0],\n",
       " [1/2*sqrt(2), 3/2*sqrt(2), 0, 0, 0, 0, 0, 0, 0, 0, 0, 0, 0, 0, 0],\n",
       " [3*sqrt(1/6), 3*sqrt(1/6), 6*sqrt(1/6), 0, 0, 0, 0, 0, 0, 0, 0, 0, 0, 0, 0],\n",
       " [-3/2*sqrt(1/3),\n",
       "  3*sqrt(1/3),\n",
       "  0,\n",
       "  15/2*sqrt(1/3),\n",
       "  0,\n",
       "  0,\n",
       "  0,\n",
       "  0,\n",
       "  0,\n",
       "  0,\n",
       "  0,\n",
       "  0,\n",
       "  0,\n",
       "  0,\n",
       "  0],\n",
       " [9/4, 6, 9/2, 15/4, 15/2, 0, 0, 0, 0, 0, 0, 0, 0, 0, 0],\n",
       " [15/4*sqrt(1/15),\n",
       "  15*sqrt(1/15),\n",
       "  45/2*sqrt(1/15),\n",
       "  15/4*sqrt(1/15),\n",
       "  45/2*sqrt(1/15),\n",
       "  45/2*sqrt(1/15),\n",
       "  0,\n",
       "  0,\n",
       "  0,\n",
       "  0,\n",
       "  0,\n",
       "  0,\n",
       "  0,\n",
       "  0,\n",
       "  0],\n",
       " [-3/4, -15/4, 0, 15/4, 0, 0, 35/4, 0, 0, 0, 0, 0, 0, 0, 0],\n",
       " [3/4*sqrt(1/3),\n",
       "  57/4*sqrt(1/3),\n",
       "  3/2*sqrt(1/3),\n",
       "  117/4*sqrt(1/3),\n",
       "  27*sqrt(1/3),\n",
       "  0,\n",
       "  63/4*sqrt(1/3),\n",
       "  63/2*sqrt(1/3),\n",
       "  0,\n",
       "  0,\n",
       "  0,\n",
       "  0,\n",
       "  0,\n",
       "  0,\n",
       "  0],\n",
       " [25/4*sqrt(1/5),\n",
       "  135/4*sqrt(1/5),\n",
       "  75/2*sqrt(1/5),\n",
       "  165/4*sqrt(1/5),\n",
       "  90*sqrt(1/5),\n",
       "  75/2*sqrt(1/5),\n",
       "  35/4*sqrt(1/5),\n",
       "  105/2*sqrt(1/5),\n",
       "  105/2*sqrt(1/5),\n",
       "  0,\n",
       "  0,\n",
       "  0,\n",
       "  0,\n",
       "  0,\n",
       "  0],\n",
       " [7/4*sqrt(1/7),\n",
       "  63/4*sqrt(1/7),\n",
       "  21*sqrt(1/7),\n",
       "  63/4*sqrt(1/7),\n",
       "  63*sqrt(1/7),\n",
       "  105/2*sqrt(1/7),\n",
       "  7/4*sqrt(1/7),\n",
       "  21*sqrt(1/7),\n",
       "  105/2*sqrt(1/7),\n",
       "  35*sqrt(1/7),\n",
       "  0,\n",
       "  0,\n",
       "  0,\n",
       "  0,\n",
       "  0],\n",
       " [15/8*sqrt(1/5),\n",
       "  -15/2*sqrt(1/5),\n",
       "  0,\n",
       "  -105/4*sqrt(1/5),\n",
       "  0,\n",
       "  0,\n",
       "  35/2*sqrt(1/5),\n",
       "  0,\n",
       "  0,\n",
       "  0,\n",
       "  315/8*sqrt(1/5),\n",
       "  0,\n",
       "  0,\n",
       "  0,\n",
       "  0],\n",
       " [-15/2*sqrt(1/15),\n",
       "  -15/2*sqrt(1/15),\n",
       "  -15*sqrt(1/15),\n",
       "  315/4*sqrt(1/15),\n",
       "  0,\n",
       "  0,\n",
       "  315/2*sqrt(1/15),\n",
       "  315/2*sqrt(1/15),\n",
       "  0,\n",
       "  0,\n",
       "  315/4*sqrt(1/15),\n",
       "  315/2*sqrt(1/15),\n",
       "  0,\n",
       "  0,\n",
       "  0],\n",
       " [5/2, 45/2, 15, 255/4, 90, 15, 115/2, 285/2, 75, 0, 45/4, 135/2, 135/2, 0, 0],\n",
       " [245/16*sqrt(1/35),\n",
       "  315/2*sqrt(1/35),\n",
       "  735/4*sqrt(1/35),\n",
       "  315*sqrt(1/35),\n",
       "  1575/2*sqrt(1/35),\n",
       "  3675/8*sqrt(1/35),\n",
       "  385/2*sqrt(1/35),\n",
       "  1785/2*sqrt(1/35),\n",
       "  1050*sqrt(1/35),\n",
       "  1225/4*sqrt(1/35),\n",
       "  315/16*sqrt(1/35),\n",
       "  945/4*sqrt(1/35),\n",
       "  4725/8*sqrt(1/35),\n",
       "  1575/4*sqrt(1/35),\n",
       "  0],\n",
       " [15/16*sqrt(1/5),\n",
       "  15*sqrt(1/5),\n",
       "  75/4*sqrt(1/5),\n",
       "  135/4*sqrt(1/5),\n",
       "  225/2*sqrt(1/5),\n",
       "  675/8*sqrt(1/5),\n",
       "  15*sqrt(1/5),\n",
       "  225/2*sqrt(1/5),\n",
       "  225*sqrt(1/5),\n",
       "  525/4*sqrt(1/5),\n",
       "  15/16*sqrt(1/5),\n",
       "  75/4*sqrt(1/5),\n",
       "  675/8*sqrt(1/5),\n",
       "  525/4*sqrt(1/5),\n",
       "  525/8*sqrt(1/5)]]"
      ]
     },
     "execution_count": 6,
     "metadata": {},
     "output_type": "execute_result"
    }
   ],
   "source": [
    "m"
   ]
  },
  {
   "cell_type": "code",
   "execution_count": 17,
   "metadata": {},
   "outputs": [],
   "source": [
    "mass_matrix = [[inner_product(e1, e2) for e1 in e_list] for e2 in e_list]"
   ]
  },
  {
   "cell_type": "code",
   "execution_count": 18,
   "metadata": {},
   "outputs": [
    {
     "data": {
      "text/plain": [
       "[[1, 0, 0, 0, 0, 0, 0, 0, 0, 0, 0, 0, 0, 0, 0],\n",
       " [0, 1, 0, 0, 0, 0, 0, 0, 0, 0, 0, 0, 0, 0, 0],\n",
       " [0, 0, 1, 0, 0, 0, 0, 0, 0, 0, 0, 0, 0, 0, 0],\n",
       " [0, 0, 0, 1, 0, 0, 0, 0, 0, 0, 0, 0, 0, 0, 0],\n",
       " [0, 0, 0, 0, 1, 0, 0, 0, 0, 0, 0, 0, 0, 0, 0],\n",
       " [0, 0, 0, 0, 0, 1, 0, 0, 0, 0, 0, 0, 0, 0, 0],\n",
       " [0, 0, 0, 0, 0, 0, 1, 0, 0, 0, 0, 0, 0, 0, 0],\n",
       " [0, 0, 0, 0, 0, 0, 0, 1, 0, 0, 0, 0, 0, 0, 0],\n",
       " [0, 0, 0, 0, 0, 0, 0, 0, 1, 0, 0, 0, 0, 0, 0],\n",
       " [0, 0, 0, 0, 0, 0, 0, 0, 0, 1, 0, 0, 0, 0, 0],\n",
       " [0, 0, 0, 0, 0, 0, 0, 0, 0, 0, 1, 0, 0, 0, 0],\n",
       " [0, 0, 0, 0, 0, 0, 0, 0, 0, 0, 0, 1, 0, 0, 0],\n",
       " [0, 0, 0, 0, 0, 0, 0, 0, 0, 0, 0, 0, 1, 0, 0],\n",
       " [0, 0, 0, 0, 0, 0, 0, 0, 0, 0, 0, 0, 0, 1, 0],\n",
       " [0, 0, 0, 0, 0, 0, 0, 0, 0, 0, 0, 0, 0, 0, 1]]"
      ]
     },
     "execution_count": 18,
     "metadata": {},
     "output_type": "execute_result"
    }
   ],
   "source": [
    "mass_matrix"
   ]
  },
  {
   "cell_type": "code",
   "execution_count": 8,
   "metadata": {},
   "outputs": [
    {
     "data": {
      "text/plain": [
       "[2.588284905106082,\n",
       " 26.62235902394827,\n",
       " 31.05941886127298,\n",
       " 53.24471804789654,\n",
       " 133.11179511974134,\n",
       " 77.64854715318245,\n",
       " 32.53843880704789,\n",
       " 150.8600344690402,\n",
       " 177.48239349298848,\n",
       " 51.76569810212164,\n",
       " 3.327794877993534,\n",
       " 39.9335385359224,\n",
       " 99.83384633980602,\n",
       " 66.55589755987067,\n",
       " 0.0]"
      ]
     },
     "execution_count": 8,
     "metadata": {},
     "output_type": "execute_result"
    }
   ],
   "source": [
    "[float(x) for x in m[13]]"
   ]
  },
  {
   "cell_type": "code",
   "execution_count": 9,
   "metadata": {},
   "outputs": [
    {
     "data": {
      "text/plain": [
       "[0.41926274578121053,\n",
       " 6.7082039324993685,\n",
       " 8.38525491562421,\n",
       " 15.09345884812358,\n",
       " 50.31152949374527,\n",
       " 37.73364712030895,\n",
       " 6.7082039324993685,\n",
       " 50.31152949374527,\n",
       " 100.62305898749054,\n",
       " 58.69678440936948,\n",
       " 0.41926274578121053,\n",
       " 8.38525491562421,\n",
       " 37.73364712030895,\n",
       " 58.69678440936948,\n",
       " 29.34839220468474]"
      ]
     },
     "execution_count": 9,
     "metadata": {},
     "output_type": "execute_result"
    }
   ],
   "source": [
    "[float(x) for x in m[14]]"
   ]
  },
  {
   "cell_type": "code",
   "execution_count": null,
   "metadata": {},
   "outputs": [],
   "source": [
    "    {1.0, 0.0, 0.0, 0.0, 0.0, 0.0, 0.0, 0.0, 0.0, 0.0, 0.0, 0.0, 0.0, 0.0, 0.0},\n",
    "    {0.0, 3.0*sq2, 0.0, 0.0, 0.0, 0.0, 0.0, 0.0, 0.0, 0.0, 0.0, 0.0, 0.0, 0.0, 0.0},\n",
    "    {0.0, sq2*sq3, 2.0*sq2*sq3, 0.0, 0.0, 0.0, 0.0, 0.0, 0.0, 0.0, 0.0, 0.0, 0.0, 0.0, 0.0},\n",
    "    {(5.0/21.0)*sq7, 8.0/sq7, 8.0/sq7, 60.0/sq7, 0.0, 0.0, 0.0, 0.0, 0.0, 0.0, 0.0, 0.0, 0.0, 0.0, 0.0},\n",
    "    {-10.0/9.0*(sq3/sq7), -2.0/(sq3*sq7), 4.0*sq3/sq7, 30.0*sq3/sq7, 5.0*sq3*sq7, 0.0, 0.0, 0.0, 0.0, 0.0, 0.0, 0.0, 0.0, 0.0, 0.0},\n",
    "    {-2.0/9.0*sq3*sq5, 2.0*sq5/sq3, 0, 6.0*sq3*sq5, sq3*sq5, 6.0*sq3*sq5, 0.0, 0.0, 0.0, 0.0, 0.0, 0.0, 0.0, 0.0, 0.0},\n",
    "    {-8.0*sq3*sq13/117.0, 20.0/(sq3*sq13), -20.0/(sq3*sq13), 20.0*sq3/sq13, 40.0*sq3/sq13, 0, 210.0*sq3/sq13, 0.0, 0.0, 0.0, 0.0, 0.0, 0.0, 0.0, 0.0},\n",
    "    {-8.0/351.0*sq3*sq5*sq13*sq19, -4.0/247.0*sq3*sq5*sq13*sq19, 4.0/247.0*sq3*sq5*sq13*sq19, (20.0/39.0)*sq3*sq5*sq13*sq19, (344.0/741.0)*sq3*sq5*sq13*sq19, (32.0/57.0)*sq3*sq5*sq13*sq19, (602.0/247.0)*sq3*sq5*sq13*sq19, (56.0/19.0)*sq3*sq5*sq13*sq19, 0.0, 0.0, 0.0, 0.0, 0.0, 0.0, 0.0},\n",
    "    {0.0, -52.0/(sq3*sq19), -(8.0/19.0)*sq3*sq19, (8.0/3.0)*sq3*sq19, -4.0/(sq3*sq19), 80.0/(sq3*sq19), (392.0/19.0)*sq3*sq19, (140.0/19.0)*sq3*sq19, 14.0*sq3*sq19, 0.0, 0.0, 0.0, 0.0, 0.0, 0.0},\n",
    "    {0.0, -(4.0/3.0)*sq7, -(8.0/3.0)*sq7, 8.0*sq7, 4.0*sq7, 0, 24.0*sq7, 60.0*sq7, 2.0*sq7, 40.0*sq7, 0.0, 0.0, 0.0, 0.0, 0.0},\n",
    "    {-(2.0/27.0)*sq5*sq7, -(26.0/21.0)*sq5*sq7, -(4.0/21.0)*sq5*sq7, -6.0*sq5*sq7, sq5*sq7, 0, 0, 0, 16.0*sq5*sq7, 0, 72.0*sq5*sq7, 0.0, 0.0, 0.0, 0.0},\n",
    "    {-(2.0/1053.0)*sq5*sq7*sq13*sq23, (314.0/6279.0)*sq5*sq7*sq13*sq23, -(544.0/6279.0)*sq5*sq7*sq13*sq23, -(2.0/13.0)*sq5*sq7*sq13*sq23, -(47.0/897.0)*sq5*sq7*sq13*sq23, (70.0/897.0)*sq5*sq7*sq13*sq23, 0.0, 0.0, -(752.0/897.0)*sq5*sq7*sq13*sq23, (1120.0/897.0)*sq5*sq7*sq13*sq23, -(1128.0/299.0)*sq5*sq7*sq13*sq23, (1680.0/299.0)*sq5*sq7*sq13*sq23, 0.0, 0.0, 0.0},\n",
    "    {(55.0/74763.0)*sq7*sq13*sq71, -(440.0/2769.0)*sq7*sq13*sq71, -(440.0/2769.0)*sq7*sq13*sq71, -(140.0/923.0)*sq7*sq13*sq71, -(160.0/2769.0)*sq7*sq13*sq71, -(160.0/2769.0)*sq7*sq13*sq71, (360.0/71.0)*sq7*sq13*sq71, (360.0/71.0)*sq7*sq13*sq71, (6800.0/2769.0)*sq7*sq13*sq71, (6800.0/2769.0)*sq7*sq13*sq71, (10200.0/923.0)*sq7*sq13*sq71, (10200.0/923.0)*sq7*sq13*sq71, (1620.0/71.0)*sq7*sq13*sq71, 0.0, 0.0},\n",
    "    {(2.0/639.0)*sq3*sq5*sq23*sq71, (4.0/14697.0)*sq3*sq5*sq23*sq71, -(280.0/14697.0)*sq3*sq5*sq23*sq71, -(20.0/71.0)*sq3*sq5*sq23*sq71, -(466.0/1633.0)*sq3*sq5*sq23*sq71, -(40.0/1633.0)*sq3*sq5*sq23*sq71, (60.0/71.0)*sq3*sq5*sq23*sq71, (60.0/sq71)*sq3*sq5*sq23, -(4.0/1633.0)*sq3*sq5*sq23*sq71, (280.0/1633.0)*sq3*sq5*sq23*sq71, (9780.0/1633.0)*sq3*sq5*sq23*sq71, (1260.0/1633.0)*sq3*sq5*sq23*sq71, (270.0/sq71)*sq3*sq5*sq23, 3.0*sq3*sq5*sq23*sq71, 0.0},\n",
    "    {(2.0/9.0)*sq5, -(4.0/3.0)*sq5, 0.0, -20.0*sq5, -2.0*sq5, -20.0*sq5, 60.0*sq5, 60.0*sq5, 12.0*sq5, 0.0, 60.0*sq5, 420.0*sq5, 270.0*sq5, 3.0*sq5, 210.0*sq5}\n"
   ]
  }
 ],
 "metadata": {
  "kernelspec": {
   "display_name": "SageMath 9.0",
   "language": "sage",
   "name": "sagemath"
  },
  "language_info": {
   "codemirror_mode": {
    "name": "ipython",
    "version": 3
   },
   "file_extension": ".py",
   "mimetype": "text/x-python",
   "name": "python",
   "nbconvert_exporter": "python",
   "pygments_lexer": "ipython3",
   "version": "3.6.10"
  }
 },
 "nbformat": 4,
 "nbformat_minor": 2
}
