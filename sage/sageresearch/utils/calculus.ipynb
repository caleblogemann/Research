{
 "cells": [
  {
   "cell_type": "code",
   "execution_count": 82,
   "metadata": {},
   "outputs": [],
   "source": [
    "from sageresearch.utils import symbolic_vector_matrix as svm\n",
    "# Multidimensional chain rule\n",
    "x = SR.symbol('x')\n",
    "y = SR.symbol('y')\n",
    "x_vec = vector([x, y])\n",
    "xi = SR.symbol('xi')\n",
    "eta = SR.symbol('eta')\n",
    "xi_vec = vector([xi, eta])\n",
    "b_1 = 1 * xi + 2 * eta + 3\n",
    "b_2 = 4 * xi + 5 * eta + 6\n",
    "b_vec = vector([b_1, b_2])\n",
    "b_j = jacobian(b_vec, xi_vec)\n",
    "dict_b = {x: b_1, y: b_2}\n",
    "sol = solve([x == b_1, y == b_2], [xi, eta], solution_dict=True)\n",
    "c_1 = xi.subs(sol)\n",
    "c_2 = eta.subs(sol)\n",
    "c_vec = vector([c_1, c_2])\n",
    "c_j = jacobian(c_vec, x_vec)\n",
    "assert c_j * b_j == matrix.identity(2)\n",
    "assert b_j * c_j == matrix.identity(2)\n",
    "dict_c = {xi: c_1, eta: c_2}\n",
    "phi_i = x^2 * y + y^3 / x\n",
    "phi = phi_i.subs(dict_b)\n",
    "\n",
    "# grad_x \\phi_i(x) = grad_xi \\phi_i(b_i(xi)) (b_i'(xi))^{-1} = grad_xi \\phi(xi) (b_i'(xi))^{-1}, when x = b_i(xi)\n",
    "grad_phi_i = phi_i.gradient(x_vec).subs(dict_b)\n",
    "grad_phi = phi.gradient(xi_vec)\n",
    "assert grad_phi_i * b_j == grad_phi\n",
    "assert grad_phi_i == grad_phi * c_j\n",
    "\n",
    "# phi_i(x)_x = phi(xi)_{xi} c_1_x + phi(xi)_{eta} c_2_x = phi(xi)_{xi} c_j[0, 0] + phi(xi)_{eta} c_j[1, 0]\n",
    "phi_i_x = phi_i.diff(x).subs(dict_b)\n",
    "phi_i_y = phi_i.diff(y).subs(dict_b)\n",
    "phi_xi = phi.diff(xi)\n",
    "phi_eta = phi.diff(eta)\n",
    "assert phi_i_x == phi_xi * c_j[0, 0] + phi_eta * c_j[1, 0]\n",
    "assert phi_i_y == phi_xi * c_j[0, 1] + phi_eta * c_j[1, 1]"
   ]
  },
  {
   "cell_type": "code",
   "execution_count": 66,
   "metadata": {},
   "outputs": [
    {
     "data": {
      "text/plain": [
       "(0, 0)"
      ]
     },
     "execution_count": 66,
     "metadata": {},
     "output_type": "execute_result"
    }
   ],
   "source": [
    "grad_phi_i * b_j - grad_phi"
   ]
  },
  {
   "cell_type": "code",
   "execution_count": 70,
   "metadata": {},
   "outputs": [
    {
     "data": {
      "text/plain": [
       "(2*(5*eta + 4*xi + 6)*(2*eta + xi + 3) + 4*(2*eta + xi + 3)^2 - (5*eta + 4*xi + 6)^3/(2*eta + xi + 3)^2 + 12*(5*eta + 4*xi + 6)^2/(2*eta + xi + 3), 4*(5*eta + 4*xi + 6)*(2*eta + xi + 3) + 5*(2*eta + xi + 3)^2 - 2*(5*eta + 4*xi + 6)^3/(2*eta + xi + 3)^2 + 15*(5*eta + 4*xi + 6)^2/(2*eta + xi + 3))"
      ]
     },
     "execution_count": 70,
     "metadata": {},
     "output_type": "execute_result"
    }
   ],
   "source": [
    "grad_phi"
   ]
  },
  {
   "cell_type": "code",
   "execution_count": 71,
   "metadata": {},
   "outputs": [
    {
     "data": {
      "text/plain": [
       "[-5/3  2/3]\n",
       "[ 4/3 -1/3]"
      ]
     },
     "execution_count": 71,
     "metadata": {},
     "output_type": "execute_result"
    }
   ],
   "source": [
    "c_j"
   ]
  },
  {
   "cell_type": "code",
   "execution_count": 74,
   "metadata": {},
   "outputs": [
    {
     "data": {
      "text/plain": [
       "(2*eta + xi + 3)^2 + 3*(5*eta + 4*xi + 6)^2/(2*eta + xi + 3)"
      ]
     },
     "execution_count": 74,
     "metadata": {},
     "output_type": "execute_result"
    }
   ],
   "source": [
    "(grad_phi * c_j)[1]"
   ]
  },
  {
   "cell_type": "code",
   "execution_count": 75,
   "metadata": {},
   "outputs": [
    {
     "data": {
      "text/plain": [
       "(2*eta + xi + 3)^2 + 3*(5*eta + 4*xi + 6)^2/(2*eta + xi + 3)"
      ]
     },
     "execution_count": 75,
     "metadata": {},
     "output_type": "execute_result"
    }
   ],
   "source": [
    "grad_phi[0] * c_j[0, 1] + grad_phi[1] * c_j[1, 1]"
   ]
  },
  {
   "cell_type": "code",
   "execution_count": 69,
   "metadata": {},
   "outputs": [
    {
     "data": {
      "text/plain": [
       "(0, 0)"
      ]
     },
     "execution_count": 69,
     "metadata": {},
     "output_type": "execute_result"
    }
   ],
   "source": [
    "(grad_phi * c_j - grad_phi_i).simplify_full()"
   ]
  },
  {
   "cell_type": "code",
   "execution_count": 48,
   "metadata": {},
   "outputs": [
    {
     "data": {
      "text/plain": [
       "[1 0]\n",
       "[0 1]"
      ]
     },
     "execution_count": 48,
     "metadata": {},
     "output_type": "execute_result"
    }
   ],
   "source": [
    "c_j * b_j"
   ]
  },
  {
   "cell_type": "code",
   "execution_count": 39,
   "metadata": {},
   "outputs": [
    {
     "data": {
      "text/plain": [
       "(-7/3*(3*eta + 2*xi + 1)^2 + 4/3*(3*eta + 2*xi + 1)*(2*eta + 3*xi + 2) - 7*(2*eta + 3*xi + 2)^2/(3*eta + 2*xi + 1) - 2/3*(2*eta + 3*xi + 2)^3/(3*eta + 2*xi + 1)^2, 4/3*(3*eta + 2*xi + 1)^2 + 2/3*(3*eta + 2*xi + 1)*(2*eta + 3*xi + 2) + 4*(2*eta + 3*xi + 2)^2/(3*eta + 2*xi + 1) - 1/3*(2*eta + 3*xi + 2)^3/(3*eta + 2*xi + 1)^2)"
      ]
     },
     "execution_count": 39,
     "metadata": {},
     "output_type": "execute_result"
    }
   ],
   "source": [
    "grad_phi * b_j.inverse()"
   ]
  },
  {
   "cell_type": "code",
   "execution_count": 37,
   "metadata": {},
   "outputs": [
    {
     "data": {
      "text/plain": [
       "[1 2]\n",
       "[4 5]"
      ]
     },
     "execution_count": 37,
     "metadata": {},
     "output_type": "execute_result"
    }
   ],
   "source": [
    "b_j"
   ]
  },
  {
   "cell_type": "code",
   "execution_count": null,
   "metadata": {},
   "outputs": [],
   "source": []
  }
 ],
 "metadata": {
  "kernelspec": {
   "display_name": "SageMath 9.0",
   "language": "sage",
   "name": "sagemath"
  },
  "language_info": {
   "codemirror_mode": {
    "name": "ipython",
    "version": 3
   },
   "file_extension": ".py",
   "mimetype": "text/x-python",
   "name": "python",
   "nbconvert_exporter": "python",
   "pygments_lexer": "ipython3",
   "version": "3.6.10"
  }
 },
 "nbformat": 4,
 "nbformat_minor": 2
}
