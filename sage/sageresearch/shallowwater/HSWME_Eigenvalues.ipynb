{
 "cells": [
  {
   "cell_type": "markdown",
   "metadata": {},
   "source": [
    "# Hyperbolic Shallow Water Moment Equations Eigenvalues"
   ]
  },
  {
   "cell_type": "markdown",
   "metadata": {},
   "source": [
    "The Hyperbolic Shallow Water Moment Equations (HSWME) area hyperbolic modification of the shallow water moment equations. They have analytic eigenvalues given in the paper by Koellermeier. This notebook verifies and explores those eigenvalues further."
   ]
  },
  {
   "cell_type": "code",
   "execution_count": 1,
   "metadata": {},
   "outputs": [],
   "source": [
    "import sageresearch.shallowwater.hyperbolic_shallow_water_moment_equations as hswme\n",
    "import sageresearch.shallowwater.shallow_water_moment_equations as swme\n",
    "import sageresearch.utils.symbolic_vector_matrix as svm"
   ]
  },
  {
   "cell_type": "code",
   "execution_count": 2,
   "metadata": {},
   "outputs": [
    {
     "data": {
      "text/plain": [
       "[u + sqrt(e_z*g*h), u - sqrt(e_z*g*h)]"
      ]
     },
     "execution_count": 2,
     "metadata": {},
     "output_type": "execute_result"
    }
   ],
   "source": [
    "num_moments = 0\n",
    "A = hswme.get_hswme_equations(num_moments)\n",
    "hswme.get_hswme_eigenvalues(num_moments)"
   ]
  },
  {
   "cell_type": "code",
   "execution_count": 2,
   "metadata": {},
   "outputs": [
    {
     "data": {
      "text/plain": [
       "[u + sqrt(e_z*g*h + alpha_1^2), u - sqrt(e_z*g*h + alpha_1^2), u]"
      ]
     },
     "execution_count": 2,
     "metadata": {},
     "output_type": "execute_result"
    }
   ],
   "source": [
    "num_moments = 1\n",
    "A = hswme.get_hswme_equations(num_moments)\n",
    "hswme.get_hswme_eigenvalues(num_moments)"
   ]
  },
  {
   "cell_type": "code",
   "execution_count": 2,
   "metadata": {},
   "outputs": [
    {
     "data": {
      "text/plain": [
       "[u + sqrt(e_z*g*h + alpha_1^2),\n",
       " u - sqrt(e_z*g*h + alpha_1^2),\n",
       " -1/5*sqrt(5)*alpha_1 + u,\n",
       " 1/5*sqrt(5)*alpha_1 + u]"
      ]
     },
     "execution_count": 2,
     "metadata": {},
     "output_type": "execute_result"
    }
   ],
   "source": [
    "num_moments = 2\n",
    "A = hswme.get_hswme_equations(num_moments)\n",
    "hswme.get_hswme_eigenvalues(num_moments)"
   ]
  },
  {
   "cell_type": "code",
   "execution_count": 3,
   "metadata": {},
   "outputs": [
    {
     "data": {
      "text/plain": [
       "[u + sqrt(e_z*g*h + alpha_1^2),\n",
       " u - sqrt(e_z*g*h + alpha_1^2),\n",
       " -1/7*sqrt(7)*sqrt(3)*alpha_1 + u,\n",
       " 1/7*sqrt(7)*sqrt(3)*alpha_1 + u,\n",
       " u]"
      ]
     },
     "execution_count": 3,
     "metadata": {},
     "output_type": "execute_result"
    }
   ],
   "source": [
    "num_moments = 3\n",
    "A = hswme.get_hswme_equations(num_moments)\n",
    "hswme.get_hswme_eigenvalues(num_moments)"
   ]
  },
  {
   "cell_type": "code",
   "execution_count": 4,
   "metadata": {},
   "outputs": [
    {
     "data": {
      "text/plain": [
       "[u + sqrt(e_z*g*h + alpha_1^2),\n",
       " u - sqrt(e_z*g*h + alpha_1^2),\n",
       " -alpha_1*sqrt(2/21*sqrt(7) + 1/3) + u,\n",
       " alpha_1*sqrt(2/21*sqrt(7) + 1/3) + u,\n",
       " -alpha_1*sqrt(-2/21*sqrt(7) + 1/3) + u,\n",
       " alpha_1*sqrt(-2/21*sqrt(7) + 1/3) + u]"
      ]
     },
     "execution_count": 4,
     "metadata": {},
     "output_type": "execute_result"
    }
   ],
   "source": [
    "num_moments = 4\n",
    "A = hswme.get_hswme_equations(num_moments)\n",
    "hswme.get_hswme_eigenvalues(num_moments)"
   ]
  },
  {
   "cell_type": "code",
   "execution_count": 5,
   "metadata": {},
   "outputs": [
    {
     "data": {
      "text/plain": [
       "[u + sqrt(e_z*g*h + alpha_1^2),\n",
       " u - sqrt(e_z*g*h + alpha_1^2),\n",
       " -alpha_1*sqrt(2/33*sqrt(15) + 5/11) + u,\n",
       " alpha_1*sqrt(2/33*sqrt(15) + 5/11) + u,\n",
       " -alpha_1*sqrt(-2/33*sqrt(15) + 5/11) + u,\n",
       " alpha_1*sqrt(-2/33*sqrt(15) + 5/11) + u,\n",
       " u]"
      ]
     },
     "execution_count": 5,
     "metadata": {},
     "output_type": "execute_result"
    }
   ],
   "source": [
    "num_moments = 5\n",
    "A = hswme.get_hswme_equations(num_moments)\n",
    "hswme.get_hswme_eigenvalues(num_moments)"
   ]
  },
  {
   "cell_type": "code",
   "execution_count": 2,
   "metadata": {},
   "outputs": [
    {
     "data": {
      "text/plain": [
       "[u + sqrt(e_z*g*h + alpha_1^2),\n",
       " u - sqrt(e_z*g*h + alpha_1^2),\n",
       " -1/4719*sqrt(39)*sqrt(11)*alpha_1*sqrt(363^(1/3)*(5*363^(2/3)*11^(5/6)*(2080*I*sqrt(11) + 1760)^(1/3) + 363^(1/3)*11^(5/6)*(2080*I*sqrt(11) + 1760)^(2/3) + 2640*11^(5/6))/(160*sqrt(11) + 2080*I)^(1/3)) + u,\n",
       " 1/4719*sqrt(39)*sqrt(11)*alpha_1*sqrt(363^(1/3)*(5*363^(2/3)*11^(5/6)*(2080*I*sqrt(11) + 1760)^(1/3) + 363^(1/3)*11^(5/6)*(2080*I*sqrt(11) + 1760)^(2/3) + 2640*11^(5/6))/(160*sqrt(11) + 2080*I)^(1/3)) + u,\n",
       " -1/9438*sqrt(39)*sqrt(11)*sqrt(2)*alpha_1*sqrt(363^(1/3)*(10*363^(2/3)*11^(5/6)*(2080*I*sqrt(11) + 1760)^(1/3) + (I*363^(1/3)*11^(5/6)*sqrt(3) - 363^(1/3)*11^(5/6))*(2080*I*sqrt(11) + 1760)^(2/3) - 2640*I*11^(5/6)*sqrt(3) - 2640*11^(5/6))/(160*sqrt(11) + 2080*I)^(1/3)) + u,\n",
       " 1/9438*sqrt(39)*sqrt(11)*sqrt(2)*alpha_1*sqrt(363^(1/3)*(10*363^(2/3)*11^(5/6)*(2080*I*sqrt(11) + 1760)^(1/3) + (I*363^(1/3)*11^(5/6)*sqrt(3) - 363^(1/3)*11^(5/6))*(2080*I*sqrt(11) + 1760)^(2/3) - 2640*I*11^(5/6)*sqrt(3) - 2640*11^(5/6))/(160*sqrt(11) + 2080*I)^(1/3)) + u,\n",
       " -1/9438*sqrt(39)*sqrt(11)*sqrt(2)*alpha_1*sqrt(363^(1/3)*(10*363^(2/3)*11^(5/6)*(2080*I*sqrt(11) + 1760)^(1/3) - (I*363^(1/3)*11^(5/6)*sqrt(3) + 363^(1/3)*11^(5/6))*(2080*I*sqrt(11) + 1760)^(2/3) + 2640*I*11^(5/6)*sqrt(3) - 2640*11^(5/6))/(160*sqrt(11) + 2080*I)^(1/3)) + u,\n",
       " 1/9438*sqrt(39)*sqrt(11)*sqrt(2)*alpha_1*sqrt(363^(1/3)*(10*363^(2/3)*11^(5/6)*(2080*I*sqrt(11) + 1760)^(1/3) - (I*363^(1/3)*11^(5/6)*sqrt(3) + 363^(1/3)*11^(5/6))*(2080*I*sqrt(11) + 1760)^(2/3) + 2640*I*11^(5/6)*sqrt(3) - 2640*11^(5/6))/(160*sqrt(11) + 2080*I)^(1/3)) + u]"
      ]
     },
     "execution_count": 2,
     "metadata": {},
     "output_type": "execute_result"
    }
   ],
   "source": [
    "num_moments = 6\n",
    "A = hswme.get_hswme_equations(num_moments)\n",
    "hswme.get_hswme_eigenvalues(num_moments)"
   ]
  },
  {
   "cell_type": "code",
   "execution_count": 5,
   "metadata": {},
   "outputs": [],
   "source": [
    "A_2 = matrix(SR, num_moments)\n",
    "for i in range(num_moments - 1):\n",
    "    A_2[i, i + 1] = Integer(i + 3) / Integer(2 * i + 5)\n",
    "    A_2[i + 1, i] = Integer(i + 1) / Integer(2 * i + 3)"
   ]
  },
  {
   "cell_type": "code",
   "execution_count": 14,
   "metadata": {},
   "outputs": [
    {
     "data": {
      "text/plain": [
       "array([-0.87174015, -0.59170018, -0.20929922,  0.87174015,  0.20929922,\n",
       "        0.59170018])"
      ]
     },
     "execution_count": 14,
     "metadata": {},
     "output_type": "execute_result"
    }
   ],
   "source": [
    "import numpy as np\n",
    "test = A_2.numpy(dtype=float)\n",
    "np.linalg.eigvals(test)"
   ]
  },
  {
   "cell_type": "markdown",
   "metadata": {},
   "source": [
    "## Characteristic Polynomial of Hyperbolic Shallow Water Moment Equations"
   ]
  },
  {
   "cell_type": "markdown",
   "metadata": {},
   "source": [
    "In appendix B of Koellermeier's paper, he present a proof of the characteristic polynomial of A. This is trying to replicate his work"
   ]
  },
  {
   "cell_type": "code",
   "execution_count": 61,
   "metadata": {},
   "outputs": [],
   "source": [
    "num_moments = 4\n",
    "num_eqns = num_moments + 2\n",
    "A = hswme.get_hswme_equations(num_moments)\n",
    "p = swme.get_primitive_variables_1d(num_moments)\n",
    "h = p[0]\n",
    "u = p[1]\n",
    "alpha_1 = p[2]\n",
    "d = svm.get_vector_variable(\"d\", 6)\n",
    "a = svm.get_vector_variable(\"a\", num_moments + 1)\n",
    "c = svm.get_vector_variable(\"c\", num_moments + 1)\n",
    "dict_d = {d[1]: A[1, 0], d[2]: A[1, 2], d[3]: A[2, 0], d[4]: A[2, 1], d[5]: A[3, 0]}\n",
    "dict_a = {a[2 + i]: (i + 1)/(2*i + 3) * alpha_1 for i in range(num_moments - 1)}\n",
    "dict_c = {c[2 + i]: (i + 3)/(2*i + 5) * alpha_1 for i in range(num_moments - 1)}\n",
    "\n",
    "lambda_ = SR.symbol(\"lambda_\")\n",
    "lambda_t = SR.symbol(\"lambda_t\")\n",
    "dict_l = {lambda_t: lambda_ - u}\n",
    "\n",
    "subs_dict = dict_d.copy()\n",
    "subs_dict.update(dict_a)\n",
    "subs_dict.update(dict_c)\n",
    "subs_dict.update(dict_l)\n",
    "\n",
    "A_t = A - u * matrix.identity(num_eqns)\n",
    "A_t[1, 0] = d[1]\n",
    "A_t[1, 2] = d[2]\n",
    "A_t[2, 0] = d[3]\n",
    "A_t[2, 1] = d[4]\n",
    "A_t[3, 0] = d[5]\n",
    "for i in range(num_moments - 1):\n",
    "    A_t[i + 2, i + 3] = c[i + 2]\n",
    "    A_t[i + 3, i + 2] = a[i + 2]"
   ]
  },
  {
   "cell_type": "code",
   "execution_count": 62,
   "metadata": {},
   "outputs": [
    {
     "data": {
      "text/plain": [
       "{d_1: e_z*g*h - 1/3*alpha_1^2 - u^2,\n",
       " d_2: 2/3*alpha_1,\n",
       " d_3: -2*alpha_1*u,\n",
       " d_4: 2*alpha_1,\n",
       " d_5: -2/3*alpha_1^2,\n",
       " a_2: 1/3*alpha_1,\n",
       " a_3: 2/5*alpha_1,\n",
       " a_4: 3/7*alpha_1,\n",
       " c_2: 3/5*alpha_1,\n",
       " c_3: 4/7*alpha_1,\n",
       " c_4: 5/9*alpha_1,\n",
       " lambda_t: lambda_ - u}"
      ]
     },
     "execution_count": 62,
     "metadata": {},
     "output_type": "execute_result"
    }
   ],
   "source": [
    "subs_dict"
   ]
  },
  {
   "cell_type": "code",
   "execution_count": 76,
   "metadata": {},
   "outputs": [],
   "source": [
    "B0 = A_t - lambda_t * matrix.identity(num_eqns)\n",
    "det0 = B0.det()"
   ]
  },
  {
   "cell_type": "code",
   "execution_count": 71,
   "metadata": {},
   "outputs": [],
   "source": [
    "B10 = B0.submatrix(1, 1)\n",
    "B11 = B0.matrix_from_rows_and_columns(range(1,num_eqns), [0] + list(range(2, num_eqns)))\n",
    "det1 = (-lambda_t - u) * B10.det() - B11.det()\n",
    "assert (det0 - det1).full_simplify() == 0"
   ]
  },
  {
   "cell_type": "code",
   "execution_count": 94,
   "metadata": {},
   "outputs": [],
   "source": [
    "B20 = B10.submatrix(1, 1)\n",
    "B21 = B10.matrix_from_rows_and_columns(range(1,num_eqns-1), [0] + list(range(2, num_eqns-1)))\n",
    "B22 = B11.submatrix(1, 1)\n",
    "B23 = B11.matrix_from_rows_and_columns(range(1,num_eqns-1), [0] + list(range(2, num_eqns-1)))\n",
    "det2 = (-lambda_t - u)*(B10[0, 0] * B20.det() - B10[0, 1] * B21.det()) - B11[0, 0] * B22.det() + B11[0, 1] * B23.det()\n",
    "assert (det0 - det2).full_simplify() == 0\n",
    "assert (det1 - det2).full_simplify() == 0"
   ]
  },
  {
   "cell_type": "code",
   "execution_count": 108,
   "metadata": {},
   "outputs": [],
   "source": [
    "A2 = B20 # = B22\n",
    "B30 = B21.submatrix(1, 1)\n",
    "A3 = B30 # = B31\n",
    "B31 = B23.submatrix(1, 1)\n",
    "B32 = B23.matrix_from_rows_and_columns(range(1,num_eqns-2), [0] + list(range(2, num_eqns-2)))\n",
    "det3 = ((-lambda_t - u)* B10[0, 0] - B11[0, 0]) * B20.det() - (-lambda_t - u) * B10[0, 1] * B21[0, 0] * B30.det() + B11[0, 1] * (B23[0, 0] * B31.det() - B23[0, 1] * B32.det())\n",
    "assert (det3 - det0).full_simplify() == 0\n",
    "assert (det3 - det1).full_simplify() == 0\n",
    "assert (det3 - det2).full_simplify() == 0"
   ]
  },
  {
   "cell_type": "code",
   "execution_count": 134,
   "metadata": {},
   "outputs": [],
   "source": [
    "B40 = B32.submatrix(1, 1)\n",
    "A4 = B40\n",
    "det4 = (lambda_t^2 - u^2 - d[1]) * B20.det() - (-lambda_t - u) * d[2] * d[4] * A3.det() + d[2] * (d[3] * A3.det() - c[2] * d[5] * A4.det())\n",
    "assert (det4 - det0).full_simplify() == 0\n",
    "assert (det4 - det1).full_simplify() == 0\n",
    "assert (det4 - det2).full_simplify() == 0\n",
    "assert (det4 - det3).full_simplify() == 0"
   ]
  },
  {
   "cell_type": "code",
   "execution_count": 150,
   "metadata": {},
   "outputs": [],
   "source": [
    "det5 = (lambda_t^2 - u^2 - d[1]) * A2.det() + ((lambda_t + u) * d[2] * d[4] + d[2] * d[3]) * A3.det() - d[2] * c[2] * d[5] * A4.det()"
   ]
  },
  {
   "cell_type": "code",
   "execution_count": 152,
   "metadata": {},
   "outputs": [],
   "source": [
    "assert A4.det() == -1/(a[2] * c[2]) * (A2.det() + lambda_t * A3.det())\n",
    "det6 = (lambda_t^2 - u^2 - d[1] + d[2] * d[5] / a[2]) * A2.det() + ((lambda_t + u) * d[2] * d[4] + d[2] * d[3] + lambda_t * d[2] * d[5] / a[2]) * A3.det()\n",
    "assert (det6 - det0).full_simplify() == 0"
   ]
  },
  {
   "cell_type": "code",
   "execution_count": 179,
   "metadata": {},
   "outputs": [],
   "source": [
    "coeff_1 = (lambda_t^2 - u^2 - d[1] + d[2] * d[5] / a[2]).subs(subs_dict)\n",
    "coeff_2 = ((lambda_t + u) * d[2] * d[4] + d[2] * d[3] + lambda_t * d[2] * d[5] / a[2]).subs(subs_dict).full_simplify()\n",
    "assert coeff_2 == 0\n",
    "det7 = coeff_1 * A2.det()\n",
    "assert (det7 - det0).subs(subs_dict).full_simplify() == 0"
   ]
  },
  {
   "cell_type": "code",
   "execution_count": 184,
   "metadata": {},
   "outputs": [
    {
     "data": {
      "text/plain": [
       "-e_z*g*h - alpha_1^2 + (lambda_ - u)^2"
      ]
     },
     "execution_count": 184,
     "metadata": {},
     "output_type": "execute_result"
    }
   ],
   "source": [
    "coeff_1"
   ]
  },
  {
   "cell_type": "code",
   "execution_count": 193,
   "metadata": {},
   "outputs": [
    {
     "data": {
      "text/plain": [
       "{c_2: 3/5*alpha_1, c_3: 4/7*alpha_1, c_4: 5/9*alpha_1}"
      ]
     },
     "execution_count": 193,
     "metadata": {},
     "output_type": "execute_result"
    }
   ],
   "source": [
    "dict_c"
   ]
  },
  {
   "cell_type": "code",
   "execution_count": 192,
   "metadata": {},
   "outputs": [
    {
     "data": {
      "text/plain": [
       "[-lambda_t       c_2         0         0]\n",
       "[      a_2 -lambda_t       c_3         0]\n",
       "[        0       a_3 -lambda_t       c_4]\n",
       "[        0         0       a_4 -lambda_t]"
      ]
     },
     "execution_count": 192,
     "metadata": {},
     "output_type": "execute_result"
    }
   ],
   "source": [
    "A2"
   ]
  },
  {
   "cell_type": "code",
   "execution_count": null,
   "metadata": {},
   "outputs": [],
   "source": []
  }
 ],
 "metadata": {
  "kernelspec": {
   "display_name": "SageMath 9.0",
   "language": "sage",
   "name": "sagemath"
  },
  "language_info": {
   "codemirror_mode": {
    "name": "ipython",
    "version": 3
   },
   "file_extension": ".py",
   "mimetype": "text/x-python",
   "name": "python",
   "nbconvert_exporter": "python",
   "pygments_lexer": "ipython3",
   "version": "3.6.10"
  }
 },
 "nbformat": 4,
 "nbformat_minor": 2
}
