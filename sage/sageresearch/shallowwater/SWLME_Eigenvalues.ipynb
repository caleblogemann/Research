{
 "cells": [
  {
   "cell_type": "markdown",
   "metadata": {},
   "source": [
    "# Shallow Water Linearized Moment Equations Eigenvalues"
   ]
  },
  {
   "cell_type": "markdown",
   "metadata": {},
   "source": [
    "This notebook is examining the eigenvalues of the shallow water linearized moment equations in 1 and 2 dimensions"
   ]
  },
  {
   "cell_type": "code",
   "execution_count": 1,
   "metadata": {},
   "outputs": [],
   "source": [
    "import sageresearch.shallowwater.shallow_water_linearized_moment_equations as swlme\n",
    "import sageresearch.shallowwater.shallow_water_moment_equations as swme\n",
    "import sageresearch.utils.symbolic_vector_matrix as svm"
   ]
  },
  {
   "cell_type": "code",
   "execution_count": 50,
   "metadata": {},
   "outputs": [
    {
     "name": "stdout",
     "output_type": "stream",
     "text": [
      "n_1*u + n_2*v - sqrt(2*alpha_1*beta_1*n_1*n_2 + (e_z*g*h + alpha_1^2)*n_1^2 + (e_z*g*h + beta_1^2)*n_2^2)\n",
      "n_1*u + n_2*v + sqrt(2*alpha_1*beta_1*n_1*n_2 + (e_z*g*h + alpha_1^2)*n_1^2 + (e_z*g*h + beta_1^2)*n_2^2)\n",
      "n_1*u + n_2*v\n",
      "-1/3*sqrt(3)*alpha_1*n_1 - 1/3*sqrt(3)*beta_1*n_2 + n_1*u + n_2*v\n",
      "1/3*sqrt(3)*alpha_1*n_1 + 1/3*sqrt(3)*beta_1*n_2 + n_1*u + n_2*v\n"
     ]
    }
   ],
   "source": [
    "num_moments = 1\n",
    "tuple_ = swlme.get_swlme_equations_2d(num_moments)\n",
    "A_x = tuple_[4]\n",
    "A_y = tuple_[5]\n",
    "n = svm.get_vector_variable('n', 3)\n",
    "eig = (n[1] * A_x + n[2] * A_y).eigenvectors_right()\n",
    "eigenvalues = vector([e[0].simplify_full() for e in eig])\n",
    "eigenvectors = [e[1][0] for e in eig]\n",
    "for e in eigenvalues:\n",
    "    print(e)\n",
    "\n",
    "#print(eigenvectors)"
   ]
  },
  {
   "cell_type": "code",
   "execution_count": 51,
   "metadata": {},
   "outputs": [
    {
     "data": {
      "text/plain": [
       "[(1, u, v, -1/2*((3*alpha_1*e_z*g*h - alpha_1^3)*n_1^2 + 2*(3*beta_1*e_z*g*h - alpha_1^2*beta_1)*n_1*n_2 - (3*alpha_1*e_z*g*h + alpha_1*beta_1^2)*n_2^2)/(alpha_1^2*n_1^2 + 2*alpha_1*beta_1*n_1*n_2 + beta_1^2*n_2^2), 1/2*((3*beta_1*e_z*g*h + alpha_1^2*beta_1)*n_1^2 - 2*(3*alpha_1*e_z*g*h - alpha_1*beta_1^2)*n_1*n_2 - (3*beta_1*e_z*g*h - beta_1^3)*n_2^2)/(alpha_1^2*n_1^2 + 2*alpha_1*beta_1*n_1*n_2 + beta_1^2*n_2^2))]"
      ]
     },
     "execution_count": 51,
     "metadata": {},
     "output_type": "execute_result"
    }
   ],
   "source": [
    "eig[2][1]"
   ]
  },
  {
   "cell_type": "markdown",
   "metadata": {},
   "source": [
    "## Characteristic Polynomial of SWLME in 2D"
   ]
  },
  {
   "cell_type": "code",
   "execution_count": 52,
   "metadata": {},
   "outputs": [],
   "source": [
    "num_moments = 3\n",
    "N = num_moments\n",
    "num_eqns = 2 * num_moments + 3\n",
    "N_e = num_eqns\n",
    "tuple_ = swlme.get_swlme_equations_2d(num_moments)\n",
    "Q_x = tuple_[4]\n",
    "Q_y = tuple_[5]\n",
    "n = svm.get_vector_variable('n', 3)\n",
    "Q = n[1] * Q_x + n[2] * Q_y\n",
    "p = swme.get_primitive_variables_2d(num_moments)\n",
    "h = p[0]\n",
    "u = p[1]\n",
    "v = p[2]\n",
    "alpha = vector([0] + list(p[3::2]))\n",
    "beta = vector([0] + list(p[4::2]))\n",
    "\n",
    "tuple_ = swme.get_misc_variables()\n",
    "g = tuple_[0]\n",
    "e_z = tuple_[3]\n",
    "\n",
    "d_1 = svm.get_vector_variable(\"d_1\", num_moments + 1)\n",
    "d_2 = svm.get_vector_variable(\"d_2\", num_moments + 1)\n",
    "b_1 = svm.get_vector_variable(\"b_1\", num_moments + 1)\n",
    "b_2 = svm.get_vector_variable(\"b_2\", num_moments + 1)\n",
    "b_3 = svm.get_vector_variable(\"b_3\", num_moments + 1)\n",
    "b_4 = svm.get_vector_variable(\"b_4\", num_moments + 1)\n",
    "c_1 = svm.get_vector_variable(\"c_1\", num_moments + 1)\n",
    "c_2 = svm.get_vector_variable(\"c_2\", num_moments + 1)\n",
    "c_3 = svm.get_vector_variable(\"c_3\", num_moments + 1)\n",
    "c_4 = svm.get_vector_variable(\"c_4\", num_moments + 1)\n",
    "\n",
    "dict_d_1 = {d_1[i]: n[1] * (-2 * u * alpha[i]) + n[2] * (-u * beta[i] - v * alpha[i]) for i in range(1, num_moments + 1)}\n",
    "dict_d_1.update({d_1[0]: Q[1, 0]})\n",
    "dict_d_2 = {d_2[i]: n[1] * (-u * beta[i] - v * alpha[i]) + n[2] * (-2 * v * beta[i]) for i in range(1, num_moments + 1)}\n",
    "dict_d_2.update({d_2[0]: Q[2, 0]})\n",
    "dict_b_1 = {b_1[i]: n[1] * 2 / (2 * i + 1) * alpha[i] + n[2] * 1 / (2 * i + 1) * beta[i] for i in range(1, num_moments + 1)}\n",
    "dict_b_2 = {b_2[i]: n[2] * 1 / (2 * i + 1) * alpha[i] for i in range(1, num_moments + 1)}\n",
    "dict_b_3 = {b_3[i]: n[1] * 1 / (2 * i + 1) * beta[i] for i in range(1, num_moments + 1)}\n",
    "dict_b_4 = {b_4[i]: n[1] * 1 / (2 * i + 1) * alpha[i] + n[2] * 2 / (2 * i + 1) * beta[i] for i in range(1, num_moments + 1)}\n",
    "dict_c_1 = {c_1[i]: n[1] * 2 * alpha[i] + n[2] * beta[i] for i in range(1, num_moments + 1)}\n",
    "dict_c_2 = {c_2[i]: n[1] * beta[i] for i in range(1, num_moments + 1)}\n",
    "dict_c_3 = {c_3[i]: n[2] * alpha[i] for i in range(1, num_moments + 1)}\n",
    "dict_c_4 = {c_4[i]: n[1] * alpha[i] + n[2] * 2 * beta[i] for i in range(1, num_moments + 1)}\n",
    "\n",
    "lambda_ = SR.symbol(\"lambda_\")\n",
    "lambda_t = SR.symbol(\"lambda_t\")\n",
    "dict_l = {lambda_t: lambda_ - n[1] * u - n[2] * v}\n",
    "\n",
    "subs_dict = dict_d_1.copy()\n",
    "subs_dict.update(dict_d_2)\n",
    "subs_dict.update(dict_b_1)\n",
    "subs_dict.update(dict_b_2)\n",
    "subs_dict.update(dict_b_3)\n",
    "subs_dict.update(dict_b_4)\n",
    "subs_dict.update(dict_c_1)\n",
    "subs_dict.update(dict_c_2)\n",
    "subs_dict.update(dict_c_3)\n",
    "subs_dict.update(dict_c_4)\n",
    "#subs_dict.update(dict_l)\n",
    "\n",
    "Q_t = Q - lambda_ * matrix.identity(num_eqns)\n",
    "Q_t[0, 0] = -lambda_t - n[1] * u - n[2] * v\n",
    "Q_t[1, 0] = d_1[0]\n",
    "Q_t[2, 0] = d_2[0]\n",
    "Q_t[1, 1] = n[1] * u - lambda_t\n",
    "Q_t[2, 2] = n[2] * v - lambda_t\n",
    "for i in range(1, num_moments + 1):\n",
    "    Q_t[2 * i + 1, 0] = d_1[i]\n",
    "    Q_t[2 * i + 2, 0] = d_2[i]\n",
    "    Q_t[2 * i + 1, 1] = c_1[i]\n",
    "    Q_t[2 * i + 2, 1] = c_2[i]\n",
    "    Q_t[2 * i + 1, 2] = c_3[i]\n",
    "    Q_t[2 * i + 2, 2] = c_4[i]\n",
    "    Q_t[1, 2 * i + 1] = b_1[i]\n",
    "    Q_t[1, 2 * i + 2] = b_2[i]\n",
    "    Q_t[2, 2 * i + 1] = b_3[i]\n",
    "    Q_t[2, 2 * i + 2] = b_4[i]\n",
    "    Q_t[2 * i + 1, 2 * i + 1] = -lambda_t\n",
    "    Q_t[2 * i + 2, 2 * i + 2] = -lambda_t"
   ]
  },
  {
   "cell_type": "code",
   "execution_count": 413,
   "metadata": {},
   "outputs": [
    {
     "data": {
      "text/plain": [
       "[        -lambda_              n_1              n_2                0                0                0                0                0                0]\n",
       "[           d_1_0 n_1*u - lambda_t            n_2*u            b_1_1            b_2_1            b_1_2            b_2_2            b_1_3            b_2_3]\n",
       "[           d_2_0            n_1*v n_2*v - lambda_t            b_3_1            b_4_1            b_3_2            b_4_2            b_3_3            b_4_3]\n",
       "[           d_1_1            c_1_1            c_3_1        -lambda_t                0                0                0                0                0]\n",
       "[           d_2_1            c_2_1            c_4_1                0        -lambda_t                0                0                0                0]\n",
       "[           d_1_2            c_1_2            c_3_2                0                0        -lambda_t                0                0                0]\n",
       "[           d_2_2            c_2_2            c_4_2                0                0                0        -lambda_t                0                0]\n",
       "[           d_1_3            c_1_3            c_3_3                0                0                0                0        -lambda_t                0]\n",
       "[           d_2_3            c_2_3            c_4_3                0                0                0                0                0        -lambda_t]"
      ]
     },
     "execution_count": 413,
     "metadata": {},
     "output_type": "execute_result"
    }
   ],
   "source": [
    "det_A_t = A_t.det()\n",
    "A_t"
   ]
  },
  {
   "cell_type": "code",
   "execution_count": 414,
   "metadata": {},
   "outputs": [],
   "source": [
    "C24N = A_t.submatrix(1, 1)\n",
    "D2C4N = A_t.matrix_from_rows_and_columns(range(1, N_e), [0] + list(range(2, N_e)))\n",
    "D2C2N = A_t.matrix_from_rows_and_columns(range(1, N_e), [0, 1] + list(range(3, N_e)))\n",
    "det_A_t_1 = -lambda_ * C24N.det() - n[1] * D2C4N.det() + n[2] * D2C2N.det()\n",
    "assert det_A_t_1 == det_A_t"
   ]
  },
  {
   "cell_type": "code",
   "execution_count": 415,
   "metadata": {},
   "outputs": [],
   "source": [
    "det_C24N = C24N.det()\n",
    "C3N = C24N.matrix_from_rows_and_columns(range(N_e - 2), range(1, N_e-1))\n",
    "C1N = C24N.matrix_from_rows_and_columns(range(N_e - 2), [0] + list(range(2, N_e - 1)))\n",
    "C13N = C24N.matrix_from_rows_and_columns(range(N_e - 2), range(N_e - 2))\n",
    "det_C24N_1 = -c_2[N] * C3N.det() + c_4[N] * C1N.det() - lambda_t * C13N.det()\n",
    "assert det_C24N_1 == det_C24N"
   ]
  },
  {
   "cell_type": "code",
   "execution_count": 416,
   "metadata": {},
   "outputs": [],
   "source": [
    "det_D2C4N = D2C4N.det()\n",
    "D1N = D2C4N.matrix_from_rows_and_columns(range(N_e - 2), [0] + list(range(2, N_e - 1)))\n",
    "D1C3N = D2C4N.matrix_from_rows_and_columns(range(N_e - 2), range(N_e - 2))\n",
    "det_D2C4N_1 = -d_2[N] * C3N.det() + c_4[N] * D1N.det() - lambda_t * D1C3N.det()\n",
    "assert det_D2C4N_1 == det_D2C4N"
   ]
  },
  {
   "cell_type": "code",
   "execution_count": 417,
   "metadata": {},
   "outputs": [],
   "source": [
    "det_D2C2N = D2C2N.det()\n",
    "D1C1N = D2C2N.matrix_from_rows_and_columns(range(N_e - 2), range(N_e - 2))\n",
    "det_D2C2N_1 = -d_2[N] * C1N.det() + c_2[N] * D1N.det() - lambda_t * D1C1N.det()\n",
    "assert det_D2C2N_1 == det_D2C2N"
   ]
  },
  {
   "cell_type": "code",
   "execution_count": 418,
   "metadata": {},
   "outputs": [],
   "source": [
    "#det_A_t_2 = -lambda_ * C24N.det() - n[1] * D2C4N.det() + n[2] * D2C2N.det()\n",
    "#det_A_t_2 = -lambda_ * (-c_2[N] * C3N.det() + c_4[N] * C1N.det() - lambda_t * C13N.det()) \n",
    "# - n[1] * (-d_2[N] * C3N.det() + c_4[N] * D1N.det() - lambda_t * D1C3N.det()) \n",
    "#    + n[2] * (-d_2[N] * C1N.det() + c_2[N] * D1N.det() - lambda_t * D1C1N.det())\n",
    "det_A_t_2_1 = (lambda_ * c_2[N] + n[1] * d_2[N]) * C3N.det() - (lambda_ * c_4[N] + n[2] * d_2[N]) * C1N.det() + (n[2] * c_2[N] - n[1] * c_4[N]) * D1N.det()\n",
    "det_A_t_2_2 = lambda_t * (lambda_ * C13N.det() + n[1] * D1C3N.det() - n[2] * D1C1N.det())\n",
    "det_A_t_2 = det_A_t_2_1 + det_A_t_2_2\n",
    "assert det_A_t_2 == det_A_t"
   ]
  },
  {
   "cell_type": "code",
   "execution_count": 424,
   "metadata": {},
   "outputs": [],
   "source": [
    "det_C3N = C3N.det()\n",
    "B24N = C3N.matrix_from_rows_and_columns(range(N_e - 3), range(1, N_e - 2))\n",
    "C4Nm1B24N = C3N.matrix_from_rows_and_columns(range(N_e - 3), list(range(N_e - 4)) + [N_e - 3])\n",
    "det_B24N = (b_1[N] * b_4[N] - b_2[N] * b_3[N]) * lambda_t^(2 * N - 2)\n",
    "det_C3N_1 = c_3[N] * det_B24N + lambda_t * C4Nm1B24N.det()\n",
    "assert det_C3N_1 == det_C3N"
   ]
  },
  {
   "cell_type": "code",
   "execution_count": 425,
   "metadata": {},
   "outputs": [],
   "source": [
    "det_C1N = C1N.det()\n",
    "C2Nm1B24N = C1N.matrix_from_rows_and_columns(range(N_e - 3), list(range(N_e - 4)) + [N_e - 3])\n",
    "det_C1N_1 = c_1[N] * det_B24N + lambda_t * C2Nm1B24N.det()\n",
    "assert det_C1N_1 == det_C1N"
   ]
  },
  {
   "cell_type": "code",
   "execution_count": 426,
   "metadata": {},
   "outputs": [],
   "source": [
    "det_D1N = D1N.det()\n",
    "D2Nm1 = D1N.matrix_from_rows_and_columns(range(N_e - 3), list(range(N_e - 4)) + [N_e - 3])\n",
    "det_D1N_1 = d_1[N] * det_B24N + lambda_t * D2Nm1.det()\n",
    "assert det_D1N_1 == det_D1N"
   ]
  },
  {
   "cell_type": "code",
   "execution_count": 427,
   "metadata": {},
   "outputs": [],
   "source": [
    "#det_A_t_3_1 = (lambda_ * c_2[N] + n[1] * d_2[N]) * (c_3[N] * det_B24N + lambda_t * C4Nm1.det()) \n",
    "# - (lambda_ * c_4[N] + n[2] * d_2[N]) * (c_1[N] * det_B24N + lambda_t * C4Nm1_2.det()) \n",
    "# + (n[2] * c_2[N] - n[1] * c_4[N]) * (d_1[N] * det_B24N + lambda_t * D2Nm1.det())\n",
    "# ((lambda_ * c_2[N] + n[1] * d_2[N]) * c_3[N] - (lambda_ * c_4[N] + n[2] * d_2[N]) * c_1[N] + (n[2] * c_2[N] - n[1] * c_4[N]) * d_1[N]) * det_B24N\n",
    "det_A_t_3_1_1 = ((c_2[N]*c_3[N] - c_1[N]*c_4[N])*lambda_ - (c_4[N]*d_1[N] - c_3[N]*d_2[N])*n[1] + (c_2[N]*d_1[N] - c_1[N]*d_2[N])*n[2]) * det_B24N\n",
    "det_A_t_3_1_2 = lambda_t * ((lambda_ * c_2[N] + n[1] * d_2[N]) * C4Nm1B24N.det() - (lambda_ * c_4[N] + n[2] * d_2[N]) * C2Nm1B24N.det() + (n[2] * c_2[N] - n[1] * c_4[N]) * D2Nm1.det())\n",
    "det_A_t_3_1 = det_A_t_3_1_1 + det_A_t_3_1_2\n",
    "assert det_A_t_3_1 == det_A_t_2_1"
   ]
  },
  {
   "cell_type": "code",
   "execution_count": 441,
   "metadata": {},
   "outputs": [],
   "source": [
    "# det_A_t_3_1_1 = ((c_2[N]*c_3[N] - c_1[N]*c_4[N])*lambda_ - (c_4[N]*d_1[N] - c_3[N]*d_2[N])*n[1] + (c_2[N]*d_1[N] - c_1[N]*d_2[N])*n[2]) * det_B24N\n",
    "# (c_2[N]*c_3[N] - c_1[N]*c_4[N]) = -2*(alpha[N]*n[1] + beta[N]*n[2])^2\n",
    "# (c_4[N]*d_1[N] - c_3[N]*d_2[N]) = -2*(alpha[N]*n[1] + beta[N]*n[2])^2 * u\n",
    "# (c_2[N]*d_1[N] - c_1[N]*d_2[N]) = 2*(alpha[N]*n[1] + beta[N]*n[2])^2 * v\n",
    "# det_B24N = (b_1[N] * b_4[N] - b_2[N] * b_3[N]) * lambda_t^(2 * N - 2)\n",
    "# (b_1[N] * b_4[N] - b_2[N] * b_3[N]) = 2/(2* N + 1)^2 * (alpha[N]*n[1] + beta[N]*n[2])^2\n",
    "det_A_t_4_1_1 = -4 / (2 * N + 1)^2 * (alpha[N]*n[1] + beta[N]*n[2])^4 * lambda_t^(2 * N - 1)\n",
    "assert det_A_t_4_1_1.subs(subs_dict) == det_A_t_3_1_1.subs(subs_dict)"
   ]
  },
  {
   "cell_type": "code",
   "execution_count": 445,
   "metadata": {},
   "outputs": [],
   "source": [
    "det_C13N = C13N.det()\n",
    "C4Nm1B13N = C13N.matrix_from_rows_and_columns(range(N_e - 3), range(1, N_e - 2))\n",
    "C2Nm1B13N = C13N.matrix_from_rows_and_columns(range(N_e - 3), [0] + list(range(2, N_e - 2)))\n",
    "C24Nm1 = C13N.matrix_from_rows_and_columns(range(N_e - 3), range(N_e - 3))\n",
    "det_C13N_1 = c_1[N] * C4Nm1B13N.det() - c_3[N] * C2Nm1B13N.det() - lambda_t * C24Nm1.det()\n",
    "assert det_C13N_1 == det_C13N"
   ]
  },
  {
   "cell_type": "code",
   "execution_count": 446,
   "metadata": {},
   "outputs": [],
   "source": [
    "det_D1C3N = D1C3N.det()\n",
    "D2Nm1B13N = D1C3N.matrix_from_rows_and_columns(range(N_e - 3), [0] + list(range(2, N_e - 2)))\n",
    "D2C4Nm1 = D1C3N.matrix_from_rows_and_columns(range(N_e - 3), range(N_e - 3))\n",
    "det_D1C3N_1 = d_1[N] * C4Nm1B13N.det() - c_3[N] * D2Nm1B13N.det() - lambda_t * D2C4Nm1.det()\n",
    "assert det_D1C3N_1 == det_D1C3N"
   ]
  },
  {
   "cell_type": "code",
   "execution_count": 447,
   "metadata": {},
   "outputs": [],
   "source": [
    "det_D1C1N = D1C1N.det()\n",
    "D2C2Nm1 = D1C1N.matrix_from_rows_and_columns(range(N_e - 3), range(N_e - 3))\n",
    "det_D1C1N_1 = d_1[N] * C2Nm1B13N.det() - c_1[N] * D2Nm1B13N.det() - lambda_t * D2C2Nm1.det()\n",
    "assert det_D1C1N_1 == det_D1C1N"
   ]
  },
  {
   "cell_type": "code",
   "execution_count": 455,
   "metadata": {},
   "outputs": [],
   "source": [
    "# det_A_t_2_2 = lambda_t * (lambda_ * C13N.det() + n[1] * D1C3N.det() - n[2] * D1C1N.det())\n",
    "# det_A_t_3_2 = lambda_t * (lambda_ * (c_1[N] * C4Nm1B13N.det() - c_3[N] * C2Nm1B13N.det() - lambda_t * C24Nm1.det()) \n",
    "#                          + n[1] * (d_1[N] * C4Nm1B13N.det() - c_3[N] * D2Nm1B13N.det() - lambda_t * D2C4Nm1.det()) \n",
    "#                          - n[2] * (d_1[N] * C2Nm1B13N.det() - c_1[N] * D2Nm1B13N.det() - lambda_t * D2C2Nm1.det()))\n",
    "det_A_t_3_2 = lambda_t * (lambda_t * (-lambda_ * C24Nm1.det() - n[1] * D2C4Nm1.det() + n[2] * D2C2Nm1.det()) \n",
    "                          + (lambda_ * c_1[N] + n[1] * d_1[N]) * C4Nm1B13N.det() \n",
    "                          - (lambda_ * c_3[N] + n[2] * d_1[N]) * C2Nm1B13N.det()\n",
    "                          - (n[1] * c_3[N] - n[2] * c_1[N]) * D2Nm1B13N.det())\n",
    "assert det_A_t_3_2 == det_A_t_2_2"
   ]
  },
  {
   "cell_type": "code",
   "execution_count": 464,
   "metadata": {},
   "outputs": [],
   "source": [
    "det_C4Nm1B13N = C4Nm1B13N.det()\n",
    "B13N = C4Nm1B13N.matrix_from_rows_and_columns(range(N_e - 4), range(1, N_e - 3))\n",
    "det_B13N = (b_1[N] * b_4[N - 1] - b_3[N] * b_2[N - 1]) * lambda_t^(2 * N - 3)\n",
    "C3Nm1B13N = C4Nm1B13N.matrix_from_rows_and_columns(range(N_e - 4), list(range(N_e - 5) + [N_e - 3])\n",
    "det_C4Nm1B13N_1 = -c_4[N - 1] * det_B13N + lambda_t * "
   ]
  },
  {
   "cell_type": "code",
   "execution_count": 471,
   "metadata": {},
   "outputs": [
    {
     "data": {
      "text/plain": [
       "[           n_2*u            b_1_1            b_2_1            b_1_2            b_2_2            b_1_3]\n",
       "[n_2*v - lambda_t            b_3_1            b_4_1            b_3_2            b_4_2            b_3_3]\n",
       "[           c_3_1        -lambda_t                0                0                0                0]\n",
       "[           c_4_1                0        -lambda_t                0                0                0]\n",
       "[           c_3_2                0                0        -lambda_t                0                0]\n",
       "[           c_4_2                0                0                0        -lambda_t                0]"
      ]
     },
     "execution_count": 471,
     "metadata": {},
     "output_type": "execute_result"
    }
   ],
   "source": [
    "C4Nm1B13N"
   ]
  },
  {
   "cell_type": "code",
   "execution_count": 476,
   "metadata": {},
   "outputs": [
    {
     "data": {
      "text/plain": [
       "[           n_2*u            b_1_1            b_2_1            b_1_2            b_1_3]\n",
       "[n_2*v - lambda_t            b_3_1            b_4_1            b_3_2            b_3_3]\n",
       "[           c_3_1        -lambda_t                0                0                0]\n",
       "[           c_4_1                0        -lambda_t                0                0]\n",
       "[           c_3_2                0                0        -lambda_t                0]"
      ]
     },
     "execution_count": 476,
     "metadata": {},
     "output_type": "execute_result"
    }
   ],
   "source": [
    "C4Nm1B13N.matrix_from_rows_and_columns(range(N_e - 4), list(range(N_e - 5)) + [N_e - 4])"
   ]
  },
  {
   "cell_type": "code",
   "execution_count": 467,
   "metadata": {},
   "outputs": [
    {
     "data": {
      "text/plain": [
       "[n_1*u - lambda_t            b_1_1            b_2_1            b_1_2            b_2_2            b_1_3]\n",
       "[           n_1*v            b_3_1            b_4_1            b_3_2            b_4_2            b_3_3]\n",
       "[           c_1_1        -lambda_t                0                0                0                0]\n",
       "[           c_2_1                0        -lambda_t                0                0                0]\n",
       "[           c_1_2                0                0        -lambda_t                0                0]\n",
       "[           c_2_2                0                0                0        -lambda_t                0]"
      ]
     },
     "execution_count": 467,
     "metadata": {},
     "output_type": "execute_result"
    }
   ],
   "source": [
    "C2Nm1B13N"
   ]
  },
  {
   "cell_type": "code",
   "execution_count": 469,
   "metadata": {},
   "outputs": [
    {
     "data": {
      "text/plain": [
       "[    d_1_0     b_1_1     b_2_1     b_1_2     b_2_2     b_1_3]\n",
       "[    d_2_0     b_3_1     b_4_1     b_3_2     b_4_2     b_3_3]\n",
       "[    d_1_1 -lambda_t         0         0         0         0]\n",
       "[    d_2_1         0 -lambda_t         0         0         0]\n",
       "[    d_1_2         0         0 -lambda_t         0         0]\n",
       "[    d_2_2         0         0         0 -lambda_t         0]"
      ]
     },
     "execution_count": 469,
     "metadata": {},
     "output_type": "execute_result"
    }
   ],
   "source": [
    "D2Nm1B13N"
   ]
  },
  {
   "cell_type": "code",
   "execution_count": 198,
   "metadata": {},
   "outputs": [],
   "source": [
    "C3NB3N = C3N.matrix_from_rows_and_columns(range(1, N_e - 2), range(N_e - 3))\n",
    "C3NB1N = C3N.matrix_from_rows_and_columns([0] + list(range(2, N_e - 2)), range(N_e - 3))\n",
    "det_C3N_2 = b_2[N] * C3NB3N.det() - b_4[N] * C3NB1N.det()\n",
    "assert det_C3N_2 == det_C3N"
   ]
  },
  {
   "cell_type": "code",
   "execution_count": 209,
   "metadata": {},
   "outputs": [
    {
     "ename": "AssertionError",
     "evalue": "",
     "output_type": "error",
     "traceback": [
      "\u001b[0;31m---------------------------------------------------------------------------\u001b[0m",
      "\u001b[0;31mAssertionError\u001b[0m                            Traceback (most recent call last)",
      "\u001b[0;32m<ipython-input-209-0dd27d7cdc0e>\u001b[0m in \u001b[0;36m<module>\u001b[0;34m()\u001b[0m\n\u001b[1;32m      7\u001b[0m     \u001b[0mdet_B24N_2\u001b[0m \u001b[0;34m=\u001b[0m \u001b[0;34m(\u001b[0m\u001b[0mb_2\u001b[0m\u001b[0;34m[\u001b[0m\u001b[0mN\u001b[0m\u001b[0;34m]\u001b[0m \u001b[0;34m*\u001b[0m \u001b[0mb_4\u001b[0m\u001b[0;34m[\u001b[0m\u001b[0mN\u001b[0m \u001b[0;34m-\u001b[0m \u001b[0mInteger\u001b[0m\u001b[0;34m(\u001b[0m\u001b[0;36m1\u001b[0m\u001b[0;34m)\u001b[0m\u001b[0;34m]\u001b[0m \u001b[0;34m-\u001b[0m \u001b[0mb_2\u001b[0m\u001b[0;34m[\u001b[0m\u001b[0mN\u001b[0m \u001b[0;34m-\u001b[0m \u001b[0mInteger\u001b[0m\u001b[0;34m(\u001b[0m\u001b[0;36m1\u001b[0m\u001b[0;34m)\u001b[0m\u001b[0;34m]\u001b[0m \u001b[0;34m*\u001b[0m \u001b[0mb_4\u001b[0m\u001b[0;34m[\u001b[0m\u001b[0mN\u001b[0m\u001b[0;34m]\u001b[0m\u001b[0;34m)\u001b[0m \u001b[0;34m*\u001b[0m \u001b[0mlambda_t\u001b[0m\u001b[0;34m**\u001b[0m\u001b[0;34m(\u001b[0m\u001b[0mInteger\u001b[0m\u001b[0;34m(\u001b[0m\u001b[0;36m2\u001b[0m\u001b[0;34m)\u001b[0m \u001b[0;34m*\u001b[0m \u001b[0mN\u001b[0m \u001b[0;34m-\u001b[0m \u001b[0mInteger\u001b[0m\u001b[0;34m(\u001b[0m\u001b[0;36m3\u001b[0m\u001b[0;34m)\u001b[0m\u001b[0;34m)\u001b[0m\u001b[0;34m\u001b[0m\u001b[0;34m\u001b[0m\u001b[0m\n\u001b[1;32m      8\u001b[0m \u001b[0mdet_C4Nm1_1\u001b[0m \u001b[0;34m=\u001b[0m \u001b[0;34m-\u001b[0m\u001b[0mc_4\u001b[0m\u001b[0;34m[\u001b[0m\u001b[0mN\u001b[0m \u001b[0;34m-\u001b[0m \u001b[0mInteger\u001b[0m\u001b[0;34m(\u001b[0m\u001b[0;36m1\u001b[0m\u001b[0;34m)\u001b[0m\u001b[0;34m]\u001b[0m \u001b[0;34m*\u001b[0m \u001b[0mdet_B24N_2\u001b[0m \u001b[0;34m+\u001b[0m \u001b[0mlambda_t\u001b[0m \u001b[0;34m*\u001b[0m \u001b[0mC3Nm1\u001b[0m\u001b[0;34m.\u001b[0m\u001b[0mdet\u001b[0m\u001b[0;34m(\u001b[0m\u001b[0;34m)\u001b[0m\u001b[0;34m\u001b[0m\u001b[0;34m\u001b[0m\u001b[0m\n\u001b[0;32m----> 9\u001b[0;31m \u001b[0;32massert\u001b[0m \u001b[0mdet_C4Nm1_1\u001b[0m \u001b[0;34m==\u001b[0m \u001b[0mdet_C4Nm1\u001b[0m\u001b[0;34m\u001b[0m\u001b[0;34m\u001b[0m\u001b[0m\n\u001b[0m",
      "\u001b[0;31mAssertionError\u001b[0m: "
     ]
    }
   ],
   "source": [
    "det_C4Nm1 = C4Nm1.det()\n",
    "B24N_2 = C4Nm1.matrix_from_rows_and_columns(range(N_e - 4), range(1, N_e - 3))\n",
    "C3Nm1 = C4Nm1.matrix_from_rows_and_columns(range(N_e - 4), list(range(N_e - 5)) + [N_e - 4])\n",
    "if N == 1:\n",
    "    det_B24N_2 = b_2[N]\n",
    "else:\n",
    "    det_B24N_2 = (b_2[N] * b_4[N - 1] - b_2[N - 1] * b_4[N]) * lambda_t^(2 * N - 3)\n",
    "det_C4Nm1_1 = -c_4[N - 1] * det_B24N_2 + lambda_t * C3Nm1.det()\n",
    "assert det_C4Nm1_1 == det_C4Nm1"
   ]
  },
  {
   "cell_type": "markdown",
   "metadata": {},
   "source": [
    "Starting over using block matrix properties of determinants, det([A B; C D]) = det(D)det(A - B D^{-1} C)"
   ]
  },
  {
   "cell_type": "code",
   "execution_count": 638,
   "metadata": {},
   "outputs": [],
   "source": [
    "det_A_t = A_t.det()"
   ]
  },
  {
   "cell_type": "code",
   "execution_count": 639,
   "metadata": {},
   "outputs": [],
   "source": [
    "C24N = A_t.submatrix(1, 1)\n",
    "D2C4N = A_t.matrix_from_rows_and_columns(range(1, N_e), [0] + list(range(2, N_e)))\n",
    "D2C2N = A_t.matrix_from_rows_and_columns(range(1, N_e), [0, 1] + list(range(3, N_e)))\n",
    "det_A_t_1 = -lambda_ * C24N.det() - n[1] * D2C4N.det() + n[2] * D2C2N.det()\n",
    "assert det_A_t_1 == det_A_t"
   ]
  },
  {
   "cell_type": "code",
   "execution_count": 24,
   "metadata": {},
   "outputs": [
    {
     "ename": "NameError",
     "evalue": "name 'C24N' is not defined",
     "output_type": "error",
     "traceback": [
      "\u001b[0;31m---------------------------------------------------------------------------\u001b[0m",
      "\u001b[0;31mNameError\u001b[0m                                 Traceback (most recent call last)",
      "\u001b[0;32m<ipython-input-24-a5183bf31026>\u001b[0m in \u001b[0;36m<module>\u001b[0;34m()\u001b[0m\n\u001b[1;32m      1\u001b[0m \u001b[0;31m# C24N, D2C4N, D2C2N are all block matrices with D invertible\u001b[0m\u001b[0;34m\u001b[0m\u001b[0;34m\u001b[0m\u001b[0;34m\u001b[0m\u001b[0m\n\u001b[1;32m      2\u001b[0m \u001b[0;31m# split into blocks\u001b[0m\u001b[0;34m\u001b[0m\u001b[0;34m\u001b[0m\u001b[0;34m\u001b[0m\u001b[0m\n\u001b[0;32m----> 3\u001b[0;31m \u001b[0mA_1\u001b[0m \u001b[0;34m=\u001b[0m \u001b[0mC24N\u001b[0m\u001b[0;34m.\u001b[0m\u001b[0mmatrix_from_rows_and_columns\u001b[0m\u001b[0;34m(\u001b[0m\u001b[0mrange\u001b[0m\u001b[0;34m(\u001b[0m\u001b[0mInteger\u001b[0m\u001b[0;34m(\u001b[0m\u001b[0;36m2\u001b[0m\u001b[0;34m)\u001b[0m\u001b[0;34m)\u001b[0m\u001b[0;34m,\u001b[0m \u001b[0mrange\u001b[0m\u001b[0;34m(\u001b[0m\u001b[0mInteger\u001b[0m\u001b[0;34m(\u001b[0m\u001b[0;36m2\u001b[0m\u001b[0;34m)\u001b[0m\u001b[0;34m)\u001b[0m\u001b[0;34m)\u001b[0m\u001b[0;34m\u001b[0m\u001b[0;34m\u001b[0m\u001b[0m\n\u001b[0m\u001b[1;32m      4\u001b[0m \u001b[0mB\u001b[0m \u001b[0;34m=\u001b[0m \u001b[0mC24N\u001b[0m\u001b[0;34m.\u001b[0m\u001b[0mmatrix_from_rows_and_columns\u001b[0m\u001b[0;34m(\u001b[0m\u001b[0mrange\u001b[0m\u001b[0;34m(\u001b[0m\u001b[0mInteger\u001b[0m\u001b[0;34m(\u001b[0m\u001b[0;36m2\u001b[0m\u001b[0;34m)\u001b[0m\u001b[0;34m)\u001b[0m\u001b[0;34m,\u001b[0m \u001b[0mrange\u001b[0m\u001b[0;34m(\u001b[0m\u001b[0mInteger\u001b[0m\u001b[0;34m(\u001b[0m\u001b[0;36m2\u001b[0m\u001b[0;34m)\u001b[0m\u001b[0;34m,\u001b[0m \u001b[0mN_e\u001b[0m \u001b[0;34m-\u001b[0m \u001b[0mInteger\u001b[0m\u001b[0;34m(\u001b[0m\u001b[0;36m1\u001b[0m\u001b[0;34m)\u001b[0m\u001b[0;34m)\u001b[0m\u001b[0;34m)\u001b[0m\u001b[0;34m\u001b[0m\u001b[0;34m\u001b[0m\u001b[0m\n\u001b[1;32m      5\u001b[0m \u001b[0mC24N_sub\u001b[0m \u001b[0;34m=\u001b[0m \u001b[0mC24N\u001b[0m\u001b[0;34m.\u001b[0m\u001b[0mmatrix_from_rows_and_columns\u001b[0m\u001b[0;34m(\u001b[0m\u001b[0mrange\u001b[0m\u001b[0;34m(\u001b[0m\u001b[0mInteger\u001b[0m\u001b[0;34m(\u001b[0m\u001b[0;36m2\u001b[0m\u001b[0;34m)\u001b[0m\u001b[0;34m,\u001b[0m \u001b[0mN_e\u001b[0m \u001b[0;34m-\u001b[0m \u001b[0mInteger\u001b[0m\u001b[0;34m(\u001b[0m\u001b[0;36m1\u001b[0m\u001b[0;34m)\u001b[0m\u001b[0;34m)\u001b[0m\u001b[0;34m,\u001b[0m \u001b[0mrange\u001b[0m\u001b[0;34m(\u001b[0m\u001b[0mInteger\u001b[0m\u001b[0;34m(\u001b[0m\u001b[0;36m2\u001b[0m\u001b[0;34m)\u001b[0m\u001b[0;34m)\u001b[0m\u001b[0;34m)\u001b[0m\u001b[0;34m\u001b[0m\u001b[0;34m\u001b[0m\u001b[0m\n",
      "\u001b[0;31mNameError\u001b[0m: name 'C24N' is not defined"
     ]
    }
   ],
   "source": [
    "# C24N, D2C4N, D2C2N are all block matrices with D invertible\n",
    "# split into blocks\n",
    "A_1 = C24N.matrix_from_rows_and_columns(range(2), range(2))\n",
    "B = C24N.matrix_from_rows_and_columns(range(2), range(2, N_e - 1))\n",
    "C24N_sub = C24N.matrix_from_rows_and_columns(range(2, N_e - 1), range(2))\n",
    "D = C24N.matrix_from_rows_and_columns(range(2, N_e - 1), range(2, N_e - 1))\n",
    "A_2 = D2C2N.matrix_from_rows_and_columns(range(2), range(2))\n",
    "D2C2N_sub = D2C2N.matrix_from_rows_and_columns(range(2, N_e - 1), range(2))\n",
    "A_3 = D2C4N.matrix_from_rows_and_columns(range(2), range(2))\n",
    "D2C4N_sub = D2C4N.matrix_from_rows_and_columns(range(2, N_e - 1), range(2))\n",
    "det_D = lambda_t^(2 * N)\n",
    "BDinvC24 = B * D.inverse() * C24N_sub\n",
    "BDinvD2C2 = B * D.inverse() * D2C2N_sub\n",
    "BDinvD2C4 = B * D.inverse() * D2C4N_sub\n",
    "\n",
    "# variables to represent sums\n",
    "# entries of BD^{-1}C\n",
    "s = svm.get_vector_variable('s', 7)\n",
    "dict_s = {}\n",
    "s_1_list = [b_1[i] * c_1[i] + b_2[i] * c_2[i] for i in range(1, N + 1)]\n",
    "s_2_list = [b_1[i] * c_3[i] + b_2[i] * c_4[i] for i in range(1, N + 1)]\n",
    "s_3_list = [b_3[i] * c_1[i] + b_4[i] * c_2[i] for i in range(1, N + 1)]\n",
    "s_4_list = [b_3[i] * c_3[i] + b_4[i] * c_4[i] for i in range(1, N + 1)]\n",
    "s_5_list = [b_1[i] * d_1[i] + b_2[i] * d_2[i] for i in range(1, N + 1)]\n",
    "s_6_list = [b_3[i] * d_1[i] + b_4[i] * d_2[i] for i in range(1, N + 1)]\n",
    "dict_s[s[1]] = sum(s_1_list)\n",
    "dict_s[s[2]] = sum(s_2_list)\n",
    "dict_s[s[3]] = sum(s_3_list)\n",
    "dict_s[s[4]] = sum(s_4_list)\n",
    "dict_s[s[5]] = sum(s_5_list)\n",
    "dict_s[s[6]] = sum(s_6_list)"
   ]
  },
  {
   "cell_type": "code",
   "execution_count": 641,
   "metadata": {},
   "outputs": [],
   "source": [
    "det_C24N = C24N.det()\n",
    "det_C24N_1 = det_D * (A_1 - BDinvC24).det()\n",
    "assert det_C24N == det_C24N_1"
   ]
  },
  {
   "cell_type": "code",
   "execution_count": 642,
   "metadata": {},
   "outputs": [],
   "source": [
    "det_A1BDinvC24 = (A_1 - BDinvC24).det()\n",
    "det_A1BDinvC24_1 = (A_1[0, 0] + s[1] / lambda_t) * (A_1[1, 1] + s[4] / lambda_t) - (A_1[1, 0] + s[3] / lambda_t) * (A_1[0, 1] + s[2] / lambda_t)\n",
    "assert det_A1BDinvC24_1.subs(dict_s) == det_A1BDinvC24"
   ]
  },
  {
   "cell_type": "code",
   "execution_count": 643,
   "metadata": {},
   "outputs": [],
   "source": [
    "det_D2C2N = D2C2N.det()\n",
    "det_D2C2N_1 = det_D * (A_2 - BDinvD2C2).det()\n",
    "assert det_D2C2N_1 == det_D2C2N"
   ]
  },
  {
   "cell_type": "code",
   "execution_count": 644,
   "metadata": {},
   "outputs": [],
   "source": [
    "det_A2BDinvD2C2 = (A_2 - BDinvD2C2).det()\n",
    "det_A2BDinvD2C2_1 = (A_2[0, 0] + s[5] / lambda_t) * (A_2[1, 1] + s[3] / lambda_t) - (A_2[1, 0] + s[6] / lambda_t) * (A_2[0, 1] + s[1] / lambda_t)\n",
    "assert det_A2BDinvD2C2_1.subs(dict_s) == det_A2BDinvD2C2"
   ]
  },
  {
   "cell_type": "code",
   "execution_count": 645,
   "metadata": {},
   "outputs": [],
   "source": [
    "det_D2C4N = D2C4N.det()\n",
    "det_D2C4N_1 = det_D * (A_3 - BDinvD2C4).det()\n",
    "assert det_D2C4N_1 == det_D2C4N"
   ]
  },
  {
   "cell_type": "code",
   "execution_count": 646,
   "metadata": {},
   "outputs": [],
   "source": [
    "det_A3BDinvD2C4 = (A_3 - BDinvD2C4).det()\n",
    "det_A3BDinvD2C4_1 = (A_3[0, 0] + s[5] / lambda_t) * (A_3[1, 1] + s[4] / lambda_t) - (A_3[1, 0] + s[6] / lambda_t) * (A_3[0, 1] + s[2] / lambda_t)\n",
    "assert det_A2BDinvD2C2_1.subs(dict_s) == det_A2BDinvD2C2"
   ]
  },
  {
   "cell_type": "code",
   "execution_count": 647,
   "metadata": {},
   "outputs": [],
   "source": [
    "det_A_t_2 = det_D * ((-lambda_t - n[1] * u - n[2] * v) * det_A1BDinvC24_1 - n[1] * det_A3BDinvD2C4_1 + n[2] * det_A2BDinvD2C2_1)\n",
    "assert det_A_t_2.subs(dict_s).subs(dict_l) == det_A_t_1.subs(dict_l)"
   ]
  },
  {
   "cell_type": "code",
   "execution_count": 648,
   "metadata": {},
   "outputs": [
    {
     "data": {
      "text/plain": [
       "lambda_t^3*n_1^2*u^2 + 2*lambda_t^3*n_1*n_2*u*v + lambda_t^3*n_2^2*v^2 + lambda_t*n_1*n_2*s_3*u^2 - lambda_t*n_1^2*s_4*u^2 - lambda_t*n_1*n_2*s_1*u*v + lambda_t*n_1^2*s_2*u*v + lambda_t*n_2^2*s_3*u*v - lambda_t*n_1*n_2*s_4*u*v - lambda_t*n_2^2*s_1*v^2 + lambda_t*n_1*n_2*s_2*v^2 - lambda_t^5 + d_1_0*lambda_t^3*n_1 + d_2_0*lambda_t^3*n_2 + lambda_t^2*n_1*s_1*u + lambda_t^2*n_2*s_3*u + lambda_t^2*n_1*s_2*v + lambda_t^2*n_2*s_4*v + lambda_t^3*s_1 - d_2_0*lambda_t*n_2*s_1 + d_2_0*lambda_t*n_1*s_2 + d_1_0*lambda_t*n_2*s_3 + lambda_t^3*s_4 - d_1_0*lambda_t*n_1*s_4 + lambda_t^2*n_1*s_5 + lambda_t^2*n_2*s_6 + n_1*s_2*s_3*u - n_1*s_1*s_4*u + n_2*s_2*s_3*v - n_2*s_1*s_4*v + lambda_t*s_2*s_3 - lambda_t*s_1*s_4 + n_2*s_3*s_5 - n_1*s_4*s_5 - n_2*s_1*s_6 + n_1*s_2*s_6"
      ]
     },
     "execution_count": 648,
     "metadata": {},
     "output_type": "execute_result"
    }
   ],
   "source": [
    "(det_A_t_2/lambda_t^(2 * N - 2)).factor([lambda_t])"
   ]
  },
  {
   "cell_type": "code",
   "execution_count": 649,
   "metadata": {},
   "outputs": [],
   "source": [
    "char_poly = (det_A_t_2 / lambda_t ^ (2 * N - 2)).collect(lambda_t)"
   ]
  },
  {
   "cell_type": "code",
   "execution_count": 650,
   "metadata": {},
   "outputs": [],
   "source": [
    "l_5 = char_poly.coefficient(lambda_t, n = 5)\n",
    "l_4 = char_poly.coefficient(lambda_t, n = 4)\n",
    "assert l_4 == 0\n",
    "l_3 = char_poly.coefficient(lambda_t, n = 3)\n",
    "l_2 = char_poly.coefficient(lambda_t, n = 2)\n",
    "l_1 = char_poly.coefficient(lambda_t, n = 1)\n",
    "l_0 = char_poly.coefficient(lambda_t, n = 0)"
   ]
  },
  {
   "cell_type": "code",
   "execution_count": 611,
   "metadata": {},
   "outputs": [
    {
     "data": {
      "text/plain": [
       "-1"
      ]
     },
     "execution_count": 611,
     "metadata": {},
     "output_type": "execute_result"
    }
   ],
   "source": [
    "l_5"
   ]
  },
  {
   "cell_type": "code",
   "execution_count": 651,
   "metadata": {},
   "outputs": [
    {
     "data": {
      "text/plain": [
       "n_1^2*u^2 + 2*n_1*n_2*u*v + n_2^2*v^2 + d_1_0*n_1 + d_2_0*n_2 + s_1 + s_4"
      ]
     },
     "execution_count": 651,
     "metadata": {},
     "output_type": "execute_result"
    }
   ],
   "source": [
    "l_3"
   ]
  },
  {
   "cell_type": "code",
   "execution_count": 701,
   "metadata": {},
   "outputs": [],
   "source": [
    "sum_a2 = sum([1 / (2 * i + 1) * (alpha[i] * n[1] + beta[i] * n[2])^2 for i in range(1, N + 1)])\n",
    "s1ps4 = 5 * sum_a2\n",
    "assert s1ps4 == (s[1] + s[4]).subs(dict_s).subs(subs_dict)\n",
    "d10n1pd20n2 = - (u * n[1] + v * n[2])^2 + e_z * g * h * (n[1]^2 + n[2]^2) - sum_a2\n",
    "assert d10n1pd20n2 == (d_1[0] * n[1] + d_2[0] * n[2]).subs(subs_dict)\n",
    "l_3_1 = (u * n[1] + v * n[2])^2 + s1ps4 + d10n1pd20n2\n",
    "assert l_3_1 == l_3.subs(dict_s).subs(subs_dict)\n",
    "l_3_2 = e_z * g * h * (n[1]^2 + n[2]^2) + 4 * sum_a2\n",
    "assert l_3_2 == l_3.subs(dict_s).subs(subs_dict)"
   ]
  },
  {
   "cell_type": "code",
   "execution_count": 653,
   "metadata": {},
   "outputs": [
    {
     "data": {
      "text/plain": [
       "n_1*s_1*u + n_2*s_3*u + n_1*s_2*v + n_2*s_4*v + n_1*s_5 + n_2*s_6"
      ]
     },
     "execution_count": 653,
     "metadata": {},
     "output_type": "execute_result"
    }
   ],
   "source": [
    "l_2"
   ]
  },
  {
   "cell_type": "code",
   "execution_count": 654,
   "metadata": {},
   "outputs": [],
   "source": [
    "l_2_1 = l_2.subs(dict_s).simplify_full().subs(subs_dict).simplify_full()\n",
    "assert l_2_1 == 0"
   ]
  },
  {
   "cell_type": "code",
   "execution_count": 687,
   "metadata": {},
   "outputs": [
    {
     "data": {
      "text/plain": [
       "n_1*n_2*s_3*u^2 - n_1^2*s_4*u^2 - n_1*n_2*s_1*u*v + n_1^2*s_2*u*v + n_2^2*s_3*u*v - n_1*n_2*s_4*u*v - n_2^2*s_1*v^2 + n_1*n_2*s_2*v^2 - d_2_0*n_2*s_1 + d_2_0*n_1*s_2 + d_1_0*n_2*s_3 - d_1_0*n_1*s_4 + s_2*s_3 - s_1*s_4"
      ]
     },
     "execution_count": 687,
     "metadata": {},
     "output_type": "execute_result"
    }
   ],
   "source": [
    "l_1"
   ]
  },
  {
   "cell_type": "code",
   "execution_count": 702,
   "metadata": {},
   "outputs": [],
   "source": [
    "s2s3ms1s4 = -4 * sum_a2^2\n",
    "assert s2s3ms1s4 == (s[2] * s[3] - s[1] * s[4]).subs(dict_s).subs(subs_dict)\n",
    "s2n1ms1n2 = - sum_a2 * n[2]\n",
    "assert s2n1ms1n2 == (s[2] * n[1] - s[1] * n[2]).subs(dict_s).subs(subs_dict)\n",
    "s3n2ms4n1 = - sum_a2 * n[1]\n",
    "assert s3n2ms4n1 == (s[3] * n[2] - s[4] * n[1]).subs(dict_s).subs(subs_dict)\n",
    "s2n1ms1n2d02ps3n2ms4n1d01 = (e_z * g * h * (n[1]^2 + n[2]^2) - (u * n[1] + v * n[2])^2 - sum_a2) * -sum_a2\n",
    "assert s2n1ms1n2d02ps3n2ms4n1d01 == (s2n1ms1n2 * d_2[0] + s3n2ms4n1 * d_1[0]).subs(subs_dict)\n",
    "uvterms = s3n2ms4n1 * (u^2 * n[1] + u * v * n[2]) + s2n1ms1n2 * (v^2 * n[2] + u * v * n[1])\n",
    "\n",
    "single_s_terms = (e_z * g * h * (n[1]^2 + n[2]^2) - sum_a2) * -sum_a2\n",
    "l_1_1 = single_s_terms + s2s3ms1s4\n",
    "assert l_1_1 == l_1.subs(dict_s).subs(subs_dict)\n",
    "l_1_2 = (-e_z * g * h * (n[1]^2 + n[2]^2) - 3 * sum_a2) * sum_a2\n",
    "assert l_1_2 == l_1.subs(dict_s).subs(subs_dict)"
   ]
  },
  {
   "cell_type": "code",
   "execution_count": 624,
   "metadata": {},
   "outputs": [
    {
     "data": {
      "text/plain": [
       "n_1*s_2*s_3*u - n_1*s_1*s_4*u + n_2*s_2*s_3*v - n_2*s_1*s_4*v + n_2*s_3*s_5 - n_1*s_4*s_5 - n_2*s_1*s_6 + n_1*s_2*s_6"
      ]
     },
     "execution_count": 624,
     "metadata": {},
     "output_type": "execute_result"
    }
   ],
   "source": [
    "l_0"
   ]
  },
  {
   "cell_type": "code",
   "execution_count": 628,
   "metadata": {},
   "outputs": [],
   "source": [
    "l_0_1 = l_0.subs(dict_s).simplify_full().subs(subs_dict).simplify_full()\n",
    "assert l_0_1 == 0"
   ]
  },
  {
   "cell_type": "markdown",
   "metadata": {},
   "source": [
    "Factor polynomial with new writing of coefficients"
   ]
  },
  {
   "cell_type": "code",
   "execution_count": 714,
   "metadata": {},
   "outputs": [],
   "source": [
    "char_poly_1 = l_5 * lambda_t^5 + l_3_2 * lambda_t^3 + l_1_2 * lambda_t\n",
    "assert char_poly_1.subs(subs_dict) == char_poly.subs(dict_s).subs(subs_dict)\n",
    "char_poly_2 = - lambda_t * (lambda_t^2 - sum_a2) * (lambda_t^2 - e_z * g * h * (n[1]^2 + n[2]^2) - 3 * sum_a2)\n",
    "assert char_poly_2.subs(subs_dict) == char_poly.subs(dict_s).subs(subs_dict)"
   ]
  },
  {
   "cell_type": "code",
   "execution_count": 715,
   "metadata": {},
   "outputs": [],
   "source": [
    "# eigenvalues\n",
    "# lambda = u n[1] + v n[2] multiplicity 2 N - 1\n",
    "# lambda = u n[1] + v n[2] pm sqrt(e_z g h + 3 sum{i = 1}{N}{1 / (2 i + 1) (alpha[i] n[1] + beta[i] n[2])^2})\n",
    "# lambda = u n[1] + v n[2] pm sqrt(sum{i = 1}{N}{1 / (2 i + 1) (alpha[i] n[1] + beta[i] n[2])^2})"
   ]
  },
  {
   "cell_type": "markdown",
   "metadata": {},
   "source": [
    "Third Method"
   ]
  },
  {
   "cell_type": "code",
   "execution_count": 31,
   "metadata": {},
   "outputs": [],
   "source": [
    "A = Q_t.matrix_from_rows_and_columns(range(3), range(3))\n",
    "B = Q_t.matrix_from_rows_and_columns(range(3), range(3, N_e))\n",
    "C = Q_t.matrix_from_rows_and_columns(range(3, N_e), range(3))\n",
    "D = Q_t.matrix_from_rows_and_columns(range(3, N_e), range(3, N_e))\n",
    "\n",
    "# variables to represent sums\n",
    "# entries of BD^{-1}C\n",
    "s = svm.get_vector_variable('s', 7)\n",
    "dict_s = {}\n",
    "s_1_list = [b_1[i] * d_1[i] + b_2[i] * d_2[i] for i in range(1, N + 1)]\n",
    "s_2_list = [b_1[i] * c_1[i] + b_2[i] * c_2[i] for i in range(1, N + 1)]\n",
    "s_3_list = [b_1[i] * c_3[i] + b_2[i] * c_4[i] for i in range(1, N + 1)]\n",
    "s_4_list = [b_3[i] * d_1[i] + b_4[i] * d_2[i] for i in range(1, N + 1)]\n",
    "s_5_list = [b_3[i] * c_1[i] + b_4[i] * c_2[i] for i in range(1, N + 1)]\n",
    "s_6_list = [b_3[i] * c_3[i] + b_4[i] * c_4[i] for i in range(1, N + 1)]\n",
    "dict_s[s[1]] = sum(s_1_list)\n",
    "dict_s[s[2]] = sum(s_2_list)\n",
    "dict_s[s[3]] = sum(s_3_list)\n",
    "dict_s[s[4]] = sum(s_4_list)\n",
    "dict_s[s[5]] = sum(s_5_list)\n",
    "dict_s[s[6]] = sum(s_6_list)"
   ]
  },
  {
   "cell_type": "code",
   "execution_count": 80,
   "metadata": {},
   "outputs": [],
   "source": [
    "det_D = lambda_t^(2 * N)\n",
    "assert det_D == D.det()\n",
    "assert det_D * (A - B * D.inverse() * C).det() == Q_t.det()"
   ]
  },
  {
   "cell_type": "code",
   "execution_count": 131,
   "metadata": {},
   "outputs": [],
   "source": [
    "tlAmBDinvC = lambda_t * (A - B * D.inverse() * C)\n",
    "det_tlAmBDinvC = tlAmBDinvC.det()"
   ]
  },
  {
   "cell_type": "code",
   "execution_count": 137,
   "metadata": {},
   "outputs": [],
   "source": [
    "char_poly = det_tlAmBDinvC.collect(lambda_t)\n",
    "l_6 = char_poly.coefficient(lambda_t, n = 6)\n",
    "l_5 = char_poly.coefficient(lambda_t, n = 5)\n",
    "assert l_5 == 0\n",
    "l_4 = char_poly.coefficient(lambda_t, n = 4)\n",
    "l_3 = char_poly.coefficient(lambda_t, n = 3)\n",
    "l_2 = char_poly.coefficient(lambda_t, n = 2)\n",
    "l_1 = char_poly.coefficient(lambda_t, n = 1)\n",
    "l_0 = char_poly.coefficient(lambda_t, n = 0)\n",
    "assert l_0 == 0"
   ]
  },
  {
   "cell_type": "code",
   "execution_count": 145,
   "metadata": {},
   "outputs": [],
   "source": [
    "l_4_1 = s[2] + s[6] + (u * n[1] + v * n[2])^2 + d_1[0] * n[1] + d_2[0] * n[2]\n",
    "assert l_4_1.subs(dict_s) == l_4\n",
    "sum_a2 = sum([1 / (2 * i + 1) * (alpha[i] * n[1] + beta[i] * n[2])^2 for i in range(1, N+1)])\n",
    "normn2 = (n[1]^2 + n[2]^2)\n",
    "l_4_2 = 4 * sum_a2 + e_z * g * h * normn2\n",
    "assert l_4_2 == l_4.subs(subs_dict)"
   ]
  },
  {
   "cell_type": "code",
   "execution_count": 148,
   "metadata": {},
   "outputs": [],
   "source": [
    "l_3_1 = 0 \n",
    "assert l_3_1 == l_3.subs(subs_dict).simplify_full()"
   ]
  },
  {
   "cell_type": "code",
   "execution_count": 153,
   "metadata": {},
   "outputs": [],
   "source": [
    "l_2_1 = s[3] * s[5] - s[2] * s[6] + ((u^2 * n[1] * n[2] + u * v * n[2]^2 + d_1[0] * n[2]) * s[5] \n",
    "                                   + (u * v * n[1]^2 + v^2 * n[1] * n[2] + d_2[0] * n[1]) * s[3] \n",
    "                                   - (u^2 * n[1]^2 + u * v * n[1] * n[2] + d_1[0] * n[1]) * s[6] \n",
    "                                   - (u * v * n[1] * n[2] + v^2 * n[2]^2 + d_2[0] * n[2]) * s[2])\n",
    "assert l_2_1.subs(dict_s) == l_2\n",
    "s3s5ms2s6 = (s[3] * s[5] - s[2] * s[6]).subs(dict_s).subs(subs_dict)\n",
    "s3s5ms2s6_1 = -4 * sum_a2^2\n",
    "l_2_2 = -4 * sum_a2^2"
   ]
  },
  {
   "cell_type": "code",
   "execution_count": 160,
   "metadata": {},
   "outputs": [],
   "source": [
    "s3s5ms2s6 = (s[3] * s[5] - s[2] * s[6]).subs(dict_s).subs(subs_dict)\n",
    "s3s5ms2s6_1 = -4 * sum([1 / (2 * i + 1) * (alpha[i] * n[1] + beta[i] * n[2])^2 for i in range(1, N+1)])^2\n",
    "assert s3s5ms2s6_1 == s3s5ms2s6\n",
    "\n",
    "s3s4ms1s6 = (s[3] * s[4] - s[1] * s[6]).subs(dict_s).subs(subs_dict)\n",
    "s3s4ms1s6_1 = 4 * sum_a2^2 * u\n",
    "assert s3s4ms1s6_1 == s3s4ms1s6\n",
    "\n",
    "s1s5ms2s4 = (s[1] * s[5] - s[2] * s[4]).subs(dict_s).subs(subs_dict)\n",
    "s1s5ms2s4_1 = 4 * sum_a2^2 * v\n",
    "assert s1s5ms2s4_1 == s1s5ms2s4"
   ]
  },
  {
   "cell_type": "code",
   "execution_count": 151,
   "metadata": {},
   "outputs": [
    {
     "data": {
      "text/plain": [
       "b_3_1*c_3_1*n_1^2*u^2 + b_3_2*c_3_2*n_1^2*u^2 + b_3_3*c_3_3*n_1^2*u^2 + b_4_1*c_4_1*n_1^2*u^2 + b_4_2*c_4_2*n_1^2*u^2 + b_4_3*c_4_3*n_1^2*u^2 - b_3_1*c_1_1*n_1*n_2*u^2 - b_3_2*c_1_2*n_1*n_2*u^2 - b_3_3*c_1_3*n_1*n_2*u^2 - b_4_1*c_2_1*n_1*n_2*u^2 - b_4_2*c_2_2*n_1*n_2*u^2 - b_4_3*c_2_3*n_1*n_2*u^2 - b_1_1*c_3_1*n_1^2*u*v - b_1_2*c_3_2*n_1^2*u*v - b_1_3*c_3_3*n_1^2*u*v - b_2_1*c_4_1*n_1^2*u*v - b_2_2*c_4_2*n_1^2*u*v - b_2_3*c_4_3*n_1^2*u*v + b_1_1*c_1_1*n_1*n_2*u*v + b_1_2*c_1_2*n_1*n_2*u*v + b_1_3*c_1_3*n_1*n_2*u*v + b_2_1*c_2_1*n_1*n_2*u*v + b_2_2*c_2_2*n_1*n_2*u*v + b_2_3*c_2_3*n_1*n_2*u*v + b_3_1*c_3_1*n_1*n_2*u*v + b_3_2*c_3_2*n_1*n_2*u*v + b_3_3*c_3_3*n_1*n_2*u*v + b_4_1*c_4_1*n_1*n_2*u*v + b_4_2*c_4_2*n_1*n_2*u*v + b_4_3*c_4_3*n_1*n_2*u*v - b_3_1*c_1_1*n_2^2*u*v - b_3_2*c_1_2*n_2^2*u*v - b_3_3*c_1_3*n_2^2*u*v - b_4_1*c_2_1*n_2^2*u*v - b_4_2*c_2_2*n_2^2*u*v - b_4_3*c_2_3*n_2^2*u*v - b_1_1*c_3_1*n_1*n_2*v^2 - b_1_2*c_3_2*n_1*n_2*v^2 - b_1_3*c_3_3*n_1*n_2*v^2 - b_2_1*c_4_1*n_1*n_2*v^2 - b_2_2*c_4_2*n_1*n_2*v^2 - b_2_3*c_4_3*n_1*n_2*v^2 + b_1_1*c_1_1*n_2^2*v^2 + b_1_2*c_1_2*n_2^2*v^2 + b_1_3*c_1_3*n_2^2*v^2 + b_2_1*c_2_1*n_2^2*v^2 + b_2_2*c_2_2*n_2^2*v^2 + b_2_3*c_2_3*n_2^2*v^2 + b_1_2*b_3_1*c_1_2*c_3_1 - b_1_1*b_3_2*c_1_2*c_3_1 + b_1_3*b_3_1*c_1_3*c_3_1 - b_1_1*b_3_3*c_1_3*c_3_1 + b_2_1*b_3_1*c_2_1*c_3_1 - b_1_1*b_4_1*c_2_1*c_3_1 + b_2_2*b_3_1*c_2_2*c_3_1 - b_1_1*b_4_2*c_2_2*c_3_1 + b_2_3*b_3_1*c_2_3*c_3_1 - b_1_1*b_4_3*c_2_3*c_3_1 - b_1_2*b_3_1*c_1_1*c_3_2 + b_1_1*b_3_2*c_1_1*c_3_2 + b_1_3*b_3_2*c_1_3*c_3_2 - b_1_2*b_3_3*c_1_3*c_3_2 + b_2_1*b_3_2*c_2_1*c_3_2 - b_1_2*b_4_1*c_2_1*c_3_2 + b_2_2*b_3_2*c_2_2*c_3_2 - b_1_2*b_4_2*c_2_2*c_3_2 + b_2_3*b_3_2*c_2_3*c_3_2 - b_1_2*b_4_3*c_2_3*c_3_2 - b_1_3*b_3_1*c_1_1*c_3_3 + b_1_1*b_3_3*c_1_1*c_3_3 - b_1_3*b_3_2*c_1_2*c_3_3 + b_1_2*b_3_3*c_1_2*c_3_3 + b_2_1*b_3_3*c_2_1*c_3_3 - b_1_3*b_4_1*c_2_1*c_3_3 + b_2_2*b_3_3*c_2_2*c_3_3 - b_1_3*b_4_2*c_2_2*c_3_3 + b_2_3*b_3_3*c_2_3*c_3_3 - b_1_3*b_4_3*c_2_3*c_3_3 - b_2_1*b_3_1*c_1_1*c_4_1 + b_1_1*b_4_1*c_1_1*c_4_1 - b_2_1*b_3_2*c_1_2*c_4_1 + b_1_2*b_4_1*c_1_2*c_4_1 - b_2_1*b_3_3*c_1_3*c_4_1 + b_1_3*b_4_1*c_1_3*c_4_1 + b_2_2*b_4_1*c_2_2*c_4_1 - b_2_1*b_4_2*c_2_2*c_4_1 + b_2_3*b_4_1*c_2_3*c_4_1 - b_2_1*b_4_3*c_2_3*c_4_1 - b_2_2*b_3_1*c_1_1*c_4_2 + b_1_1*b_4_2*c_1_1*c_4_2 - b_2_2*b_3_2*c_1_2*c_4_2 + b_1_2*b_4_2*c_1_2*c_4_2 - b_2_2*b_3_3*c_1_3*c_4_2 + b_1_3*b_4_2*c_1_3*c_4_2 - b_2_2*b_4_1*c_2_1*c_4_2 + b_2_1*b_4_2*c_2_1*c_4_2 + b_2_3*b_4_2*c_2_3*c_4_2 - b_2_2*b_4_3*c_2_3*c_4_2 - b_2_3*b_3_1*c_1_1*c_4_3 + b_1_1*b_4_3*c_1_1*c_4_3 - b_2_3*b_3_2*c_1_2*c_4_3 + b_1_2*b_4_3*c_1_2*c_4_3 - b_2_3*b_3_3*c_1_3*c_4_3 + b_1_3*b_4_3*c_1_3*c_4_3 - b_2_3*b_4_1*c_2_1*c_4_3 + b_2_1*b_4_3*c_2_1*c_4_3 - b_2_3*b_4_2*c_2_2*c_4_3 + b_2_2*b_4_3*c_2_2*c_4_3 + b_3_1*c_3_1*d_1_0*n_1 + b_3_2*c_3_2*d_1_0*n_1 + b_3_3*c_3_3*d_1_0*n_1 + b_4_1*c_4_1*d_1_0*n_1 + b_4_2*c_4_2*d_1_0*n_1 + b_4_3*c_4_3*d_1_0*n_1 - b_1_1*c_3_1*d_2_0*n_1 - b_1_2*c_3_2*d_2_0*n_1 - b_1_3*c_3_3*d_2_0*n_1 - b_2_1*c_4_1*d_2_0*n_1 - b_2_2*c_4_2*d_2_0*n_1 - b_2_3*c_4_3*d_2_0*n_1 - b_3_1*c_1_1*d_1_0*n_2 - b_3_2*c_1_2*d_1_0*n_2 - b_3_3*c_1_3*d_1_0*n_2 - b_4_1*c_2_1*d_1_0*n_2 - b_4_2*c_2_2*d_1_0*n_2 - b_4_3*c_2_3*d_1_0*n_2 + b_1_1*c_1_1*d_2_0*n_2 + b_1_2*c_1_2*d_2_0*n_2 + b_1_3*c_1_3*d_2_0*n_2 + b_2_1*c_2_1*d_2_0*n_2 + b_2_2*c_2_2*d_2_0*n_2 + b_2_3*c_2_3*d_2_0*n_2 - (n_2^2*v^2 + d_2_0*n_2 + n_1*u)*(b_1_1*c_1_1 + b_1_2*c_1_2 + b_1_3*c_1_3 + b_2_1*c_2_1 + b_2_2*c_2_2 + b_2_3*c_2_3) + (n_1*n_2*u^2 + n_2^2*u*v + d_1_0*n_2)*(b_3_1*c_1_1 + b_3_2*c_1_2 + b_3_3*c_1_3 + b_4_1*c_2_1 + b_4_2*c_2_2 + b_4_3*c_2_3) + (n_1^2*u*v + n_1*n_2*v^2 - d_2_0*n_2)*(b_1_1*c_3_1 + b_1_2*c_3_2 + b_1_3*c_3_3 + b_2_1*c_4_1 + b_2_2*c_4_2 + b_2_3*c_4_3) + (b_3_1*c_1_1 + b_3_2*c_1_2 + b_3_3*c_1_3 + b_4_1*c_2_1 + b_4_2*c_2_2 + b_4_3*c_2_3)*(b_1_1*c_3_1 + b_1_2*c_3_2 + b_1_3*c_3_3 + b_2_1*c_4_1 + b_2_2*c_4_2 + b_2_3*c_4_3) - (n_1^2*u^2 + d_1_0*n_1 + n_2*v)*(b_3_1*c_3_1 + b_3_2*c_3_2 + b_3_3*c_3_3 + b_4_1*c_4_1 + b_4_2*c_4_2 + b_4_3*c_4_3) - (b_1_1*c_1_1 + b_1_2*c_1_2 + b_1_3*c_1_3 + b_2_1*c_2_1 + b_2_2*c_2_2 + b_2_3*c_2_3)*(b_3_1*c_3_1 + b_3_2*c_3_2 + b_3_3*c_3_3 + b_4_1*c_4_1 + b_4_2*c_4_2 + b_4_3*c_4_3)"
      ]
     },
     "execution_count": 151,
     "metadata": {},
     "output_type": "execute_result"
    }
   ],
   "source": [
    "l_2_1.subs(dict_s) - l_2"
   ]
  },
  {
   "cell_type": "code",
   "execution_count": 62,
   "metadata": {},
   "outputs": [
    {
     "data": {
      "text/plain": [
       "4/3*alpha_1^2*n_1^2*u + 4/5*alpha_2^2*n_1^2*u + 4/7*alpha_3^2*n_1^2*u + 5/3*alpha_1*beta_1*n_1*n_2*u + alpha_2*beta_2*n_1*n_2*u + 5/7*alpha_3*beta_3*n_1*n_2*u + 1/3*beta_1^2*n_2^2*u + 1/5*beta_2^2*n_2^2*u + 1/7*beta_3^2*n_2^2*u + alpha_1^2*n_1*n_2*v + 3/5*alpha_2^2*n_1*n_2*v + 3/7*alpha_3^2*n_1*n_2*v + alpha_1*beta_1*n_2^2*v + 3/5*alpha_2*beta_2*n_2^2*v + 3/7*alpha_3*beta_3*n_2^2*v + e_z*g*h*n_1 - 1/3*alpha_1^2*n_1 - 1/5*alpha_2^2*n_1 - 1/7*alpha_3^2*n_1 - 1/3*alpha_1*beta_1*n_2 - 1/5*alpha_2*beta_2*n_2 - 1/7*alpha_3*beta_3*n_2 - n_1*u^2 - n_2*u*v"
      ]
     },
     "execution_count": 62,
     "metadata": {},
     "output_type": "execute_result"
    }
   ],
   "source": []
  },
  {
   "cell_type": "markdown",
   "metadata": {},
   "source": [
    "## Eigenvectors"
   ]
  },
  {
   "cell_type": "code",
   "execution_count": 167,
   "metadata": {},
   "outputs": [
    {
     "name": "stdout",
     "output_type": "stream",
     "text": [
      "n_1*u + n_2*v - 1/5*sqrt(5*(5*e_z*g*h + 5*alpha_1^2 + 3*alpha_2^2)*n_1^2 + 10*(5*alpha_1*beta_1 + 3*alpha_2*beta_2)*n_1*n_2 + 5*(5*e_z*g*h + 5*beta_1^2 + 3*beta_2^2)*n_2^2)\n",
      "n_1*u + n_2*v + 1/5*sqrt(5*(5*e_z*g*h + 5*alpha_1^2 + 3*alpha_2^2)*n_1^2 + 10*(5*alpha_1*beta_1 + 3*alpha_2*beta_2)*n_1*n_2 + 5*(5*e_z*g*h + 5*beta_1^2 + 3*beta_2^2)*n_2^2)\n",
      "n_1*u + n_2*v\n",
      "n_1*u + n_2*v - 1/15*sqrt(15*(5*alpha_1^2 + 3*alpha_2^2)*n_1^2 + 30*(5*alpha_1*beta_1 + 3*alpha_2*beta_2)*n_1*n_2 + 15*(5*beta_1^2 + 3*beta_2^2)*n_2^2)\n",
      "n_1*u + n_2*v + 1/15*sqrt(15*(5*alpha_1^2 + 3*alpha_2^2)*n_1^2 + 30*(5*alpha_1*beta_1 + 3*alpha_2*beta_2)*n_1*n_2 + 15*(5*beta_1^2 + 3*beta_2^2)*n_2^2)\n",
      "(1, 1/5*(5*((15*e_z*g*h + 10*alpha_1^2 + 6*alpha_2^2)*n_1^2 + 4*(5*alpha_1*beta_1 + 3*alpha_2*beta_2)*n_1*n_2 + (15*e_z*g*h + 10*beta_1^2 + 6*beta_2^2)*n_2^2)*u - sqrt(5*(5*e_z*g*h + 5*alpha_1^2 + 3*alpha_2^2)*n_1^2 + 10*(5*alpha_1*beta_1 + 3*alpha_2*beta_2)*n_1*n_2 + 5*(5*e_z*g*h + 5*beta_1^2 + 3*beta_2^2)*n_2^2)*((15*e_z*g*h + 10*alpha_1^2 + 6*alpha_2^2)*n_1 + 2*(5*alpha_1*beta_1 + 3*alpha_2*beta_2)*n_2))/((15*e_z*g*h + 10*alpha_1^2 + 6*alpha_2^2)*n_1^2 + 4*(5*alpha_1*beta_1 + 3*alpha_2*beta_2)*n_1*n_2 + (15*e_z*g*h + 10*beta_1^2 + 6*beta_2^2)*n_2^2), 1/5*(5*((15*e_z*g*h + 10*alpha_1^2 + 6*alpha_2^2)*n_1^2 + 4*(5*alpha_1*beta_1 + 3*alpha_2*beta_2)*n_1*n_2 + (15*e_z*g*h + 10*beta_1^2 + 6*beta_2^2)*n_2^2)*v - sqrt(5*(5*e_z*g*h + 5*alpha_1^2 + 3*alpha_2^2)*n_1^2 + 10*(5*alpha_1*beta_1 + 3*alpha_2*beta_2)*n_1*n_2 + 5*(5*e_z*g*h + 5*beta_1^2 + 3*beta_2^2)*n_2^2)*(2*(5*alpha_1*beta_1 + 3*alpha_2*beta_2)*n_1 + (15*e_z*g*h + 10*beta_1^2 + 6*beta_2^2)*n_2))/((15*e_z*g*h + 10*alpha_1^2 + 6*alpha_2^2)*n_1^2 + 4*(5*alpha_1*beta_1 + 3*alpha_2*beta_2)*n_1*n_2 + (15*e_z*g*h + 10*beta_1^2 + 6*beta_2^2)*n_2^2), (2*(15*alpha_1*e_z*g*h + 10*alpha_1^3 + 6*alpha_1*alpha_2^2)*n_1^2 + (15*beta_1*e_z*g*h + 18*alpha_1*alpha_2*beta_2 + 2*(20*alpha_1^2 + 3*alpha_2^2)*beta_1)*n_1*n_2 + (15*alpha_1*e_z*g*h + 20*alpha_1*beta_1^2 + 6*alpha_2*beta_1*beta_2 + 6*alpha_1*beta_2^2)*n_2^2)/((15*e_z*g*h + 10*alpha_1^2 + 6*alpha_2^2)*n_1^2 + 4*(5*alpha_1*beta_1 + 3*alpha_2*beta_2)*n_1*n_2 + (15*e_z*g*h + 10*beta_1^2 + 6*beta_2^2)*n_2^2), ((15*beta_1*e_z*g*h + 6*alpha_1*alpha_2*beta_2 + 2*(10*alpha_1^2 + 3*alpha_2^2)*beta_1)*n_1^2 + (15*alpha_1*e_z*g*h + 40*alpha_1*beta_1^2 + 18*alpha_2*beta_1*beta_2 + 6*alpha_1*beta_2^2)*n_1*n_2 + 2*(15*beta_1*e_z*g*h + 10*beta_1^3 + 6*beta_1*beta_2^2)*n_2^2)/((15*e_z*g*h + 10*alpha_1^2 + 6*alpha_2^2)*n_1^2 + 4*(5*alpha_1*beta_1 + 3*alpha_2*beta_2)*n_1*n_2 + (15*e_z*g*h + 10*beta_1^2 + 6*beta_2^2)*n_2^2), (2*(15*alpha_2*e_z*g*h + 10*alpha_1^2*alpha_2 + 6*alpha_2^3)*n_1^2 + (15*beta_2*e_z*g*h + 30*alpha_1*alpha_2*beta_1 + 2*(5*alpha_1^2 + 12*alpha_2^2)*beta_2)*n_1*n_2 + (15*alpha_2*e_z*g*h + 10*alpha_2*beta_1^2 + 10*alpha_1*beta_1*beta_2 + 12*alpha_2*beta_2^2)*n_2^2)/((15*e_z*g*h + 10*alpha_1^2 + 6*alpha_2^2)*n_1^2 + 4*(5*alpha_1*beta_1 + 3*alpha_2*beta_2)*n_1*n_2 + (15*e_z*g*h + 10*beta_1^2 + 6*beta_2^2)*n_2^2), ((15*beta_2*e_z*g*h + 10*alpha_1*alpha_2*beta_1 + 2*(5*alpha_1^2 + 6*alpha_2^2)*beta_2)*n_1^2 + (15*alpha_2*e_z*g*h + 10*alpha_2*beta_1^2 + 30*alpha_1*beta_1*beta_2 + 24*alpha_2*beta_2^2)*n_1*n_2 + 2*(15*beta_2*e_z*g*h + 10*beta_1^2*beta_2 + 6*beta_2^3)*n_2^2)/((15*e_z*g*h + 10*alpha_1^2 + 6*alpha_2^2)*n_1^2 + 4*(5*alpha_1*beta_1 + 3*alpha_2*beta_2)*n_1*n_2 + (15*e_z*g*h + 10*beta_1^2 + 6*beta_2^2)*n_2^2))\n",
      "(1, 1/5*(5*((15*e_z*g*h + 10*alpha_1^2 + 6*alpha_2^2)*n_1^2 + 4*(5*alpha_1*beta_1 + 3*alpha_2*beta_2)*n_1*n_2 + (15*e_z*g*h + 10*beta_1^2 + 6*beta_2^2)*n_2^2)*u + sqrt(5*(5*e_z*g*h + 5*alpha_1^2 + 3*alpha_2^2)*n_1^2 + 10*(5*alpha_1*beta_1 + 3*alpha_2*beta_2)*n_1*n_2 + 5*(5*e_z*g*h + 5*beta_1^2 + 3*beta_2^2)*n_2^2)*((15*e_z*g*h + 10*alpha_1^2 + 6*alpha_2^2)*n_1 + 2*(5*alpha_1*beta_1 + 3*alpha_2*beta_2)*n_2))/((15*e_z*g*h + 10*alpha_1^2 + 6*alpha_2^2)*n_1^2 + 4*(5*alpha_1*beta_1 + 3*alpha_2*beta_2)*n_1*n_2 + (15*e_z*g*h + 10*beta_1^2 + 6*beta_2^2)*n_2^2), 1/5*(5*((15*e_z*g*h + 10*alpha_1^2 + 6*alpha_2^2)*n_1^2 + 4*(5*alpha_1*beta_1 + 3*alpha_2*beta_2)*n_1*n_2 + (15*e_z*g*h + 10*beta_1^2 + 6*beta_2^2)*n_2^2)*v + sqrt(5*(5*e_z*g*h + 5*alpha_1^2 + 3*alpha_2^2)*n_1^2 + 10*(5*alpha_1*beta_1 + 3*alpha_2*beta_2)*n_1*n_2 + 5*(5*e_z*g*h + 5*beta_1^2 + 3*beta_2^2)*n_2^2)*(2*(5*alpha_1*beta_1 + 3*alpha_2*beta_2)*n_1 + (15*e_z*g*h + 10*beta_1^2 + 6*beta_2^2)*n_2))/((15*e_z*g*h + 10*alpha_1^2 + 6*alpha_2^2)*n_1^2 + 4*(5*alpha_1*beta_1 + 3*alpha_2*beta_2)*n_1*n_2 + (15*e_z*g*h + 10*beta_1^2 + 6*beta_2^2)*n_2^2), (2*(15*alpha_1*e_z*g*h + 10*alpha_1^3 + 6*alpha_1*alpha_2^2)*n_1^2 + (15*beta_1*e_z*g*h + 18*alpha_1*alpha_2*beta_2 + 2*(20*alpha_1^2 + 3*alpha_2^2)*beta_1)*n_1*n_2 + (15*alpha_1*e_z*g*h + 20*alpha_1*beta_1^2 + 6*alpha_2*beta_1*beta_2 + 6*alpha_1*beta_2^2)*n_2^2)/((15*e_z*g*h + 10*alpha_1^2 + 6*alpha_2^2)*n_1^2 + 4*(5*alpha_1*beta_1 + 3*alpha_2*beta_2)*n_1*n_2 + (15*e_z*g*h + 10*beta_1^2 + 6*beta_2^2)*n_2^2), ((15*beta_1*e_z*g*h + 6*alpha_1*alpha_2*beta_2 + 2*(10*alpha_1^2 + 3*alpha_2^2)*beta_1)*n_1^2 + (15*alpha_1*e_z*g*h + 40*alpha_1*beta_1^2 + 18*alpha_2*beta_1*beta_2 + 6*alpha_1*beta_2^2)*n_1*n_2 + 2*(15*beta_1*e_z*g*h + 10*beta_1^3 + 6*beta_1*beta_2^2)*n_2^2)/((15*e_z*g*h + 10*alpha_1^2 + 6*alpha_2^2)*n_1^2 + 4*(5*alpha_1*beta_1 + 3*alpha_2*beta_2)*n_1*n_2 + (15*e_z*g*h + 10*beta_1^2 + 6*beta_2^2)*n_2^2), (2*(15*alpha_2*e_z*g*h + 10*alpha_1^2*alpha_2 + 6*alpha_2^3)*n_1^2 + (15*beta_2*e_z*g*h + 30*alpha_1*alpha_2*beta_1 + 2*(5*alpha_1^2 + 12*alpha_2^2)*beta_2)*n_1*n_2 + (15*alpha_2*e_z*g*h + 10*alpha_2*beta_1^2 + 10*alpha_1*beta_1*beta_2 + 12*alpha_2*beta_2^2)*n_2^2)/((15*e_z*g*h + 10*alpha_1^2 + 6*alpha_2^2)*n_1^2 + 4*(5*alpha_1*beta_1 + 3*alpha_2*beta_2)*n_1*n_2 + (15*e_z*g*h + 10*beta_1^2 + 6*beta_2^2)*n_2^2), ((15*beta_2*e_z*g*h + 10*alpha_1*alpha_2*beta_1 + 2*(5*alpha_1^2 + 6*alpha_2^2)*beta_2)*n_1^2 + (15*alpha_2*e_z*g*h + 10*alpha_2*beta_1^2 + 30*alpha_1*beta_1*beta_2 + 24*alpha_2*beta_2^2)*n_1*n_2 + 2*(15*beta_2*e_z*g*h + 10*beta_1^2*beta_2 + 6*beta_2^3)*n_2^2)/((15*e_z*g*h + 10*alpha_1^2 + 6*alpha_2^2)*n_1^2 + 4*(5*alpha_1*beta_1 + 3*alpha_2*beta_2)*n_1*n_2 + (15*e_z*g*h + 10*beta_1^2 + 6*beta_2^2)*n_2^2))\n",
      "(1, u, v, 0, 0, -1/6*((15*alpha_2*e_z*g*h - 5*alpha_1^2*alpha_2 - 3*alpha_2^3)*n_1^2 + 2*(15*beta_2*e_z*g*h - (5*alpha_1^2 + 3*alpha_2^2)*beta_2)*n_1*n_2 - (15*alpha_2*e_z*g*h - 5*alpha_2*beta_1^2 + 10*alpha_1*beta_1*beta_2 + 3*alpha_2*beta_2^2)*n_2^2)/(alpha_2^2*n_1^2 + 2*alpha_2*beta_2*n_1*n_2 + beta_2^2*n_2^2), 1/6*((15*beta_2*e_z*g*h + 10*alpha_1*alpha_2*beta_1 - (5*alpha_1^2 - 3*alpha_2^2)*beta_2)*n_1^2 - 2*(15*alpha_2*e_z*g*h - 5*alpha_2*beta_1^2 - 3*alpha_2*beta_2^2)*n_1*n_2 - (15*beta_2*e_z*g*h - 5*beta_1^2*beta_2 - 3*beta_2^3)*n_2^2)/(alpha_2^2*n_1^2 + 2*alpha_2*beta_2*n_1*n_2 + beta_2^2*n_2^2))\n",
      "(0, 1, -n_1/n_2, -sqrt(15*(5*alpha_1^2 + 3*alpha_2^2)*n_1^2 + 30*(5*alpha_1*beta_1 + 3*alpha_2*beta_2)*n_1*n_2 + 15*(5*beta_1^2 + 3*beta_2^2)*n_2^2)*(alpha_1*n_1 + beta_1*n_2)/((5*alpha_1^2 + 3*alpha_2^2)*n_1^2 + 2*(5*alpha_1*beta_1 + 3*alpha_2*beta_2)*n_1*n_2 + (5*beta_1^2 + 3*beta_2^2)*n_2^2), sqrt(15*(5*alpha_1^2 + 3*alpha_2^2)*n_1^2 + 30*(5*alpha_1*beta_1 + 3*alpha_2*beta_2)*n_1*n_2 + 15*(5*beta_1^2 + 3*beta_2^2)*n_2^2)*(alpha_1*n_1^2 + beta_1*n_1*n_2)/((5*alpha_1^2 + 3*alpha_2^2)*n_1^2*n_2 + 2*(5*alpha_1*beta_1 + 3*alpha_2*beta_2)*n_1*n_2^2 + (5*beta_1^2 + 3*beta_2^2)*n_2^3), -sqrt(15*(5*alpha_1^2 + 3*alpha_2^2)*n_1^2 + 30*(5*alpha_1*beta_1 + 3*alpha_2*beta_2)*n_1*n_2 + 15*(5*beta_1^2 + 3*beta_2^2)*n_2^2)*(alpha_2*n_1 + beta_2*n_2)/((5*alpha_1^2 + 3*alpha_2^2)*n_1^2 + 2*(5*alpha_1*beta_1 + 3*alpha_2*beta_2)*n_1*n_2 + (5*beta_1^2 + 3*beta_2^2)*n_2^2), sqrt(15*(5*alpha_1^2 + 3*alpha_2^2)*n_1^2 + 30*(5*alpha_1*beta_1 + 3*alpha_2*beta_2)*n_1*n_2 + 15*(5*beta_1^2 + 3*beta_2^2)*n_2^2)*(alpha_2*n_1^2 + beta_2*n_1*n_2)/((5*alpha_1^2 + 3*alpha_2^2)*n_1^2*n_2 + 2*(5*alpha_1*beta_1 + 3*alpha_2*beta_2)*n_1*n_2^2 + (5*beta_1^2 + 3*beta_2^2)*n_2^3))\n",
      "(0, 1, -n_1/n_2, sqrt(15*(5*alpha_1^2 + 3*alpha_2^2)*n_1^2 + 30*(5*alpha_1*beta_1 + 3*alpha_2*beta_2)*n_1*n_2 + 15*(5*beta_1^2 + 3*beta_2^2)*n_2^2)*(alpha_1*n_1 + beta_1*n_2)/((5*alpha_1^2 + 3*alpha_2^2)*n_1^2 + 2*(5*alpha_1*beta_1 + 3*alpha_2*beta_2)*n_1*n_2 + (5*beta_1^2 + 3*beta_2^2)*n_2^2), -sqrt(15*(5*alpha_1^2 + 3*alpha_2^2)*n_1^2 + 30*(5*alpha_1*beta_1 + 3*alpha_2*beta_2)*n_1*n_2 + 15*(5*beta_1^2 + 3*beta_2^2)*n_2^2)*(alpha_1*n_1^2 + beta_1*n_1*n_2)/((5*alpha_1^2 + 3*alpha_2^2)*n_1^2*n_2 + 2*(5*alpha_1*beta_1 + 3*alpha_2*beta_2)*n_1*n_2^2 + (5*beta_1^2 + 3*beta_2^2)*n_2^3), sqrt(15*(5*alpha_1^2 + 3*alpha_2^2)*n_1^2 + 30*(5*alpha_1*beta_1 + 3*alpha_2*beta_2)*n_1*n_2 + 15*(5*beta_1^2 + 3*beta_2^2)*n_2^2)*(alpha_2*n_1 + beta_2*n_2)/((5*alpha_1^2 + 3*alpha_2^2)*n_1^2 + 2*(5*alpha_1*beta_1 + 3*alpha_2*beta_2)*n_1*n_2 + (5*beta_1^2 + 3*beta_2^2)*n_2^2), -sqrt(15*(5*alpha_1^2 + 3*alpha_2^2)*n_1^2 + 30*(5*alpha_1*beta_1 + 3*alpha_2*beta_2)*n_1*n_2 + 15*(5*beta_1^2 + 3*beta_2^2)*n_2^2)*(alpha_2*n_1^2 + beta_2*n_1*n_2)/((5*alpha_1^2 + 3*alpha_2^2)*n_1^2*n_2 + 2*(5*alpha_1*beta_1 + 3*alpha_2*beta_2)*n_1*n_2^2 + (5*beta_1^2 + 3*beta_2^2)*n_2^3))\n"
     ]
    }
   ],
   "source": [
    "num_moments = 2\n",
    "tuple_ = swlme.get_swlme_equations_2d(num_moments)\n",
    "A_x = tuple_[4]\n",
    "A_y = tuple_[5]\n",
    "n = svm.get_vector_variable('n', 3)\n",
    "eig = (n[1] * A_x + n[2] * A_y).eigenvectors_right()\n",
    "eigenvalues = vector([e[0].simplify_full() for e in eig])\n",
    "eigenvectors = [e[1][0].simplify_full() for e in eig]\n",
    "for e in eigenvalues:\n",
    "    print(e)\n",
    "    \n",
    "for e in eigenvectors:\n",
    "    print(e)"
   ]
  },
  {
   "cell_type": "code",
   "execution_count": 161,
   "metadata": {},
   "outputs": [
    {
     "data": {
      "text/plain": [
       "1/5*(5*((15*e_z*g*h + 10*alpha_1^2 + 6*alpha_2^2)*n_1^2 + 4*(5*alpha_1*beta_1 + 3*alpha_2*beta_2)*n_1*n_2 + (15*e_z*g*h + 10*beta_1^2 + 6*beta_2^2)*n_2^2)*u - sqrt(5*(5*e_z*g*h + 5*alpha_1^2 + 3*alpha_2^2)*n_1^2 + 10*(5*alpha_1*beta_1 + 3*alpha_2*beta_2)*n_1*n_2 + 5*(5*e_z*g*h + 5*beta_1^2 + 3*beta_2^2)*n_2^2)*((15*e_z*g*h + 10*alpha_1^2 + 6*alpha_2^2)*n_1 + 2*(5*alpha_1*beta_1 + 3*alpha_2*beta_2)*n_2))/((15*e_z*g*h + 10*alpha_1^2 + 6*alpha_2^2)*n_1^2 + 4*(5*alpha_1*beta_1 + 3*alpha_2*beta_2)*n_1*n_2 + (15*e_z*g*h + 10*beta_1^2 + 6*beta_2^2)*n_2^2)"
      ]
     },
     "execution_count": 161,
     "metadata": {},
     "output_type": "execute_result"
    }
   ],
   "source": [
    "eigenvectors[0][1].simplify_full()"
   ]
  },
  {
   "cell_type": "code",
   "execution_count": 166,
   "metadata": {},
   "outputs": [
    {
     "data": {
      "text/plain": [
       "[                                                                         0                                                                        n_1                                                                        n_2                                                                          0                                                                          0]\n",
       "[1/3*(3*e_z*g*h - alpha_1^2 - 3*u^2)*n_1 - 1/3*(alpha_1*beta_1 + 3*u*v)*n_2                                                            2*n_1*u + n_2*v                                                                      n_2*u                                           2/3*alpha_1*n_1 + 1/3*beta_1*n_2                                                            1/3*alpha_1*n_2]\n",
       "[-1/3*(alpha_1*beta_1 + 3*u*v)*n_1 + 1/3*(3*e_z*g*h - beta_1^2 - 3*v^2)*n_2                                                                      n_1*v                                                            n_1*u + 2*n_2*v                                                             1/3*beta_1*n_1                                           1/3*alpha_1*n_1 + 2/3*beta_1*n_2]\n",
       "[                             -2*alpha_1*n_1*u - (beta_1*u + alpha_1*v)*n_2                                                 2*alpha_1*n_1 + beta_1*n_2                                                                alpha_1*n_2                                                              n_1*u + n_2*v                                                                          0]\n",
       "[                              -2*beta_1*n_2*v - (beta_1*u + alpha_1*v)*n_1                                                                 beta_1*n_1                                                 alpha_1*n_1 + 2*beta_1*n_2                                                                          0                                                              n_1*u + n_2*v]"
      ]
     },
     "execution_count": 166,
     "metadata": {},
     "output_type": "execute_result"
    }
   ],
   "source": [
    "A_x * n[1] + A_y * n[2]"
   ]
  },
  {
   "cell_type": "code",
   "execution_count": 85,
   "metadata": {},
   "outputs": [],
   "source": [
    "num_moments = 2\n",
    "N = num_moments\n",
    "num_eqns = 2 * num_moments + 3\n",
    "N_e = num_eqns\n",
    "tuple_ = swlme.get_swlme_equations_2d(num_moments)\n",
    "Q_x = tuple_[4]\n",
    "Q_y = tuple_[5]\n",
    "n = svm.get_vector_variable('n', 3)\n",
    "lambda_ = SR.symbol(\"lambda_\")\n",
    "Q = n[1] * Q_x + n[2] * Q_y - lambda_ * matrix.identity(N_e)\n",
    "p = swme.get_primitive_variables_2d(num_moments)\n",
    "h = p[0]\n",
    "u = p[1]\n",
    "v = p[2]\n",
    "alpha = vector([0] + list(p[3::2]))\n",
    "beta = vector([0] + list(p[4::2]))\n",
    "\n",
    "tuple_ = swme.get_misc_variables()\n",
    "g = tuple_[0]\n",
    "e_z = tuple_[3]\n",
    "\n",
    "d_1 = svm.get_vector_variable(\"d_1\", num_moments + 1)\n",
    "d_2 = svm.get_vector_variable(\"d_2\", num_moments + 1)\n",
    "b_1 = svm.get_vector_variable(\"b_1\", num_moments + 1)\n",
    "b_2 = svm.get_vector_variable(\"b_2\", num_moments + 1)\n",
    "b_3 = svm.get_vector_variable(\"b_3\", num_moments + 1)\n",
    "b_4 = svm.get_vector_variable(\"b_4\", num_moments + 1)\n",
    "c_1 = svm.get_vector_variable(\"c_1\", num_moments + 1)\n",
    "c_2 = svm.get_vector_variable(\"c_2\", num_moments + 1)\n",
    "c_3 = svm.get_vector_variable(\"c_3\", num_moments + 1)\n",
    "c_4 = svm.get_vector_variable(\"c_4\", num_moments + 1)\n",
    "\n",
    "dict_d_1 = {d_1[i]: n[1] * (-2 * u * alpha[i]) + n[2] * (-u * beta[i] - v * alpha[i]) for i in range(1, num_moments + 1)}\n",
    "dict_d_1.update({d_1[0]: Q[1, 0]})\n",
    "dict_d_2 = {d_2[i]: n[1] * (-u * beta[i] - v * alpha[i]) + n[2] * (-2 * v * beta[i]) for i in range(1, num_moments + 1)}\n",
    "dict_d_2.update({d_2[0]: Q[2, 0]})\n",
    "dict_b_1 = {b_1[i]: n[1] * 2 / (2 * i + 1) * alpha[i] + n[2] * 1 / (2 * i + 1) * beta[i] for i in range(1, num_moments + 1)}\n",
    "dict_b_2 = {b_2[i]: n[2] * 1 / (2 * i + 1) * alpha[i] for i in range(1, num_moments + 1)}\n",
    "dict_b_3 = {b_3[i]: n[1] * 1 / (2 * i + 1) * beta[i] for i in range(1, num_moments + 1)}\n",
    "dict_b_4 = {b_4[i]: n[1] * 1 / (2 * i + 1) * alpha[i] + n[2] * 2 / (2 * i + 1) * beta[i] for i in range(1, num_moments + 1)}\n",
    "dict_c_1 = {c_1[i]: n[1] * 2 * alpha[i] + n[2] * beta[i] for i in range(1, num_moments + 1)}\n",
    "dict_c_2 = {c_2[i]: n[1] * beta[i] for i in range(1, num_moments + 1)}\n",
    "dict_c_3 = {c_3[i]: n[2] * alpha[i] for i in range(1, num_moments + 1)}\n",
    "dict_c_4 = {c_4[i]: n[1] * alpha[i] + n[2] * 2 * beta[i] for i in range(1, num_moments + 1)}\n",
    "\n",
    "lambda_ = SR.symbol(\"lambda_\")\n",
    "lambda_t = SR.symbol(\"lambda_t\")\n",
    "dict_l = {lambda_t: lambda_ - n[1] * u - n[2] * v}\n",
    "\n",
    "subs_dict = dict_d_1.copy()\n",
    "subs_dict.update(dict_d_2)\n",
    "subs_dict.update(dict_b_1)\n",
    "subs_dict.update(dict_b_2)\n",
    "subs_dict.update(dict_b_3)\n",
    "subs_dict.update(dict_b_4)\n",
    "subs_dict.update(dict_c_1)\n",
    "subs_dict.update(dict_c_2)\n",
    "subs_dict.update(dict_c_3)\n",
    "subs_dict.update(dict_c_4)\n",
    "#subs_dict.update(dict_l)\n",
    "\n",
    "q = svm.get_vector_variable(\"q\", N_e + 1)\n",
    "\n",
    "Q_t = Q\n",
    "Q_t[0, 0] = -lambda_\n",
    "Q_t[1, 0] = d_1[0]\n",
    "Q_t[2, 0] = d_2[0]\n",
    "Q_t[1, 1] = n[1] * u - lambda_ + u * n[1] + v * n[2]\n",
    "Q_t[2, 2] = n[2] * v - lambda_ + u * n[1] + v * n[2]\n",
    "for i in range(1, num_moments + 1):\n",
    "    Q_t[2 * i + 1, 0] = d_1[i]\n",
    "    Q_t[2 * i + 2, 0] = d_2[i]\n",
    "    Q_t[2 * i + 1, 1] = c_1[i]\n",
    "    Q_t[2 * i + 2, 1] = c_2[i]\n",
    "    Q_t[2 * i + 1, 2] = c_3[i]\n",
    "    Q_t[2 * i + 2, 2] = c_4[i]\n",
    "    Q_t[1, 2 * i + 1] = b_1[i]\n",
    "    Q_t[1, 2 * i + 2] = b_2[i]\n",
    "    Q_t[2, 2 * i + 1] = b_3[i]\n",
    "    Q_t[2, 2 * i + 2] = b_4[i]\n",
    "    Q_t[2 * i + 1, 2 * i + 1] = -lambda_ + u * n[1] + v * n[2]\n",
    "    Q_t[2 * i + 2, 2 * i + 2] = -lambda_ + u * n[1] + v * n[2]"
   ]
  },
  {
   "cell_type": "code",
   "execution_count": 89,
   "metadata": {},
   "outputs": [],
   "source": [
    "#dict_l = {lambda_: u * n[1] + v * n[2] + sqrt(sum([1 / (2 * i + 1) * (alpha[i] * n[1] + beta[i] * n[2])^2 for i in range(1, N + 1)]))}\n",
    "dict_l = {lambda_: u * n[1] + v * n[2] - sqrt(sum([1 / (2 * i + 1) * (alpha[i] * n[1] + beta[i] * n[2])^2 for i in range(1, N + 1)]))}\n",
    "#dict_l = {lambda_: u * n[1] + v * n[2]}\n",
    "#dict_l = {lambda_: u * n[1] + v * n[2] + sqrt(e_z * g * h * (n[1]^2 + n[2]^2) + sum([3 / (2 * i + 1) * (alpha[i] * n[1] + beta[i] * n[2])^2 for i in range(1, N + 1)]))}\n",
    "#dict_l = {lambda_: u * n[1] + v * n[2] - sqrt(e_z * g * h * (n[1]^2 + n[2]^2) + sum([3 / (2 * i + 1) * (alpha[i] * n[1] + beta[i] * n[2])^2 for i in range(1, N + 1)]))}\n",
    "Q1 = Q_t.subs(dict_l)"
   ]
  },
  {
   "cell_type": "code",
   "execution_count": 28,
   "metadata": {},
   "outputs": [
    {
     "data": {
      "text/plain": [
       "(2*sqrt(1/105*(35*alpha_1^2 + 21*alpha_2^2 + 15*alpha_3^2)*n_1^2 + 2/105*(35*alpha_1*beta_1 + 21*alpha_2*beta_2 + 15*alpha_3*beta_3)*n_1*n_2 + 1/105*(35*beta_1^2 + 21*beta_2^2 + 15*beta_3^2)*n_2^2)*(alpha_1*n_1 + beta_1*n_2)*q_1 - sqrt(1/105*(35*alpha_1^2 + 21*alpha_2^2 + 15*alpha_3^2)*n_1^2 + 2/105*(35*alpha_1*beta_1 + 21*alpha_2*beta_2 + 15*alpha_3*beta_3)*n_1*n_2 + 1/105*(35*beta_1^2 + 21*beta_2^2 + 15*beta_3^2)*n_2^2)*n_1*q_4 - sqrt(1/105*(35*alpha_1^2 + 21*alpha_2^2 + 15*alpha_3^2)*n_1^2 + 2/105*(35*alpha_1*beta_1 + 21*alpha_2*beta_2 + 15*alpha_3*beta_3)*n_1*n_2 + 1/105*(35*beta_1^2 + 21*beta_2^2 + 15*beta_3^2)*n_2^2)*n_2*q_5)/n_2"
      ]
     },
     "execution_count": 28,
     "metadata": {},
     "output_type": "execute_result"
    }
   ],
   "source": [
    "Qq = Q1 * q[1:]\n",
    "s1 = solve(Qq[0] == 0, q[3], solution_dict=True)\n",
    "s2 = solve((Qq[3] == 0).subs(s1).subs(subs_dict), q[2], solution_dict=True)\n",
    "tmp = Qq[4].subs(s1).subs(s2)\n",
    "tmp.subs(subs_dict).simplify_full()"
   ]
  },
  {
   "cell_type": "code",
   "execution_count": 122,
   "metadata": {},
   "outputs": [],
   "source": [
    "s4 = solve((Qq[1] == 0).subs(s1).subs(s2), q[4], solution_dict=True)"
   ]
  },
  {
   "cell_type": "code",
   "execution_count": 127,
   "metadata": {},
   "outputs": [
    {
     "data": {
      "text/plain": [
       "-1/3*(((3*beta_1*e_z*g*h + alpha_1^2*beta_1)*n_1^2 - 2*(3*alpha_1*e_z*g*h - alpha_1*beta_1^2)*n_1*n_2 - (3*beta_1*e_z*g*h - beta_1^3)*n_2^2)*q_1 - 2*(alpha_1^2*n_1^2 + 2*alpha_1*beta_1*n_1*n_2 + beta_1^2*n_2^2)*q_5)/(2*alpha_1*n_1 + beta_1*n_2)"
      ]
     },
     "execution_count": 127,
     "metadata": {},
     "output_type": "execute_result"
    }
   ],
   "source": [
    "Qq[2].subs(s1).subs(s2).subs(s4).subs(subs_dict).simplify_full()"
   ]
  },
  {
   "cell_type": "code",
   "execution_count": 129,
   "metadata": {},
   "outputs": [
    {
     "data": {
      "text/plain": [
       "-(b_3_1*n_1*q_1*u^2 - b_1_1*n_2*q_1*v^2 - (b_1_1*n_1 - b_3_1*n_2)*q_1*u*v + (b_3_1*d_1_0 - b_1_1*d_2_0)*q_1 + (b_2_1*b_3_1 - b_1_1*b_4_1)*q_5)/b_1_1"
      ]
     },
     "execution_count": 129,
     "metadata": {},
     "output_type": "execute_result"
    }
   ],
   "source": [
    "Qq[2].subs(s1).subs(s2).subs(s4).simplify_full()"
   ]
  },
  {
   "cell_type": "code",
   "execution_count": 116,
   "metadata": {},
   "outputs": [],
   "source": [
    "Qq = Q_t * q[1:]"
   ]
  },
  {
   "cell_type": "code",
   "execution_count": 101,
   "metadata": {},
   "outputs": [
    {
     "data": {
      "text/plain": [
       "-(n_1*u + n_2*v - sqrt(1/3*(alpha_1*n_1 + beta_1*n_2)^2 + 1/5*(alpha_2*n_1 + beta_2*n_2)^2))*q_1 + n_1*q_2 + n_2*q_3"
      ]
     },
     "execution_count": 101,
     "metadata": {},
     "output_type": "execute_result"
    }
   ],
   "source": [
    "Qq[0]"
   ]
  },
  {
   "cell_type": "code",
   "execution_count": 102,
   "metadata": {},
   "outputs": [],
   "source": [
    "s1 = solve(Qq[0] == 0, q[3], solution_dict=True)"
   ]
  },
  {
   "cell_type": "code",
   "execution_count": 108,
   "metadata": {},
   "outputs": [
    {
     "data": {
      "text/plain": [
       "-(alpha_1*n_1 + beta_1*n_2)*q_1*u - sqrt(1/15*(5*alpha_1^2 + 3*alpha_2^2)*n_1^2 + 2/15*(5*alpha_1*beta_1 + 3*alpha_2*beta_2)*n_1*n_2 + 1/15*(5*beta_1^2 + 3*beta_2^2)*n_2^2)*alpha_1*q_1 + (alpha_1*n_1 + beta_1*n_2)*q_2 + sqrt(1/15*(5*alpha_1^2 + 3*alpha_2^2)*n_1^2 + 2/15*(5*alpha_1*beta_1 + 3*alpha_2*beta_2)*n_1*n_2 + 1/15*(5*beta_1^2 + 3*beta_2^2)*n_2^2)*q_4 == 0"
      ]
     },
     "execution_count": 108,
     "metadata": {},
     "output_type": "execute_result"
    }
   ],
   "source": [
    "(Qq[3] == 0).subs(s1).subs(subs_dict).simplify_full()"
   ]
  },
  {
   "cell_type": "code",
   "execution_count": 109,
   "metadata": {},
   "outputs": [
    {
     "data": {
      "text/plain": [
       "[{q_3: (n_1*q_1*u + n_2*q_1*v - n_1*q_2 - sqrt(1/3*(alpha_1*n_1 + beta_1*n_2)^2 + 1/5*(alpha_2*n_1 + beta_2*n_2)^2)*q_1)/n_2}]"
      ]
     },
     "execution_count": 109,
     "metadata": {},
     "output_type": "execute_result"
    }
   ],
   "source": [
    "s1"
   ]
  },
  {
   "cell_type": "code",
   "execution_count": 110,
   "metadata": {},
   "outputs": [
    {
     "data": {
      "text/plain": [
       "n_2*q_3*u + d_1_0*q_1 + (n_1*u + sqrt(1/3*(alpha_1*n_1 + beta_1*n_2)^2 + 1/5*(alpha_2*n_1 + beta_2*n_2)^2))*q_2 + b_1_1*q_4 + b_2_1*q_5 + b_1_2*q_6 + b_2_2*q_7"
      ]
     },
     "execution_count": 110,
     "metadata": {},
     "output_type": "execute_result"
    }
   ],
   "source": [
    "Qq[1]"
   ]
  },
  {
   "cell_type": "code",
   "execution_count": 111,
   "metadata": {},
   "outputs": [
    {
     "data": {
      "text/plain": [
       "n_1*q_2*v + d_2_0*q_1 + (n_2*v + sqrt(1/3*(alpha_1*n_1 + beta_1*n_2)^2 + 1/5*(alpha_2*n_1 + beta_2*n_2)^2))*q_3 + b_3_1*q_4 + b_4_1*q_5 + b_3_2*q_6 + b_4_2*q_7"
      ]
     },
     "execution_count": 111,
     "metadata": {},
     "output_type": "execute_result"
    }
   ],
   "source": [
    "Qq[2]"
   ]
  },
  {
   "cell_type": "code",
   "execution_count": 131,
   "metadata": {},
   "outputs": [],
   "source": [
    "s1 = solve(Qq[0] == 0, q[3], solution_dict=True)"
   ]
  },
  {
   "cell_type": "code",
   "execution_count": 133,
   "metadata": {},
   "outputs": [],
   "source": [
    "s2 = solve(Qq[1].subs(s1) == 0, q[2], solution_dict=True)"
   ]
  },
  {
   "cell_type": "code",
   "execution_count": 125,
   "metadata": {},
   "outputs": [],
   "source": [
    "s3 = solve(Qq[2].subs(s1).subs(s2) == 0, q[3], solution_dict=True)"
   ]
  },
  {
   "cell_type": "code",
   "execution_count": 135,
   "metadata": {},
   "outputs": [
    {
     "data": {
      "text/plain": [
       "-1/15*(75*beta_1*e_z*g*h*n_1^3*q_4 - 150*alpha_1*e_z*g*h*n_1^2*n_2*q_4 - 75*beta_1*e_z*g*h*n_1*n_2^2*q_4 + 75*alpha_1*e_z*g*h*n_1^3*q_5 + 150*beta_1*e_z*g*h*n_1^2*n_2*q_5 - 75*alpha_1*e_z*g*h*n_1*n_2^2*q_5 + 45*beta_2*e_z*g*h*n_1^3*q_6 - 90*alpha_2*e_z*g*h*n_1^2*n_2*q_6 - 45*beta_2*e_z*g*h*n_1*n_2^2*q_6 + 45*alpha_2*e_z*g*h*n_1^3*q_7 + 90*beta_2*e_z*g*h*n_1^2*n_2*q_7 - 45*alpha_2*e_z*g*h*n_1*n_2^2*q_7 + 25*alpha_1^2*beta_1*n_1^3*q_4 - 15*alpha_2^2*beta_1*n_1^3*q_4 + 30*alpha_1*alpha_2*beta_2*n_1^3*q_4 + 50*alpha_1*beta_1^2*n_1^2*n_2*q_4 + 30*alpha_1*beta_2^2*n_1^2*n_2*q_4 + 25*beta_1^3*n_1*n_2^2*q_4 + 15*beta_1*beta_2^2*n_1*n_2^2*q_4 - 25*alpha_1^3*n_1^3*q_5 - 15*alpha_1*alpha_2^2*n_1^3*q_5 - 50*alpha_1^2*beta_1*n_1^2*n_2*q_5 - 30*alpha_2^2*beta_1*n_1^2*n_2*q_5 - 25*alpha_1*beta_1^2*n_1*n_2^2*q_5 - 30*alpha_2*beta_1*beta_2*n_1*n_2^2*q_5 + 15*alpha_1*beta_2^2*n_1*n_2^2*q_5 + 30*alpha_1*alpha_2*beta_1*n_1^3*q_6 - 15*alpha_1^2*beta_2*n_1^3*q_6 + 9*alpha_2^2*beta_2*n_1^3*q_6 + 30*alpha_2*beta_1^2*n_1^2*n_2*q_6 + 18*alpha_2*beta_2^2*n_1^2*n_2*q_6 + 15*beta_1^2*beta_2*n_1*n_2^2*q_6 + 9*beta_2^3*n_1*n_2^2*q_6 - 15*alpha_1^2*alpha_2*n_1^3*q_7 - 9*alpha_2^3*n_1^3*q_7 - 30*alpha_1^2*beta_2*n_1^2*n_2*q_7 - 18*alpha_2^2*beta_2*n_1^2*n_2*q_7 + 15*alpha_2*beta_1^2*n_1*n_2^2*q_7 - 30*alpha_1*beta_1*beta_2*n_1*n_2^2*q_7 - 9*alpha_2*beta_2^2*n_1*n_2^2*q_7 - 75*beta_1*n_1^3*q_4*u^2 - 75*alpha_1*n_1^3*q_5*u^2 - 150*beta_1*n_1^2*n_2*q_5*u^2 - 45*beta_2*n_1^3*q_6*u^2 - 45*alpha_2*n_1^3*q_7*u^2 - 90*beta_2*n_1^2*n_2*q_7*u^2 + 150*alpha_1*n_1^3*q_4*u*v - 150*beta_1*n_1*n_2^2*q_5*u*v + 90*alpha_2*n_1^3*q_6*u*v - 90*beta_2*n_1*n_2^2*q_7*u*v + 150*alpha_1*n_1^2*n_2*q_4*v^2 + 75*beta_1*n_1*n_2^2*q_4*v^2 + 75*alpha_1*n_1*n_2^2*q_5*v^2 + 90*alpha_2*n_1^2*n_2*q_6*v^2 + 45*beta_2*n_1*n_2^2*q_6*v^2 + 45*alpha_2*n_1*n_2^2*q_7*v^2 + 150*beta_1*lambda_*n_1^2*q_4*u + 150*alpha_1*lambda_*n_1^2*q_5*u + 300*beta_1*lambda_*n_1*n_2*q_5*u + 90*beta_2*lambda_*n_1^2*q_6*u + 90*alpha_2*lambda_*n_1^2*q_7*u + 180*beta_2*lambda_*n_1*n_2*q_7*u - 150*alpha_1*lambda_*n_1^2*q_4*v + 150*beta_1*lambda_*n_2^2*q_5*v - 90*alpha_2*lambda_*n_1^2*q_6*v + 90*beta_2*lambda_*n_2^2*q_7*v - 75*beta_1*lambda_^2*n_1*q_4 - 75*alpha_1*lambda_^2*n_1*q_5 - 150*beta_1*lambda_^2*n_2*q_5 - 45*beta_2*lambda_^2*n_1*q_6 - 45*alpha_2*lambda_^2*n_1*q_7 - 90*beta_2*lambda_^2*n_2*q_7)/((15*e_z*g*h*n_1^2 + 15*e_z*g*h*n_2^2 - 5*alpha_1^2*n_1^2 - 3*alpha_2^2*n_1^2 - 10*alpha_1*beta_1*n_1*n_2 - 6*alpha_2*beta_2*n_1*n_2 - 5*beta_1^2*n_2^2 - 3*beta_2^2*n_2^2 - 15*n_1^2*u^2 - 30*n_1*n_2*u*v - 15*n_2^2*v^2 + 30*lambda_*n_1*u + 30*lambda_*n_2*v - 15*lambda_^2)*(n_1*u + n_2*v - lambda_))"
      ]
     },
     "execution_count": 135,
     "metadata": {},
     "output_type": "execute_result"
    }
   ],
   "source": [
    "s3[0][q[3]].subs(subs_dict).simplify_full().factor()"
   ]
  },
  {
   "cell_type": "code",
   "execution_count": 132,
   "metadata": {},
   "outputs": [
    {
     "data": {
      "text/plain": [
       "[{q_3: (lambda_*q_1 - n_1*q_2)/n_2}]"
      ]
     },
     "execution_count": 132,
     "metadata": {},
     "output_type": "execute_result"
    }
   ],
   "source": [
    "s1"
   ]
  },
  {
   "cell_type": "code",
   "execution_count": 134,
   "metadata": {},
   "outputs": [
    {
     "data": {
      "text/plain": [
       "[{q_2: -(lambda_*q_1*u + d_1_0*q_1 + b_1_1*q_4 + b_2_1*q_5 + b_1_2*q_6 + b_2_2*q_7)/(n_1*u + n_2*v - lambda_)}]"
      ]
     },
     "execution_count": 134,
     "metadata": {},
     "output_type": "execute_result"
    }
   ],
   "source": [
    "s2"
   ]
  },
  {
   "cell_type": "code",
   "execution_count": 139,
   "metadata": {},
   "outputs": [
    {
     "data": {
      "text/plain": [
       "n_2*q_2*v + d_1_0*q_1 - lambda_*q_2 + b_1_1*q_4 + b_2_1*q_5 + b_1_2*q_6 + b_2_2*q_7 + (lambda_*q_1 + n_1*q_2)*u"
      ]
     },
     "execution_count": 139,
     "metadata": {},
     "output_type": "execute_result"
    }
   ],
   "source": [
    "Qq[1].subs(s1).simplify_full()"
   ]
  },
  {
   "cell_type": "code",
   "execution_count": 141,
   "metadata": {},
   "outputs": [],
   "source": [
    "s = solve([Qq[0] == 0, Qq[1] == 0, Qq[2] == 0], q[1], q[2], q[3])"
   ]
  },
  {
   "cell_type": "code",
   "execution_count": 152,
   "metadata": {},
   "outputs": [
    {
     "data": {
      "text/plain": [
       "q_1 == ((b_1_1*q_4 + b_2_1*q_5 + b_1_2*q_6 + b_2_2*q_7)*n_1 + (b_3_1*q_4 + b_4_1*q_5 + b_3_2*q_6 + b_4_2*q_7)*n_2)/(lambda_^2 - (2*lambda_*u + d_1_0)*n_1 - (2*lambda_*v + d_2_0)*n_2)"
      ]
     },
     "execution_count": 152,
     "metadata": {},
     "output_type": "execute_result"
    }
   ],
   "source": [
    "s[0][0]"
   ]
  },
  {
   "cell_type": "code",
   "execution_count": 148,
   "metadata": {},
   "outputs": [
    {
     "data": {
      "text/plain": [
       "q_2 == -((b_1_1*q_4 + b_2_1*q_5 + b_1_2*q_6 + b_2_2*q_7)*lambda_*n_1*u - (b_1_1*q_4 + b_2_1*q_5 + b_1_2*q_6 + b_2_2*q_7)*lambda_^2 - (((b_3_1*q_4 + b_4_1*q_5 + b_3_2*q_6 + b_4_2*q_7)*u - 2*(b_1_1*q_4 + b_2_1*q_5 + b_1_2*q_6 + b_2_2*q_7)*v)*lambda_ + (b_3_1*d_1_0 - b_1_1*d_2_0)*q_4 + (b_4_1*d_1_0 - b_2_1*d_2_0)*q_5 + (b_3_2*d_1_0 - b_1_2*d_2_0)*q_6 + (b_4_2*d_1_0 - b_2_2*d_2_0)*q_7)*n_2)/(lambda_^3 + (2*lambda_*u^2 + d_1_0*u)*n_1^2 + (2*lambda_*v^2 + d_2_0*v)*n_2^2 - (3*lambda_^2*u + d_1_0*lambda_)*n_1 - (3*lambda_^2*v + d_2_0*lambda_ - (4*lambda_*u*v + d_2_0*u + d_1_0*v)*n_1)*n_2)"
      ]
     },
     "execution_count": 148,
     "metadata": {},
     "output_type": "execute_result"
    }
   ],
   "source": [
    "s[0][1]"
   ]
  },
  {
   "cell_type": "code",
   "execution_count": 149,
   "metadata": {},
   "outputs": [
    {
     "data": {
      "text/plain": [
       "q_3 == -((b_3_1*q_4 + b_4_1*q_5 + b_3_2*q_6 + b_4_2*q_7)*lambda_*n_2*v - (b_3_1*q_4 + b_4_1*q_5 + b_3_2*q_6 + b_4_2*q_7)*lambda_^2 + ((2*(b_3_1*q_4 + b_4_1*q_5 + b_3_2*q_6 + b_4_2*q_7)*u - (b_1_1*q_4 + b_2_1*q_5 + b_1_2*q_6 + b_2_2*q_7)*v)*lambda_ + (b_3_1*d_1_0 - b_1_1*d_2_0)*q_4 + (b_4_1*d_1_0 - b_2_1*d_2_0)*q_5 + (b_3_2*d_1_0 - b_1_2*d_2_0)*q_6 + (b_4_2*d_1_0 - b_2_2*d_2_0)*q_7)*n_1)/(lambda_^3 + (2*lambda_*u^2 + d_1_0*u)*n_1^2 + (2*lambda_*v^2 + d_2_0*v)*n_2^2 - (3*lambda_^2*u + d_1_0*lambda_)*n_1 - (3*lambda_^2*v + d_2_0*lambda_ - (4*lambda_*u*v + d_2_0*u + d_1_0*v)*n_1)*n_2)"
      ]
     },
     "execution_count": 149,
     "metadata": {},
     "output_type": "execute_result"
    }
   ],
   "source": [
    "s[0][2]"
   ]
  },
  {
   "cell_type": "code",
   "execution_count": null,
   "metadata": {},
   "outputs": [],
   "source": []
  }
 ],
 "metadata": {
  "kernelspec": {
   "display_name": "SageMath 9.0",
   "language": "sage",
   "name": "sagemath"
  },
  "language_info": {
   "codemirror_mode": {
    "name": "ipython",
    "version": 3
   },
   "file_extension": ".py",
   "mimetype": "text/x-python",
   "name": "python",
   "nbconvert_exporter": "python",
   "pygments_lexer": "ipython3",
   "version": "3.6.10"
  }
 },
 "nbformat": 4,
 "nbformat_minor": 2
}
