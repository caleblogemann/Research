{
 "cells": [
  {
   "cell_type": "markdown",
   "metadata": {},
   "source": [
    "# Shallow Water Linearized Moment Equations"
   ]
  },
  {
   "cell_type": "markdown",
   "metadata": {},
   "source": [
    "This notebook looks at the Shallow Water Linearized Moment Equations (SWLME) given by Koellermeier in his paper _Steady States and Well-balanced Schemes for Shallow Water Moment Equations with Topography_. This notebook shows the equations themselves for different moments and is for general exploration of the equations."
   ]
  },
  {
   "cell_type": "code",
   "execution_count": 1,
   "metadata": {},
   "outputs": [],
   "source": [
    "import sageresearch.shallowwater.shallow_water_linearized_moment_equations as swlme\n",
    "import sageresearch.shallowwater.shallow_water_moment_equations as swme\n",
    "import sageresearch.utils.symbolic_vector_matrix as svm"
   ]
  },
  {
   "cell_type": "markdown",
   "metadata": {},
   "source": [
    "## 1 Dimensional Equations"
   ]
  },
  {
   "cell_type": "code",
   "execution_count": 2,
   "metadata": {},
   "outputs": [
    {
     "name": "stdout",
     "output_type": "stream",
     "text": [
      "Flux Function\n",
      "(h*u, 1/2*e_z*g*h^2 + 1/3*alpha_1^2*h + 1/5*alpha_2^2*h + h*u^2, 2*alpha_1*h*u, 2*alpha_2*h*u)\n",
      "\n",
      "Nonconservative Matrix\n",
      "[0 0 0 0]\n",
      "[0 0 0 0]\n",
      "[0 0 u 0]\n",
      "[0 0 0 u]\n",
      "\n",
      "Quasilinear Matrix\n",
      "[                                            0                                             1                                             0                                             0]\n",
      "[e_z*g*h - 1/3*alpha_1^2 - 1/5*alpha_2^2 - u^2                                           2*u                                   2/3*alpha_1                                   2/5*alpha_2]\n",
      "[                                 -2*alpha_1*u                                     2*alpha_1                                             u                                             0]\n",
      "[                                 -2*alpha_2*u                                     2*alpha_2                                             0                                             u]\n"
     ]
    }
   ],
   "source": [
    "num_moments = 2\n",
    "tuple_ = swlme.get_swlme_equations_1d(num_moments)\n",
    "f = tuple_[0]\n",
    "G = tuple_[1]\n",
    "A = tuple_[2]\n",
    "print(\"Flux Function\")\n",
    "print(f)\n",
    "print(\"\\nNonconservative Matrix\")\n",
    "print(G)\n",
    "print(\"\\nQuasilinear Matrix\")\n",
    "print(A)"
   ]
  },
  {
   "cell_type": "code",
   "execution_count": 7,
   "metadata": {},
   "outputs": [
    {
     "data": {
      "text/plain": [
       "[                                            0                                             1                                             0                                             0]\n",
       "[e_z*g*h - 1/3*alpha_1^2 - 1/5*alpha_2^2 - u^2                                           2*u                                   2/3*alpha_1                                   2/5*alpha_2]\n",
       "[                                 -2*alpha_1*u                                     2*alpha_1                                           2*u                                             0]\n",
       "[                                 -2*alpha_2*u                                     2*alpha_2                                             0                                           2*u]"
      ]
     },
     "execution_count": 7,
     "metadata": {},
     "output_type": "execute_result"
    }
   ],
   "source": [
    "A + G"
   ]
  },
  {
   "cell_type": "markdown",
   "metadata": {},
   "source": [
    "### Quasilinear Eigenvalues"
   ]
  },
  {
   "cell_type": "markdown",
   "metadata": {},
   "source": [
    "Should $u \\pm \\sqrt{gh + \\Sigma_{i=1}^{N}{\\frac{3 \\alpha_i^2}{(2i + 1)}}}$ and $u$ for all others"
   ]
  },
  {
   "cell_type": "code",
   "execution_count": 4,
   "metadata": {},
   "outputs": [
    {
     "data": {
      "text/plain": [
       "[u - sqrt(e_z*g*h + alpha_1^2), u + sqrt(e_z*g*h + alpha_1^2), u]"
      ]
     },
     "execution_count": 4,
     "metadata": {},
     "output_type": "execute_result"
    }
   ],
   "source": [
    "A.eigenvalues()"
   ]
  },
  {
   "cell_type": "markdown",
   "metadata": {},
   "source": [
    "## Two Dimensional Equations"
   ]
  },
  {
   "cell_type": "code",
   "execution_count": 20,
   "metadata": {},
   "outputs": [
    {
     "name": "stdout",
     "output_type": "stream",
     "text": [
      "Flux Function in x\n",
      "(h*u, 1/2*e_z*g*h^2 + h*u^2 + 1/15*(5*alpha_1^2 + 3*alpha_2^2)*h, h*u*v + 1/15*(5*alpha_1*beta_1 + 3*alpha_2*beta_2)*h, 2*alpha_1*h*u, beta_1*h*u + alpha_1*h*v, 2*alpha_2*h*u, beta_2*h*u + alpha_2*h*v)\n",
      "\n",
      "Flux Function in y\n",
      "(h*v, h*u*v + 1/15*(5*alpha_1*beta_1 + 3*alpha_2*beta_2)*h, 1/2*e_z*g*h^2 + h*v^2 + 1/15*(5*beta_1^2 + 3*beta_2^2)*h, beta_1*h*u + alpha_1*h*v, 2*beta_1*h*v, beta_2*h*u + alpha_2*h*v, 2*beta_2*h*v)\n",
      "\n",
      "Nonconservative Matrix in x\n",
      "[0 0 0 0 0 0 0]\n",
      "[0 0 0 0 0 0 0]\n",
      "[0 0 0 0 0 0 0]\n",
      "[0 0 0 u 0 0 0]\n",
      "[0 0 0 v 0 0 0]\n",
      "[0 0 0 0 0 u 0]\n",
      "[0 0 0 0 0 v 0]\n",
      "\n",
      "Nonconservative Matrix in y\n",
      "[0 0 0 0 0 0 0]\n",
      "[0 0 0 0 0 0 0]\n",
      "[0 0 0 0 0 0 0]\n",
      "[0 0 0 0 u 0 0]\n",
      "[0 0 0 0 v 0 0]\n",
      "[0 0 0 0 0 0 u]\n",
      "[0 0 0 0 0 0 v]\n",
      "\n",
      "Quasilinear Matrix in x\n",
      "(0, 1, 0, 0, 0, 0, 0)\n",
      "(e_z*g*h + 1/3*alpha_1^2 + 1/5*alpha_2^2 - 2/15*(5*alpha_1^2/h + 3*alpha_2^2/h)*h - u^2, 2*u, 0, 2/3*alpha_1, 0, 2/5*alpha_2, 0)\n",
      "(1/3*alpha_1*beta_1 + 1/5*alpha_2*beta_2 - 2/15*(5*alpha_1*beta_1/h + 3*alpha_2*beta_2/h)*h - u*v, v, u, 1/3*beta_1, 1/3*alpha_1, 1/5*beta_2, 1/5*alpha_2)\n",
      "[         -2*alpha_1*u             2*alpha_1                     0                     u                     0                     0                     0]\n",
      "[-beta_1*u - alpha_1*v                beta_1               alpha_1                     0                     u                     0                     0]\n",
      "[         -2*alpha_2*u             2*alpha_2                     0                     0                     0                     u                     0]\n",
      "[-beta_2*u - alpha_2*v                beta_2               alpha_2                     0                     0                     0                     u]\n",
      "\n",
      "Quasilinear Matrix in y\n",
      "(0, 0, 1, 0, 0, 0, 0)\n",
      "(1/3*alpha_1*beta_1 + 1/5*alpha_2*beta_2 - 2/15*(5*alpha_1*beta_1/h + 3*alpha_2*beta_2/h)*h - u*v, v, u, 1/3*beta_1, 1/3*alpha_1, 1/5*beta_2, 1/5*alpha_2)\n",
      "(e_z*g*h + 1/3*beta_1^2 + 1/5*beta_2^2 - 2/15*(5*beta_1^2/h + 3*beta_2^2/h)*h - v^2, 0, 2*v, 0, 2/3*beta_1, 0, 2/5*beta_2)\n",
      "[-beta_1*u - alpha_1*v                beta_1               alpha_1                     v                     0                     0                     0]\n",
      "[          -2*beta_1*v                     0              2*beta_1                     0                     v                     0                     0]\n",
      "[-beta_2*u - alpha_2*v                beta_2               alpha_2                     0                     0                     v                     0]\n",
      "[          -2*beta_2*v                     0              2*beta_2                     0                     0                     0                     v]\n"
     ]
    }
   ],
   "source": [
    "num_moments = 2\n",
    "tuple_ = swlme.get_swlme_equations_2d(num_moments)\n",
    "f_x = tuple_[0]\n",
    "f_y = tuple_[1]\n",
    "G_x = tuple_[2]\n",
    "G_y = tuple_[3]\n",
    "A_x = tuple_[4]\n",
    "A_y = tuple_[5]\n",
    "print(\"Flux Function in x\")\n",
    "print(f_x)\n",
    "print(\"\\nFlux Function in y\")\n",
    "print(f_y)\n",
    "print(\"\\nNonconservative Matrix in x\")\n",
    "print(G_x)\n",
    "print(\"\\nNonconservative Matrix in y\")\n",
    "print(G_y)\n",
    "print(\"\\nQuasilinear Matrix in x\")\n",
    "print(A_x[0])\n",
    "print(A_x[1])\n",
    "print(A_x[2])\n",
    "print(A_x[3:])\n",
    "print(\"\\nQuasilinear Matrix in y\")\n",
    "print(A_y[0])\n",
    "print(A_y[1])\n",
    "print(A_y[2])\n",
    "print(A_y[3:])"
   ]
  },
  {
   "cell_type": "markdown",
   "metadata": {},
   "source": [
    "### Quasilinear Eigenvalues/Hyperbolicity"
   ]
  },
  {
   "cell_type": "code",
   "execution_count": 65,
   "metadata": {},
   "outputs": [
    {
     "data": {
      "text/plain": [
       "[n_1*u + n_2*v - 1/5*sqrt(5*(5*e_z*g*h + 5*alpha_1^2 + 3*alpha_2^2)*n_1^2 + 10*(5*alpha_1*beta_1 + 3*alpha_2*beta_2)*n_1*n_2 + 5*(5*e_z*g*h + 5*beta_1^2 + 3*beta_2^2)*n_2^2),\n",
       " n_1*u + n_2*v + 1/5*sqrt(5*(5*e_z*g*h + 5*alpha_1^2 + 3*alpha_2^2)*n_1^2 + 10*(5*alpha_1*beta_1 + 3*alpha_2*beta_2)*n_1*n_2 + 5*(5*e_z*g*h + 5*beta_1^2 + 3*beta_2^2)*n_2^2),\n",
       " n_1*u + n_2*v,\n",
       " n_1*u + n_2*v,\n",
       " n_1*u + n_2*v,\n",
       " n_1*u + n_2*v - 1/15*sqrt(15*(5*alpha_1^2 + 3*alpha_2^2)*n_1^2 + 30*(5*alpha_1*beta_1 + 3*alpha_2*beta_2)*n_1*n_2 + 15*(5*beta_1^2 + 3*beta_2^2)*n_2^2),\n",
       " n_1*u + n_2*v + 1/15*sqrt(15*(5*alpha_1^2 + 3*alpha_2^2)*n_1^2 + 30*(5*alpha_1*beta_1 + 3*alpha_2*beta_2)*n_1*n_2 + 15*(5*beta_1^2 + 3*beta_2^2)*n_2^2)]"
      ]
     },
     "execution_count": 65,
     "metadata": {},
     "output_type": "execute_result"
    }
   ],
   "source": [
    "n = svm.get_vector_variable('n', 3)\n",
    "eigenvalues = (n[1] * A_x + n[2] * A_y).eigenvalues()\n",
    "eigenvalues"
   ]
  },
  {
   "cell_type": "code",
   "execution_count": 43,
   "metadata": {},
   "outputs": [],
   "source": [
    "test = A_y + G_y"
   ]
  },
  {
   "cell_type": "code",
   "execution_count": 44,
   "metadata": {},
   "outputs": [
    {
     "data": {
      "text/plain": [
       "[-beta_1*u - alpha_1*v                beta_1               alpha_1                     v                     u                     0                     0]\n",
       "[          -2*beta_1*v                     0              2*beta_1                     0                   2*v                     0                     0]\n",
       "[-beta_2*u - alpha_2*v                beta_2               alpha_2                     0                     0                     v                     u]\n",
       "[          -2*beta_2*v                     0              2*beta_2                     0                     0                     0                   2*v]"
      ]
     },
     "execution_count": 44,
     "metadata": {},
     "output_type": "execute_result"
    }
   ],
   "source": [
    "test[3:]"
   ]
  },
  {
   "cell_type": "code",
   "execution_count": 28,
   "metadata": {},
   "outputs": [
    {
     "data": {
      "text/plain": [
       "(e_z*g*h + 1/3*alpha_1^2 + 1/5*alpha_2^2 - 2/15*(5*alpha_1^2/h + 3*alpha_2^2/h)*h - u^2, 2*u, 0, 2/3*alpha_1, 0, 2/5*alpha_2, 0)"
      ]
     },
     "execution_count": 28,
     "metadata": {},
     "output_type": "execute_result"
    }
   ],
   "source": [
    "A_x[1]"
   ]
  },
  {
   "cell_type": "code",
   "execution_count": 29,
   "metadata": {},
   "outputs": [
    {
     "data": {
      "text/plain": [
       "(0, 0, 0, 0, 0, 0, 0)"
      ]
     },
     "execution_count": 29,
     "metadata": {},
     "output_type": "execute_result"
    }
   ],
   "source": [
    "G_x[1]"
   ]
  },
  {
   "cell_type": "code",
   "execution_count": 30,
   "metadata": {},
   "outputs": [
    {
     "data": {
      "text/plain": [
       "1/2*e_z*g*h^2 + h*u^2 + 1/15*(5*alpha_1^2 + 3*alpha_2^2)*h"
      ]
     },
     "execution_count": 30,
     "metadata": {},
     "output_type": "execute_result"
    }
   ],
   "source": [
    "f_x[1]"
   ]
  },
  {
   "cell_type": "code",
   "execution_count": 37,
   "metadata": {},
   "outputs": [
    {
     "data": {
      "text/plain": [
       "-2*alpha_1*u"
      ]
     },
     "execution_count": 37,
     "metadata": {},
     "output_type": "execute_result"
    }
   ],
   "source": [
    "test[3][0].full_simplify()"
   ]
  },
  {
   "cell_type": "code",
   "execution_count": 42,
   "metadata": {},
   "outputs": [
    {
     "data": {
      "text/plain": [
       "(-2*alpha_2*u, 2*alpha_2, 0, 0, 0, 2*u, 0)"
      ]
     },
     "execution_count": 42,
     "metadata": {},
     "output_type": "execute_result"
    }
   ],
   "source": [
    "test[5]"
   ]
  },
  {
   "cell_type": "code",
   "execution_count": 83,
   "metadata": {},
   "outputs": [
    {
     "data": {
      "text/plain": [
       "(-2*alpha_1*n_1*u - (beta_1*u + alpha_1*v)*n_2, 2*alpha_1*n_1 + beta_1*n_2, alpha_1*n_2, n_1*u + n_2*v, 0, 0, 0)"
      ]
     },
     "execution_count": 83,
     "metadata": {},
     "output_type": "execute_result"
    }
   ],
   "source": [
    "(n[1] * A_x + n[2] * A_y)[3]"
   ]
  },
  {
   "cell_type": "code",
   "execution_count": 82,
   "metadata": {},
   "outputs": [
    {
     "data": {
      "text/plain": [
       "(-2*beta_1*n_2*v - (beta_1*u + alpha_1*v)*n_1, beta_1*n_1, alpha_1*n_1 + 2*beta_1*n_2, 0, n_1*u + n_2*v, 0, 0)"
      ]
     },
     "execution_count": 82,
     "metadata": {},
     "output_type": "execute_result"
    }
   ],
   "source": [
    "(n[1] * A_x + n[2] * A_y)[4]"
   ]
  },
  {
   "cell_type": "code",
   "execution_count": null,
   "metadata": {},
   "outputs": [],
   "source": []
  }
 ],
 "metadata": {
  "kernelspec": {
   "display_name": "SageMath 9.0",
   "language": "sage",
   "name": "sagemath"
  },
  "language_info": {
   "codemirror_mode": {
    "name": "ipython",
    "version": 3
   },
   "file_extension": ".py",
   "mimetype": "text/x-python",
   "name": "python",
   "nbconvert_exporter": "python",
   "pygments_lexer": "ipython3",
   "version": "3.6.7"
  }
 },
 "nbformat": 4,
 "nbformat_minor": 2
}
