{
 "cells": [
  {
   "cell_type": "markdown",
   "metadata": {},
   "source": [
    "# Shallow Water Linearized Moment Equations"
   ]
  },
  {
   "cell_type": "markdown",
   "metadata": {},
   "source": [
    "This notebook looks at the Shallow Water Linearized Moment Equations (SWLME) given by Koellermeier in his paper _Steady States and Well-balanced Schemes for Shallow Water Moment Equations with Topography_. This notebook shows the equations themselves for different moments and is for general exploration of the equations."
   ]
  },
  {
   "cell_type": "code",
   "execution_count": 1,
   "metadata": {},
   "outputs": [],
   "source": [
    "import sageresearch.shallowwater.shallow_water_linearized_moment_equations as swlme\n",
    "import sageresearch.shallowwater.shallow_water_moment_equations as swme\n",
    "import sageresearch.utils.symbolic_vector_matrix as svm"
   ]
  },
  {
   "cell_type": "markdown",
   "metadata": {},
   "source": [
    "## 1 Dimensional Equations"
   ]
  },
  {
   "cell_type": "code",
   "execution_count": 13,
   "metadata": {},
   "outputs": [
    {
     "name": "stdout",
     "output_type": "stream",
     "text": [
      "Flux Function\n",
      "(h*u, 1/2*e_z*g*h^2 + 1/3*alpha_1^2*h + 1/5*alpha_2^2*h + h*u^2, 2*alpha_1*h*u, 2*alpha_2*h*u)\n",
      "\n",
      "Nonconservative Matrix\n",
      "[ 0  0  0  0]\n",
      "[ 0  0  0  0]\n",
      "[ 0  0 -u  0]\n",
      "[ 0  0  0 -u]\n",
      "\n",
      "Quasilinear Matrix\n",
      "[                                            0                                             1                                             0                                             0]\n",
      "[e_z*g*h - 1/3*alpha_1^2 - 1/5*alpha_2^2 - u^2                                           2*u                                   2/3*alpha_1                                   2/5*alpha_2]\n",
      "[                                 -2*alpha_1*u                                     2*alpha_1                                             u                                             0]\n",
      "[                                 -2*alpha_2*u                                     2*alpha_2                                             0                                             u]\n",
      "\n",
      "Flux Jacobian\n",
      "[                                            0                                             1                                             0                                             0]\n",
      "[e_z*g*h - 1/3*alpha_1^2 - 1/5*alpha_2^2 - u^2                                           2*u                                   2/3*alpha_1                                   2/5*alpha_2]\n",
      "[                                 -2*alpha_1*u                                     2*alpha_1                                           2*u                                             0]\n",
      "[                                 -2*alpha_2*u                                     2*alpha_2                                             0                                           2*u]\n"
     ]
    }
   ],
   "source": [
    "num_moments = 2\n",
    "tuple_ = swlme.get_swlme_equations_1d(num_moments)\n",
    "f = tuple_[0]\n",
    "G = tuple_[1]\n",
    "A = tuple_[2]\n",
    "flux_jacobian = A - G\n",
    "print(\"Flux Function\")\n",
    "print(f)\n",
    "print(\"\\nNonconservative Matrix\")\n",
    "print(G)\n",
    "print(\"\\nQuasilinear Matrix\")\n",
    "print(A)\n",
    "print(\"\\nFlux Jacobian\")\n",
    "print(flux_jacobian)"
   ]
  },
  {
   "cell_type": "markdown",
   "metadata": {},
   "source": [
    "### Quasilinear Eigenvalues"
   ]
  },
  {
   "cell_type": "markdown",
   "metadata": {},
   "source": [
    "Should $u \\pm \\sqrt{gh + \\Sigma_{i=1}^{N}{\\frac{3 \\alpha_i^2}{(2i + 1)}}}$ and $u$ for all others"
   ]
  },
  {
   "cell_type": "code",
   "execution_count": 15,
   "metadata": {},
   "outputs": [
    {
     "data": {
      "text/plain": [
       "[u - sqrt(e_z*g*h + alpha_1^2), u + sqrt(e_z*g*h + alpha_1^2), u]"
      ]
     },
     "execution_count": 15,
     "metadata": {},
     "output_type": "execute_result"
    }
   ],
   "source": [
    "num_moments = 1\n",
    "tuple_ = swlme.get_swlme_equations_1d(num_moments)\n",
    "f = tuple_[0]\n",
    "G = tuple_[1]\n",
    "A = tuple_[2]\n",
    "flux_jacobian = A - G\n",
    "A.eigenvalues()"
   ]
  },
  {
   "cell_type": "markdown",
   "metadata": {},
   "source": [
    "## Two Dimensional Equations"
   ]
  },
  {
   "cell_type": "code",
   "execution_count": 12,
   "metadata": {},
   "outputs": [
    {
     "name": "stdout",
     "output_type": "stream",
     "text": [
      "Flux Function in x\n",
      "(h*u, 1/2*e_z*g*h^2 + h*u^2 + 1/15*(5*alpha_1^2 + 3*alpha_2^2)*h, h*u*v + 1/15*(5*alpha_1*beta_1 + 3*alpha_2*beta_2)*h, 2*alpha_1*h*u, beta_1*h*u + alpha_1*h*v, 2*alpha_2*h*u, beta_2*h*u + alpha_2*h*v)\n",
      "\n",
      "Flux Function in y\n",
      "(h*v, h*u*v + 1/15*(5*alpha_1*beta_1 + 3*alpha_2*beta_2)*h, 1/2*e_z*g*h^2 + h*v^2 + 1/15*(5*beta_1^2 + 3*beta_2^2)*h, beta_1*h*u + alpha_1*h*v, 2*beta_1*h*v, beta_2*h*u + alpha_2*h*v, 2*beta_2*h*v)\n",
      "\n",
      "Nonconservative Matrix in x\n",
      "[ 0  0  0  0  0  0  0]\n",
      "[ 0  0  0  0  0  0  0]\n",
      "[ 0  0  0  0  0  0  0]\n",
      "[ 0  0  0 -u  0  0  0]\n",
      "[ 0  0  0 -v  0  0  0]\n",
      "[ 0  0  0  0  0 -u  0]\n",
      "[ 0  0  0  0  0 -v  0]\n",
      "\n",
      "Nonconservative Matrix in y\n",
      "[ 0  0  0  0  0  0  0]\n",
      "[ 0  0  0  0  0  0  0]\n",
      "[ 0  0  0  0  0  0  0]\n",
      "[ 0  0  0  0 -u  0  0]\n",
      "[ 0  0  0  0 -v  0  0]\n",
      "[ 0  0  0  0  0  0 -u]\n",
      "[ 0  0  0  0  0  0 -v]\n",
      "\n",
      "Quasilinear Matrix in x\n",
      "(0, 1, 0, 0, 0, 0, 0)\n",
      "(e_z*g*h - 1/3*alpha_1^2 - 1/5*alpha_2^2 - u^2, 2*u, 0, 2/3*alpha_1, 0, 2/5*alpha_2, 0)\n",
      "(-1/3*alpha_1*beta_1 - 1/5*alpha_2*beta_2 - u*v, v, u, 1/3*beta_1, 1/3*alpha_1, 1/5*beta_2, 1/5*alpha_2)\n",
      "[         -2*alpha_1*u             2*alpha_1                     0                     u                     0                     0                     0]\n",
      "[-beta_1*u - alpha_1*v                beta_1               alpha_1                     0                     u                     0                     0]\n",
      "[         -2*alpha_2*u             2*alpha_2                     0                     0                     0                     u                     0]\n",
      "[-beta_2*u - alpha_2*v                beta_2               alpha_2                     0                     0                     0                     u]\n",
      "\n",
      "Quasilinear Matrix in y\n",
      "(0, 0, 1, 0, 0, 0, 0)\n",
      "(-1/3*alpha_1*beta_1 - 1/5*alpha_2*beta_2 - u*v, v, u, 1/3*beta_1, 1/3*alpha_1, 1/5*beta_2, 1/5*alpha_2)\n",
      "(e_z*g*h - 1/3*beta_1^2 - 1/5*beta_2^2 - v^2, 0, 2*v, 0, 2/3*beta_1, 0, 2/5*beta_2)\n",
      "[-beta_1*u - alpha_1*v                beta_1               alpha_1                     v                     0                     0                     0]\n",
      "[          -2*beta_1*v                     0              2*beta_1                     0                     v                     0                     0]\n",
      "[-beta_2*u - alpha_2*v                beta_2               alpha_2                     0                     0                     v                     0]\n",
      "[          -2*beta_2*v                     0              2*beta_2                     0                     0                     0                     v]\n",
      "\n",
      "Flux Jacobian in x\n",
      "(0, 1, 0, 0, 0, 0, 0)\n",
      "(e_z*g*h - 1/3*alpha_1^2 - 1/5*alpha_2^2 - u^2, 2*u, 0, 2/3*alpha_1, 0, 2/5*alpha_2, 0)\n",
      "(-1/3*alpha_1*beta_1 - 1/5*alpha_2*beta_2 - u*v, v, u, 1/3*beta_1, 1/3*alpha_1, 1/5*beta_2, 1/5*alpha_2)\n",
      "[         -2*alpha_1*u             2*alpha_1                     0                   2*u                     0                     0                     0]\n",
      "[-beta_1*u - alpha_1*v                beta_1               alpha_1                     v                     u                     0                     0]\n",
      "[         -2*alpha_2*u             2*alpha_2                     0                     0                     0                   2*u                     0]\n",
      "[-beta_2*u - alpha_2*v                beta_2               alpha_2                     0                     0                     v                     u]\n",
      "\n",
      "Flux Jacobian in y\n",
      "(0, 0, 1, 0, 0, 0, 0)\n",
      "(-1/3*alpha_1*beta_1 - 1/5*alpha_2*beta_2 - u*v, v, u, 1/3*beta_1, 1/3*alpha_1, 1/5*beta_2, 1/5*alpha_2)\n",
      "(e_z*g*h - 1/3*beta_1^2 - 1/5*beta_2^2 - v^2, 0, 2*v, 0, 2/3*beta_1, 0, 2/5*beta_2)\n",
      "[-beta_1*u - alpha_1*v                beta_1               alpha_1                     v                     u                     0                     0]\n",
      "[          -2*beta_1*v                     0              2*beta_1                     0                   2*v                     0                     0]\n",
      "[-beta_2*u - alpha_2*v                beta_2               alpha_2                     0                     0                     v                     u]\n",
      "[          -2*beta_2*v                     0              2*beta_2                     0                     0                     0                   2*v]\n"
     ]
    }
   ],
   "source": [
    "num_moments = 2\n",
    "tuple_ = swlme.get_swlme_equations_2d(num_moments)\n",
    "f_x = tuple_[0]\n",
    "f_y = tuple_[1]\n",
    "G_x = tuple_[2]\n",
    "G_y = tuple_[3]\n",
    "A_x = tuple_[4]\n",
    "A_y = tuple_[5]\n",
    "print(\"Flux Function in x\")\n",
    "print(f_x)\n",
    "print(\"\\nFlux Function in y\")\n",
    "print(f_y)\n",
    "print(\"\\nNonconservative Matrix in x\")\n",
    "print(G_x)\n",
    "print(\"\\nNonconservative Matrix in y\")\n",
    "print(G_y)\n",
    "print(\"\\nQuasilinear Matrix in x\")\n",
    "print(A_x[0])\n",
    "print((A_x[1]).simplify_full())\n",
    "print((A_x[2]).simplify_full())\n",
    "print(A_x[3:])\n",
    "print(\"\\nQuasilinear Matrix in y\")\n",
    "print(A_y[0])\n",
    "print((A_y[1]).simplify_full())\n",
    "print((A_y[2]).simplify_full())\n",
    "print(A_y[3:])\n",
    "print(\"\\nFlux Jacobian in x\")\n",
    "print(A_x[0] - G_x[0])\n",
    "print((A_x[1] - G_x[1]).simplify_full())\n",
    "print((A_x[2] - G_x[2]).simplify_full())\n",
    "print(A_x[3:] - G_x[3:])\n",
    "print(\"\\nFlux Jacobian in y\")\n",
    "print(A_y[0] - G_y[0])\n",
    "print((A_y[1] - G_y[1]).simplify_full())\n",
    "print((A_y[2] - G_y[2]).simplify_full())\n",
    "print(A_y[3:] - G_y[3:])"
   ]
  },
  {
   "cell_type": "markdown",
   "metadata": {},
   "source": [
    "### Quasilinear Eigenvalues/Hyperbolicity"
   ]
  },
  {
   "cell_type": "code",
   "execution_count": 26,
   "metadata": {},
   "outputs": [
    {
     "data": {
      "text/plain": [
       "(n_1*u + n_2*v - sqrt(2*alpha_1*beta_1*n_1*n_2 + (e_z*g*h + alpha_1^2)*n_1^2 + (e_z*g*h + beta_1^2)*n_2^2), n_1*u + n_2*v + sqrt(2*alpha_1*beta_1*n_1*n_2 + (e_z*g*h + alpha_1^2)*n_1^2 + (e_z*g*h + beta_1^2)*n_2^2), n_1*u + n_2*v, -1/3*sqrt(3)*alpha_1*n_1 - 1/3*sqrt(3)*beta_1*n_2 + n_1*u + n_2*v, 1/3*sqrt(3)*alpha_1*n_1 + 1/3*sqrt(3)*beta_1*n_2 + n_1*u + n_2*v)"
      ]
     },
     "execution_count": 26,
     "metadata": {},
     "output_type": "execute_result"
    }
   ],
   "source": [
    "num_moments = 1\n",
    "tuple_ = swlme.get_swlme_equations_2d(num_moments)\n",
    "f_x = tuple_[0]\n",
    "f_y = tuple_[1]\n",
    "G_x = tuple_[2]\n",
    "G_y = tuple_[3]\n",
    "A_x = tuple_[4]\n",
    "A_y = tuple_[5]\n",
    "n = svm.get_vector_variable('n', 3)\n",
    "eigenvalues_2d = (n[1] * A_x + n[2] * A_y).eigenvalues()\n",
    "eigenvalues_2d"
   ]
  },
  {
   "cell_type": "code",
   "execution_count": 32,
   "metadata": {},
   "outputs": [],
   "source": [
    "ql = vector([1.0707106781186548, 0.098768834059513769, 0.089100652418836787])\n",
    "qr = vector([0.92928932188134528, -0.015643446504023075, 0.045399049973954692])\n",
    "hl = ql[0]\n",
    "ul = ql[1] / hl\n",
    "alphal = ql[2] / hl\n",
    "hr = qr[0]\n",
    "ur = qr[1] / hr\n",
    "alphar = qr[2] / hr\n",
    "h_a = (hl + hr) / 2\n",
    "u_a = (ul + ur) / 2\n",
    "alpha_a = (alphal + alphar) / 2\n",
    "tuple_ = swme.get_primitive_variables_2d(1)\n",
    "h = tuple_[0]\n",
    "u = tuple_[1]\n",
    "v = tuple_[2]\n",
    "alpha_1 = tuple_[3]\n",
    "beta_1 = tuple_[4]\n",
    "tuple_ = swme.get_misc_variables()\n",
    "g = tuple_[0]\n",
    "e_z = tuple_[3]\n",
    "dict_2d_l = {g: 1, e_z: 1, n[1]: 1, n[2]: 0, h: hl, u: ul, v: 0, alpha_1: alphal, beta_1: 0}\n",
    "dict_2d_r = {g: 1, e_z: 1, n[1]: 1, n[2]: 0, h: hr, u: ur, v: 0, alpha_1: alphar, beta_1: 0}\n",
    "dict_2d_a = {g: 1, e_z: 1, n[1]: 1, n[2]: 0, h: h_a, u: u_a, v: 0, alpha_1: alpha_a, beta_1: 0}"
   ]
  },
  {
   "cell_type": "code",
   "execution_count": 35,
   "metadata": {},
   "outputs": [
    {
     "data": {
      "text/plain": [
       "(-0.945846255812171, 1.13033836199544, 0.0922460530916348, 0.0442010613769954, 0.140291044806274)"
      ]
     },
     "execution_count": 35,
     "metadata": {},
     "output_type": "execute_result"
    }
   ],
   "source": [
    "vector(eigenvalues_2d).subs(dict_2d_l).n()"
   ]
  },
  {
   "cell_type": "code",
   "execution_count": 36,
   "metadata": {},
   "outputs": [
    {
     "data": {
      "text/plain": [
       "(-0.982067418248163, 0.948399870078444, -0.0168337740848597, -0.0450393642129714, 0.0113718160432519)"
      ]
     },
     "execution_count": 36,
     "metadata": {},
     "output_type": "execute_result"
    }
   ],
   "source": [
    "vector(eigenvalues_2d).subs(dict_2d_r).n()"
   ]
  },
  {
   "cell_type": "code",
   "execution_count": 37,
   "metadata": {},
   "outputs": [
    {
     "data": {
      "text/plain": [
       "(-0.964471795507915, 1.03988407451469, 0.0377061395033875, -0.000419151417987956, 0.0758314304247630)"
      ]
     },
     "execution_count": 37,
     "metadata": {},
     "output_type": "execute_result"
    }
   ],
   "source": [
    "vector(eigenvalues_2d).subs(dict_2d_a).n()"
   ]
  },
  {
   "cell_type": "code",
   "execution_count": 30,
   "metadata": {},
   "outputs": [
    {
     "data": {
      "text/plain": [
       "1/2*e_z*g*h^2 + h*u^2 + 1/15*(5*alpha_1^2 + 3*alpha_2^2)*h"
      ]
     },
     "execution_count": 30,
     "metadata": {},
     "output_type": "execute_result"
    }
   ],
   "source": [
    "f_x[1]"
   ]
  },
  {
   "cell_type": "code",
   "execution_count": 37,
   "metadata": {},
   "outputs": [
    {
     "data": {
      "text/plain": [
       "-2*alpha_1*u"
      ]
     },
     "execution_count": 37,
     "metadata": {},
     "output_type": "execute_result"
    }
   ],
   "source": [
    "test[3][0].full_simplify()"
   ]
  },
  {
   "cell_type": "code",
   "execution_count": 42,
   "metadata": {},
   "outputs": [
    {
     "data": {
      "text/plain": [
       "(-2*alpha_2*u, 2*alpha_2, 0, 0, 0, 2*u, 0)"
      ]
     },
     "execution_count": 42,
     "metadata": {},
     "output_type": "execute_result"
    }
   ],
   "source": [
    "test[5]"
   ]
  },
  {
   "cell_type": "code",
   "execution_count": 83,
   "metadata": {},
   "outputs": [
    {
     "data": {
      "text/plain": [
       "(-2*alpha_1*n_1*u - (beta_1*u + alpha_1*v)*n_2, 2*alpha_1*n_1 + beta_1*n_2, alpha_1*n_2, n_1*u + n_2*v, 0, 0, 0)"
      ]
     },
     "execution_count": 83,
     "metadata": {},
     "output_type": "execute_result"
    }
   ],
   "source": [
    "(n[1] * A_x + n[2] * A_y)[3]"
   ]
  },
  {
   "cell_type": "code",
   "execution_count": 82,
   "metadata": {},
   "outputs": [
    {
     "data": {
      "text/plain": [
       "(-2*beta_1*n_2*v - (beta_1*u + alpha_1*v)*n_1, beta_1*n_1, alpha_1*n_1 + 2*beta_1*n_2, 0, n_1*u + n_2*v, 0, 0)"
      ]
     },
     "execution_count": 82,
     "metadata": {},
     "output_type": "execute_result"
    }
   ],
   "source": [
    "(n[1] * A_x + n[2] * A_y)[4]"
   ]
  },
  {
   "cell_type": "code",
   "execution_count": null,
   "metadata": {},
   "outputs": [],
   "source": []
  }
 ],
 "metadata": {
  "kernelspec": {
   "display_name": "SageMath 9.0",
   "language": "sage",
   "name": "sagemath"
  },
  "language_info": {
   "codemirror_mode": {
    "name": "ipython",
    "version": 3
   },
   "file_extension": ".py",
   "mimetype": "text/x-python",
   "name": "python",
   "nbconvert_exporter": "python",
   "pygments_lexer": "ipython3",
   "version": "3.6.10"
  }
 },
 "nbformat": 4,
 "nbformat_minor": 2
}
