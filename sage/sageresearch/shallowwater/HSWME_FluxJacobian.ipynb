{
 "cells": [
  {
   "cell_type": "markdown",
   "metadata": {},
   "source": [
    "# Hyperbolic Shallow Water Moment Equations Flux Jacobians"
   ]
  },
  {
   "cell_type": "markdown",
   "metadata": {},
   "source": [
    "The hyperbolic shallow water moment equations are given in quasilinear matrix form. In order to use a discontinuous Galerkin method on these equations, it may be necessary to write the equations in terms of a flux function and a nonconservative product. This jupyter notebook explore the possible ways to do that."
   ]
  },
  {
   "cell_type": "code",
   "execution_count": 1,
   "metadata": {},
   "outputs": [],
   "source": [
    "import sageresearch.shallowwater.hyperbolic_shallow_water_moment_equations as hswme\n",
    "import sageresearch.shallowwater.shallow_water_moment_equations as swme\n",
    "import sageresearch.utils.calculus_utils as calculus_utils"
   ]
  },
  {
   "cell_type": "code",
   "execution_count": 26,
   "metadata": {},
   "outputs": [],
   "source": [
    "num_moments = 2\n",
    "A = hswme.get_hswme_equations(num_moments)\n",
    "q = swme.get_conserved_variables_1d(num_moments)\n",
    "p = swme.get_primitive_variables_1d(num_moments)\n",
    "tuple_ = swme.get_substitution_dictionaries_1d(num_moments)\n",
    "p_to_q = tuple_[0]\n",
    "q_to_p = tuple_[1]\n",
    "tuple_ = swme.get_generalized_shallow_water_equations_1d(num_moments)\n",
    "f_p = tuple_[0]\n",
    "G_p = tuple_[1]\n",
    "s_p = tuple_[2]\n",
    "A_p = tuple_[3]\n",
    "dict_ = {p[i]:0 for i in range(3,num_moments + 2)}\n",
    "f_h = f_p.subs(dict_)\n",
    "f_h_j = jacobian(f_h.subs(p_to_q), q).subs(q_to_p)"
   ]
  },
  {
   "cell_type": "code",
   "execution_count": 40,
   "metadata": {},
   "outputs": [
    {
     "data": {
      "text/plain": [
       "False"
      ]
     },
     "execution_count": 40,
     "metadata": {},
     "output_type": "execute_result"
    }
   ],
   "source": [
    "test = f_h_j\n",
    "calculus_utils.is_jacobian(test.subs(p_to_q), q)"
   ]
  },
  {
   "cell_type": "code",
   "execution_count": 46,
   "metadata": {},
   "outputs": [
    {
     "data": {
      "text/plain": [
       "[          0           0           0           0]\n",
       "[          0           0           0           0]\n",
       "[          0           0          -u 3/5*alpha_1]\n",
       "[          0           0    -alpha_1           u]"
      ]
     },
     "execution_count": 46,
     "metadata": {},
     "output_type": "execute_result"
    }
   ],
   "source": [
    "A - f_h_j"
   ]
  },
  {
   "cell_type": "code",
   "execution_count": 42,
   "metadata": {},
   "outputs": [
    {
     "data": {
      "text/plain": [
       "(h*u, 1/2*e_z*g*h^2 + h*u^2 + 1/15*(5*alpha_1^2 + 3*alpha_2^2)*h, 4/5*alpha_1*alpha_2*h + 2*alpha_1*h*u, 2*alpha_2*h*u + 2/21*(7*alpha_1^2 + 3*alpha_2^2)*h)"
      ]
     },
     "execution_count": 42,
     "metadata": {},
     "output_type": "execute_result"
    }
   ],
   "source": [
    "f_p"
   ]
  },
  {
   "cell_type": "code",
   "execution_count": 44,
   "metadata": {},
   "outputs": [
    {
     "data": {
      "text/plain": [
       "[                            0                             1                             0                             0]\n",
       "[e_z*g*h - 1/3*alpha_1^2 - u^2                           2*u                   2/3*alpha_1                             0]\n",
       "[                 -2*alpha_1*u                     2*alpha_1                           2*u                             0]\n",
       "[               -2/3*alpha_1^2                             0                   4/3*alpha_1                             0]"
      ]
     },
     "execution_count": 44,
     "metadata": {},
     "output_type": "execute_result"
    }
   ],
   "source": [
    "f_h_j"
   ]
  },
  {
   "cell_type": "code",
   "execution_count": 45,
   "metadata": {},
   "outputs": [
    {
     "data": {
      "text/plain": [
       "[               0                0                0                0]\n",
       "[               0                0                0                0]\n",
       "[               0                0 -1/5*alpha_2 + u      1/5*alpha_1]\n",
       "[               0                0          alpha_1  1/7*alpha_2 + u]"
      ]
     },
     "execution_count": 45,
     "metadata": {},
     "output_type": "execute_result"
    }
   ],
   "source": [
    "G_p"
   ]
  },
  {
   "cell_type": "code",
   "execution_count": 15,
   "metadata": {},
   "outputs": [
    {
     "data": {
      "text/plain": [
       "[          0           0           0           0           0]\n",
       "[          0           0           0           0           0]\n",
       "[          0           0          -u 3/5*alpha_1           0]\n",
       "[          0           0    -alpha_1           u 4/7*alpha_1]\n",
       "[          0           0           0 2/5*alpha_1           u]"
      ]
     },
     "execution_count": 15,
     "metadata": {},
     "output_type": "execute_result"
    }
   ],
   "source": [
    "A - f_h_j"
   ]
  },
  {
   "cell_type": "code",
   "execution_count": 16,
   "metadata": {},
   "outputs": [
    {
     "data": {
      "text/plain": [
       "(h*u, 1/2*e_z*g*h^2 + 1/3*alpha_1^2*h + h*u^2, 2*alpha_1*h*u, 2/3*alpha_1^2*h, 0)"
      ]
     },
     "execution_count": 16,
     "metadata": {},
     "output_type": "execute_result"
    }
   ],
   "source": [
    "f_h"
   ]
  },
  {
   "cell_type": "code",
   "execution_count": 24,
   "metadata": {},
   "outputs": [
    {
     "name": "stdout",
     "output_type": "stream",
     "text": [
      "(h*u, 1/2*e_z*g*h^2 + 1/3*alpha_1^2*h + h*u^2, 2*alpha_1*h*u, 2/3*alpha_1^2*h, 0, 0, 0, 0)\n",
      "[                            0                             1                             0                             0                             0]\n",
      "[e_z*g*h - 1/3*alpha_1^2 - u^2                           2*u                   2/3*alpha_1                             0                             0]\n",
      "[                 -2*alpha_1*u                     2*alpha_1                           2*u                             0                             0]\n",
      "[               -2/3*alpha_1^2                             0                   4/3*alpha_1                             0                             0]\n",
      "[                            0                             0                             0                             0                             0]\n",
      "[                            0                             0                             0                             0                             0]\n",
      "[                            0                             0                             0                             0                             0]\n",
      "[                            0                             0                             0                             0                             0]\n"
     ]
    }
   ],
   "source": [
    "num_moments = 6\n",
    "tuple_ = swme.get_generalized_shallow_water_equations_1d(num_moments)\n",
    "f_p = tuple_[0]\n",
    "p = swme.get_primitive_variables_1d(num_moments)\n",
    "dict_ = {p[i]:0 for i in range(3,num_moments + 2)}\n",
    "f_h = f_p.subs(dict_)\n",
    "print(f_h)\n",
    "f_h_j = jacobian(f_h.subs(p_to_q), q).subs(q_to_p)\n",
    "print(f_h_j)"
   ]
  },
  {
   "cell_type": "code",
   "execution_count": null,
   "metadata": {},
   "outputs": [],
   "source": []
  }
 ],
 "metadata": {
  "kernelspec": {
   "display_name": "SageMath 9.0",
   "language": "sage",
   "name": "sagemath"
  },
  "language_info": {
   "codemirror_mode": {
    "name": "ipython",
    "version": 3
   },
   "file_extension": ".py",
   "mimetype": "text/x-python",
   "name": "python",
   "nbconvert_exporter": "python",
   "pygments_lexer": "ipython3",
   "version": "3.6.10"
  }
 },
 "nbformat": 4,
 "nbformat_minor": 2
}
