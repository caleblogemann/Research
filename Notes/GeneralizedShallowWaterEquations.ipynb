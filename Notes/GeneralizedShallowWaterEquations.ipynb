{
 "cells": [
  {
   "cell_type": "code",
   "execution_count": 1,
   "metadata": {},
   "outputs": [
    {
     "name": "stdout",
     "output_type": "stream",
     "text": [
      "LegendrePolynomials.sage tests passed\n",
      "LegendrePolynomials.sage tests passed\n"
     ]
    }
   ],
   "source": [
    "load(\"../Sage/LegendrePolynomials.sage\")\n",
    "load(\"../Sage/SymbolicVectorMatrix.sage\")\n",
    "load(\"GeneralizedShallowWaterVariables.sage\")"
   ]
  },
  {
   "cell_type": "markdown",
   "metadata": {},
   "source": [
    "# Generalized Shallow Water Equations"
   ]
  },
  {
   "cell_type": "markdown",
   "metadata": {},
   "source": [
    "This Jupyter notebook shows the generalized shallow water equations in one and two dimensions for zero to three moments of vertical velocity.\n",
    "See Generalized Shallow Water Hyperbolicity for eigenvalues and eigenvectors of quasilinear matrices"
   ]
  },
  {
   "cell_type": "markdown",
   "metadata": {},
   "source": [
    "## 1D"
   ]
  },
  {
   "cell_type": "markdown",
   "metadata": {},
   "source": [
    "Equations are of the form\n",
    "$$\n",
    "    q_t + f(q)_x = g(q) q_x + s(q)\n",
    "$$"
   ]
  },
  {
   "cell_type": "markdown",
   "metadata": {},
   "source": [
    "### Zero Moments/Constant Velocity/Shallow Water Equations"
   ]
  },
  {
   "cell_type": "markdown",
   "metadata": {},
   "source": [
    "For zero moments, $g(q) = 0$"
   ]
  },
  {
   "cell_type": "code",
   "execution_count": 2,
   "metadata": {},
   "outputs": [],
   "source": [
    "set_generalized_shallow_water_variables_1d(0)"
   ]
  },
  {
   "cell_type": "markdown",
   "metadata": {},
   "source": [
    "Flux Function"
   ]
  },
  {
   "cell_type": "code",
   "execution_count": 3,
   "metadata": {},
   "outputs": [
    {
     "data": {
      "text/html": [
       "<html><script type=\"math/tex; mode=display\">\\newcommand{\\Bold}[1]{\\mathbf{#1}}\\left(h u,\\,\\frac{1}{2} \\, e_{z} g h^{2} + h u^{2}\\right)</script></html>"
      ],
      "text/plain": [
       "(h*u, 1/2*e_z*g*h^2 + h*u^2)"
      ]
     },
     "metadata": {},
     "output_type": "display_data"
    }
   ],
   "source": [
    "show(f_p)"
   ]
  },
  {
   "cell_type": "markdown",
   "metadata": {},
   "source": [
    "Source Function"
   ]
  },
  {
   "cell_type": "code",
   "execution_count": 4,
   "metadata": {},
   "outputs": [
    {
     "data": {
      "text/html": [
       "<html><script type=\"math/tex; mode=display\">\\newcommand{\\Bold}[1]{\\mathbf{#1}}\\left(0,\\,-{\\left(e_{z} \\frac{\\partial}{\\partial x}h_{b}\\left(x, y\\right) - e_{x}\\right)} g h - \\frac{\\nu u}{\\lambda}\\right)</script></html>"
      ],
      "text/plain": [
       "(0, -(e_z*diff(h_b(x, y), x) - e_x)*g*h - nu*u/lambda_)"
      ]
     },
     "metadata": {},
     "output_type": "display_data"
    }
   ],
   "source": [
    "show(s_p)"
   ]
  },
  {
   "cell_type": "markdown",
   "metadata": {},
   "source": [
    "Flux Jacobian"
   ]
  },
  {
   "cell_type": "code",
   "execution_count": 5,
   "metadata": {},
   "outputs": [
    {
     "data": {
      "text/html": [
       "<html><script type=\"math/tex; mode=display\">\\newcommand{\\Bold}[1]{\\mathbf{#1}}\\left(\\begin{array}{rr}\n",
       "0 & 1 \\\\\n",
       "e_{z} g h - u^{2} & 2 \\, u\n",
       "\\end{array}\\right)</script></html>"
      ],
      "text/plain": [
       "[            0             1]\n",
       "[e_z*g*h - u^2           2*u]"
      ]
     },
     "metadata": {},
     "output_type": "display_data"
    }
   ],
   "source": [
    "show(f_q_j.subs(q_to_p))"
   ]
  },
  {
   "cell_type": "markdown",
   "metadata": {},
   "source": [
    "### One Moment/Linear Velocity"
   ]
  },
  {
   "cell_type": "code",
   "execution_count": 7,
   "metadata": {},
   "outputs": [],
   "source": [
    "set_generalized_shallow_water_variables_1d(1)"
   ]
  },
  {
   "cell_type": "markdown",
   "metadata": {},
   "source": [
    "Flux Function"
   ]
  },
  {
   "cell_type": "code",
   "execution_count": 8,
   "metadata": {},
   "outputs": [
    {
     "data": {
      "text/html": [
       "<html><script type=\"math/tex; mode=display\">\\newcommand{\\Bold}[1]{\\mathbf{#1}}\\left(h u,\\,\\frac{1}{2} \\, e_{z} g h^{2} + \\frac{1}{3} \\, \\alpha_{0}^{2} h + h u^{2},\\,2 \\, \\alpha_{0} h u\\right)</script></html>"
      ],
      "text/plain": [
       "(h*u, 1/2*e_z*g*h^2 + 1/3*alpha_0^2*h + h*u^2, 2*alpha_0*h*u)"
      ]
     },
     "metadata": {},
     "output_type": "display_data"
    }
   ],
   "source": [
    "show(f_p)"
   ]
  },
  {
   "cell_type": "markdown",
   "metadata": {},
   "source": [
    "Nonconservative Matrix"
   ]
  },
  {
   "cell_type": "code",
   "execution_count": 9,
   "metadata": {},
   "outputs": [
    {
     "data": {
      "text/html": [
       "<html><script type=\"math/tex; mode=display\">\\newcommand{\\Bold}[1]{\\mathbf{#1}}\\left(\\begin{array}{rrr}\n",
       "0 & 0 & 0 \\\\\n",
       "0 & 0 & 0 \\\\\n",
       "0 & 0 & u\n",
       "\\end{array}\\right)</script></html>"
      ],
      "text/plain": [
       "[0 0 0]\n",
       "[0 0 0]\n",
       "[0 0 u]"
      ]
     },
     "metadata": {},
     "output_type": "display_data"
    }
   ],
   "source": [
    "show(G_p)"
   ]
  },
  {
   "cell_type": "markdown",
   "metadata": {},
   "source": [
    "Source Function"
   ]
  },
  {
   "cell_type": "code",
   "execution_count": 10,
   "metadata": {},
   "outputs": [
    {
     "data": {
      "text/html": [
       "<html><script type=\"math/tex; mode=display\">\\newcommand{\\Bold}[1]{\\mathbf{#1}}\\left(0,\\,-{\\left(e_{z} \\frac{\\partial}{\\partial x}h_{b}\\left(x, y\\right) - e_{x}\\right)} g h - \\frac{{\\left(\\alpha_{0} + u\\right)} \\nu}{\\lambda},\\,-\\frac{3 \\, {\\left(\\alpha_{0} {\\left(\\frac{4 \\, \\lambda}{h} + 1\\right)} + u\\right)} \\nu}{\\lambda}\\right)</script></html>"
      ],
      "text/plain": [
       "(0, -(e_z*diff(h_b(x, y), x) - e_x)*g*h - (alpha_0 + u)*nu/lambda_, -3*(alpha_0*(4*lambda_/h + 1) + u)*nu/lambda_)"
      ]
     },
     "metadata": {},
     "output_type": "display_data"
    }
   ],
   "source": [
    "show(s_p)"
   ]
  },
  {
   "cell_type": "markdown",
   "metadata": {},
   "source": [
    "Flux Jacobian"
   ]
  },
  {
   "cell_type": "code",
   "execution_count": 11,
   "metadata": {},
   "outputs": [
    {
     "data": {
      "text/html": [
       "<html><script type=\"math/tex; mode=display\">\\newcommand{\\Bold}[1]{\\mathbf{#1}}\\left(\\begin{array}{rrr}\n",
       "0 & 1 & 0 \\\\\n",
       "e_{z} g h - \\frac{1}{3} \\, \\alpha_{0}^{2} - u^{2} & 2 \\, u & \\frac{2}{3} \\, \\alpha_{0} \\\\\n",
       "-2 \\, \\alpha_{0} u & 2 \\, \\alpha_{0} & 2 \\, u\n",
       "\\end{array}\\right)</script></html>"
      ],
      "text/plain": [
       "[                            0                             1                             0]\n",
       "[e_z*g*h - 1/3*alpha_0^2 - u^2                           2*u                   2/3*alpha_0]\n",
       "[                 -2*alpha_0*u                     2*alpha_0                           2*u]"
      ]
     },
     "metadata": {},
     "output_type": "display_data"
    }
   ],
   "source": [
    "show(f_q_j.subs(q_to_p))"
   ]
  },
  {
   "cell_type": "markdown",
   "metadata": {},
   "source": [
    "Quasilinear Matrix"
   ]
  },
  {
   "cell_type": "code",
   "execution_count": 12,
   "metadata": {},
   "outputs": [
    {
     "data": {
      "text/html": [
       "<html><script type=\"math/tex; mode=display\">\\newcommand{\\Bold}[1]{\\mathbf{#1}}\\left(\\begin{array}{rrr}\n",
       "0 & 1 & 0 \\\\\n",
       "e_{z} g h - \\frac{1}{3} \\, \\alpha_{0}^{2} - u^{2} & 2 \\, u & \\frac{2}{3} \\, \\alpha_{0} \\\\\n",
       "-2 \\, \\alpha_{0} u & 2 \\, \\alpha_{0} & u\n",
       "\\end{array}\\right)</script></html>"
      ],
      "text/plain": [
       "[                            0                             1                             0]\n",
       "[e_z*g*h - 1/3*alpha_0^2 - u^2                           2*u                   2/3*alpha_0]\n",
       "[                 -2*alpha_0*u                     2*alpha_0                             u]"
      ]
     },
     "metadata": {},
     "output_type": "display_data"
    }
   ],
   "source": [
    "show(A_p)"
   ]
  },
  {
   "cell_type": "markdown",
   "metadata": {},
   "source": [
    "### Two Moments/Quadratic Velocity Profile"
   ]
  },
  {
   "cell_type": "code",
   "execution_count": 34,
   "metadata": {},
   "outputs": [],
   "source": [
    "set_generalized_shallow_water_variables_1d(2)"
   ]
  },
  {
   "cell_type": "markdown",
   "metadata": {},
   "source": [
    "Flux Function"
   ]
  },
  {
   "cell_type": "code",
   "execution_count": 16,
   "metadata": {},
   "outputs": [
    {
     "data": {
      "text/html": [
       "<html><script type=\"math/tex; mode=display\">\\newcommand{\\Bold}[1]{\\mathbf{#1}}\\left(h u,\\,\\frac{1}{2} \\, e_{z} g h^{2} + h u^{2} + \\frac{1}{15} \\, {\\left(5 \\, \\alpha_{0}^{2} + 3 \\, \\alpha_{1}^{2}\\right)} h,\\,\\frac{4}{5} \\, \\alpha_{0} \\alpha_{1} h + 2 \\, \\alpha_{0} h u,\\,2 \\, \\alpha_{1} h u + \\frac{2}{21} \\, {\\left(7 \\, \\alpha_{0}^{2} + 3 \\, \\alpha_{1}^{2}\\right)} h\\right)</script></html>"
      ],
      "text/plain": [
       "(h*u, 1/2*e_z*g*h^2 + h*u^2 + 1/15*(5*alpha_0^2 + 3*alpha_1^2)*h, 4/5*alpha_0*alpha_1*h + 2*alpha_0*h*u, 2*alpha_1*h*u + 2/21*(7*alpha_0^2 + 3*alpha_1^2)*h)"
      ]
     },
     "metadata": {},
     "output_type": "display_data"
    }
   ],
   "source": [
    "show(f_p)"
   ]
  },
  {
   "cell_type": "markdown",
   "metadata": {},
   "source": [
    "Nonconservative Matrix"
   ]
  },
  {
   "cell_type": "code",
   "execution_count": 17,
   "metadata": {},
   "outputs": [
    {
     "data": {
      "text/html": [
       "<html><script type=\"math/tex; mode=display\">\\newcommand{\\Bold}[1]{\\mathbf{#1}}\\left(\\begin{array}{rrrr}\n",
       "0 & 0 & 0 & 0 \\\\\n",
       "0 & 0 & 0 & 0 \\\\\n",
       "0 & 0 & -\\frac{1}{5} \\, \\alpha_{1} + u & \\frac{1}{5} \\, \\alpha_{0} \\\\\n",
       "0 & 0 & \\alpha_{0} & \\frac{1}{7} \\, \\alpha_{1} + u\n",
       "\\end{array}\\right)</script></html>"
      ],
      "text/plain": [
       "[               0                0                0                0]\n",
       "[               0                0                0                0]\n",
       "[               0                0 -1/5*alpha_1 + u      1/5*alpha_0]\n",
       "[               0                0          alpha_0  1/7*alpha_1 + u]"
      ]
     },
     "metadata": {},
     "output_type": "display_data"
    }
   ],
   "source": [
    "show(G_p)"
   ]
  },
  {
   "cell_type": "markdown",
   "metadata": {},
   "source": [
    "Source Function"
   ]
  },
  {
   "cell_type": "code",
   "execution_count": 18,
   "metadata": {},
   "outputs": [
    {
     "data": {
      "text/html": [
       "<html><script type=\"math/tex; mode=display\">\\newcommand{\\Bold}[1]{\\mathbf{#1}}\\left(0,\\,-{\\left(e_{z} \\frac{\\partial}{\\partial x}h_{b}\\left(x, y\\right) - e_{x}\\right)} g h - \\frac{{\\left(\\alpha_{0} + \\alpha_{1} + u\\right)} \\nu}{\\lambda},\\,-\\frac{3 \\, {\\left(\\alpha_{0} {\\left(\\frac{4 \\, \\lambda}{h} + 1\\right)} + \\alpha_{1} + u\\right)} \\nu}{\\lambda},\\,-\\frac{5 \\, {\\left(\\alpha_{1} {\\left(\\frac{12 \\, \\lambda}{h} + 1\\right)} + \\alpha_{0} + u\\right)} \\nu}{\\lambda}\\right)</script></html>"
      ],
      "text/plain": [
       "(0, -(e_z*diff(h_b(x, y), x) - e_x)*g*h - (alpha_0 + alpha_1 + u)*nu/lambda_, -3*(alpha_0*(4*lambda_/h + 1) + alpha_1 + u)*nu/lambda_, -5*(alpha_1*(12*lambda_/h + 1) + alpha_0 + u)*nu/lambda_)"
      ]
     },
     "metadata": {},
     "output_type": "display_data"
    }
   ],
   "source": [
    "show(s_p)"
   ]
  },
  {
   "cell_type": "markdown",
   "metadata": {},
   "source": [
    "Flux Jacobian"
   ]
  },
  {
   "cell_type": "code",
   "execution_count": 35,
   "metadata": {},
   "outputs": [
    {
     "data": {
      "text/html": [
       "<html><script type=\"math/tex; mode=display\">\\newcommand{\\Bold}[1]{\\mathbf{#1}}\\left(\\begin{array}{rrrr}\n",
       "0 & 1 & 0 & 0 \\\\\n",
       "e_{z} g h - \\frac{1}{3} \\, \\alpha_{0}^{2} - \\frac{1}{5} \\, \\alpha_{1}^{2} - u^{2} & 2 \\, u & \\frac{2}{3} \\, \\alpha_{0} & \\frac{2}{5} \\, \\alpha_{1} \\\\\n",
       "-\\frac{4}{5} \\, \\alpha_{0} \\alpha_{1} - 2 \\, \\alpha_{0} u & 2 \\, \\alpha_{0} & \\frac{4}{5} \\, \\alpha_{1} + 2 \\, u & \\frac{4}{5} \\, \\alpha_{0} \\\\\n",
       "-\\frac{2}{3} \\, \\alpha_{0}^{2} - \\frac{2}{7} \\, \\alpha_{1}^{2} - 2 \\, \\alpha_{1} u & 2 \\, \\alpha_{1} & \\frac{4}{3} \\, \\alpha_{0} & \\frac{4}{7} \\, \\alpha_{1} + 2 \\, u\n",
       "\\end{array}\\right)</script></html>"
      ],
      "text/plain": [
       "[                                            0                                             1                                             0                                             0]\n",
       "[e_z*g*h - 1/3*alpha_0^2 - 1/5*alpha_1^2 - u^2                                           2*u                                   2/3*alpha_0                                   2/5*alpha_1]\n",
       "[           -4/5*alpha_0*alpha_1 - 2*alpha_0*u                                     2*alpha_0                             4/5*alpha_1 + 2*u                                   4/5*alpha_0]\n",
       "[ -2/3*alpha_0^2 - 2/7*alpha_1^2 - 2*alpha_1*u                                     2*alpha_1                                   4/3*alpha_0                             4/7*alpha_1 + 2*u]"
      ]
     },
     "metadata": {},
     "output_type": "display_data"
    }
   ],
   "source": [
    "show(f_q_j.subs(q_to_p).simplify_full())"
   ]
  },
  {
   "cell_type": "markdown",
   "metadata": {},
   "source": [
    "Quasilinear Matrix"
   ]
  },
  {
   "cell_type": "code",
   "execution_count": 36,
   "metadata": {},
   "outputs": [
    {
     "data": {
      "text/html": [
       "<html><script type=\"math/tex; mode=display\">\\newcommand{\\Bold}[1]{\\mathbf{#1}}\\left(\\begin{array}{rrrr}\n",
       "0 & 1 & 0 & 0 \\\\\n",
       "e_{z} g h - \\frac{1}{3} \\, \\alpha_{0}^{2} - \\frac{1}{5} \\, \\alpha_{1}^{2} - u^{2} & 2 \\, u & \\frac{2}{3} \\, \\alpha_{0} & \\frac{2}{5} \\, \\alpha_{1} \\\\\n",
       "-\\frac{4}{5} \\, \\alpha_{0} \\alpha_{1} - 2 \\, \\alpha_{0} u & 2 \\, \\alpha_{0} & \\alpha_{1} + u & \\frac{3}{5} \\, \\alpha_{0} \\\\\n",
       "-\\frac{2}{3} \\, \\alpha_{0}^{2} - \\frac{2}{7} \\, \\alpha_{1}^{2} - 2 \\, \\alpha_{1} u & 2 \\, \\alpha_{1} & \\frac{1}{3} \\, \\alpha_{0} & \\frac{3}{7} \\, \\alpha_{1} + u\n",
       "\\end{array}\\right)</script></html>"
      ],
      "text/plain": [
       "[                                            0                                             1                                             0                                             0]\n",
       "[e_z*g*h - 1/3*alpha_0^2 - 1/5*alpha_1^2 - u^2                                           2*u                                   2/3*alpha_0                                   2/5*alpha_1]\n",
       "[           -4/5*alpha_0*alpha_1 - 2*alpha_0*u                                     2*alpha_0                                   alpha_1 + u                                   3/5*alpha_0]\n",
       "[ -2/3*alpha_0^2 - 2/7*alpha_1^2 - 2*alpha_1*u                                     2*alpha_1                                   1/3*alpha_0                               3/7*alpha_1 + u]"
      ]
     },
     "metadata": {},
     "output_type": "display_data"
    }
   ],
   "source": [
    "show(A_p.simplify_full())"
   ]
  },
  {
   "cell_type": "markdown",
   "metadata": {},
   "source": [
    "### Three Moments/Cubic Velocity Profile"
   ]
  },
  {
   "cell_type": "code",
   "execution_count": 39,
   "metadata": {},
   "outputs": [],
   "source": [
    "set_generalized_shallow_water_variables_1d(3)"
   ]
  },
  {
   "cell_type": "markdown",
   "metadata": {},
   "source": [
    "Flux Function"
   ]
  },
  {
   "cell_type": "code",
   "execution_count": 40,
   "metadata": {},
   "outputs": [
    {
     "data": {
      "text/html": [
       "<html><script type=\"math/tex; mode=display\">\\newcommand{\\Bold}[1]{\\mathbf{#1}}\\left(h u,\\,\\frac{1}{2} \\, e_{z} g h^{2} + h u^{2} + \\frac{1}{105} \\, {\\left(35 \\, \\alpha_{0}^{2} + 21 \\, \\alpha_{1}^{2} + 15 \\, \\alpha_{2}^{2}\\right)} h,\\,2 \\, \\alpha_{0} h u + \\frac{2}{35} \\, {\\left(14 \\, \\alpha_{0} \\alpha_{1} + 9 \\, \\alpha_{1} \\alpha_{2}\\right)} h,\\,2 \\, \\alpha_{1} h u + \\frac{2}{21} \\, {\\left(7 \\, \\alpha_{0}^{2} + 3 \\, \\alpha_{1}^{2} + 9 \\, \\alpha_{0} \\alpha_{2} + 2 \\, \\alpha_{2}^{2}\\right)} h,\\,2 \\, \\alpha_{2} h u + \\frac{2}{15} \\, {\\left(9 \\, \\alpha_{0} \\alpha_{1} + 4 \\, \\alpha_{1} \\alpha_{2}\\right)} h\\right)</script></html>"
      ],
      "text/plain": [
       "(h*u, 1/2*e_z*g*h^2 + h*u^2 + 1/105*(35*alpha_0^2 + 21*alpha_1^2 + 15*alpha_2^2)*h, 2*alpha_0*h*u + 2/35*(14*alpha_0*alpha_1 + 9*alpha_1*alpha_2)*h, 2*alpha_1*h*u + 2/21*(7*alpha_0^2 + 3*alpha_1^2 + 9*alpha_0*alpha_2 + 2*alpha_2^2)*h, 2*alpha_2*h*u + 2/15*(9*alpha_0*alpha_1 + 4*alpha_1*alpha_2)*h)"
      ]
     },
     "metadata": {},
     "output_type": "display_data"
    }
   ],
   "source": [
    "show(f_p)"
   ]
  },
  {
   "cell_type": "markdown",
   "metadata": {},
   "source": [
    "Nonconservative Matrix"
   ]
  },
  {
   "cell_type": "code",
   "execution_count": 25,
   "metadata": {},
   "outputs": [
    {
     "data": {
      "text/html": [
       "<html><script type=\"math/tex; mode=display\">\\newcommand{\\Bold}[1]{\\mathbf{#1}}\\left(\\begin{array}{rrrrr}\n",
       "0 & 0 & 0 & 0 & 0 \\\\\n",
       "0 & 0 & 0 & 0 & 0 \\\\\n",
       "0 & 0 & -\\frac{1}{5} \\, \\alpha_{1} + u & \\frac{1}{5} \\, \\alpha_{0} - \\frac{3}{35} \\, \\alpha_{2} & \\frac{3}{35} \\, \\alpha_{1} \\\\\n",
       "0 & 0 & \\alpha_{0} - \\frac{3}{7} \\, \\alpha_{2} & \\frac{1}{7} \\, \\alpha_{1} + u & \\frac{2}{7} \\, \\alpha_{0} + \\frac{1}{21} \\, \\alpha_{2} \\\\\n",
       "0 & 0 & \\frac{6}{5} \\, \\alpha_{1} & \\frac{4}{5} \\, \\alpha_{0} + \\frac{2}{15} \\, \\alpha_{2} & \\frac{1}{5} \\, \\alpha_{1} + u\n",
       "\\end{array}\\right)</script></html>"
      ],
      "text/plain": [
       "[                         0                          0                          0                          0                          0]\n",
       "[                         0                          0                          0                          0                          0]\n",
       "[                         0                          0           -1/5*alpha_1 + u 1/5*alpha_0 - 3/35*alpha_2               3/35*alpha_1]\n",
       "[                         0                          0      alpha_0 - 3/7*alpha_2            1/7*alpha_1 + u 2/7*alpha_0 + 1/21*alpha_2]\n",
       "[                         0                          0                6/5*alpha_1 4/5*alpha_0 + 2/15*alpha_2            1/5*alpha_1 + u]"
      ]
     },
     "metadata": {},
     "output_type": "display_data"
    }
   ],
   "source": [
    "show(G_p)"
   ]
  },
  {
   "cell_type": "markdown",
   "metadata": {},
   "source": [
    "Source Function"
   ]
  },
  {
   "cell_type": "code",
   "execution_count": 26,
   "metadata": {},
   "outputs": [
    {
     "data": {
      "text/html": [
       "<html><script type=\"math/tex; mode=display\">\\newcommand{\\Bold}[1]{\\mathbf{#1}}\\left(0,\\,-{\\left(e_{z} \\frac{\\partial}{\\partial x}h_{b}\\left(x, y\\right) - e_{x}\\right)} g h - \\frac{{\\left(\\alpha_{0} + \\alpha_{1} + \\alpha_{2} + u\\right)} \\nu}{\\lambda},\\,-\\frac{3 \\, {\\left(\\alpha_{0} {\\left(\\frac{4 \\, \\lambda}{h} + 1\\right)} + \\alpha_{2} {\\left(\\frac{4 \\, \\lambda}{h} + 1\\right)} + \\alpha_{1} + u\\right)} \\nu}{\\lambda},\\,-\\frac{5 \\, {\\left(\\alpha_{1} {\\left(\\frac{12 \\, \\lambda}{h} + 1\\right)} + \\alpha_{0} + \\alpha_{2} + u\\right)} \\nu}{\\lambda},\\,-\\frac{7 \\, {\\left(\\alpha_{2} {\\left(\\frac{24 \\, \\lambda}{h} + 1\\right)} + \\alpha_{0} {\\left(\\frac{4 \\, \\lambda}{h} + 1\\right)} + \\alpha_{1} + u\\right)} \\nu}{\\lambda}\\right)</script></html>"
      ],
      "text/plain": [
       "(0, -(e_z*diff(h_b(x, y), x) - e_x)*g*h - (alpha_0 + alpha_1 + alpha_2 + u)*nu/lambda_, -3*(alpha_0*(4*lambda_/h + 1) + alpha_2*(4*lambda_/h + 1) + alpha_1 + u)*nu/lambda_, -5*(alpha_1*(12*lambda_/h + 1) + alpha_0 + alpha_2 + u)*nu/lambda_, -7*(alpha_2*(24*lambda_/h + 1) + alpha_0*(4*lambda_/h + 1) + alpha_1 + u)*nu/lambda_)"
      ]
     },
     "metadata": {},
     "output_type": "display_data"
    }
   ],
   "source": [
    "show(s_p)"
   ]
  },
  {
   "cell_type": "markdown",
   "metadata": {},
   "source": [
    "Flux Jacobian"
   ]
  },
  {
   "cell_type": "code",
   "execution_count": 41,
   "metadata": {},
   "outputs": [
    {
     "data": {
      "text/html": [
       "<html><script type=\"math/tex; mode=display\">\\newcommand{\\Bold}[1]{\\mathbf{#1}}\\left(\\begin{array}{rrrrr}\n",
       "0 & 1 & 0 & 0 & 0 \\\\\n",
       "e_{z} g h - \\frac{1}{3} \\, \\alpha_{0}^{2} - \\frac{1}{5} \\, \\alpha_{1}^{2} - \\frac{1}{7} \\, \\alpha_{2}^{2} - u^{2} & 2 \\, u & \\frac{2}{3} \\, \\alpha_{0} & \\frac{2}{5} \\, \\alpha_{1} & \\frac{2}{7} \\, \\alpha_{2} \\\\\n",
       "-\\frac{4}{5} \\, \\alpha_{0} \\alpha_{1} - \\frac{18}{35} \\, \\alpha_{1} \\alpha_{2} - 2 \\, \\alpha_{0} u & 2 \\, \\alpha_{0} & \\frac{4}{5} \\, \\alpha_{1} + 2 \\, u & \\frac{4}{5} \\, \\alpha_{0} + \\frac{18}{35} \\, \\alpha_{2} & \\frac{18}{35} \\, \\alpha_{1} \\\\\n",
       "-\\frac{2}{3} \\, \\alpha_{0}^{2} - \\frac{2}{7} \\, \\alpha_{1}^{2} - \\frac{6}{7} \\, \\alpha_{0} \\alpha_{2} - \\frac{4}{21} \\, \\alpha_{2}^{2} - 2 \\, \\alpha_{1} u & 2 \\, \\alpha_{1} & \\frac{4}{3} \\, \\alpha_{0} + \\frac{6}{7} \\, \\alpha_{2} & \\frac{4}{7} \\, \\alpha_{1} + 2 \\, u & \\frac{6}{7} \\, \\alpha_{0} + \\frac{8}{21} \\, \\alpha_{2} \\\\\n",
       "-\\frac{6}{5} \\, \\alpha_{0} \\alpha_{1} - \\frac{8}{15} \\, \\alpha_{1} \\alpha_{2} - 2 \\, \\alpha_{2} u & 2 \\, \\alpha_{2} & \\frac{6}{5} \\, \\alpha_{1} & \\frac{6}{5} \\, \\alpha_{0} + \\frac{8}{15} \\, \\alpha_{2} & \\frac{8}{15} \\, \\alpha_{1} + 2 \\, u\n",
       "\\end{array}\\right)</script></html>"
      ],
      "text/plain": [
       "[                                                                                  0                                                                                   1                                                                                   0                                                                                   0                                                                                   0]\n",
       "[                      e_z*g*h - 1/3*alpha_0^2 - 1/5*alpha_1^2 - 1/7*alpha_2^2 - u^2                                                                                 2*u                                                                         2/3*alpha_0                                                                         2/5*alpha_1                                                                         2/7*alpha_2]\n",
       "[                         -4/5*alpha_0*alpha_1 - 18/35*alpha_1*alpha_2 - 2*alpha_0*u                                                                           2*alpha_0                                                                   4/5*alpha_1 + 2*u                                                         4/5*alpha_0 + 18/35*alpha_2                                                                       18/35*alpha_1]\n",
       "[-2/3*alpha_0^2 - 2/7*alpha_1^2 - 6/7*alpha_0*alpha_2 - 4/21*alpha_2^2 - 2*alpha_1*u                                                                           2*alpha_1                                                           4/3*alpha_0 + 6/7*alpha_2                                                                   4/7*alpha_1 + 2*u                                                          6/7*alpha_0 + 8/21*alpha_2]\n",
       "[                          -6/5*alpha_0*alpha_1 - 8/15*alpha_1*alpha_2 - 2*alpha_2*u                                                                           2*alpha_2                                                                         6/5*alpha_1                                                          6/5*alpha_0 + 8/15*alpha_2                                                                  8/15*alpha_1 + 2*u]"
      ]
     },
     "metadata": {},
     "output_type": "display_data"
    }
   ],
   "source": [
    "show(f_q_j.subs(q_to_p).simplify_full())"
   ]
  },
  {
   "cell_type": "markdown",
   "metadata": {},
   "source": [
    "Quasilinear Matrix"
   ]
  },
  {
   "cell_type": "code",
   "execution_count": 42,
   "metadata": {},
   "outputs": [
    {
     "data": {
      "text/html": [
       "<html><script type=\"math/tex; mode=display\">\\newcommand{\\Bold}[1]{\\mathbf{#1}}\\left(\\begin{array}{rrrrr}\n",
       "0 & 1 & 0 & 0 & 0 \\\\\n",
       "e_{z} g h - \\frac{1}{3} \\, \\alpha_{0}^{2} - \\frac{1}{5} \\, \\alpha_{1}^{2} - \\frac{1}{7} \\, \\alpha_{2}^{2} - u^{2} & 2 \\, u & \\frac{2}{3} \\, \\alpha_{0} & \\frac{2}{5} \\, \\alpha_{1} & \\frac{2}{7} \\, \\alpha_{2} \\\\\n",
       "-\\frac{4}{5} \\, \\alpha_{0} \\alpha_{1} - \\frac{18}{35} \\, \\alpha_{1} \\alpha_{2} - 2 \\, \\alpha_{0} u & 2 \\, \\alpha_{0} & \\alpha_{1} + u & \\frac{3}{5} \\, \\alpha_{0} + \\frac{3}{5} \\, \\alpha_{2} & \\frac{3}{7} \\, \\alpha_{1} \\\\\n",
       "-\\frac{2}{3} \\, \\alpha_{0}^{2} - \\frac{2}{7} \\, \\alpha_{1}^{2} - \\frac{6}{7} \\, \\alpha_{0} \\alpha_{2} - \\frac{4}{21} \\, \\alpha_{2}^{2} - 2 \\, \\alpha_{1} u & 2 \\, \\alpha_{1} & \\frac{1}{3} \\, \\alpha_{0} + \\frac{9}{7} \\, \\alpha_{2} & \\frac{3}{7} \\, \\alpha_{1} + u & \\frac{4}{7} \\, \\alpha_{0} + \\frac{1}{3} \\, \\alpha_{2} \\\\\n",
       "-\\frac{6}{5} \\, \\alpha_{0} \\alpha_{1} - \\frac{8}{15} \\, \\alpha_{1} \\alpha_{2} - 2 \\, \\alpha_{2} u & 2 \\, \\alpha_{2} & 0 & \\frac{2}{5} \\, \\alpha_{0} + \\frac{2}{5} \\, \\alpha_{2} & \\frac{1}{3} \\, \\alpha_{1} + u\n",
       "\\end{array}\\right)</script></html>"
      ],
      "text/plain": [
       "[                                                                                  0                                                                                   1                                                                                   0                                                                                   0                                                                                   0]\n",
       "[                      e_z*g*h - 1/3*alpha_0^2 - 1/5*alpha_1^2 - 1/7*alpha_2^2 - u^2                                                                                 2*u                                                                         2/3*alpha_0                                                                         2/5*alpha_1                                                                         2/7*alpha_2]\n",
       "[                         -4/5*alpha_0*alpha_1 - 18/35*alpha_1*alpha_2 - 2*alpha_0*u                                                                           2*alpha_0                                                                         alpha_1 + u                                                           3/5*alpha_0 + 3/5*alpha_2                                                                         3/7*alpha_1]\n",
       "[-2/3*alpha_0^2 - 2/7*alpha_1^2 - 6/7*alpha_0*alpha_2 - 4/21*alpha_2^2 - 2*alpha_1*u                                                                           2*alpha_1                                                           1/3*alpha_0 + 9/7*alpha_2                                                                     3/7*alpha_1 + u                                                           4/7*alpha_0 + 1/3*alpha_2]\n",
       "[                          -6/5*alpha_0*alpha_1 - 8/15*alpha_1*alpha_2 - 2*alpha_2*u                                                                           2*alpha_2                                                                                   0                                                           2/5*alpha_0 + 2/5*alpha_2                                                                     1/3*alpha_1 + u]"
      ]
     },
     "metadata": {},
     "output_type": "display_data"
    }
   ],
   "source": [
    "show(A_p.simplify_full())"
   ]
  },
  {
   "cell_type": "markdown",
   "metadata": {},
   "source": [
    "## Two Dimensions"
   ]
  },
  {
   "cell_type": "markdown",
   "metadata": {},
   "source": [
    "Equations are of the form\n",
    "$$\n",
    "    q_t + f_1(q)_x + f_2(q)_y = g_1(q) q_x + g_2(q) q_y + s(q)\n",
    "$$"
   ]
  },
  {
   "cell_type": "markdown",
   "metadata": {},
   "source": [
    "### Zero Moments/Constant Velocity Profile/Shallow Water Equations"
   ]
  },
  {
   "cell_type": "code",
   "execution_count": 45,
   "metadata": {},
   "outputs": [],
   "source": [
    "set_generalized_shallow_water_variables_2d(0)"
   ]
  },
  {
   "cell_type": "markdown",
   "metadata": {},
   "source": [
    "Flux Function"
   ]
  },
  {
   "cell_type": "code",
   "execution_count": 47,
   "metadata": {},
   "outputs": [
    {
     "data": {
      "text/html": [
       "<html><script type=\"math/tex; mode=display\">\\newcommand{\\Bold}[1]{\\mathbf{#1}}\\left(h u,\\,\\frac{1}{2} \\, e_{z} g h^{2} + h u^{2},\\,h u v\\right)</script></html>"
      ],
      "text/plain": [
       "(h*u, 1/2*e_z*g*h^2 + h*u^2, h*u*v)"
      ]
     },
     "metadata": {},
     "output_type": "display_data"
    },
    {
     "data": {
      "text/html": [
       "<html><script type=\"math/tex; mode=display\">\\newcommand{\\Bold}[1]{\\mathbf{#1}}\\left(h v,\\,h u v,\\,\\frac{1}{2} \\, e_{z} g h^{2} + h v^{2}\\right)</script></html>"
      ],
      "text/plain": [
       "(h*v, h*u*v, 1/2*e_z*g*h^2 + h*v^2)"
      ]
     },
     "metadata": {},
     "output_type": "display_data"
    }
   ],
   "source": [
    "show(f_x_p)\n",
    "show(f_y_p)"
   ]
  },
  {
   "cell_type": "markdown",
   "metadata": {},
   "source": [
    "Nonconservative Matrix"
   ]
  },
  {
   "cell_type": "code",
   "execution_count": 52,
   "metadata": {},
   "outputs": [
    {
     "data": {
      "text/html": [
       "<html><script type=\"math/tex; mode=display\">\\newcommand{\\Bold}[1]{\\mathbf{#1}}\\left(\\begin{array}{rrr}\n",
       "0 & 0 & 0 \\\\\n",
       "0 & 0 & 0 \\\\\n",
       "0 & 0 & 0\n",
       "\\end{array}\\right)</script></html>"
      ],
      "text/plain": [
       "[0 0 0]\n",
       "[0 0 0]\n",
       "[0 0 0]"
      ]
     },
     "metadata": {},
     "output_type": "display_data"
    },
    {
     "data": {
      "text/html": [
       "<html><script type=\"math/tex; mode=display\">\\newcommand{\\Bold}[1]{\\mathbf{#1}}\\left(\\begin{array}{rrr}\n",
       "0 & 0 & 0 \\\\\n",
       "0 & 0 & 0 \\\\\n",
       "0 & 0 & 0\n",
       "\\end{array}\\right)</script></html>"
      ],
      "text/plain": [
       "[0 0 0]\n",
       "[0 0 0]\n",
       "[0 0 0]"
      ]
     },
     "metadata": {},
     "output_type": "display_data"
    }
   ],
   "source": [
    "show(G_x_p)\n",
    "show(G_y_p)"
   ]
  },
  {
   "cell_type": "markdown",
   "metadata": {},
   "source": [
    "Source Function"
   ]
  },
  {
   "cell_type": "code",
   "execution_count": 49,
   "metadata": {},
   "outputs": [
    {
     "data": {
      "text/html": [
       "<html><script type=\"math/tex; mode=display\">\\newcommand{\\Bold}[1]{\\mathbf{#1}}\\left(0,\\,-{\\left(e_{z} \\frac{\\partial}{\\partial x}h_{b}\\left(x, y\\right) - e_{x}\\right)} g h - \\frac{\\nu u}{\\lambda},\\,-{\\left(e_{z} \\frac{\\partial}{\\partial y}h_{b}\\left(x, y\\right) - e_{y}\\right)} g h - \\frac{\\nu v}{\\lambda}\\right)</script></html>"
      ],
      "text/plain": [
       "(0, -(e_z*diff(h_b(x, y), x) - e_x)*g*h - nu*u/lambda_, -(e_z*diff(h_b(x, y), y) - e_y)*g*h - nu*v/lambda_)"
      ]
     },
     "metadata": {},
     "output_type": "display_data"
    }
   ],
   "source": [
    "show(s_p)"
   ]
  },
  {
   "cell_type": "markdown",
   "metadata": {},
   "source": [
    "Flux Jacobians"
   ]
  },
  {
   "cell_type": "code",
   "execution_count": 53,
   "metadata": {},
   "outputs": [
    {
     "data": {
      "text/html": [
       "<html><script type=\"math/tex; mode=display\">\\newcommand{\\Bold}[1]{\\mathbf{#1}}\\left(\\begin{array}{rrr}\n",
       "0 & 1 & 0 \\\\\n",
       "e_{z} g h - u^{2} & 2 \\, u & 0 \\\\\n",
       "-u v & v & u\n",
       "\\end{array}\\right)</script></html>"
      ],
      "text/plain": [
       "[            0             1             0]\n",
       "[e_z*g*h - u^2           2*u             0]\n",
       "[         -u*v             v             u]"
      ]
     },
     "metadata": {},
     "output_type": "display_data"
    },
    {
     "data": {
      "text/html": [
       "<html><script type=\"math/tex; mode=display\">\\newcommand{\\Bold}[1]{\\mathbf{#1}}\\left(\\begin{array}{rrr}\n",
       "0 & 0 & 1 \\\\\n",
       "-u v & v & u \\\\\n",
       "e_{z} g h - v^{2} & 0 & 2 \\, v\n",
       "\\end{array}\\right)</script></html>"
      ],
      "text/plain": [
       "[            0             0             1]\n",
       "[         -u*v             v             u]\n",
       "[e_z*g*h - v^2             0           2*v]"
      ]
     },
     "metadata": {},
     "output_type": "display_data"
    }
   ],
   "source": [
    "show(f_x_q_j.subs(q_to_p).simplify_full())\n",
    "show(f_y_q_j.subs(q_to_p).simplify_full())"
   ]
  },
  {
   "cell_type": "markdown",
   "metadata": {},
   "source": [
    "Quasilinear Matrices"
   ]
  },
  {
   "cell_type": "code",
   "execution_count": 55,
   "metadata": {},
   "outputs": [
    {
     "data": {
      "text/html": [
       "<html><script type=\"math/tex; mode=display\">\\newcommand{\\Bold}[1]{\\mathbf{#1}}\\left(\\begin{array}{rrr}\n",
       "0 & 1 & 0 \\\\\n",
       "e_{z} g h - u^{2} & 2 \\, u & 0 \\\\\n",
       "-u v & v & u\n",
       "\\end{array}\\right)</script></html>"
      ],
      "text/plain": [
       "[            0             1             0]\n",
       "[e_z*g*h - u^2           2*u             0]\n",
       "[         -u*v             v             u]"
      ]
     },
     "metadata": {},
     "output_type": "display_data"
    },
    {
     "data": {
      "text/html": [
       "<html><script type=\"math/tex; mode=display\">\\newcommand{\\Bold}[1]{\\mathbf{#1}}\\left(\\begin{array}{rrr}\n",
       "0 & 0 & 1 \\\\\n",
       "-u v & v & u \\\\\n",
       "e_{z} g h - v^{2} & 0 & 2 \\, v\n",
       "\\end{array}\\right)</script></html>"
      ],
      "text/plain": [
       "[            0             0             1]\n",
       "[         -u*v             v             u]\n",
       "[e_z*g*h - v^2             0           2*v]"
      ]
     },
     "metadata": {},
     "output_type": "display_data"
    }
   ],
   "source": [
    "show(A_p.simplify_full())\n",
    "show(B_p.simplify_full())"
   ]
  },
  {
   "cell_type": "code",
   "execution_count": 58,
   "metadata": {},
   "outputs": [
    {
     "name": "stdout",
     "output_type": "stream",
     "text": [
      "\\left(\\begin{array}{rrr}\n",
      "0 & 1 & 0 \\\\\n",
      "e_{z} g h - u^{2} & 2 \\, u & 0 \\\\\n",
      "-u v & v & u\n",
      "\\end{array}\\right)\n",
      "\\left(\\begin{array}{rrr}\n",
      "0 & 0 & 1 \\\\\n",
      "-u v & v & u \\\\\n",
      "e_{z} g h - v^{2} & 0 & 2 \\, v\n",
      "\\end{array}\\right)\n"
     ]
    }
   ],
   "source": [
    "print(latex(f_x_q_j.subs(q_to_p).simplify_full()))\n",
    "print(latex(f_y_q_j.subs(q_to_p).simplify_full()))"
   ]
  },
  {
   "cell_type": "code",
   "execution_count": 59,
   "metadata": {},
   "outputs": [
    {
     "name": "stdout",
     "output_type": "stream",
     "text": [
      "\\left(\\begin{array}{rrr}\n",
      "0 & 1 & 0 \\\\\n",
      "e_{z} g h - u^{2} & 2 \\, u & 0 \\\\\n",
      "-u v & v & u\n",
      "\\end{array}\\right)\n",
      "\\left(\\begin{array}{rrr}\n",
      "0 & 0 & 1 \\\\\n",
      "-u v & v & u \\\\\n",
      "e_{z} g h - v^{2} & 0 & 2 \\, v\n",
      "\\end{array}\\right)\n"
     ]
    }
   ],
   "source": [
    "print(latex(A_p.simplify_full()))\n",
    "print(latex(B_p.simplify_full()))"
   ]
  },
  {
   "cell_type": "markdown",
   "metadata": {},
   "source": [
    "### One Moment/Linear Velocity Profile"
   ]
  },
  {
   "cell_type": "code",
   "execution_count": 60,
   "metadata": {},
   "outputs": [],
   "source": [
    "set_generalized_shallow_water_variables_2d(1)"
   ]
  },
  {
   "cell_type": "markdown",
   "metadata": {},
   "source": [
    "Flux Function"
   ]
  },
  {
   "cell_type": "code",
   "execution_count": 61,
   "metadata": {},
   "outputs": [
    {
     "data": {
      "text/html": [
       "<html><script type=\"math/tex; mode=display\">\\newcommand{\\Bold}[1]{\\mathbf{#1}}\\left(h u,\\,\\frac{1}{2} \\, e_{z} g h^{2} + \\frac{1}{3} \\, \\alpha_{0}^{2} h + h u^{2},\\,\\frac{1}{3} \\, \\alpha_{0} \\beta_{0} h + h u v,\\,2 \\, \\alpha_{0} h u,\\,\\beta_{0} h u + \\alpha_{0} h v\\right)</script></html>"
      ],
      "text/plain": [
       "(h*u, 1/2*e_z*g*h^2 + 1/3*alpha_0^2*h + h*u^2, 1/3*alpha_0*beta_0*h + h*u*v, 2*alpha_0*h*u, beta_0*h*u + alpha_0*h*v)"
      ]
     },
     "metadata": {},
     "output_type": "display_data"
    },
    {
     "data": {
      "text/html": [
       "<html><script type=\"math/tex; mode=display\">\\newcommand{\\Bold}[1]{\\mathbf{#1}}\\left(h v,\\,\\frac{1}{3} \\, \\alpha_{0} \\beta_{0} h + h u v,\\,\\frac{1}{2} \\, e_{z} g h^{2} + \\frac{1}{3} \\, \\beta_{0}^{2} h + h v^{2},\\,\\beta_{0} h u + \\alpha_{0} h v,\\,2 \\, \\beta_{0} h v\\right)</script></html>"
      ],
      "text/plain": [
       "(h*v, 1/3*alpha_0*beta_0*h + h*u*v, 1/2*e_z*g*h^2 + 1/3*beta_0^2*h + h*v^2, beta_0*h*u + alpha_0*h*v, 2*beta_0*h*v)"
      ]
     },
     "metadata": {},
     "output_type": "display_data"
    }
   ],
   "source": [
    "show(f_x_p)\n",
    "show(f_y_p)"
   ]
  },
  {
   "cell_type": "markdown",
   "metadata": {},
   "source": [
    "Nonconservative Matrix"
   ]
  },
  {
   "cell_type": "code",
   "execution_count": 62,
   "metadata": {},
   "outputs": [
    {
     "data": {
      "text/html": [
       "<html><script type=\"math/tex; mode=display\">\\newcommand{\\Bold}[1]{\\mathbf{#1}}\\left(\\begin{array}{rrrrr}\n",
       "0 & 0 & 0 & 0 & 0 \\\\\n",
       "0 & 0 & 0 & 0 & 0 \\\\\n",
       "0 & 0 & 0 & 0 & 0 \\\\\n",
       "0 & 0 & 0 & u & 0 \\\\\n",
       "0 & 0 & 0 & v & 0\n",
       "\\end{array}\\right)</script></html>"
      ],
      "text/plain": [
       "[0 0 0 0 0]\n",
       "[0 0 0 0 0]\n",
       "[0 0 0 0 0]\n",
       "[0 0 0 u 0]\n",
       "[0 0 0 v 0]"
      ]
     },
     "metadata": {},
     "output_type": "display_data"
    },
    {
     "data": {
      "text/html": [
       "<html><script type=\"math/tex; mode=display\">\\newcommand{\\Bold}[1]{\\mathbf{#1}}\\left(\\begin{array}{rrrrr}\n",
       "0 & 0 & 0 & 0 & 0 \\\\\n",
       "0 & 0 & 0 & 0 & 0 \\\\\n",
       "0 & 0 & 0 & 0 & 0 \\\\\n",
       "0 & 0 & 0 & 0 & u \\\\\n",
       "0 & 0 & 0 & 0 & v\n",
       "\\end{array}\\right)</script></html>"
      ],
      "text/plain": [
       "[0 0 0 0 0]\n",
       "[0 0 0 0 0]\n",
       "[0 0 0 0 0]\n",
       "[0 0 0 0 u]\n",
       "[0 0 0 0 v]"
      ]
     },
     "metadata": {},
     "output_type": "display_data"
    }
   ],
   "source": [
    "show(G_x_p)\n",
    "show(G_y_p)"
   ]
  },
  {
   "cell_type": "markdown",
   "metadata": {},
   "source": [
    "Source Function"
   ]
  },
  {
   "cell_type": "code",
   "execution_count": 64,
   "metadata": {},
   "outputs": [
    {
     "data": {
      "text/html": [
       "<html><script type=\"math/tex; mode=display\">\\newcommand{\\Bold}[1]{\\mathbf{#1}}\\left(0,\\,-\\frac{e_{z} g h \\lambda \\frac{\\partial}{\\partial x}h_{b}\\left(x, y\\right) - e_{x} g h \\lambda + \\alpha_{0} \\nu + \\nu u}{\\lambda},\\,-\\frac{e_{z} g h \\lambda \\frac{\\partial}{\\partial y}h_{b}\\left(x, y\\right) - e_{y} g h \\lambda + \\beta_{0} \\nu + \\nu v}{\\lambda},\\,-\\frac{3 \\, {\\left(h \\nu u + {\\left(\\alpha_{0} h + 4 \\, \\alpha_{0} \\lambda\\right)} \\nu\\right)}}{h \\lambda},\\,-\\frac{3 \\, {\\left(h \\nu v + {\\left(\\beta_{0} h + 4 \\, \\beta_{0} \\lambda\\right)} \\nu\\right)}}{h \\lambda}\\right)</script></html>"
      ],
      "text/plain": [
       "(0, -(e_z*g*h*lambda_*diff(h_b(x, y), x) - e_x*g*h*lambda_ + alpha_0*nu + nu*u)/lambda_, -(e_z*g*h*lambda_*diff(h_b(x, y), y) - e_y*g*h*lambda_ + beta_0*nu + nu*v)/lambda_, -3*(h*nu*u + (alpha_0*h + 4*alpha_0*lambda_)*nu)/(h*lambda_), -3*(h*nu*v + (beta_0*h + 4*beta_0*lambda_)*nu)/(h*lambda_))"
      ]
     },
     "metadata": {},
     "output_type": "display_data"
    }
   ],
   "source": [
    "show(s_p.simplify_full())"
   ]
  },
  {
   "cell_type": "markdown",
   "metadata": {},
   "source": [
    "Flux Jacobians"
   ]
  },
  {
   "cell_type": "code",
   "execution_count": 65,
   "metadata": {},
   "outputs": [
    {
     "data": {
      "text/html": [
       "<html><script type=\"math/tex; mode=display\">\\newcommand{\\Bold}[1]{\\mathbf{#1}}\\left(\\begin{array}{rrrrr}\n",
       "0 & 1 & 0 & 0 & 0 \\\\\n",
       "e_{z} g h - \\frac{1}{3} \\, \\alpha_{0}^{2} - u^{2} & 2 \\, u & 0 & \\frac{2}{3} \\, \\alpha_{0} & 0 \\\\\n",
       "-\\frac{1}{3} \\, \\alpha_{0} \\beta_{0} - u v & v & u & \\frac{1}{3} \\, \\beta_{0} & \\frac{1}{3} \\, \\alpha_{0} \\\\\n",
       "-2 \\, \\alpha_{0} u & 2 \\, \\alpha_{0} & 0 & 2 \\, u & 0 \\\\\n",
       "-\\beta_{0} u - \\alpha_{0} v & \\beta_{0} & \\alpha_{0} & v & u\n",
       "\\end{array}\\right)</script></html>"
      ],
      "text/plain": [
       "[                            0                             1                             0                             0                             0]\n",
       "[e_z*g*h - 1/3*alpha_0^2 - u^2                           2*u                             0                   2/3*alpha_0                             0]\n",
       "[    -1/3*alpha_0*beta_0 - u*v                             v                             u                    1/3*beta_0                   1/3*alpha_0]\n",
       "[                 -2*alpha_0*u                     2*alpha_0                             0                           2*u                             0]\n",
       "[        -beta_0*u - alpha_0*v                        beta_0                       alpha_0                             v                             u]"
      ]
     },
     "metadata": {},
     "output_type": "display_data"
    },
    {
     "data": {
      "text/html": [
       "<html><script type=\"math/tex; mode=display\">\\newcommand{\\Bold}[1]{\\mathbf{#1}}\\left(\\begin{array}{rrrrr}\n",
       "0 & 0 & 1 & 0 & 0 \\\\\n",
       "-\\frac{1}{3} \\, \\alpha_{0} \\beta_{0} - u v & v & u & \\frac{1}{3} \\, \\beta_{0} & \\frac{1}{3} \\, \\alpha_{0} \\\\\n",
       "e_{z} g h - \\frac{1}{3} \\, \\beta_{0}^{2} - v^{2} & 0 & 2 \\, v & 0 & \\frac{2}{3} \\, \\beta_{0} \\\\\n",
       "-\\beta_{0} u - \\alpha_{0} v & \\beta_{0} & \\alpha_{0} & v & u \\\\\n",
       "-2 \\, \\beta_{0} v & 0 & 2 \\, \\beta_{0} & 0 & 2 \\, v\n",
       "\\end{array}\\right)</script></html>"
      ],
      "text/plain": [
       "[                           0                            0                            1                            0                            0]\n",
       "[   -1/3*alpha_0*beta_0 - u*v                            v                            u                   1/3*beta_0                  1/3*alpha_0]\n",
       "[e_z*g*h - 1/3*beta_0^2 - v^2                            0                          2*v                            0                   2/3*beta_0]\n",
       "[       -beta_0*u - alpha_0*v                       beta_0                      alpha_0                            v                            u]\n",
       "[                 -2*beta_0*v                            0                     2*beta_0                            0                          2*v]"
      ]
     },
     "metadata": {},
     "output_type": "display_data"
    }
   ],
   "source": [
    "show(f_x_q_j.subs(q_to_p).simplify_full())\n",
    "show(f_y_q_j.subs(q_to_p).simplify_full())"
   ]
  },
  {
   "cell_type": "markdown",
   "metadata": {},
   "source": [
    "Quasilinear Matrices"
   ]
  },
  {
   "cell_type": "code",
   "execution_count": 66,
   "metadata": {},
   "outputs": [
    {
     "data": {
      "text/html": [
       "<html><script type=\"math/tex; mode=display\">\\newcommand{\\Bold}[1]{\\mathbf{#1}}\\left(\\begin{array}{rrrrr}\n",
       "0 & 1 & 0 & 0 & 0 \\\\\n",
       "e_{z} g h - \\frac{1}{3} \\, \\alpha_{0}^{2} - u^{2} & 2 \\, u & 0 & \\frac{2}{3} \\, \\alpha_{0} & 0 \\\\\n",
       "-\\frac{1}{3} \\, \\alpha_{0} \\beta_{0} - u v & v & u & \\frac{1}{3} \\, \\beta_{0} & \\frac{1}{3} \\, \\alpha_{0} \\\\\n",
       "-2 \\, \\alpha_{0} u & 2 \\, \\alpha_{0} & 0 & u & 0 \\\\\n",
       "-\\beta_{0} u - \\alpha_{0} v & \\beta_{0} & \\alpha_{0} & 0 & u\n",
       "\\end{array}\\right)</script></html>"
      ],
      "text/plain": [
       "[                            0                             1                             0                             0                             0]\n",
       "[e_z*g*h - 1/3*alpha_0^2 - u^2                           2*u                             0                   2/3*alpha_0                             0]\n",
       "[    -1/3*alpha_0*beta_0 - u*v                             v                             u                    1/3*beta_0                   1/3*alpha_0]\n",
       "[                 -2*alpha_0*u                     2*alpha_0                             0                             u                             0]\n",
       "[        -beta_0*u - alpha_0*v                        beta_0                       alpha_0                             0                             u]"
      ]
     },
     "metadata": {},
     "output_type": "display_data"
    },
    {
     "data": {
      "text/html": [
       "<html><script type=\"math/tex; mode=display\">\\newcommand{\\Bold}[1]{\\mathbf{#1}}\\left(\\begin{array}{rrrrr}\n",
       "0 & 0 & 1 & 0 & 0 \\\\\n",
       "-\\frac{1}{3} \\, \\alpha_{0} \\beta_{0} - u v & v & u & \\frac{1}{3} \\, \\beta_{0} & \\frac{1}{3} \\, \\alpha_{0} \\\\\n",
       "e_{z} g h - \\frac{1}{3} \\, \\beta_{0}^{2} - v^{2} & 0 & 2 \\, v & 0 & \\frac{2}{3} \\, \\beta_{0} \\\\\n",
       "-\\beta_{0} u - \\alpha_{0} v & \\beta_{0} & \\alpha_{0} & v & 0 \\\\\n",
       "-2 \\, \\beta_{0} v & 0 & 2 \\, \\beta_{0} & 0 & v\n",
       "\\end{array}\\right)</script></html>"
      ],
      "text/plain": [
       "[                           0                            0                            1                            0                            0]\n",
       "[   -1/3*alpha_0*beta_0 - u*v                            v                            u                   1/3*beta_0                  1/3*alpha_0]\n",
       "[e_z*g*h - 1/3*beta_0^2 - v^2                            0                          2*v                            0                   2/3*beta_0]\n",
       "[       -beta_0*u - alpha_0*v                       beta_0                      alpha_0                            v                            0]\n",
       "[                 -2*beta_0*v                            0                     2*beta_0                            0                            v]"
      ]
     },
     "metadata": {},
     "output_type": "display_data"
    }
   ],
   "source": [
    "show(A_p.simplify_full())\n",
    "show(B_p.simplify_full())"
   ]
  },
  {
   "cell_type": "code",
   "execution_count": 67,
   "metadata": {},
   "outputs": [
    {
     "name": "stdout",
     "output_type": "stream",
     "text": [
      "\\left(\\begin{array}{rrrrr}\n",
      "0 & 1 & 0 & 0 & 0 \\\\\n",
      "e_{z} g h - \\frac{1}{3} \\, \\alpha_{0}^{2} - u^{2} & 2 \\, u & 0 & \\frac{2}{3} \\, \\alpha_{0} & 0 \\\\\n",
      "-\\frac{1}{3} \\, \\alpha_{0} \\beta_{0} - u v & v & u & \\frac{1}{3} \\, \\beta_{0} & \\frac{1}{3} \\, \\alpha_{0} \\\\\n",
      "-2 \\, \\alpha_{0} u & 2 \\, \\alpha_{0} & 0 & 2 \\, u & 0 \\\\\n",
      "-\\beta_{0} u - \\alpha_{0} v & \\beta_{0} & \\alpha_{0} & v & u\n",
      "\\end{array}\\right)\n",
      "\\left(\\begin{array}{rrrrr}\n",
      "0 & 0 & 1 & 0 & 0 \\\\\n",
      "-\\frac{1}{3} \\, \\alpha_{0} \\beta_{0} - u v & v & u & \\frac{1}{3} \\, \\beta_{0} & \\frac{1}{3} \\, \\alpha_{0} \\\\\n",
      "e_{z} g h - \\frac{1}{3} \\, \\beta_{0}^{2} - v^{2} & 0 & 2 \\, v & 0 & \\frac{2}{3} \\, \\beta_{0} \\\\\n",
      "-\\beta_{0} u - \\alpha_{0} v & \\beta_{0} & \\alpha_{0} & v & u \\\\\n",
      "-2 \\, \\beta_{0} v & 0 & 2 \\, \\beta_{0} & 0 & 2 \\, v\n",
      "\\end{array}\\right)\n"
     ]
    }
   ],
   "source": [
    "print(latex(f_x_q_j.subs(q_to_p).simplify_full()))\n",
    "print(latex(f_y_q_j.subs(q_to_p).simplify_full()))"
   ]
  },
  {
   "cell_type": "code",
   "execution_count": 68,
   "metadata": {},
   "outputs": [
    {
     "name": "stdout",
     "output_type": "stream",
     "text": [
      "\\left(\\begin{array}{rrrrr}\n",
      "0 & 1 & 0 & 0 & 0 \\\\\n",
      "e_{z} g h - \\frac{1}{3} \\, \\alpha_{0}^{2} - u^{2} & 2 \\, u & 0 & \\frac{2}{3} \\, \\alpha_{0} & 0 \\\\\n",
      "-\\frac{1}{3} \\, \\alpha_{0} \\beta_{0} - u v & v & u & \\frac{1}{3} \\, \\beta_{0} & \\frac{1}{3} \\, \\alpha_{0} \\\\\n",
      "-2 \\, \\alpha_{0} u & 2 \\, \\alpha_{0} & 0 & u & 0 \\\\\n",
      "-\\beta_{0} u - \\alpha_{0} v & \\beta_{0} & \\alpha_{0} & 0 & u\n",
      "\\end{array}\\right)\n",
      "\\left(\\begin{array}{rrrrr}\n",
      "0 & 0 & 1 & 0 & 0 \\\\\n",
      "-\\frac{1}{3} \\, \\alpha_{0} \\beta_{0} - u v & v & u & \\frac{1}{3} \\, \\beta_{0} & \\frac{1}{3} \\, \\alpha_{0} \\\\\n",
      "e_{z} g h - \\frac{1}{3} \\, \\beta_{0}^{2} - v^{2} & 0 & 2 \\, v & 0 & \\frac{2}{3} \\, \\beta_{0} \\\\\n",
      "-\\beta_{0} u - \\alpha_{0} v & \\beta_{0} & \\alpha_{0} & v & 0 \\\\\n",
      "-2 \\, \\beta_{0} v & 0 & 2 \\, \\beta_{0} & 0 & v\n",
      "\\end{array}\\right)\n"
     ]
    }
   ],
   "source": [
    "print(latex(A_p.simplify_full()))\n",
    "print(latex(B_p.simplify_full()))"
   ]
  },
  {
   "cell_type": "markdown",
   "metadata": {},
   "source": [
    "### Two Moments/Quadratic Velocity Profile"
   ]
  },
  {
   "cell_type": "code",
   "execution_count": 69,
   "metadata": {},
   "outputs": [],
   "source": [
    "set_generalized_shallow_water_variables_2d(2)"
   ]
  },
  {
   "cell_type": "markdown",
   "metadata": {},
   "source": [
    "Flux Function"
   ]
  },
  {
   "cell_type": "code",
   "execution_count": 70,
   "metadata": {},
   "outputs": [
    {
     "data": {
      "text/html": [
       "<html><script type=\"math/tex; mode=display\">\\newcommand{\\Bold}[1]{\\mathbf{#1}}\\left(h u,\\,\\frac{1}{2} \\, e_{z} g h^{2} + h u^{2} + \\frac{1}{15} \\, {\\left(5 \\, \\alpha_{0}^{2} + 3 \\, \\alpha_{1}^{2}\\right)} h,\\,h u v + \\frac{1}{15} \\, {\\left(5 \\, \\alpha_{0} \\beta_{0} + 3 \\, \\alpha_{1} \\beta_{1}\\right)} h,\\,\\frac{4}{5} \\, \\alpha_{0} \\alpha_{1} h + 2 \\, \\alpha_{0} h u,\\,\\beta_{0} h u + \\alpha_{0} h v + \\frac{2}{5} \\, {\\left(\\alpha_{1} \\beta_{0} + \\alpha_{0} \\beta_{1}\\right)} h,\\,2 \\, \\alpha_{1} h u + \\frac{2}{21} \\, {\\left(7 \\, \\alpha_{0}^{2} + 3 \\, \\alpha_{1}^{2}\\right)} h,\\,\\beta_{1} h u + \\alpha_{1} h v + \\frac{2}{21} \\, {\\left(7 \\, \\alpha_{0} \\beta_{0} + 3 \\, \\alpha_{1} \\beta_{1}\\right)} h\\right)</script></html>"
      ],
      "text/plain": [
       "(h*u, 1/2*e_z*g*h^2 + h*u^2 + 1/15*(5*alpha_0^2 + 3*alpha_1^2)*h, h*u*v + 1/15*(5*alpha_0*beta_0 + 3*alpha_1*beta_1)*h, 4/5*alpha_0*alpha_1*h + 2*alpha_0*h*u, beta_0*h*u + alpha_0*h*v + 2/5*(alpha_1*beta_0 + alpha_0*beta_1)*h, 2*alpha_1*h*u + 2/21*(7*alpha_0^2 + 3*alpha_1^2)*h, beta_1*h*u + alpha_1*h*v + 2/21*(7*alpha_0*beta_0 + 3*alpha_1*beta_1)*h)"
      ]
     },
     "metadata": {},
     "output_type": "display_data"
    },
    {
     "data": {
      "text/html": [
       "<html><script type=\"math/tex; mode=display\">\\newcommand{\\Bold}[1]{\\mathbf{#1}}\\left(h v,\\,h u v + \\frac{1}{15} \\, {\\left(5 \\, \\alpha_{0} \\beta_{0} + 3 \\, \\alpha_{1} \\beta_{1}\\right)} h,\\,\\frac{1}{2} \\, e_{z} g h^{2} + h v^{2} + \\frac{1}{15} \\, {\\left(5 \\, \\beta_{0}^{2} + 3 \\, \\beta_{1}^{2}\\right)} h,\\,\\beta_{0} h u + \\alpha_{0} h v + \\frac{2}{5} \\, {\\left(\\alpha_{0} \\beta_{0} + \\alpha_{1} \\beta_{1}\\right)} h,\\,\\frac{4}{5} \\, \\beta_{0} \\beta_{1} h + 2 \\, \\beta_{0} h v,\\,\\beta_{1} h u + \\alpha_{1} h v + \\frac{2}{21} \\, {\\left(7 \\, \\alpha_{0} \\beta_{0} + 3 \\, \\alpha_{1} \\beta_{1}\\right)} h,\\,2 \\, \\beta_{1} h v + \\frac{2}{21} \\, {\\left(7 \\, \\beta_{0}^{2} + 3 \\, \\beta_{1}^{2}\\right)} h\\right)</script></html>"
      ],
      "text/plain": [
       "(h*v, h*u*v + 1/15*(5*alpha_0*beta_0 + 3*alpha_1*beta_1)*h, 1/2*e_z*g*h^2 + h*v^2 + 1/15*(5*beta_0^2 + 3*beta_1^2)*h, beta_0*h*u + alpha_0*h*v + 2/5*(alpha_0*beta_0 + alpha_1*beta_1)*h, 4/5*beta_0*beta_1*h + 2*beta_0*h*v, beta_1*h*u + alpha_1*h*v + 2/21*(7*alpha_0*beta_0 + 3*alpha_1*beta_1)*h, 2*beta_1*h*v + 2/21*(7*beta_0^2 + 3*beta_1^2)*h)"
      ]
     },
     "metadata": {},
     "output_type": "display_data"
    }
   ],
   "source": [
    "show(f_x_p)\n",
    "show(f_y_p)"
   ]
  },
  {
   "cell_type": "markdown",
   "metadata": {},
   "source": [
    "Nonconservative Matrix"
   ]
  },
  {
   "cell_type": "code",
   "execution_count": 71,
   "metadata": {},
   "outputs": [
    {
     "data": {
      "text/html": [
       "<html><script type=\"math/tex; mode=display\">\\newcommand{\\Bold}[1]{\\mathbf{#1}}\\left(\\begin{array}{rrrrrrr}\n",
       "0 & 0 & 0 & 0 & 0 & 0 & 0 \\\\\n",
       "0 & 0 & 0 & 0 & 0 & 0 & 0 \\\\\n",
       "0 & 0 & 0 & 0 & 0 & 0 & 0 \\\\\n",
       "0 & 0 & 0 & -\\frac{1}{5} \\, \\alpha_{1} + u & 0 & \\frac{1}{5} \\, \\alpha_{0} & 0 \\\\\n",
       "0 & 0 & 0 & -\\frac{1}{5} \\, \\beta_{1} + v & 0 & \\frac{1}{5} \\, \\beta_{0} & 0 \\\\\n",
       "0 & 0 & 0 & \\alpha_{0} & 0 & \\frac{1}{7} \\, \\alpha_{1} + u & 0 \\\\\n",
       "0 & 0 & 0 & \\beta_{0} & 0 & \\frac{1}{7} \\, \\beta_{1} + v & 0\n",
       "\\end{array}\\right)</script></html>"
      ],
      "text/plain": [
       "[               0                0                0                0                0                0                0]\n",
       "[               0                0                0                0                0                0                0]\n",
       "[               0                0                0                0                0                0                0]\n",
       "[               0                0                0 -1/5*alpha_1 + u                0      1/5*alpha_0                0]\n",
       "[               0                0                0  -1/5*beta_1 + v                0       1/5*beta_0                0]\n",
       "[               0                0                0          alpha_0                0  1/7*alpha_1 + u                0]\n",
       "[               0                0                0           beta_0                0   1/7*beta_1 + v                0]"
      ]
     },
     "metadata": {},
     "output_type": "display_data"
    },
    {
     "data": {
      "text/html": [
       "<html><script type=\"math/tex; mode=display\">\\newcommand{\\Bold}[1]{\\mathbf{#1}}\\left(\\begin{array}{rrrrrrr}\n",
       "0 & 0 & 0 & 0 & 0 & 0 & 0 \\\\\n",
       "0 & 0 & 0 & 0 & 0 & 0 & 0 \\\\\n",
       "0 & 0 & 0 & 0 & 0 & 0 & 0 \\\\\n",
       "0 & 0 & 0 & 0 & -\\frac{1}{5} \\, \\alpha_{1} + u & 0 & \\frac{1}{5} \\, \\alpha_{0} \\\\\n",
       "0 & 0 & 0 & 0 & -\\frac{1}{5} \\, \\beta_{1} + v & 0 & \\frac{1}{5} \\, \\beta_{0} \\\\\n",
       "0 & 0 & 0 & 0 & \\alpha_{0} & 0 & \\frac{1}{7} \\, \\alpha_{1} + u \\\\\n",
       "0 & 0 & 0 & 0 & \\beta_{0} & 0 & \\frac{1}{7} \\, \\beta_{1} + v\n",
       "\\end{array}\\right)</script></html>"
      ],
      "text/plain": [
       "[               0                0                0                0                0                0                0]\n",
       "[               0                0                0                0                0                0                0]\n",
       "[               0                0                0                0                0                0                0]\n",
       "[               0                0                0                0 -1/5*alpha_1 + u                0      1/5*alpha_0]\n",
       "[               0                0                0                0  -1/5*beta_1 + v                0       1/5*beta_0]\n",
       "[               0                0                0                0          alpha_0                0  1/7*alpha_1 + u]\n",
       "[               0                0                0                0           beta_0                0   1/7*beta_1 + v]"
      ]
     },
     "metadata": {},
     "output_type": "display_data"
    }
   ],
   "source": [
    "show(G_x_p)\n",
    "show(G_y_p)"
   ]
  },
  {
   "cell_type": "markdown",
   "metadata": {},
   "source": [
    "Source Function"
   ]
  },
  {
   "cell_type": "code",
   "execution_count": 72,
   "metadata": {},
   "outputs": [
    {
     "data": {
      "text/html": [
       "<html><script type=\"math/tex; mode=display\">\\newcommand{\\Bold}[1]{\\mathbf{#1}}\\left(0,\\,-{\\left(e_{z} \\frac{\\partial}{\\partial x}h_{b}\\left(x, y\\right) - e_{x}\\right)} g h - \\frac{{\\left(\\alpha_{0} + \\alpha_{1} + u\\right)} \\nu}{\\lambda},\\,-{\\left(e_{z} \\frac{\\partial}{\\partial y}h_{b}\\left(x, y\\right) - e_{y}\\right)} g h - \\frac{{\\left(\\beta_{0} + \\beta_{1} + v\\right)} \\nu}{\\lambda},\\,-\\frac{3 \\, {\\left(\\alpha_{0} {\\left(\\frac{4 \\, \\lambda}{h} + 1\\right)} + \\alpha_{1} + u\\right)} \\nu}{\\lambda},\\,-\\frac{3 \\, {\\left(\\beta_{0} {\\left(\\frac{4 \\, \\lambda}{h} + 1\\right)} + \\beta_{1} + v\\right)} \\nu}{\\lambda},\\,-\\frac{5 \\, {\\left(\\alpha_{1} {\\left(\\frac{12 \\, \\lambda}{h} + 1\\right)} + \\alpha_{0} + u\\right)} \\nu}{\\lambda},\\,-\\frac{5 \\, {\\left(\\beta_{1} {\\left(\\frac{12 \\, \\lambda}{h} + 1\\right)} + \\beta_{0} + v\\right)} \\nu}{\\lambda}\\right)</script></html>"
      ],
      "text/plain": [
       "(0, -(e_z*diff(h_b(x, y), x) - e_x)*g*h - (alpha_0 + alpha_1 + u)*nu/lambda_, -(e_z*diff(h_b(x, y), y) - e_y)*g*h - (beta_0 + beta_1 + v)*nu/lambda_, -3*(alpha_0*(4*lambda_/h + 1) + alpha_1 + u)*nu/lambda_, -3*(beta_0*(4*lambda_/h + 1) + beta_1 + v)*nu/lambda_, -5*(alpha_1*(12*lambda_/h + 1) + alpha_0 + u)*nu/lambda_, -5*(beta_1*(12*lambda_/h + 1) + beta_0 + v)*nu/lambda_)"
      ]
     },
     "metadata": {},
     "output_type": "display_data"
    }
   ],
   "source": [
    "show(s_p)"
   ]
  },
  {
   "cell_type": "markdown",
   "metadata": {},
   "source": [
    "Flux Jacobians"
   ]
  },
  {
   "cell_type": "code",
   "execution_count": 73,
   "metadata": {},
   "outputs": [
    {
     "data": {
      "text/html": [
       "<html><script type=\"math/tex; mode=display\">\\newcommand{\\Bold}[1]{\\mathbf{#1}}\\left(\\begin{array}{rrrrrrr}\n",
       "0 & 1 & 0 & 0 & 0 & 0 & 0 \\\\\n",
       "e_{z} g h - \\frac{1}{3} \\, \\alpha_{0}^{2} - \\frac{1}{5} \\, \\alpha_{1}^{2} - u^{2} & 2 \\, u & 0 & \\frac{2}{3} \\, \\alpha_{0} & 0 & \\frac{2}{5} \\, \\alpha_{1} & 0 \\\\\n",
       "-\\frac{1}{3} \\, \\alpha_{0} \\beta_{0} - \\frac{1}{5} \\, \\alpha_{1} \\beta_{1} - u v & v & u & \\frac{1}{3} \\, \\beta_{0} & \\frac{1}{3} \\, \\alpha_{0} & \\frac{1}{5} \\, \\beta_{1} & \\frac{1}{5} \\, \\alpha_{1} \\\\\n",
       "-\\frac{4}{5} \\, \\alpha_{0} \\alpha_{1} - 2 \\, \\alpha_{0} u & 2 \\, \\alpha_{0} & 0 & \\frac{4}{5} \\, \\alpha_{1} + 2 \\, u & 0 & \\frac{4}{5} \\, \\alpha_{0} & 0 \\\\\n",
       "-\\frac{2}{5} \\, \\alpha_{1} \\beta_{0} - \\frac{2}{5} \\, \\alpha_{0} \\beta_{1} - \\beta_{0} u - \\alpha_{0} v & \\beta_{0} & \\alpha_{0} & \\frac{2}{5} \\, \\beta_{1} + v & \\frac{2}{5} \\, \\alpha_{1} + u & \\frac{2}{5} \\, \\beta_{0} & \\frac{2}{5} \\, \\alpha_{0} \\\\\n",
       "-\\frac{2}{3} \\, \\alpha_{0}^{2} - \\frac{2}{7} \\, \\alpha_{1}^{2} - 2 \\, \\alpha_{1} u & 2 \\, \\alpha_{1} & 0 & \\frac{4}{3} \\, \\alpha_{0} & 0 & \\frac{4}{7} \\, \\alpha_{1} + 2 \\, u & 0 \\\\\n",
       "-\\frac{2}{3} \\, \\alpha_{0} \\beta_{0} - \\frac{2}{7} \\, \\alpha_{1} \\beta_{1} - \\beta_{1} u - \\alpha_{1} v & \\beta_{1} & \\alpha_{1} & \\frac{2}{3} \\, \\beta_{0} & \\frac{2}{3} \\, \\alpha_{0} & \\frac{2}{7} \\, \\beta_{1} + v & \\frac{2}{7} \\, \\alpha_{1} + u\n",
       "\\end{array}\\right)</script></html>"
      ],
      "text/plain": [
       "[                                                              0                                                               1                                                               0                                                               0                                                               0                                                               0                                                               0]\n",
       "[                  e_z*g*h - 1/3*alpha_0^2 - 1/5*alpha_1^2 - u^2                                                             2*u                                                               0                                                     2/3*alpha_0                                                               0                                                     2/5*alpha_1                                                               0]\n",
       "[                 -1/3*alpha_0*beta_0 - 1/5*alpha_1*beta_1 - u*v                                                               v                                                               u                                                      1/3*beta_0                                                     1/3*alpha_0                                                      1/5*beta_1                                                     1/5*alpha_1]\n",
       "[                             -4/5*alpha_0*alpha_1 - 2*alpha_0*u                                                       2*alpha_0                                                               0                                               4/5*alpha_1 + 2*u                                                               0                                                     4/5*alpha_0                                                               0]\n",
       "[-2/5*alpha_1*beta_0 - 2/5*alpha_0*beta_1 - beta_0*u - alpha_0*v                                                          beta_0                                                         alpha_0                                                  2/5*beta_1 + v                                                 2/5*alpha_1 + u                                                      2/5*beta_0                                                     2/5*alpha_0]\n",
       "[                   -2/3*alpha_0^2 - 2/7*alpha_1^2 - 2*alpha_1*u                                                       2*alpha_1                                                               0                                                     4/3*alpha_0                                                               0                                               4/7*alpha_1 + 2*u                                                               0]\n",
       "[-2/3*alpha_0*beta_0 - 2/7*alpha_1*beta_1 - beta_1*u - alpha_1*v                                                          beta_1                                                         alpha_1                                                      2/3*beta_0                                                     2/3*alpha_0                                                  2/7*beta_1 + v                                                 2/7*alpha_1 + u]"
      ]
     },
     "metadata": {},
     "output_type": "display_data"
    },
    {
     "data": {
      "text/html": [
       "<html><script type=\"math/tex; mode=display\">\\newcommand{\\Bold}[1]{\\mathbf{#1}}\\left(\\begin{array}{rrrrrrr}\n",
       "0 & 0 & 1 & 0 & 0 & 0 & 0 \\\\\n",
       "-\\frac{1}{3} \\, \\alpha_{0} \\beta_{0} - \\frac{1}{5} \\, \\alpha_{1} \\beta_{1} - u v & v & u & \\frac{1}{3} \\, \\beta_{0} & \\frac{1}{3} \\, \\alpha_{0} & \\frac{1}{5} \\, \\beta_{1} & \\frac{1}{5} \\, \\alpha_{1} \\\\\n",
       "e_{z} g h - \\frac{1}{3} \\, \\beta_{0}^{2} - \\frac{1}{5} \\, \\beta_{1}^{2} - v^{2} & 0 & 2 \\, v & 0 & \\frac{2}{3} \\, \\beta_{0} & 0 & \\frac{2}{5} \\, \\beta_{1} \\\\\n",
       "-\\frac{2}{5} \\, \\alpha_{0} \\beta_{0} - \\frac{2}{5} \\, \\alpha_{1} \\beta_{1} - \\beta_{0} u - \\alpha_{0} v & \\beta_{0} & \\alpha_{0} & \\frac{2}{5} \\, \\beta_{0} + v & \\frac{2}{5} \\, \\alpha_{0} + u & \\frac{2}{5} \\, \\beta_{1} & \\frac{2}{5} \\, \\alpha_{1} \\\\\n",
       "-\\frac{4}{5} \\, \\beta_{0} \\beta_{1} - 2 \\, \\beta_{0} v & 0 & 2 \\, \\beta_{0} & 0 & \\frac{4}{5} \\, \\beta_{1} + 2 \\, v & 0 & \\frac{4}{5} \\, \\beta_{0} \\\\\n",
       "-\\frac{2}{3} \\, \\alpha_{0} \\beta_{0} - \\frac{2}{7} \\, \\alpha_{1} \\beta_{1} - \\beta_{1} u - \\alpha_{1} v & \\beta_{1} & \\alpha_{1} & \\frac{2}{3} \\, \\beta_{0} & \\frac{2}{3} \\, \\alpha_{0} & \\frac{2}{7} \\, \\beta_{1} + v & \\frac{2}{7} \\, \\alpha_{1} + u \\\\\n",
       "-\\frac{2}{3} \\, \\beta_{0}^{2} - \\frac{2}{7} \\, \\beta_{1}^{2} - 2 \\, \\beta_{1} v & 0 & 2 \\, \\beta_{1} & 0 & \\frac{4}{3} \\, \\beta_{0} & 0 & \\frac{4}{7} \\, \\beta_{1} + 2 \\, v\n",
       "\\end{array}\\right)</script></html>"
      ],
      "text/plain": [
       "[                                                              0                                                               0                                                               1                                                               0                                                               0                                                               0                                                               0]\n",
       "[                 -1/3*alpha_0*beta_0 - 1/5*alpha_1*beta_1 - u*v                                                               v                                                               u                                                      1/3*beta_0                                                     1/3*alpha_0                                                      1/5*beta_1                                                     1/5*alpha_1]\n",
       "[                    e_z*g*h - 1/3*beta_0^2 - 1/5*beta_1^2 - v^2                                                               0                                                             2*v                                                               0                                                      2/3*beta_0                                                               0                                                      2/5*beta_1]\n",
       "[-2/5*alpha_0*beta_0 - 2/5*alpha_1*beta_1 - beta_0*u - alpha_0*v                                                          beta_0                                                         alpha_0                                                  2/5*beta_0 + v                                                 2/5*alpha_0 + u                                                      2/5*beta_1                                                     2/5*alpha_1]\n",
       "[                                -4/5*beta_0*beta_1 - 2*beta_0*v                                                               0                                                        2*beta_0                                                               0                                                4/5*beta_1 + 2*v                                                               0                                                      4/5*beta_0]\n",
       "[-2/3*alpha_0*beta_0 - 2/7*alpha_1*beta_1 - beta_1*u - alpha_1*v                                                          beta_1                                                         alpha_1                                                      2/3*beta_0                                                     2/3*alpha_0                                                  2/7*beta_1 + v                                                 2/7*alpha_1 + u]\n",
       "[                      -2/3*beta_0^2 - 2/7*beta_1^2 - 2*beta_1*v                                                               0                                                        2*beta_1                                                               0                                                      4/3*beta_0                                                               0                                                4/7*beta_1 + 2*v]"
      ]
     },
     "metadata": {},
     "output_type": "display_data"
    }
   ],
   "source": [
    "show(f_x_q_j.subs(q_to_p).simplify_full())\n",
    "show(f_y_q_j.subs(q_to_p).simplify_full())"
   ]
  },
  {
   "cell_type": "markdown",
   "metadata": {},
   "source": [
    "Quasilinear Matrices"
   ]
  },
  {
   "cell_type": "code",
   "execution_count": 74,
   "metadata": {},
   "outputs": [
    {
     "data": {
      "text/html": [
       "<html><script type=\"math/tex; mode=display\">\\newcommand{\\Bold}[1]{\\mathbf{#1}}\\left(\\begin{array}{rrrrrrr}\n",
       "0 & 1 & 0 & 0 & 0 & 0 & 0 \\\\\n",
       "e_{z} g h - \\frac{1}{3} \\, \\alpha_{0}^{2} - \\frac{1}{5} \\, \\alpha_{1}^{2} - u^{2} & 2 \\, u & 0 & \\frac{2}{3} \\, \\alpha_{0} & 0 & \\frac{2}{5} \\, \\alpha_{1} & 0 \\\\\n",
       "-\\frac{1}{3} \\, \\alpha_{0} \\beta_{0} - \\frac{1}{5} \\, \\alpha_{1} \\beta_{1} - u v & v & u & \\frac{1}{3} \\, \\beta_{0} & \\frac{1}{3} \\, \\alpha_{0} & \\frac{1}{5} \\, \\beta_{1} & \\frac{1}{5} \\, \\alpha_{1} \\\\\n",
       "-\\frac{4}{5} \\, \\alpha_{0} \\alpha_{1} - 2 \\, \\alpha_{0} u & 2 \\, \\alpha_{0} & 0 & \\alpha_{1} + u & 0 & \\frac{3}{5} \\, \\alpha_{0} & 0 \\\\\n",
       "-\\frac{2}{5} \\, \\alpha_{1} \\beta_{0} - \\frac{2}{5} \\, \\alpha_{0} \\beta_{1} - \\beta_{0} u - \\alpha_{0} v & \\beta_{0} & \\alpha_{0} & \\frac{3}{5} \\, \\beta_{1} & \\frac{2}{5} \\, \\alpha_{1} + u & \\frac{1}{5} \\, \\beta_{0} & \\frac{2}{5} \\, \\alpha_{0} \\\\\n",
       "-\\frac{2}{3} \\, \\alpha_{0}^{2} - \\frac{2}{7} \\, \\alpha_{1}^{2} - 2 \\, \\alpha_{1} u & 2 \\, \\alpha_{1} & 0 & \\frac{1}{3} \\, \\alpha_{0} & 0 & \\frac{3}{7} \\, \\alpha_{1} + u & 0 \\\\\n",
       "-\\frac{2}{3} \\, \\alpha_{0} \\beta_{0} - \\frac{2}{7} \\, \\alpha_{1} \\beta_{1} - \\beta_{1} u - \\alpha_{1} v & \\beta_{1} & \\alpha_{1} & -\\frac{1}{3} \\, \\beta_{0} & \\frac{2}{3} \\, \\alpha_{0} & \\frac{1}{7} \\, \\beta_{1} & \\frac{2}{7} \\, \\alpha_{1} + u\n",
       "\\end{array}\\right)</script></html>"
      ],
      "text/plain": [
       "[                                                              0                                                               1                                                               0                                                               0                                                               0                                                               0                                                               0]\n",
       "[                  e_z*g*h - 1/3*alpha_0^2 - 1/5*alpha_1^2 - u^2                                                             2*u                                                               0                                                     2/3*alpha_0                                                               0                                                     2/5*alpha_1                                                               0]\n",
       "[                 -1/3*alpha_0*beta_0 - 1/5*alpha_1*beta_1 - u*v                                                               v                                                               u                                                      1/3*beta_0                                                     1/3*alpha_0                                                      1/5*beta_1                                                     1/5*alpha_1]\n",
       "[                             -4/5*alpha_0*alpha_1 - 2*alpha_0*u                                                       2*alpha_0                                                               0                                                     alpha_1 + u                                                               0                                                     3/5*alpha_0                                                               0]\n",
       "[-2/5*alpha_1*beta_0 - 2/5*alpha_0*beta_1 - beta_0*u - alpha_0*v                                                          beta_0                                                         alpha_0                                                      3/5*beta_1                                                 2/5*alpha_1 + u                                                      1/5*beta_0                                                     2/5*alpha_0]\n",
       "[                   -2/3*alpha_0^2 - 2/7*alpha_1^2 - 2*alpha_1*u                                                       2*alpha_1                                                               0                                                     1/3*alpha_0                                                               0                                                 3/7*alpha_1 + u                                                               0]\n",
       "[-2/3*alpha_0*beta_0 - 2/7*alpha_1*beta_1 - beta_1*u - alpha_1*v                                                          beta_1                                                         alpha_1                                                     -1/3*beta_0                                                     2/3*alpha_0                                                      1/7*beta_1                                                 2/7*alpha_1 + u]"
      ]
     },
     "metadata": {},
     "output_type": "display_data"
    },
    {
     "data": {
      "text/html": [
       "<html><script type=\"math/tex; mode=display\">\\newcommand{\\Bold}[1]{\\mathbf{#1}}\\left(\\begin{array}{rrrrrrr}\n",
       "0 & 0 & 1 & 0 & 0 & 0 & 0 \\\\\n",
       "-\\frac{1}{3} \\, \\alpha_{0} \\beta_{0} - \\frac{1}{5} \\, \\alpha_{1} \\beta_{1} - u v & v & u & \\frac{1}{3} \\, \\beta_{0} & \\frac{1}{3} \\, \\alpha_{0} & \\frac{1}{5} \\, \\beta_{1} & \\frac{1}{5} \\, \\alpha_{1} \\\\\n",
       "e_{z} g h - \\frac{1}{3} \\, \\beta_{0}^{2} - \\frac{1}{5} \\, \\beta_{1}^{2} - v^{2} & 0 & 2 \\, v & 0 & \\frac{2}{3} \\, \\beta_{0} & 0 & \\frac{2}{5} \\, \\beta_{1} \\\\\n",
       "-\\frac{2}{5} \\, \\alpha_{0} \\beta_{0} - \\frac{2}{5} \\, \\alpha_{1} \\beta_{1} - \\beta_{0} u - \\alpha_{0} v & \\beta_{0} & \\alpha_{0} & \\frac{2}{5} \\, \\beta_{0} + v & \\frac{2}{5} \\, \\alpha_{0} + \\frac{1}{5} \\, \\alpha_{1} & \\frac{2}{5} \\, \\beta_{1} & -\\frac{1}{5} \\, \\alpha_{0} + \\frac{2}{5} \\, \\alpha_{1} \\\\\n",
       "-\\frac{4}{5} \\, \\beta_{0} \\beta_{1} - 2 \\, \\beta_{0} v & 0 & 2 \\, \\beta_{0} & 0 & \\beta_{1} + v & 0 & \\frac{3}{5} \\, \\beta_{0} \\\\\n",
       "-\\frac{2}{3} \\, \\alpha_{0} \\beta_{0} - \\frac{2}{7} \\, \\alpha_{1} \\beta_{1} - \\beta_{1} u - \\alpha_{1} v & \\beta_{1} & \\alpha_{1} & \\frac{2}{3} \\, \\beta_{0} & -\\frac{1}{3} \\, \\alpha_{0} & \\frac{2}{7} \\, \\beta_{1} + v & \\frac{1}{7} \\, \\alpha_{1} \\\\\n",
       "-\\frac{2}{3} \\, \\beta_{0}^{2} - \\frac{2}{7} \\, \\beta_{1}^{2} - 2 \\, \\beta_{1} v & 0 & 2 \\, \\beta_{1} & 0 & \\frac{1}{3} \\, \\beta_{0} & 0 & \\frac{3}{7} \\, \\beta_{1} + v\n",
       "\\end{array}\\right)</script></html>"
      ],
      "text/plain": [
       "[                                                              0                                                               0                                                               1                                                               0                                                               0                                                               0                                                               0]\n",
       "[                 -1/3*alpha_0*beta_0 - 1/5*alpha_1*beta_1 - u*v                                                               v                                                               u                                                      1/3*beta_0                                                     1/3*alpha_0                                                      1/5*beta_1                                                     1/5*alpha_1]\n",
       "[                    e_z*g*h - 1/3*beta_0^2 - 1/5*beta_1^2 - v^2                                                               0                                                             2*v                                                               0                                                      2/3*beta_0                                                               0                                                      2/5*beta_1]\n",
       "[-2/5*alpha_0*beta_0 - 2/5*alpha_1*beta_1 - beta_0*u - alpha_0*v                                                          beta_0                                                         alpha_0                                                  2/5*beta_0 + v                                       2/5*alpha_0 + 1/5*alpha_1                                                      2/5*beta_1                                      -1/5*alpha_0 + 2/5*alpha_1]\n",
       "[                                -4/5*beta_0*beta_1 - 2*beta_0*v                                                               0                                                        2*beta_0                                                               0                                                      beta_1 + v                                                               0                                                      3/5*beta_0]\n",
       "[-2/3*alpha_0*beta_0 - 2/7*alpha_1*beta_1 - beta_1*u - alpha_1*v                                                          beta_1                                                         alpha_1                                                      2/3*beta_0                                                    -1/3*alpha_0                                                  2/7*beta_1 + v                                                     1/7*alpha_1]\n",
       "[                      -2/3*beta_0^2 - 2/7*beta_1^2 - 2*beta_1*v                                                               0                                                        2*beta_1                                                               0                                                      1/3*beta_0                                                               0                                                  3/7*beta_1 + v]"
      ]
     },
     "metadata": {},
     "output_type": "display_data"
    }
   ],
   "source": [
    "show(A_p.simplify_full())\n",
    "show(B_p.simplify_full())"
   ]
  },
  {
   "cell_type": "code",
   "execution_count": 75,
   "metadata": {},
   "outputs": [
    {
     "name": "stdout",
     "output_type": "stream",
     "text": [
      "\\left(\\begin{array}{rrrrrrr}\n",
      "0 & 1 & 0 & 0 & 0 & 0 & 0 \\\\\n",
      "e_{z} g h - \\frac{1}{3} \\, \\alpha_{0}^{2} - \\frac{1}{5} \\, \\alpha_{1}^{2} - u^{2} & 2 \\, u & 0 & \\frac{2}{3} \\, \\alpha_{0} & 0 & \\frac{2}{5} \\, \\alpha_{1} & 0 \\\\\n",
      "-\\frac{1}{3} \\, \\alpha_{0} \\beta_{0} - \\frac{1}{5} \\, \\alpha_{1} \\beta_{1} - u v & v & u & \\frac{1}{3} \\, \\beta_{0} & \\frac{1}{3} \\, \\alpha_{0} & \\frac{1}{5} \\, \\beta_{1} & \\frac{1}{5} \\, \\alpha_{1} \\\\\n",
      "-\\frac{4}{5} \\, \\alpha_{0} \\alpha_{1} - 2 \\, \\alpha_{0} u & 2 \\, \\alpha_{0} & 0 & \\frac{4}{5} \\, \\alpha_{1} + 2 \\, u & 0 & \\frac{4}{5} \\, \\alpha_{0} & 0 \\\\\n",
      "-\\frac{2}{5} \\, \\alpha_{1} \\beta_{0} - \\frac{2}{5} \\, \\alpha_{0} \\beta_{1} - \\beta_{0} u - \\alpha_{0} v & \\beta_{0} & \\alpha_{0} & \\frac{2}{5} \\, \\beta_{1} + v & \\frac{2}{5} \\, \\alpha_{1} + u & \\frac{2}{5} \\, \\beta_{0} & \\frac{2}{5} \\, \\alpha_{0} \\\\\n",
      "-\\frac{2}{3} \\, \\alpha_{0}^{2} - \\frac{2}{7} \\, \\alpha_{1}^{2} - 2 \\, \\alpha_{1} u & 2 \\, \\alpha_{1} & 0 & \\frac{4}{3} \\, \\alpha_{0} & 0 & \\frac{4}{7} \\, \\alpha_{1} + 2 \\, u & 0 \\\\\n",
      "-\\frac{2}{3} \\, \\alpha_{0} \\beta_{0} - \\frac{2}{7} \\, \\alpha_{1} \\beta_{1} - \\beta_{1} u - \\alpha_{1} v & \\beta_{1} & \\alpha_{1} & \\frac{2}{3} \\, \\beta_{0} & \\frac{2}{3} \\, \\alpha_{0} & \\frac{2}{7} \\, \\beta_{1} + v & \\frac{2}{7} \\, \\alpha_{1} + u\n",
      "\\end{array}\\right)\n",
      "\\left(\\begin{array}{rrrrrrr}\n",
      "0 & 0 & 1 & 0 & 0 & 0 & 0 \\\\\n",
      "-\\frac{1}{3} \\, \\alpha_{0} \\beta_{0} - \\frac{1}{5} \\, \\alpha_{1} \\beta_{1} - u v & v & u & \\frac{1}{3} \\, \\beta_{0} & \\frac{1}{3} \\, \\alpha_{0} & \\frac{1}{5} \\, \\beta_{1} & \\frac{1}{5} \\, \\alpha_{1} \\\\\n",
      "e_{z} g h - \\frac{1}{3} \\, \\beta_{0}^{2} - \\frac{1}{5} \\, \\beta_{1}^{2} - v^{2} & 0 & 2 \\, v & 0 & \\frac{2}{3} \\, \\beta_{0} & 0 & \\frac{2}{5} \\, \\beta_{1} \\\\\n",
      "-\\frac{2}{5} \\, \\alpha_{0} \\beta_{0} - \\frac{2}{5} \\, \\alpha_{1} \\beta_{1} - \\beta_{0} u - \\alpha_{0} v & \\beta_{0} & \\alpha_{0} & \\frac{2}{5} \\, \\beta_{0} + v & \\frac{2}{5} \\, \\alpha_{0} + u & \\frac{2}{5} \\, \\beta_{1} & \\frac{2}{5} \\, \\alpha_{1} \\\\\n",
      "-\\frac{4}{5} \\, \\beta_{0} \\beta_{1} - 2 \\, \\beta_{0} v & 0 & 2 \\, \\beta_{0} & 0 & \\frac{4}{5} \\, \\beta_{1} + 2 \\, v & 0 & \\frac{4}{5} \\, \\beta_{0} \\\\\n",
      "-\\frac{2}{3} \\, \\alpha_{0} \\beta_{0} - \\frac{2}{7} \\, \\alpha_{1} \\beta_{1} - \\beta_{1} u - \\alpha_{1} v & \\beta_{1} & \\alpha_{1} & \\frac{2}{3} \\, \\beta_{0} & \\frac{2}{3} \\, \\alpha_{0} & \\frac{2}{7} \\, \\beta_{1} + v & \\frac{2}{7} \\, \\alpha_{1} + u \\\\\n",
      "-\\frac{2}{3} \\, \\beta_{0}^{2} - \\frac{2}{7} \\, \\beta_{1}^{2} - 2 \\, \\beta_{1} v & 0 & 2 \\, \\beta_{1} & 0 & \\frac{4}{3} \\, \\beta_{0} & 0 & \\frac{4}{7} \\, \\beta_{1} + 2 \\, v\n",
      "\\end{array}\\right)\n"
     ]
    }
   ],
   "source": [
    "print(latex(f_x_q_j.subs(q_to_p).simplify_full()))\n",
    "print(latex(f_y_q_j.subs(q_to_p).simplify_full()))"
   ]
  },
  {
   "cell_type": "code",
   "execution_count": 76,
   "metadata": {},
   "outputs": [
    {
     "name": "stdout",
     "output_type": "stream",
     "text": [
      "\\left(\\begin{array}{rrrrrrr}\n",
      "0 & 1 & 0 & 0 & 0 & 0 & 0 \\\\\n",
      "e_{z} g h - \\frac{1}{3} \\, \\alpha_{0}^{2} - \\frac{1}{5} \\, \\alpha_{1}^{2} - u^{2} & 2 \\, u & 0 & \\frac{2}{3} \\, \\alpha_{0} & 0 & \\frac{2}{5} \\, \\alpha_{1} & 0 \\\\\n",
      "-\\frac{1}{3} \\, \\alpha_{0} \\beta_{0} - \\frac{1}{5} \\, \\alpha_{1} \\beta_{1} - u v & v & u & \\frac{1}{3} \\, \\beta_{0} & \\frac{1}{3} \\, \\alpha_{0} & \\frac{1}{5} \\, \\beta_{1} & \\frac{1}{5} \\, \\alpha_{1} \\\\\n",
      "-\\frac{4}{5} \\, \\alpha_{0} \\alpha_{1} - 2 \\, \\alpha_{0} u & 2 \\, \\alpha_{0} & 0 & \\alpha_{1} + u & 0 & \\frac{3}{5} \\, \\alpha_{0} & 0 \\\\\n",
      "-\\frac{2}{5} \\, \\alpha_{1} \\beta_{0} - \\frac{2}{5} \\, \\alpha_{0} \\beta_{1} - \\beta_{0} u - \\alpha_{0} v & \\beta_{0} & \\alpha_{0} & \\frac{3}{5} \\, \\beta_{1} & \\frac{2}{5} \\, \\alpha_{1} + u & \\frac{1}{5} \\, \\beta_{0} & \\frac{2}{5} \\, \\alpha_{0} \\\\\n",
      "-\\frac{2}{3} \\, \\alpha_{0}^{2} - \\frac{2}{7} \\, \\alpha_{1}^{2} - 2 \\, \\alpha_{1} u & 2 \\, \\alpha_{1} & 0 & \\frac{1}{3} \\, \\alpha_{0} & 0 & \\frac{3}{7} \\, \\alpha_{1} + u & 0 \\\\\n",
      "-\\frac{2}{3} \\, \\alpha_{0} \\beta_{0} - \\frac{2}{7} \\, \\alpha_{1} \\beta_{1} - \\beta_{1} u - \\alpha_{1} v & \\beta_{1} & \\alpha_{1} & -\\frac{1}{3} \\, \\beta_{0} & \\frac{2}{3} \\, \\alpha_{0} & \\frac{1}{7} \\, \\beta_{1} & \\frac{2}{7} \\, \\alpha_{1} + u\n",
      "\\end{array}\\right)\n",
      "\\left(\\begin{array}{rrrrrrr}\n",
      "0 & 0 & 1 & 0 & 0 & 0 & 0 \\\\\n",
      "-\\frac{1}{3} \\, \\alpha_{0} \\beta_{0} - \\frac{1}{5} \\, \\alpha_{1} \\beta_{1} - u v & v & u & \\frac{1}{3} \\, \\beta_{0} & \\frac{1}{3} \\, \\alpha_{0} & \\frac{1}{5} \\, \\beta_{1} & \\frac{1}{5} \\, \\alpha_{1} \\\\\n",
      "e_{z} g h - \\frac{1}{3} \\, \\beta_{0}^{2} - \\frac{1}{5} \\, \\beta_{1}^{2} - v^{2} & 0 & 2 \\, v & 0 & \\frac{2}{3} \\, \\beta_{0} & 0 & \\frac{2}{5} \\, \\beta_{1} \\\\\n",
      "-\\frac{2}{5} \\, \\alpha_{0} \\beta_{0} - \\frac{2}{5} \\, \\alpha_{1} \\beta_{1} - \\beta_{0} u - \\alpha_{0} v & \\beta_{0} & \\alpha_{0} & \\frac{2}{5} \\, \\beta_{0} + v & \\frac{2}{5} \\, \\alpha_{0} + \\frac{1}{5} \\, \\alpha_{1} & \\frac{2}{5} \\, \\beta_{1} & -\\frac{1}{5} \\, \\alpha_{0} + \\frac{2}{5} \\, \\alpha_{1} \\\\\n",
      "-\\frac{4}{5} \\, \\beta_{0} \\beta_{1} - 2 \\, \\beta_{0} v & 0 & 2 \\, \\beta_{0} & 0 & \\beta_{1} + v & 0 & \\frac{3}{5} \\, \\beta_{0} \\\\\n",
      "-\\frac{2}{3} \\, \\alpha_{0} \\beta_{0} - \\frac{2}{7} \\, \\alpha_{1} \\beta_{1} - \\beta_{1} u - \\alpha_{1} v & \\beta_{1} & \\alpha_{1} & \\frac{2}{3} \\, \\beta_{0} & -\\frac{1}{3} \\, \\alpha_{0} & \\frac{2}{7} \\, \\beta_{1} + v & \\frac{1}{7} \\, \\alpha_{1} \\\\\n",
      "-\\frac{2}{3} \\, \\beta_{0}^{2} - \\frac{2}{7} \\, \\beta_{1}^{2} - 2 \\, \\beta_{1} v & 0 & 2 \\, \\beta_{1} & 0 & \\frac{1}{3} \\, \\beta_{0} & 0 & \\frac{3}{7} \\, \\beta_{1} + v\n",
      "\\end{array}\\right)\n"
     ]
    }
   ],
   "source": [
    "print(latex(A_p.simplify_full()))\n",
    "print(latex(B_p.simplify_full()))"
   ]
  },
  {
   "cell_type": "markdown",
   "metadata": {},
   "source": [
    "### Three Moments/Cubic Velocity Profile"
   ]
  },
  {
   "cell_type": "code",
   "execution_count": 77,
   "metadata": {},
   "outputs": [],
   "source": [
    "set_generalized_shallow_water_variables_2d(3)"
   ]
  },
  {
   "cell_type": "markdown",
   "metadata": {},
   "source": [
    "Flux Function"
   ]
  },
  {
   "cell_type": "code",
   "execution_count": 78,
   "metadata": {},
   "outputs": [
    {
     "data": {
      "text/html": [
       "<html><script type=\"math/tex; mode=display\">\\newcommand{\\Bold}[1]{\\mathbf{#1}}\\left(h u,\\,\\frac{1}{2} \\, e_{z} g h^{2} + h u^{2} + \\frac{1}{105} \\, {\\left(35 \\, \\alpha_{0}^{2} + 21 \\, \\alpha_{1}^{2} + 15 \\, \\alpha_{2}^{2}\\right)} h,\\,h u v + \\frac{1}{105} \\, {\\left(35 \\, \\alpha_{0} \\beta_{0} + 21 \\, \\alpha_{1} \\beta_{1} + 15 \\, \\alpha_{2} \\beta_{2}\\right)} h,\\,2 \\, \\alpha_{0} h u + \\frac{2}{35} \\, {\\left(14 \\, \\alpha_{0} \\alpha_{1} + 9 \\, \\alpha_{1} \\alpha_{2}\\right)} h,\\,\\beta_{0} h u + \\alpha_{0} h v + \\frac{1}{35} \\, {\\left(14 \\, \\alpha_{1} \\beta_{0} + 14 \\, \\alpha_{0} \\beta_{1} + 9 \\, \\alpha_{2} \\beta_{1} + 9 \\, \\alpha_{1} \\beta_{2}\\right)} h,\\,2 \\, \\alpha_{1} h u + \\frac{2}{21} \\, {\\left(7 \\, \\alpha_{0}^{2} + 3 \\, \\alpha_{1}^{2} + 9 \\, \\alpha_{0} \\alpha_{2} + 2 \\, \\alpha_{2}^{2}\\right)} h,\\,\\beta_{1} h u + \\alpha_{1} h v + \\frac{1}{21} \\, {\\left(14 \\, \\alpha_{0} \\beta_{0} + 9 \\, \\alpha_{2} \\beta_{0} + 6 \\, \\alpha_{1} \\beta_{1} + 9 \\, \\alpha_{0} \\beta_{2} + 4 \\, \\alpha_{2} \\beta_{2}\\right)} h,\\,2 \\, \\alpha_{2} h u + \\frac{2}{15} \\, {\\left(9 \\, \\alpha_{0} \\alpha_{1} + 4 \\, \\alpha_{1} \\alpha_{2}\\right)} h,\\,\\beta_{2} h u + \\alpha_{2} h v + \\frac{1}{15} \\, {\\left(9 \\, \\alpha_{1} \\beta_{0} + 9 \\, \\alpha_{0} \\beta_{1} + 4 \\, \\alpha_{2} \\beta_{1} + 4 \\, \\alpha_{1} \\beta_{2}\\right)} h\\right)</script></html>"
      ],
      "text/plain": [
       "(h*u, 1/2*e_z*g*h^2 + h*u^2 + 1/105*(35*alpha_0^2 + 21*alpha_1^2 + 15*alpha_2^2)*h, h*u*v + 1/105*(35*alpha_0*beta_0 + 21*alpha_1*beta_1 + 15*alpha_2*beta_2)*h, 2*alpha_0*h*u + 2/35*(14*alpha_0*alpha_1 + 9*alpha_1*alpha_2)*h, beta_0*h*u + alpha_0*h*v + 1/35*(14*alpha_1*beta_0 + 14*alpha_0*beta_1 + 9*alpha_2*beta_1 + 9*alpha_1*beta_2)*h, 2*alpha_1*h*u + 2/21*(7*alpha_0^2 + 3*alpha_1^2 + 9*alpha_0*alpha_2 + 2*alpha_2^2)*h, beta_1*h*u + alpha_1*h*v + 1/21*(14*alpha_0*beta_0 + 9*alpha_2*beta_0 + 6*alpha_1*beta_1 + 9*alpha_0*beta_2 + 4*alpha_2*beta_2)*h, 2*alpha_2*h*u + 2/15*(9*alpha_0*alpha_1 + 4*alpha_1*alpha_2)*h, beta_2*h*u + alpha_2*h*v + 1/15*(9*alpha_1*beta_0 + 9*alpha_0*beta_1 + 4*alpha_2*beta_1 + 4*alpha_1*beta_2)*h)"
      ]
     },
     "metadata": {},
     "output_type": "display_data"
    },
    {
     "data": {
      "text/html": [
       "<html><script type=\"math/tex; mode=display\">\\newcommand{\\Bold}[1]{\\mathbf{#1}}\\left(h v,\\,h u v + \\frac{1}{105} \\, {\\left(35 \\, \\alpha_{0} \\beta_{0} + 21 \\, \\alpha_{1} \\beta_{1} + 15 \\, \\alpha_{2} \\beta_{2}\\right)} h,\\,\\frac{1}{2} \\, e_{z} g h^{2} + h v^{2} + \\frac{1}{105} \\, {\\left(35 \\, \\beta_{0}^{2} + 21 \\, \\beta_{1}^{2} + 15 \\, \\beta_{2}^{2}\\right)} h,\\,\\beta_{0} h u + \\alpha_{0} h v + \\frac{1}{35} \\, {\\left(14 \\, \\alpha_{0} \\beta_{0} + 23 \\, \\alpha_{1} \\beta_{1} + 9 \\, \\alpha_{2} \\beta_{2}\\right)} h,\\,2 \\, \\beta_{0} h v + \\frac{2}{35} \\, {\\left(14 \\, \\beta_{0} \\beta_{1} + 9 \\, \\beta_{1} \\beta_{2}\\right)} h,\\,\\beta_{1} h u + \\alpha_{1} h v + \\frac{1}{21} \\, {\\left(23 \\, \\alpha_{0} \\beta_{0} + 6 \\, \\alpha_{1} \\beta_{1} + 13 \\, \\alpha_{2} \\beta_{2}\\right)} h,\\,2 \\, \\beta_{1} h v + \\frac{2}{21} \\, {\\left(7 \\, \\beta_{0}^{2} + 3 \\, \\beta_{1}^{2} + 9 \\, \\beta_{0} \\beta_{2} + 2 \\, \\beta_{2}^{2}\\right)} h,\\,\\beta_{2} h u + \\alpha_{2} h v + \\frac{1}{15} \\, {\\left(9 \\, \\alpha_{0} \\beta_{0} + 13 \\, \\alpha_{1} \\beta_{1} + 4 \\, \\alpha_{2} \\beta_{2}\\right)} h,\\,2 \\, \\beta_{2} h v + \\frac{2}{15} \\, {\\left(9 \\, \\beta_{0} \\beta_{1} + 4 \\, \\beta_{1} \\beta_{2}\\right)} h\\right)</script></html>"
      ],
      "text/plain": [
       "(h*v, h*u*v + 1/105*(35*alpha_0*beta_0 + 21*alpha_1*beta_1 + 15*alpha_2*beta_2)*h, 1/2*e_z*g*h^2 + h*v^2 + 1/105*(35*beta_0^2 + 21*beta_1^2 + 15*beta_2^2)*h, beta_0*h*u + alpha_0*h*v + 1/35*(14*alpha_0*beta_0 + 23*alpha_1*beta_1 + 9*alpha_2*beta_2)*h, 2*beta_0*h*v + 2/35*(14*beta_0*beta_1 + 9*beta_1*beta_2)*h, beta_1*h*u + alpha_1*h*v + 1/21*(23*alpha_0*beta_0 + 6*alpha_1*beta_1 + 13*alpha_2*beta_2)*h, 2*beta_1*h*v + 2/21*(7*beta_0^2 + 3*beta_1^2 + 9*beta_0*beta_2 + 2*beta_2^2)*h, beta_2*h*u + alpha_2*h*v + 1/15*(9*alpha_0*beta_0 + 13*alpha_1*beta_1 + 4*alpha_2*beta_2)*h, 2*beta_2*h*v + 2/15*(9*beta_0*beta_1 + 4*beta_1*beta_2)*h)"
      ]
     },
     "metadata": {},
     "output_type": "display_data"
    }
   ],
   "source": [
    "show(f_x_p)\n",
    "show(f_y_p)"
   ]
  },
  {
   "cell_type": "markdown",
   "metadata": {},
   "source": [
    "Nonconservative Matrix"
   ]
  },
  {
   "cell_type": "code",
   "execution_count": 79,
   "metadata": {},
   "outputs": [
    {
     "data": {
      "text/html": [
       "<html><script type=\"math/tex; mode=display\">\\newcommand{\\Bold}[1]{\\mathbf{#1}}\\left(\\begin{array}{rrrrrrrrr}\n",
       "0 & 0 & 0 & 0 & 0 & 0 & 0 & 0 & 0 \\\\\n",
       "0 & 0 & 0 & 0 & 0 & 0 & 0 & 0 & 0 \\\\\n",
       "0 & 0 & 0 & 0 & 0 & 0 & 0 & 0 & 0 \\\\\n",
       "0 & 0 & 0 & -\\frac{1}{5} \\, \\alpha_{1} + u & 0 & \\frac{1}{5} \\, \\alpha_{0} - \\frac{3}{35} \\, \\alpha_{2} & 0 & \\frac{3}{35} \\, \\alpha_{1} & 0 \\\\\n",
       "0 & 0 & 0 & -\\frac{1}{5} \\, \\beta_{1} + v & 0 & \\frac{1}{5} \\, \\beta_{0} - \\frac{3}{35} \\, \\beta_{2} & 0 & \\frac{3}{35} \\, \\beta_{1} & 0 \\\\\n",
       "0 & 0 & 0 & \\alpha_{0} - \\frac{3}{7} \\, \\alpha_{2} & 0 & \\frac{1}{7} \\, \\alpha_{1} + u & 0 & \\frac{2}{7} \\, \\alpha_{0} + \\frac{1}{21} \\, \\alpha_{2} & 0 \\\\\n",
       "0 & 0 & 0 & \\beta_{0} - \\frac{3}{7} \\, \\beta_{2} & 0 & \\frac{1}{7} \\, \\beta_{1} + v & 0 & \\frac{2}{7} \\, \\beta_{0} + \\frac{1}{21} \\, \\beta_{2} & 0 \\\\\n",
       "0 & 0 & 0 & \\frac{6}{5} \\, \\alpha_{1} & 0 & \\frac{4}{5} \\, \\alpha_{0} + \\frac{2}{15} \\, \\alpha_{2} & 0 & \\frac{1}{5} \\, \\alpha_{1} + u & 0 \\\\\n",
       "0 & 0 & 0 & \\frac{6}{5} \\, \\beta_{1} & 0 & \\frac{4}{5} \\, \\beta_{0} + \\frac{2}{15} \\, \\beta_{2} & 0 & \\frac{1}{5} \\, \\beta_{1} + v & 0\n",
       "\\end{array}\\right)</script></html>"
      ],
      "text/plain": [
       "[                         0                          0                          0                          0                          0                          0                          0                          0                          0]\n",
       "[                         0                          0                          0                          0                          0                          0                          0                          0                          0]\n",
       "[                         0                          0                          0                          0                          0                          0                          0                          0                          0]\n",
       "[                         0                          0                          0           -1/5*alpha_1 + u                          0 1/5*alpha_0 - 3/35*alpha_2                          0               3/35*alpha_1                          0]\n",
       "[                         0                          0                          0            -1/5*beta_1 + v                          0   1/5*beta_0 - 3/35*beta_2                          0                3/35*beta_1                          0]\n",
       "[                         0                          0                          0      alpha_0 - 3/7*alpha_2                          0            1/7*alpha_1 + u                          0 2/7*alpha_0 + 1/21*alpha_2                          0]\n",
       "[                         0                          0                          0        beta_0 - 3/7*beta_2                          0             1/7*beta_1 + v                          0   2/7*beta_0 + 1/21*beta_2                          0]\n",
       "[                         0                          0                          0                6/5*alpha_1                          0 4/5*alpha_0 + 2/15*alpha_2                          0            1/5*alpha_1 + u                          0]\n",
       "[                         0                          0                          0                 6/5*beta_1                          0   4/5*beta_0 + 2/15*beta_2                          0             1/5*beta_1 + v                          0]"
      ]
     },
     "metadata": {},
     "output_type": "display_data"
    },
    {
     "data": {
      "text/html": [
       "<html><script type=\"math/tex; mode=display\">\\newcommand{\\Bold}[1]{\\mathbf{#1}}\\left(\\begin{array}{rrrrrrrrr}\n",
       "0 & 0 & 0 & 0 & 0 & 0 & 0 & 0 & 0 \\\\\n",
       "0 & 0 & 0 & 0 & 0 & 0 & 0 & 0 & 0 \\\\\n",
       "0 & 0 & 0 & 0 & 0 & 0 & 0 & 0 & 0 \\\\\n",
       "0 & 0 & 0 & 0 & -\\frac{1}{5} \\, \\alpha_{1} + u & 0 & \\frac{1}{5} \\, \\alpha_{0} - \\frac{3}{35} \\, \\alpha_{2} & 0 & \\frac{3}{35} \\, \\alpha_{1} \\\\\n",
       "0 & 0 & 0 & 0 & -\\frac{1}{5} \\, \\beta_{1} + v & 0 & \\frac{1}{5} \\, \\beta_{0} - \\frac{3}{35} \\, \\beta_{2} & 0 & \\frac{3}{35} \\, \\beta_{1} \\\\\n",
       "0 & 0 & 0 & 0 & \\alpha_{0} - \\frac{3}{7} \\, \\alpha_{2} & 0 & \\frac{1}{7} \\, \\alpha_{1} + u & 0 & \\frac{2}{7} \\, \\alpha_{0} + \\frac{1}{21} \\, \\alpha_{2} \\\\\n",
       "0 & 0 & 0 & 0 & \\beta_{0} - \\frac{3}{7} \\, \\beta_{2} & 0 & \\frac{1}{7} \\, \\beta_{1} + v & 0 & \\frac{2}{7} \\, \\beta_{0} + \\frac{1}{21} \\, \\beta_{2} \\\\\n",
       "0 & 0 & 0 & 0 & \\frac{6}{5} \\, \\alpha_{1} & 0 & \\frac{4}{5} \\, \\alpha_{0} + \\frac{2}{15} \\, \\alpha_{2} & 0 & \\frac{1}{5} \\, \\alpha_{1} + u \\\\\n",
       "0 & 0 & 0 & 0 & \\frac{6}{5} \\, \\beta_{1} & 0 & \\frac{4}{5} \\, \\beta_{0} + \\frac{2}{15} \\, \\beta_{2} & 0 & \\frac{1}{5} \\, \\beta_{1} + v\n",
       "\\end{array}\\right)</script></html>"
      ],
      "text/plain": [
       "[                         0                          0                          0                          0                          0                          0                          0                          0                          0]\n",
       "[                         0                          0                          0                          0                          0                          0                          0                          0                          0]\n",
       "[                         0                          0                          0                          0                          0                          0                          0                          0                          0]\n",
       "[                         0                          0                          0                          0           -1/5*alpha_1 + u                          0 1/5*alpha_0 - 3/35*alpha_2                          0               3/35*alpha_1]\n",
       "[                         0                          0                          0                          0            -1/5*beta_1 + v                          0   1/5*beta_0 - 3/35*beta_2                          0                3/35*beta_1]\n",
       "[                         0                          0                          0                          0      alpha_0 - 3/7*alpha_2                          0            1/7*alpha_1 + u                          0 2/7*alpha_0 + 1/21*alpha_2]\n",
       "[                         0                          0                          0                          0        beta_0 - 3/7*beta_2                          0             1/7*beta_1 + v                          0   2/7*beta_0 + 1/21*beta_2]\n",
       "[                         0                          0                          0                          0                6/5*alpha_1                          0 4/5*alpha_0 + 2/15*alpha_2                          0            1/5*alpha_1 + u]\n",
       "[                         0                          0                          0                          0                 6/5*beta_1                          0   4/5*beta_0 + 2/15*beta_2                          0             1/5*beta_1 + v]"
      ]
     },
     "metadata": {},
     "output_type": "display_data"
    }
   ],
   "source": [
    "show(G_x_p)\n",
    "show(G_y_p)"
   ]
  },
  {
   "cell_type": "markdown",
   "metadata": {},
   "source": [
    "Source Function"
   ]
  },
  {
   "cell_type": "code",
   "execution_count": 80,
   "metadata": {},
   "outputs": [
    {
     "data": {
      "text/html": [
       "<html><script type=\"math/tex; mode=display\">\\newcommand{\\Bold}[1]{\\mathbf{#1}}\\left(0,\\,-{\\left(e_{z} \\frac{\\partial}{\\partial x}h_{b}\\left(x, y\\right) - e_{x}\\right)} g h - \\frac{{\\left(\\alpha_{0} + \\alpha_{1} + \\alpha_{2} + u\\right)} \\nu}{\\lambda},\\,-{\\left(e_{z} \\frac{\\partial}{\\partial y}h_{b}\\left(x, y\\right) - e_{y}\\right)} g h - \\frac{{\\left(\\beta_{0} + \\beta_{1} + \\beta_{2} + v\\right)} \\nu}{\\lambda},\\,-\\frac{3 \\, {\\left(\\alpha_{0} {\\left(\\frac{4 \\, \\lambda}{h} + 1\\right)} + \\alpha_{2} {\\left(\\frac{4 \\, \\lambda}{h} + 1\\right)} + \\alpha_{1} + u\\right)} \\nu}{\\lambda},\\,-\\frac{3 \\, {\\left(\\beta_{0} {\\left(\\frac{4 \\, \\lambda}{h} + 1\\right)} + \\beta_{2} {\\left(\\frac{4 \\, \\lambda}{h} + 1\\right)} + \\beta_{1} + v\\right)} \\nu}{\\lambda},\\,-\\frac{5 \\, {\\left(\\alpha_{1} {\\left(\\frac{12 \\, \\lambda}{h} + 1\\right)} + \\alpha_{0} + \\alpha_{2} + u\\right)} \\nu}{\\lambda},\\,-\\frac{5 \\, {\\left(\\beta_{1} {\\left(\\frac{12 \\, \\lambda}{h} + 1\\right)} + \\beta_{0} + \\beta_{2} + v\\right)} \\nu}{\\lambda},\\,-\\frac{7 \\, {\\left(\\alpha_{2} {\\left(\\frac{24 \\, \\lambda}{h} + 1\\right)} + \\alpha_{0} {\\left(\\frac{4 \\, \\lambda}{h} + 1\\right)} + \\alpha_{1} + u\\right)} \\nu}{\\lambda},\\,-\\frac{7 \\, {\\left(\\beta_{2} {\\left(\\frac{24 \\, \\lambda}{h} + 1\\right)} + \\beta_{0} {\\left(\\frac{4 \\, \\lambda}{h} + 1\\right)} + \\beta_{1} + v\\right)} \\nu}{\\lambda}\\right)</script></html>"
      ],
      "text/plain": [
       "(0, -(e_z*diff(h_b(x, y), x) - e_x)*g*h - (alpha_0 + alpha_1 + alpha_2 + u)*nu/lambda_, -(e_z*diff(h_b(x, y), y) - e_y)*g*h - (beta_0 + beta_1 + beta_2 + v)*nu/lambda_, -3*(alpha_0*(4*lambda_/h + 1) + alpha_2*(4*lambda_/h + 1) + alpha_1 + u)*nu/lambda_, -3*(beta_0*(4*lambda_/h + 1) + beta_2*(4*lambda_/h + 1) + beta_1 + v)*nu/lambda_, -5*(alpha_1*(12*lambda_/h + 1) + alpha_0 + alpha_2 + u)*nu/lambda_, -5*(beta_1*(12*lambda_/h + 1) + beta_0 + beta_2 + v)*nu/lambda_, -7*(alpha_2*(24*lambda_/h + 1) + alpha_0*(4*lambda_/h + 1) + alpha_1 + u)*nu/lambda_, -7*(beta_2*(24*lambda_/h + 1) + beta_0*(4*lambda_/h + 1) + beta_1 + v)*nu/lambda_)"
      ]
     },
     "metadata": {},
     "output_type": "display_data"
    }
   ],
   "source": [
    "show(s_p)"
   ]
  },
  {
   "cell_type": "markdown",
   "metadata": {},
   "source": [
    "Flux Jacobians"
   ]
  },
  {
   "cell_type": "code",
   "execution_count": 81,
   "metadata": {},
   "outputs": [
    {
     "data": {
      "text/html": [
       "<html><script type=\"math/tex; mode=display\">\\newcommand{\\Bold}[1]{\\mathbf{#1}}\\left(\\begin{array}{rrrrrrrrr}\n",
       "0 & 1 & 0 & 0 & 0 & 0 & 0 & 0 & 0 \\\\\n",
       "e_{z} g h - \\frac{1}{3} \\, \\alpha_{0}^{2} - \\frac{1}{5} \\, \\alpha_{1}^{2} - \\frac{1}{7} \\, \\alpha_{2}^{2} - u^{2} & 2 \\, u & 0 & \\frac{2}{3} \\, \\alpha_{0} & 0 & \\frac{2}{5} \\, \\alpha_{1} & 0 & \\frac{2}{7} \\, \\alpha_{2} & 0 \\\\\n",
       "-\\frac{1}{3} \\, \\alpha_{0} \\beta_{0} - \\frac{1}{5} \\, \\alpha_{1} \\beta_{1} - \\frac{1}{7} \\, \\alpha_{2} \\beta_{2} - u v & v & u & \\frac{1}{3} \\, \\beta_{0} & \\frac{1}{3} \\, \\alpha_{0} & \\frac{1}{5} \\, \\beta_{1} & \\frac{1}{5} \\, \\alpha_{1} & \\frac{1}{7} \\, \\beta_{2} & \\frac{1}{7} \\, \\alpha_{2} \\\\\n",
       "-\\frac{4}{5} \\, \\alpha_{0} \\alpha_{1} - \\frac{18}{35} \\, \\alpha_{1} \\alpha_{2} - 2 \\, \\alpha_{0} u & 2 \\, \\alpha_{0} & 0 & \\frac{4}{5} \\, \\alpha_{1} + 2 \\, u & 0 & \\frac{4}{5} \\, \\alpha_{0} + \\frac{18}{35} \\, \\alpha_{2} & 0 & \\frac{18}{35} \\, \\alpha_{1} & 0 \\\\\n",
       "-\\frac{2}{5} \\, \\alpha_{1} \\beta_{0} - \\frac{1}{35} \\, {\\left(14 \\, \\alpha_{0} + 9 \\, \\alpha_{2}\\right)} \\beta_{1} - \\frac{9}{35} \\, \\alpha_{1} \\beta_{2} - \\beta_{0} u - \\alpha_{0} v & \\beta_{0} & \\alpha_{0} & \\frac{2}{5} \\, \\beta_{1} + v & \\frac{2}{5} \\, \\alpha_{1} + u & \\frac{2}{5} \\, \\beta_{0} + \\frac{9}{35} \\, \\beta_{2} & \\frac{2}{5} \\, \\alpha_{0} + \\frac{9}{35} \\, \\alpha_{2} & \\frac{9}{35} \\, \\beta_{1} & \\frac{9}{35} \\, \\alpha_{1} \\\\\n",
       "-\\frac{2}{3} \\, \\alpha_{0}^{2} - \\frac{2}{7} \\, \\alpha_{1}^{2} - \\frac{6}{7} \\, \\alpha_{0} \\alpha_{2} - \\frac{4}{21} \\, \\alpha_{2}^{2} - 2 \\, \\alpha_{1} u & 2 \\, \\alpha_{1} & 0 & \\frac{4}{3} \\, \\alpha_{0} + \\frac{6}{7} \\, \\alpha_{2} & 0 & \\frac{4}{7} \\, \\alpha_{1} + 2 \\, u & 0 & \\frac{6}{7} \\, \\alpha_{0} + \\frac{8}{21} \\, \\alpha_{2} & 0 \\\\\n",
       "-\\frac{1}{21} \\, {\\left(14 \\, \\alpha_{0} + 9 \\, \\alpha_{2}\\right)} \\beta_{0} - \\frac{2}{7} \\, \\alpha_{1} \\beta_{1} - \\frac{1}{21} \\, {\\left(9 \\, \\alpha_{0} + 4 \\, \\alpha_{2}\\right)} \\beta_{2} - \\beta_{1} u - \\alpha_{1} v & \\beta_{1} & \\alpha_{1} & \\frac{2}{3} \\, \\beta_{0} + \\frac{3}{7} \\, \\beta_{2} & \\frac{2}{3} \\, \\alpha_{0} + \\frac{3}{7} \\, \\alpha_{2} & \\frac{2}{7} \\, \\beta_{1} + v & \\frac{2}{7} \\, \\alpha_{1} + u & \\frac{3}{7} \\, \\beta_{0} + \\frac{4}{21} \\, \\beta_{2} & \\frac{3}{7} \\, \\alpha_{0} + \\frac{4}{21} \\, \\alpha_{2} \\\\\n",
       "-\\frac{6}{5} \\, \\alpha_{0} \\alpha_{1} - \\frac{8}{15} \\, \\alpha_{1} \\alpha_{2} - 2 \\, \\alpha_{2} u & 2 \\, \\alpha_{2} & 0 & \\frac{6}{5} \\, \\alpha_{1} & 0 & \\frac{6}{5} \\, \\alpha_{0} + \\frac{8}{15} \\, \\alpha_{2} & 0 & \\frac{8}{15} \\, \\alpha_{1} + 2 \\, u & 0 \\\\\n",
       "-\\frac{3}{5} \\, \\alpha_{1} \\beta_{0} - \\frac{1}{15} \\, {\\left(9 \\, \\alpha_{0} + 4 \\, \\alpha_{2}\\right)} \\beta_{1} - \\frac{4}{15} \\, \\alpha_{1} \\beta_{2} - \\beta_{2} u - \\alpha_{2} v & \\beta_{2} & \\alpha_{2} & \\frac{3}{5} \\, \\beta_{1} & \\frac{3}{5} \\, \\alpha_{1} & \\frac{3}{5} \\, \\beta_{0} + \\frac{4}{15} \\, \\beta_{2} & \\frac{3}{5} \\, \\alpha_{0} + \\frac{4}{15} \\, \\alpha_{2} & \\frac{4}{15} \\, \\beta_{1} + v & \\frac{4}{15} \\, \\alpha_{1} + u\n",
       "\\end{array}\\right)</script></html>"
      ],
      "text/plain": [
       "[                                                                                                                      0                                                                                                                       1                                                                                                                       0                                                                                                                       0                                                                                                                       0                                                                                                                       0                                                                                                                       0                                                                                                                       0                                                                                                                       0]\n",
       "[                                                          e_z*g*h - 1/3*alpha_0^2 - 1/5*alpha_1^2 - 1/7*alpha_2^2 - u^2                                                                                                                     2*u                                                                                                                       0                                                                                                             2/3*alpha_0                                                                                                                       0                                                                                                             2/5*alpha_1                                                                                                                       0                                                                                                             2/7*alpha_2                                                                                                                       0]\n",
       "[                                                    -1/3*alpha_0*beta_0 - 1/5*alpha_1*beta_1 - 1/7*alpha_2*beta_2 - u*v                                                                                                                       v                                                                                                                       u                                                                                                              1/3*beta_0                                                                                                             1/3*alpha_0                                                                                                              1/5*beta_1                                                                                                             1/5*alpha_1                                                                                                              1/7*beta_2                                                                                                             1/7*alpha_2]\n",
       "[                                                             -4/5*alpha_0*alpha_1 - 18/35*alpha_1*alpha_2 - 2*alpha_0*u                                                                                                               2*alpha_0                                                                                                                       0                                                                                                       4/5*alpha_1 + 2*u                                                                                                                       0                                                                                             4/5*alpha_0 + 18/35*alpha_2                                                                                                                       0                                                                                                           18/35*alpha_1                                                                                                                       0]\n",
       "[                -2/5*alpha_1*beta_0 - 1/35*(14*alpha_0 + 9*alpha_2)*beta_1 - 9/35*alpha_1*beta_2 - beta_0*u - alpha_0*v                                                                                                                  beta_0                                                                                                                 alpha_0                                                                                                          2/5*beta_1 + v                                                                                                         2/5*alpha_1 + u                                                                                                2/5*beta_0 + 9/35*beta_2                                                                                              2/5*alpha_0 + 9/35*alpha_2                                                                                                             9/35*beta_1                                                                                                            9/35*alpha_1]\n",
       "[                                    -2/3*alpha_0^2 - 2/7*alpha_1^2 - 6/7*alpha_0*alpha_2 - 4/21*alpha_2^2 - 2*alpha_1*u                                                                                                               2*alpha_1                                                                                                                       0                                                                                               4/3*alpha_0 + 6/7*alpha_2                                                                                                                       0                                                                                                       4/7*alpha_1 + 2*u                                                                                                                       0                                                                                              6/7*alpha_0 + 8/21*alpha_2                                                                                                                       0]\n",
       "[-1/21*(14*alpha_0 + 9*alpha_2)*beta_0 - 2/7*alpha_1*beta_1 - 1/21*(9*alpha_0 + 4*alpha_2)*beta_2 - beta_1*u - alpha_1*v                                                                                                                  beta_1                                                                                                                 alpha_1                                                                                                 2/3*beta_0 + 3/7*beta_2                                                                                               2/3*alpha_0 + 3/7*alpha_2                                                                                                          2/7*beta_1 + v                                                                                                         2/7*alpha_1 + u                                                                                                3/7*beta_0 + 4/21*beta_2                                                                                              3/7*alpha_0 + 4/21*alpha_2]\n",
       "[                                                              -6/5*alpha_0*alpha_1 - 8/15*alpha_1*alpha_2 - 2*alpha_2*u                                                                                                               2*alpha_2                                                                                                                       0                                                                                                             6/5*alpha_1                                                                                                                       0                                                                                              6/5*alpha_0 + 8/15*alpha_2                                                                                                                       0                                                                                                      8/15*alpha_1 + 2*u                                                                                                                       0]\n",
       "[                 -3/5*alpha_1*beta_0 - 1/15*(9*alpha_0 + 4*alpha_2)*beta_1 - 4/15*alpha_1*beta_2 - beta_2*u - alpha_2*v                                                                                                                  beta_2                                                                                                                 alpha_2                                                                                                              3/5*beta_1                                                                                                             3/5*alpha_1                                                                                                3/5*beta_0 + 4/15*beta_2                                                                                              3/5*alpha_0 + 4/15*alpha_2                                                                                                         4/15*beta_1 + v                                                                                                        4/15*alpha_1 + u]"
      ]
     },
     "metadata": {},
     "output_type": "display_data"
    },
    {
     "data": {
      "text/html": [
       "<html><script type=\"math/tex; mode=display\">\\newcommand{\\Bold}[1]{\\mathbf{#1}}\\left(\\begin{array}{rrrrrrrrr}\n",
       "0 & 0 & 1 & 0 & 0 & 0 & 0 & 0 & 0 \\\\\n",
       "-\\frac{1}{3} \\, \\alpha_{0} \\beta_{0} - \\frac{1}{5} \\, \\alpha_{1} \\beta_{1} - \\frac{1}{7} \\, \\alpha_{2} \\beta_{2} - u v & v & u & \\frac{1}{3} \\, \\beta_{0} & \\frac{1}{3} \\, \\alpha_{0} & \\frac{1}{5} \\, \\beta_{1} & \\frac{1}{5} \\, \\alpha_{1} & \\frac{1}{7} \\, \\beta_{2} & \\frac{1}{7} \\, \\alpha_{2} \\\\\n",
       "e_{z} g h - \\frac{1}{3} \\, \\beta_{0}^{2} - \\frac{1}{5} \\, \\beta_{1}^{2} - \\frac{1}{7} \\, \\beta_{2}^{2} - v^{2} & 0 & 2 \\, v & 0 & \\frac{2}{3} \\, \\beta_{0} & 0 & \\frac{2}{5} \\, \\beta_{1} & 0 & \\frac{2}{7} \\, \\beta_{2} \\\\\n",
       "-\\frac{2}{5} \\, \\alpha_{0} \\beta_{0} - \\frac{23}{35} \\, \\alpha_{1} \\beta_{1} - \\frac{9}{35} \\, \\alpha_{2} \\beta_{2} - \\beta_{0} u - \\alpha_{0} v & \\beta_{0} & \\alpha_{0} & \\frac{2}{5} \\, \\beta_{0} + v & \\frac{2}{5} \\, \\alpha_{0} + u & \\frac{23}{35} \\, \\beta_{1} & \\frac{23}{35} \\, \\alpha_{1} & \\frac{9}{35} \\, \\beta_{2} & \\frac{9}{35} \\, \\alpha_{2} \\\\\n",
       "-\\frac{4}{5} \\, \\beta_{0} \\beta_{1} - \\frac{18}{35} \\, \\beta_{1} \\beta_{2} - 2 \\, \\beta_{0} v & 0 & 2 \\, \\beta_{0} & 0 & \\frac{4}{5} \\, \\beta_{1} + 2 \\, v & 0 & \\frac{4}{5} \\, \\beta_{0} + \\frac{18}{35} \\, \\beta_{2} & 0 & \\frac{18}{35} \\, \\beta_{1} \\\\\n",
       "-\\frac{23}{21} \\, \\alpha_{0} \\beta_{0} - \\frac{2}{7} \\, \\alpha_{1} \\beta_{1} - \\frac{13}{21} \\, \\alpha_{2} \\beta_{2} - \\beta_{1} u - \\alpha_{1} v & \\beta_{1} & \\alpha_{1} & \\frac{23}{21} \\, \\beta_{0} & \\frac{23}{21} \\, \\alpha_{0} & \\frac{2}{7} \\, \\beta_{1} + v & \\frac{2}{7} \\, \\alpha_{1} + u & \\frac{13}{21} \\, \\beta_{2} & \\frac{13}{21} \\, \\alpha_{2} \\\\\n",
       "-\\frac{2}{3} \\, \\beta_{0}^{2} - \\frac{2}{7} \\, \\beta_{1}^{2} - \\frac{6}{7} \\, \\beta_{0} \\beta_{2} - \\frac{4}{21} \\, \\beta_{2}^{2} - 2 \\, \\beta_{1} v & 0 & 2 \\, \\beta_{1} & 0 & \\frac{4}{3} \\, \\beta_{0} + \\frac{6}{7} \\, \\beta_{2} & 0 & \\frac{4}{7} \\, \\beta_{1} + 2 \\, v & 0 & \\frac{6}{7} \\, \\beta_{0} + \\frac{8}{21} \\, \\beta_{2} \\\\\n",
       "-\\frac{3}{5} \\, \\alpha_{0} \\beta_{0} - \\frac{13}{15} \\, \\alpha_{1} \\beta_{1} - \\frac{4}{15} \\, \\alpha_{2} \\beta_{2} - \\beta_{2} u - \\alpha_{2} v & \\beta_{2} & \\alpha_{2} & \\frac{3}{5} \\, \\beta_{0} & \\frac{3}{5} \\, \\alpha_{0} & \\frac{13}{15} \\, \\beta_{1} & \\frac{13}{15} \\, \\alpha_{1} & \\frac{4}{15} \\, \\beta_{2} + v & \\frac{4}{15} \\, \\alpha_{2} + u \\\\\n",
       "-\\frac{6}{5} \\, \\beta_{0} \\beta_{1} - \\frac{8}{15} \\, \\beta_{1} \\beta_{2} - 2 \\, \\beta_{2} v & 0 & 2 \\, \\beta_{2} & 0 & \\frac{6}{5} \\, \\beta_{1} & 0 & \\frac{6}{5} \\, \\beta_{0} + \\frac{8}{15} \\, \\beta_{2} & 0 & \\frac{8}{15} \\, \\beta_{1} + 2 \\, v\n",
       "\\end{array}\\right)</script></html>"
      ],
      "text/plain": [
       "[                                                                                       0                                                                                        0                                                                                        1                                                                                        0                                                                                        0                                                                                        0                                                                                        0                                                                                        0                                                                                        0]\n",
       "[                     -1/3*alpha_0*beta_0 - 1/5*alpha_1*beta_1 - 1/7*alpha_2*beta_2 - u*v                                                                                        v                                                                                        u                                                                               1/3*beta_0                                                                              1/3*alpha_0                                                                               1/5*beta_1                                                                              1/5*alpha_1                                                                               1/7*beta_2                                                                              1/7*alpha_2]\n",
       "[                              e_z*g*h - 1/3*beta_0^2 - 1/5*beta_1^2 - 1/7*beta_2^2 - v^2                                                                                        0                                                                                      2*v                                                                                        0                                                                               2/3*beta_0                                                                                        0                                                                               2/5*beta_1                                                                                        0                                                                               2/7*beta_2]\n",
       "[ -2/5*alpha_0*beta_0 - 23/35*alpha_1*beta_1 - 9/35*alpha_2*beta_2 - beta_0*u - alpha_0*v                                                                                   beta_0                                                                                  alpha_0                                                                           2/5*beta_0 + v                                                                          2/5*alpha_0 + u                                                                             23/35*beta_1                                                                            23/35*alpha_1                                                                              9/35*beta_2                                                                             9/35*alpha_2]\n",
       "[                                   -4/5*beta_0*beta_1 - 18/35*beta_1*beta_2 - 2*beta_0*v                                                                                        0                                                                                 2*beta_0                                                                                        0                                                                         4/5*beta_1 + 2*v                                                                                        0                                                                4/5*beta_0 + 18/35*beta_2                                                                                        0                                                                             18/35*beta_1]\n",
       "[-23/21*alpha_0*beta_0 - 2/7*alpha_1*beta_1 - 13/21*alpha_2*beta_2 - beta_1*u - alpha_1*v                                                                                   beta_1                                                                                  alpha_1                                                                             23/21*beta_0                                                                            23/21*alpha_0                                                                           2/7*beta_1 + v                                                                          2/7*alpha_1 + u                                                                             13/21*beta_2                                                                            13/21*alpha_2]\n",
       "[           -2/3*beta_0^2 - 2/7*beta_1^2 - 6/7*beta_0*beta_2 - 4/21*beta_2^2 - 2*beta_1*v                                                                                        0                                                                                 2*beta_1                                                                                        0                                                                  4/3*beta_0 + 6/7*beta_2                                                                                        0                                                                         4/7*beta_1 + 2*v                                                                                        0                                                                 6/7*beta_0 + 8/21*beta_2]\n",
       "[ -3/5*alpha_0*beta_0 - 13/15*alpha_1*beta_1 - 4/15*alpha_2*beta_2 - beta_2*u - alpha_2*v                                                                                   beta_2                                                                                  alpha_2                                                                               3/5*beta_0                                                                              3/5*alpha_0                                                                             13/15*beta_1                                                                            13/15*alpha_1                                                                          4/15*beta_2 + v                                                                         4/15*alpha_2 + u]\n",
       "[                                    -6/5*beta_0*beta_1 - 8/15*beta_1*beta_2 - 2*beta_2*v                                                                                        0                                                                                 2*beta_2                                                                                        0                                                                               6/5*beta_1                                                                                        0                                                                 6/5*beta_0 + 8/15*beta_2                                                                                        0                                                                        8/15*beta_1 + 2*v]"
      ]
     },
     "metadata": {},
     "output_type": "display_data"
    }
   ],
   "source": [
    "show(f_x_q_j.subs(q_to_p).simplify_full())\n",
    "show(f_y_q_j.subs(q_to_p).simplify_full())"
   ]
  },
  {
   "cell_type": "markdown",
   "metadata": {},
   "source": [
    "Quasilinear Matrices"
   ]
  },
  {
   "cell_type": "code",
   "execution_count": 82,
   "metadata": {},
   "outputs": [
    {
     "data": {
      "text/html": [
       "<html><script type=\"math/tex; mode=display\">\\newcommand{\\Bold}[1]{\\mathbf{#1}}\\left(\\begin{array}{rrrrrrrrr}\n",
       "0 & 1 & 0 & 0 & 0 & 0 & 0 & 0 & 0 \\\\\n",
       "e_{z} g h - \\frac{1}{3} \\, \\alpha_{0}^{2} - \\frac{1}{5} \\, \\alpha_{1}^{2} - \\frac{1}{7} \\, \\alpha_{2}^{2} - u^{2} & 2 \\, u & 0 & \\frac{2}{3} \\, \\alpha_{0} & 0 & \\frac{2}{5} \\, \\alpha_{1} & 0 & \\frac{2}{7} \\, \\alpha_{2} & 0 \\\\\n",
       "-\\frac{1}{3} \\, \\alpha_{0} \\beta_{0} - \\frac{1}{5} \\, \\alpha_{1} \\beta_{1} - \\frac{1}{7} \\, \\alpha_{2} \\beta_{2} - u v & v & u & \\frac{1}{3} \\, \\beta_{0} & \\frac{1}{3} \\, \\alpha_{0} & \\frac{1}{5} \\, \\beta_{1} & \\frac{1}{5} \\, \\alpha_{1} & \\frac{1}{7} \\, \\beta_{2} & \\frac{1}{7} \\, \\alpha_{2} \\\\\n",
       "-\\frac{4}{5} \\, \\alpha_{0} \\alpha_{1} - \\frac{18}{35} \\, \\alpha_{1} \\alpha_{2} - 2 \\, \\alpha_{0} u & 2 \\, \\alpha_{0} & 0 & \\alpha_{1} + u & 0 & \\frac{3}{5} \\, \\alpha_{0} + \\frac{3}{5} \\, \\alpha_{2} & 0 & \\frac{3}{7} \\, \\alpha_{1} & 0 \\\\\n",
       "-\\frac{2}{5} \\, \\alpha_{1} \\beta_{0} - \\frac{1}{35} \\, {\\left(14 \\, \\alpha_{0} + 9 \\, \\alpha_{2}\\right)} \\beta_{1} - \\frac{9}{35} \\, \\alpha_{1} \\beta_{2} - \\beta_{0} u - \\alpha_{0} v & \\beta_{0} & \\alpha_{0} & \\frac{3}{5} \\, \\beta_{1} & \\frac{2}{5} \\, \\alpha_{1} + u & \\frac{1}{5} \\, \\beta_{0} + \\frac{12}{35} \\, \\beta_{2} & \\frac{2}{5} \\, \\alpha_{0} + \\frac{9}{35} \\, \\alpha_{2} & \\frac{6}{35} \\, \\beta_{1} & \\frac{9}{35} \\, \\alpha_{1} \\\\\n",
       "-\\frac{2}{3} \\, \\alpha_{0}^{2} - \\frac{2}{7} \\, \\alpha_{1}^{2} - \\frac{6}{7} \\, \\alpha_{0} \\alpha_{2} - \\frac{4}{21} \\, \\alpha_{2}^{2} - 2 \\, \\alpha_{1} u & 2 \\, \\alpha_{1} & 0 & \\frac{1}{3} \\, \\alpha_{0} + \\frac{9}{7} \\, \\alpha_{2} & 0 & \\frac{3}{7} \\, \\alpha_{1} + u & 0 & \\frac{4}{7} \\, \\alpha_{0} + \\frac{1}{3} \\, \\alpha_{2} & 0 \\\\\n",
       "-\\frac{1}{21} \\, {\\left(14 \\, \\alpha_{0} + 9 \\, \\alpha_{2}\\right)} \\beta_{0} - \\frac{2}{7} \\, \\alpha_{1} \\beta_{1} - \\frac{1}{21} \\, {\\left(9 \\, \\alpha_{0} + 4 \\, \\alpha_{2}\\right)} \\beta_{2} - \\beta_{1} u - \\alpha_{1} v & \\beta_{1} & \\alpha_{1} & -\\frac{1}{3} \\, \\beta_{0} + \\frac{6}{7} \\, \\beta_{2} & \\frac{2}{3} \\, \\alpha_{0} + \\frac{3}{7} \\, \\alpha_{2} & \\frac{1}{7} \\, \\beta_{1} & \\frac{2}{7} \\, \\alpha_{1} + u & \\frac{1}{7} \\, \\beta_{0} + \\frac{1}{7} \\, \\beta_{2} & \\frac{3}{7} \\, \\alpha_{0} + \\frac{4}{21} \\, \\alpha_{2} \\\\\n",
       "-\\frac{6}{5} \\, \\alpha_{0} \\alpha_{1} - \\frac{8}{15} \\, \\alpha_{1} \\alpha_{2} - 2 \\, \\alpha_{2} u & 2 \\, \\alpha_{2} & 0 & 0 & 0 & \\frac{2}{5} \\, \\alpha_{0} + \\frac{2}{5} \\, \\alpha_{2} & 0 & \\frac{1}{3} \\, \\alpha_{1} + u & 0 \\\\\n",
       "-\\frac{3}{5} \\, \\alpha_{1} \\beta_{0} - \\frac{1}{15} \\, {\\left(9 \\, \\alpha_{0} + 4 \\, \\alpha_{2}\\right)} \\beta_{1} - \\frac{4}{15} \\, \\alpha_{1} \\beta_{2} - \\beta_{2} u - \\alpha_{2} v & \\beta_{2} & \\alpha_{2} & -\\frac{3}{5} \\, \\beta_{1} & \\frac{3}{5} \\, \\alpha_{1} & -\\frac{1}{5} \\, \\beta_{0} + \\frac{2}{15} \\, \\beta_{2} & \\frac{3}{5} \\, \\alpha_{0} + \\frac{4}{15} \\, \\alpha_{2} & \\frac{1}{15} \\, \\beta_{1} & \\frac{4}{15} \\, \\alpha_{1} + u\n",
       "\\end{array}\\right)</script></html>"
      ],
      "text/plain": [
       "[                                                                                                                      0                                                                                                                       1                                                                                                                       0                                                                                                                       0                                                                                                                       0                                                                                                                       0                                                                                                                       0                                                                                                                       0                                                                                                                       0]\n",
       "[                                                          e_z*g*h - 1/3*alpha_0^2 - 1/5*alpha_1^2 - 1/7*alpha_2^2 - u^2                                                                                                                     2*u                                                                                                                       0                                                                                                             2/3*alpha_0                                                                                                                       0                                                                                                             2/5*alpha_1                                                                                                                       0                                                                                                             2/7*alpha_2                                                                                                                       0]\n",
       "[                                                    -1/3*alpha_0*beta_0 - 1/5*alpha_1*beta_1 - 1/7*alpha_2*beta_2 - u*v                                                                                                                       v                                                                                                                       u                                                                                                              1/3*beta_0                                                                                                             1/3*alpha_0                                                                                                              1/5*beta_1                                                                                                             1/5*alpha_1                                                                                                              1/7*beta_2                                                                                                             1/7*alpha_2]\n",
       "[                                                             -4/5*alpha_0*alpha_1 - 18/35*alpha_1*alpha_2 - 2*alpha_0*u                                                                                                               2*alpha_0                                                                                                                       0                                                                                                             alpha_1 + u                                                                                                                       0                                                                                               3/5*alpha_0 + 3/5*alpha_2                                                                                                                       0                                                                                                             3/7*alpha_1                                                                                                                       0]\n",
       "[                -2/5*alpha_1*beta_0 - 1/35*(14*alpha_0 + 9*alpha_2)*beta_1 - 9/35*alpha_1*beta_2 - beta_0*u - alpha_0*v                                                                                                                  beta_0                                                                                                                 alpha_0                                                                                                              3/5*beta_1                                                                                                         2/5*alpha_1 + u                                                                                               1/5*beta_0 + 12/35*beta_2                                                                                              2/5*alpha_0 + 9/35*alpha_2                                                                                                             6/35*beta_1                                                                                                            9/35*alpha_1]\n",
       "[                                    -2/3*alpha_0^2 - 2/7*alpha_1^2 - 6/7*alpha_0*alpha_2 - 4/21*alpha_2^2 - 2*alpha_1*u                                                                                                               2*alpha_1                                                                                                                       0                                                                                               1/3*alpha_0 + 9/7*alpha_2                                                                                                                       0                                                                                                         3/7*alpha_1 + u                                                                                                                       0                                                                                               4/7*alpha_0 + 1/3*alpha_2                                                                                                                       0]\n",
       "[-1/21*(14*alpha_0 + 9*alpha_2)*beta_0 - 2/7*alpha_1*beta_1 - 1/21*(9*alpha_0 + 4*alpha_2)*beta_2 - beta_1*u - alpha_1*v                                                                                                                  beta_1                                                                                                                 alpha_1                                                                                                -1/3*beta_0 + 6/7*beta_2                                                                                               2/3*alpha_0 + 3/7*alpha_2                                                                                                              1/7*beta_1                                                                                                         2/7*alpha_1 + u                                                                                                 1/7*beta_0 + 1/7*beta_2                                                                                              3/7*alpha_0 + 4/21*alpha_2]\n",
       "[                                                              -6/5*alpha_0*alpha_1 - 8/15*alpha_1*alpha_2 - 2*alpha_2*u                                                                                                               2*alpha_2                                                                                                                       0                                                                                                                       0                                                                                                                       0                                                                                               2/5*alpha_0 + 2/5*alpha_2                                                                                                                       0                                                                                                         1/3*alpha_1 + u                                                                                                                       0]\n",
       "[                 -3/5*alpha_1*beta_0 - 1/15*(9*alpha_0 + 4*alpha_2)*beta_1 - 4/15*alpha_1*beta_2 - beta_2*u - alpha_2*v                                                                                                                  beta_2                                                                                                                 alpha_2                                                                                                             -3/5*beta_1                                                                                                             3/5*alpha_1                                                                                               -1/5*beta_0 + 2/15*beta_2                                                                                              3/5*alpha_0 + 4/15*alpha_2                                                                                                             1/15*beta_1                                                                                                        4/15*alpha_1 + u]"
      ]
     },
     "metadata": {},
     "output_type": "display_data"
    },
    {
     "data": {
      "text/html": [
       "<html><script type=\"math/tex; mode=display\">\\newcommand{\\Bold}[1]{\\mathbf{#1}}\\left(\\begin{array}{rrrrrrrrr}\n",
       "0 & 0 & 1 & 0 & 0 & 0 & 0 & 0 & 0 \\\\\n",
       "-\\frac{1}{3} \\, \\alpha_{0} \\beta_{0} - \\frac{1}{5} \\, \\alpha_{1} \\beta_{1} - \\frac{1}{7} \\, \\alpha_{2} \\beta_{2} - u v & v & u & \\frac{1}{3} \\, \\beta_{0} & \\frac{1}{3} \\, \\alpha_{0} & \\frac{1}{5} \\, \\beta_{1} & \\frac{1}{5} \\, \\alpha_{1} & \\frac{1}{7} \\, \\beta_{2} & \\frac{1}{7} \\, \\alpha_{2} \\\\\n",
       "e_{z} g h - \\frac{1}{3} \\, \\beta_{0}^{2} - \\frac{1}{5} \\, \\beta_{1}^{2} - \\frac{1}{7} \\, \\beta_{2}^{2} - v^{2} & 0 & 2 \\, v & 0 & \\frac{2}{3} \\, \\beta_{0} & 0 & \\frac{2}{5} \\, \\beta_{1} & 0 & \\frac{2}{7} \\, \\beta_{2} \\\\\n",
       "-\\frac{2}{5} \\, \\alpha_{0} \\beta_{0} - \\frac{23}{35} \\, \\alpha_{1} \\beta_{1} - \\frac{9}{35} \\, \\alpha_{2} \\beta_{2} - \\beta_{0} u - \\alpha_{0} v & \\beta_{0} & \\alpha_{0} & \\frac{2}{5} \\, \\beta_{0} + v & \\frac{2}{5} \\, \\alpha_{0} + \\frac{1}{5} \\, \\alpha_{1} & \\frac{23}{35} \\, \\beta_{1} & -\\frac{1}{5} \\, \\alpha_{0} + \\frac{23}{35} \\, \\alpha_{1} + \\frac{3}{35} \\, \\alpha_{2} & \\frac{9}{35} \\, \\beta_{2} & -\\frac{3}{35} \\, \\alpha_{1} + \\frac{9}{35} \\, \\alpha_{2} \\\\\n",
       "-\\frac{4}{5} \\, \\beta_{0} \\beta_{1} - \\frac{18}{35} \\, \\beta_{1} \\beta_{2} - 2 \\, \\beta_{0} v & 0 & 2 \\, \\beta_{0} & 0 & \\beta_{1} + v & 0 & \\frac{3}{5} \\, \\beta_{0} + \\frac{3}{5} \\, \\beta_{2} & 0 & \\frac{3}{7} \\, \\beta_{1} \\\\\n",
       "-\\frac{23}{21} \\, \\alpha_{0} \\beta_{0} - \\frac{2}{7} \\, \\alpha_{1} \\beta_{1} - \\frac{13}{21} \\, \\alpha_{2} \\beta_{2} - \\beta_{1} u - \\alpha_{1} v & \\beta_{1} & \\alpha_{1} & \\frac{23}{21} \\, \\beta_{0} & \\frac{2}{21} \\, \\alpha_{0} + \\frac{3}{7} \\, \\alpha_{2} & \\frac{2}{7} \\, \\beta_{1} + v & \\frac{1}{7} \\, \\alpha_{1} & \\frac{13}{21} \\, \\beta_{2} & -\\frac{2}{7} \\, \\alpha_{0} + \\frac{4}{7} \\, \\alpha_{2} \\\\\n",
       "-\\frac{2}{3} \\, \\beta_{0}^{2} - \\frac{2}{7} \\, \\beta_{1}^{2} - \\frac{6}{7} \\, \\beta_{0} \\beta_{2} - \\frac{4}{21} \\, \\beta_{2}^{2} - 2 \\, \\beta_{1} v & 0 & 2 \\, \\beta_{1} & 0 & \\frac{1}{3} \\, \\beta_{0} + \\frac{9}{7} \\, \\beta_{2} & 0 & \\frac{3}{7} \\, \\beta_{1} + v & 0 & \\frac{4}{7} \\, \\beta_{0} + \\frac{1}{3} \\, \\beta_{2} \\\\\n",
       "-\\frac{3}{5} \\, \\alpha_{0} \\beta_{0} - \\frac{13}{15} \\, \\alpha_{1} \\beta_{1} - \\frac{4}{15} \\, \\alpha_{2} \\beta_{2} - \\beta_{2} u - \\alpha_{2} v & \\beta_{2} & \\alpha_{2} & \\frac{3}{5} \\, \\beta_{0} & \\frac{3}{5} \\, \\alpha_{0} - \\frac{6}{5} \\, \\alpha_{1} & \\frac{13}{15} \\, \\beta_{1} & -\\frac{4}{5} \\, \\alpha_{0} + \\frac{13}{15} \\, \\alpha_{1} - \\frac{2}{15} \\, \\alpha_{2} & \\frac{4}{15} \\, \\beta_{2} + v & -\\frac{1}{5} \\, \\alpha_{1} + \\frac{4}{15} \\, \\alpha_{2} \\\\\n",
       "-\\frac{6}{5} \\, \\beta_{0} \\beta_{1} - \\frac{8}{15} \\, \\beta_{1} \\beta_{2} - 2 \\, \\beta_{2} v & 0 & 2 \\, \\beta_{2} & 0 & 0 & 0 & \\frac{2}{5} \\, \\beta_{0} + \\frac{2}{5} \\, \\beta_{2} & 0 & \\frac{1}{3} \\, \\beta_{1} + v\n",
       "\\end{array}\\right)</script></html>"
      ],
      "text/plain": [
       "[                                                                                       0                                                                                        0                                                                                        1                                                                                        0                                                                                        0                                                                                        0                                                                                        0                                                                                        0                                                                                        0]\n",
       "[                     -1/3*alpha_0*beta_0 - 1/5*alpha_1*beta_1 - 1/7*alpha_2*beta_2 - u*v                                                                                        v                                                                                        u                                                                               1/3*beta_0                                                                              1/3*alpha_0                                                                               1/5*beta_1                                                                              1/5*alpha_1                                                                               1/7*beta_2                                                                              1/7*alpha_2]\n",
       "[                              e_z*g*h - 1/3*beta_0^2 - 1/5*beta_1^2 - 1/7*beta_2^2 - v^2                                                                                        0                                                                                      2*v                                                                                        0                                                                               2/3*beta_0                                                                                        0                                                                               2/5*beta_1                                                                                        0                                                                               2/7*beta_2]\n",
       "[ -2/5*alpha_0*beta_0 - 23/35*alpha_1*beta_1 - 9/35*alpha_2*beta_2 - beta_0*u - alpha_0*v                                                                                   beta_0                                                                                  alpha_0                                                                           2/5*beta_0 + v                                                                2/5*alpha_0 + 1/5*alpha_1                                                                             23/35*beta_1                                              -1/5*alpha_0 + 23/35*alpha_1 + 3/35*alpha_2                                                                              9/35*beta_2                                                             -3/35*alpha_1 + 9/35*alpha_2]\n",
       "[                                   -4/5*beta_0*beta_1 - 18/35*beta_1*beta_2 - 2*beta_0*v                                                                                        0                                                                                 2*beta_0                                                                                        0                                                                               beta_1 + v                                                                                        0                                                                  3/5*beta_0 + 3/5*beta_2                                                                                        0                                                                               3/7*beta_1]\n",
       "[-23/21*alpha_0*beta_0 - 2/7*alpha_1*beta_1 - 13/21*alpha_2*beta_2 - beta_1*u - alpha_1*v                                                                                   beta_1                                                                                  alpha_1                                                                             23/21*beta_0                                                               2/21*alpha_0 + 3/7*alpha_2                                                                           2/7*beta_1 + v                                                                              1/7*alpha_1                                                                             13/21*beta_2                                                               -2/7*alpha_0 + 4/7*alpha_2]\n",
       "[           -2/3*beta_0^2 - 2/7*beta_1^2 - 6/7*beta_0*beta_2 - 4/21*beta_2^2 - 2*beta_1*v                                                                                        0                                                                                 2*beta_1                                                                                        0                                                                  1/3*beta_0 + 9/7*beta_2                                                                                        0                                                                           3/7*beta_1 + v                                                                                        0                                                                  4/7*beta_0 + 1/3*beta_2]\n",
       "[ -3/5*alpha_0*beta_0 - 13/15*alpha_1*beta_1 - 4/15*alpha_2*beta_2 - beta_2*u - alpha_2*v                                                                                   beta_2                                                                                  alpha_2                                                                               3/5*beta_0                                                                3/5*alpha_0 - 6/5*alpha_1                                                                             13/15*beta_1                                              -4/5*alpha_0 + 13/15*alpha_1 - 2/15*alpha_2                                                                          4/15*beta_2 + v                                                              -1/5*alpha_1 + 4/15*alpha_2]\n",
       "[                                    -6/5*beta_0*beta_1 - 8/15*beta_1*beta_2 - 2*beta_2*v                                                                                        0                                                                                 2*beta_2                                                                                        0                                                                                        0                                                                                        0                                                                  2/5*beta_0 + 2/5*beta_2                                                                                        0                                                                           1/3*beta_1 + v]"
      ]
     },
     "metadata": {},
     "output_type": "display_data"
    }
   ],
   "source": [
    "show(A_p.simplify_full())\n",
    "show(B_p.simplify_full())"
   ]
  },
  {
   "cell_type": "code",
   "execution_count": 83,
   "metadata": {},
   "outputs": [
    {
     "name": "stdout",
     "output_type": "stream",
     "text": [
      "\\left(\\begin{array}{rrrrrrrrr}\n",
      "0 & 1 & 0 & 0 & 0 & 0 & 0 & 0 & 0 \\\\\n",
      "e_{z} g h - \\frac{1}{3} \\, \\alpha_{0}^{2} - \\frac{1}{5} \\, \\alpha_{1}^{2} - \\frac{1}{7} \\, \\alpha_{2}^{2} - u^{2} & 2 \\, u & 0 & \\frac{2}{3} \\, \\alpha_{0} & 0 & \\frac{2}{5} \\, \\alpha_{1} & 0 & \\frac{2}{7} \\, \\alpha_{2} & 0 \\\\\n",
      "-\\frac{1}{3} \\, \\alpha_{0} \\beta_{0} - \\frac{1}{5} \\, \\alpha_{1} \\beta_{1} - \\frac{1}{7} \\, \\alpha_{2} \\beta_{2} - u v & v & u & \\frac{1}{3} \\, \\beta_{0} & \\frac{1}{3} \\, \\alpha_{0} & \\frac{1}{5} \\, \\beta_{1} & \\frac{1}{5} \\, \\alpha_{1} & \\frac{1}{7} \\, \\beta_{2} & \\frac{1}{7} \\, \\alpha_{2} \\\\\n",
      "-\\frac{4}{5} \\, \\alpha_{0} \\alpha_{1} - \\frac{18}{35} \\, \\alpha_{1} \\alpha_{2} - 2 \\, \\alpha_{0} u & 2 \\, \\alpha_{0} & 0 & \\frac{4}{5} \\, \\alpha_{1} + 2 \\, u & 0 & \\frac{4}{5} \\, \\alpha_{0} + \\frac{18}{35} \\, \\alpha_{2} & 0 & \\frac{18}{35} \\, \\alpha_{1} & 0 \\\\\n",
      "-\\frac{2}{5} \\, \\alpha_{1} \\beta_{0} - \\frac{1}{35} \\, {\\left(14 \\, \\alpha_{0} + 9 \\, \\alpha_{2}\\right)} \\beta_{1} - \\frac{9}{35} \\, \\alpha_{1} \\beta_{2} - \\beta_{0} u - \\alpha_{0} v & \\beta_{0} & \\alpha_{0} & \\frac{2}{5} \\, \\beta_{1} + v & \\frac{2}{5} \\, \\alpha_{1} + u & \\frac{2}{5} \\, \\beta_{0} + \\frac{9}{35} \\, \\beta_{2} & \\frac{2}{5} \\, \\alpha_{0} + \\frac{9}{35} \\, \\alpha_{2} & \\frac{9}{35} \\, \\beta_{1} & \\frac{9}{35} \\, \\alpha_{1} \\\\\n",
      "-\\frac{2}{3} \\, \\alpha_{0}^{2} - \\frac{2}{7} \\, \\alpha_{1}^{2} - \\frac{6}{7} \\, \\alpha_{0} \\alpha_{2} - \\frac{4}{21} \\, \\alpha_{2}^{2} - 2 \\, \\alpha_{1} u & 2 \\, \\alpha_{1} & 0 & \\frac{4}{3} \\, \\alpha_{0} + \\frac{6}{7} \\, \\alpha_{2} & 0 & \\frac{4}{7} \\, \\alpha_{1} + 2 \\, u & 0 & \\frac{6}{7} \\, \\alpha_{0} + \\frac{8}{21} \\, \\alpha_{2} & 0 \\\\\n",
      "-\\frac{1}{21} \\, {\\left(14 \\, \\alpha_{0} + 9 \\, \\alpha_{2}\\right)} \\beta_{0} - \\frac{2}{7} \\, \\alpha_{1} \\beta_{1} - \\frac{1}{21} \\, {\\left(9 \\, \\alpha_{0} + 4 \\, \\alpha_{2}\\right)} \\beta_{2} - \\beta_{1} u - \\alpha_{1} v & \\beta_{1} & \\alpha_{1} & \\frac{2}{3} \\, \\beta_{0} + \\frac{3}{7} \\, \\beta_{2} & \\frac{2}{3} \\, \\alpha_{0} + \\frac{3}{7} \\, \\alpha_{2} & \\frac{2}{7} \\, \\beta_{1} + v & \\frac{2}{7} \\, \\alpha_{1} + u & \\frac{3}{7} \\, \\beta_{0} + \\frac{4}{21} \\, \\beta_{2} & \\frac{3}{7} \\, \\alpha_{0} + \\frac{4}{21} \\, \\alpha_{2} \\\\\n",
      "-\\frac{6}{5} \\, \\alpha_{0} \\alpha_{1} - \\frac{8}{15} \\, \\alpha_{1} \\alpha_{2} - 2 \\, \\alpha_{2} u & 2 \\, \\alpha_{2} & 0 & \\frac{6}{5} \\, \\alpha_{1} & 0 & \\frac{6}{5} \\, \\alpha_{0} + \\frac{8}{15} \\, \\alpha_{2} & 0 & \\frac{8}{15} \\, \\alpha_{1} + 2 \\, u & 0 \\\\\n",
      "-\\frac{3}{5} \\, \\alpha_{1} \\beta_{0} - \\frac{1}{15} \\, {\\left(9 \\, \\alpha_{0} + 4 \\, \\alpha_{2}\\right)} \\beta_{1} - \\frac{4}{15} \\, \\alpha_{1} \\beta_{2} - \\beta_{2} u - \\alpha_{2} v & \\beta_{2} & \\alpha_{2} & \\frac{3}{5} \\, \\beta_{1} & \\frac{3}{5} \\, \\alpha_{1} & \\frac{3}{5} \\, \\beta_{0} + \\frac{4}{15} \\, \\beta_{2} & \\frac{3}{5} \\, \\alpha_{0} + \\frac{4}{15} \\, \\alpha_{2} & \\frac{4}{15} \\, \\beta_{1} + v & \\frac{4}{15} \\, \\alpha_{1} + u\n",
      "\\end{array}\\right)\n",
      "\\left(\\begin{array}{rrrrrrrrr}\n",
      "0 & 0 & 1 & 0 & 0 & 0 & 0 & 0 & 0 \\\\\n",
      "-\\frac{1}{3} \\, \\alpha_{0} \\beta_{0} - \\frac{1}{5} \\, \\alpha_{1} \\beta_{1} - \\frac{1}{7} \\, \\alpha_{2} \\beta_{2} - u v & v & u & \\frac{1}{3} \\, \\beta_{0} & \\frac{1}{3} \\, \\alpha_{0} & \\frac{1}{5} \\, \\beta_{1} & \\frac{1}{5} \\, \\alpha_{1} & \\frac{1}{7} \\, \\beta_{2} & \\frac{1}{7} \\, \\alpha_{2} \\\\\n",
      "e_{z} g h - \\frac{1}{3} \\, \\beta_{0}^{2} - \\frac{1}{5} \\, \\beta_{1}^{2} - \\frac{1}{7} \\, \\beta_{2}^{2} - v^{2} & 0 & 2 \\, v & 0 & \\frac{2}{3} \\, \\beta_{0} & 0 & \\frac{2}{5} \\, \\beta_{1} & 0 & \\frac{2}{7} \\, \\beta_{2} \\\\\n",
      "-\\frac{2}{5} \\, \\alpha_{0} \\beta_{0} - \\frac{23}{35} \\, \\alpha_{1} \\beta_{1} - \\frac{9}{35} \\, \\alpha_{2} \\beta_{2} - \\beta_{0} u - \\alpha_{0} v & \\beta_{0} & \\alpha_{0} & \\frac{2}{5} \\, \\beta_{0} + v & \\frac{2}{5} \\, \\alpha_{0} + u & \\frac{23}{35} \\, \\beta_{1} & \\frac{23}{35} \\, \\alpha_{1} & \\frac{9}{35} \\, \\beta_{2} & \\frac{9}{35} \\, \\alpha_{2} \\\\\n",
      "-\\frac{4}{5} \\, \\beta_{0} \\beta_{1} - \\frac{18}{35} \\, \\beta_{1} \\beta_{2} - 2 \\, \\beta_{0} v & 0 & 2 \\, \\beta_{0} & 0 & \\frac{4}{5} \\, \\beta_{1} + 2 \\, v & 0 & \\frac{4}{5} \\, \\beta_{0} + \\frac{18}{35} \\, \\beta_{2} & 0 & \\frac{18}{35} \\, \\beta_{1} \\\\\n",
      "-\\frac{23}{21} \\, \\alpha_{0} \\beta_{0} - \\frac{2}{7} \\, \\alpha_{1} \\beta_{1} - \\frac{13}{21} \\, \\alpha_{2} \\beta_{2} - \\beta_{1} u - \\alpha_{1} v & \\beta_{1} & \\alpha_{1} & \\frac{23}{21} \\, \\beta_{0} & \\frac{23}{21} \\, \\alpha_{0} & \\frac{2}{7} \\, \\beta_{1} + v & \\frac{2}{7} \\, \\alpha_{1} + u & \\frac{13}{21} \\, \\beta_{2} & \\frac{13}{21} \\, \\alpha_{2} \\\\\n",
      "-\\frac{2}{3} \\, \\beta_{0}^{2} - \\frac{2}{7} \\, \\beta_{1}^{2} - \\frac{6}{7} \\, \\beta_{0} \\beta_{2} - \\frac{4}{21} \\, \\beta_{2}^{2} - 2 \\, \\beta_{1} v & 0 & 2 \\, \\beta_{1} & 0 & \\frac{4}{3} \\, \\beta_{0} + \\frac{6}{7} \\, \\beta_{2} & 0 & \\frac{4}{7} \\, \\beta_{1} + 2 \\, v & 0 & \\frac{6}{7} \\, \\beta_{0} + \\frac{8}{21} \\, \\beta_{2} \\\\\n",
      "-\\frac{3}{5} \\, \\alpha_{0} \\beta_{0} - \\frac{13}{15} \\, \\alpha_{1} \\beta_{1} - \\frac{4}{15} \\, \\alpha_{2} \\beta_{2} - \\beta_{2} u - \\alpha_{2} v & \\beta_{2} & \\alpha_{2} & \\frac{3}{5} \\, \\beta_{0} & \\frac{3}{5} \\, \\alpha_{0} & \\frac{13}{15} \\, \\beta_{1} & \\frac{13}{15} \\, \\alpha_{1} & \\frac{4}{15} \\, \\beta_{2} + v & \\frac{4}{15} \\, \\alpha_{2} + u \\\\\n",
      "-\\frac{6}{5} \\, \\beta_{0} \\beta_{1} - \\frac{8}{15} \\, \\beta_{1} \\beta_{2} - 2 \\, \\beta_{2} v & 0 & 2 \\, \\beta_{2} & 0 & \\frac{6}{5} \\, \\beta_{1} & 0 & \\frac{6}{5} \\, \\beta_{0} + \\frac{8}{15} \\, \\beta_{2} & 0 & \\frac{8}{15} \\, \\beta_{1} + 2 \\, v\n",
      "\\end{array}\\right)\n"
     ]
    }
   ],
   "source": [
    "print(latex(f_x_q_j.subs(q_to_p).simplify_full()))\n",
    "print(latex(f_y_q_j.subs(q_to_p).simplify_full()))"
   ]
  },
  {
   "cell_type": "code",
   "execution_count": 84,
   "metadata": {},
   "outputs": [
    {
     "name": "stdout",
     "output_type": "stream",
     "text": [
      "\\left(\\begin{array}{rrrrrrrrr}\n",
      "0 & 1 & 0 & 0 & 0 & 0 & 0 & 0 & 0 \\\\\n",
      "e_{z} g h - \\frac{1}{3} \\, \\alpha_{0}^{2} - \\frac{1}{5} \\, \\alpha_{1}^{2} - \\frac{1}{7} \\, \\alpha_{2}^{2} - u^{2} & 2 \\, u & 0 & \\frac{2}{3} \\, \\alpha_{0} & 0 & \\frac{2}{5} \\, \\alpha_{1} & 0 & \\frac{2}{7} \\, \\alpha_{2} & 0 \\\\\n",
      "-\\frac{1}{3} \\, \\alpha_{0} \\beta_{0} - \\frac{1}{5} \\, \\alpha_{1} \\beta_{1} - \\frac{1}{7} \\, \\alpha_{2} \\beta_{2} - u v & v & u & \\frac{1}{3} \\, \\beta_{0} & \\frac{1}{3} \\, \\alpha_{0} & \\frac{1}{5} \\, \\beta_{1} & \\frac{1}{5} \\, \\alpha_{1} & \\frac{1}{7} \\, \\beta_{2} & \\frac{1}{7} \\, \\alpha_{2} \\\\\n",
      "-\\frac{4}{5} \\, \\alpha_{0} \\alpha_{1} - \\frac{18}{35} \\, \\alpha_{1} \\alpha_{2} - 2 \\, \\alpha_{0} u & 2 \\, \\alpha_{0} & 0 & \\alpha_{1} + u & 0 & \\frac{3}{5} \\, \\alpha_{0} + \\frac{3}{5} \\, \\alpha_{2} & 0 & \\frac{3}{7} \\, \\alpha_{1} & 0 \\\\\n",
      "-\\frac{2}{5} \\, \\alpha_{1} \\beta_{0} - \\frac{1}{35} \\, {\\left(14 \\, \\alpha_{0} + 9 \\, \\alpha_{2}\\right)} \\beta_{1} - \\frac{9}{35} \\, \\alpha_{1} \\beta_{2} - \\beta_{0} u - \\alpha_{0} v & \\beta_{0} & \\alpha_{0} & \\frac{3}{5} \\, \\beta_{1} & \\frac{2}{5} \\, \\alpha_{1} + u & \\frac{1}{5} \\, \\beta_{0} + \\frac{12}{35} \\, \\beta_{2} & \\frac{2}{5} \\, \\alpha_{0} + \\frac{9}{35} \\, \\alpha_{2} & \\frac{6}{35} \\, \\beta_{1} & \\frac{9}{35} \\, \\alpha_{1} \\\\\n",
      "-\\frac{2}{3} \\, \\alpha_{0}^{2} - \\frac{2}{7} \\, \\alpha_{1}^{2} - \\frac{6}{7} \\, \\alpha_{0} \\alpha_{2} - \\frac{4}{21} \\, \\alpha_{2}^{2} - 2 \\, \\alpha_{1} u & 2 \\, \\alpha_{1} & 0 & \\frac{1}{3} \\, \\alpha_{0} + \\frac{9}{7} \\, \\alpha_{2} & 0 & \\frac{3}{7} \\, \\alpha_{1} + u & 0 & \\frac{4}{7} \\, \\alpha_{0} + \\frac{1}{3} \\, \\alpha_{2} & 0 \\\\\n",
      "-\\frac{1}{21} \\, {\\left(14 \\, \\alpha_{0} + 9 \\, \\alpha_{2}\\right)} \\beta_{0} - \\frac{2}{7} \\, \\alpha_{1} \\beta_{1} - \\frac{1}{21} \\, {\\left(9 \\, \\alpha_{0} + 4 \\, \\alpha_{2}\\right)} \\beta_{2} - \\beta_{1} u - \\alpha_{1} v & \\beta_{1} & \\alpha_{1} & -\\frac{1}{3} \\, \\beta_{0} + \\frac{6}{7} \\, \\beta_{2} & \\frac{2}{3} \\, \\alpha_{0} + \\frac{3}{7} \\, \\alpha_{2} & \\frac{1}{7} \\, \\beta_{1} & \\frac{2}{7} \\, \\alpha_{1} + u & \\frac{1}{7} \\, \\beta_{0} + \\frac{1}{7} \\, \\beta_{2} & \\frac{3}{7} \\, \\alpha_{0} + \\frac{4}{21} \\, \\alpha_{2} \\\\\n",
      "-\\frac{6}{5} \\, \\alpha_{0} \\alpha_{1} - \\frac{8}{15} \\, \\alpha_{1} \\alpha_{2} - 2 \\, \\alpha_{2} u & 2 \\, \\alpha_{2} & 0 & 0 & 0 & \\frac{2}{5} \\, \\alpha_{0} + \\frac{2}{5} \\, \\alpha_{2} & 0 & \\frac{1}{3} \\, \\alpha_{1} + u & 0 \\\\\n",
      "-\\frac{3}{5} \\, \\alpha_{1} \\beta_{0} - \\frac{1}{15} \\, {\\left(9 \\, \\alpha_{0} + 4 \\, \\alpha_{2}\\right)} \\beta_{1} - \\frac{4}{15} \\, \\alpha_{1} \\beta_{2} - \\beta_{2} u - \\alpha_{2} v & \\beta_{2} & \\alpha_{2} & -\\frac{3}{5} \\, \\beta_{1} & \\frac{3}{5} \\, \\alpha_{1} & -\\frac{1}{5} \\, \\beta_{0} + \\frac{2}{15} \\, \\beta_{2} & \\frac{3}{5} \\, \\alpha_{0} + \\frac{4}{15} \\, \\alpha_{2} & \\frac{1}{15} \\, \\beta_{1} & \\frac{4}{15} \\, \\alpha_{1} + u\n",
      "\\end{array}\\right)\n",
      "\\left(\\begin{array}{rrrrrrrrr}\n",
      "0 & 0 & 1 & 0 & 0 & 0 & 0 & 0 & 0 \\\\\n",
      "-\\frac{1}{3} \\, \\alpha_{0} \\beta_{0} - \\frac{1}{5} \\, \\alpha_{1} \\beta_{1} - \\frac{1}{7} \\, \\alpha_{2} \\beta_{2} - u v & v & u & \\frac{1}{3} \\, \\beta_{0} & \\frac{1}{3} \\, \\alpha_{0} & \\frac{1}{5} \\, \\beta_{1} & \\frac{1}{5} \\, \\alpha_{1} & \\frac{1}{7} \\, \\beta_{2} & \\frac{1}{7} \\, \\alpha_{2} \\\\\n",
      "e_{z} g h - \\frac{1}{3} \\, \\beta_{0}^{2} - \\frac{1}{5} \\, \\beta_{1}^{2} - \\frac{1}{7} \\, \\beta_{2}^{2} - v^{2} & 0 & 2 \\, v & 0 & \\frac{2}{3} \\, \\beta_{0} & 0 & \\frac{2}{5} \\, \\beta_{1} & 0 & \\frac{2}{7} \\, \\beta_{2} \\\\\n",
      "-\\frac{2}{5} \\, \\alpha_{0} \\beta_{0} - \\frac{23}{35} \\, \\alpha_{1} \\beta_{1} - \\frac{9}{35} \\, \\alpha_{2} \\beta_{2} - \\beta_{0} u - \\alpha_{0} v & \\beta_{0} & \\alpha_{0} & \\frac{2}{5} \\, \\beta_{0} + v & \\frac{2}{5} \\, \\alpha_{0} + \\frac{1}{5} \\, \\alpha_{1} & \\frac{23}{35} \\, \\beta_{1} & -\\frac{1}{5} \\, \\alpha_{0} + \\frac{23}{35} \\, \\alpha_{1} + \\frac{3}{35} \\, \\alpha_{2} & \\frac{9}{35} \\, \\beta_{2} & -\\frac{3}{35} \\, \\alpha_{1} + \\frac{9}{35} \\, \\alpha_{2} \\\\\n",
      "-\\frac{4}{5} \\, \\beta_{0} \\beta_{1} - \\frac{18}{35} \\, \\beta_{1} \\beta_{2} - 2 \\, \\beta_{0} v & 0 & 2 \\, \\beta_{0} & 0 & \\beta_{1} + v & 0 & \\frac{3}{5} \\, \\beta_{0} + \\frac{3}{5} \\, \\beta_{2} & 0 & \\frac{3}{7} \\, \\beta_{1} \\\\\n",
      "-\\frac{23}{21} \\, \\alpha_{0} \\beta_{0} - \\frac{2}{7} \\, \\alpha_{1} \\beta_{1} - \\frac{13}{21} \\, \\alpha_{2} \\beta_{2} - \\beta_{1} u - \\alpha_{1} v & \\beta_{1} & \\alpha_{1} & \\frac{23}{21} \\, \\beta_{0} & \\frac{2}{21} \\, \\alpha_{0} + \\frac{3}{7} \\, \\alpha_{2} & \\frac{2}{7} \\, \\beta_{1} + v & \\frac{1}{7} \\, \\alpha_{1} & \\frac{13}{21} \\, \\beta_{2} & -\\frac{2}{7} \\, \\alpha_{0} + \\frac{4}{7} \\, \\alpha_{2} \\\\\n",
      "-\\frac{2}{3} \\, \\beta_{0}^{2} - \\frac{2}{7} \\, \\beta_{1}^{2} - \\frac{6}{7} \\, \\beta_{0} \\beta_{2} - \\frac{4}{21} \\, \\beta_{2}^{2} - 2 \\, \\beta_{1} v & 0 & 2 \\, \\beta_{1} & 0 & \\frac{1}{3} \\, \\beta_{0} + \\frac{9}{7} \\, \\beta_{2} & 0 & \\frac{3}{7} \\, \\beta_{1} + v & 0 & \\frac{4}{7} \\, \\beta_{0} + \\frac{1}{3} \\, \\beta_{2} \\\\\n",
      "-\\frac{3}{5} \\, \\alpha_{0} \\beta_{0} - \\frac{13}{15} \\, \\alpha_{1} \\beta_{1} - \\frac{4}{15} \\, \\alpha_{2} \\beta_{2} - \\beta_{2} u - \\alpha_{2} v & \\beta_{2} & \\alpha_{2} & \\frac{3}{5} \\, \\beta_{0} & \\frac{3}{5} \\, \\alpha_{0} - \\frac{6}{5} \\, \\alpha_{1} & \\frac{13}{15} \\, \\beta_{1} & -\\frac{4}{5} \\, \\alpha_{0} + \\frac{13}{15} \\, \\alpha_{1} - \\frac{2}{15} \\, \\alpha_{2} & \\frac{4}{15} \\, \\beta_{2} + v & -\\frac{1}{5} \\, \\alpha_{1} + \\frac{4}{15} \\, \\alpha_{2} \\\\\n",
      "-\\frac{6}{5} \\, \\beta_{0} \\beta_{1} - \\frac{8}{15} \\, \\beta_{1} \\beta_{2} - 2 \\, \\beta_{2} v & 0 & 2 \\, \\beta_{2} & 0 & 0 & 0 & \\frac{2}{5} \\, \\beta_{0} + \\frac{2}{5} \\, \\beta_{2} & 0 & \\frac{1}{3} \\, \\beta_{1} + v\n",
      "\\end{array}\\right)\n"
     ]
    }
   ],
   "source": [
    "print(latex(A_p.simplify_full()))\n",
    "print(latex(B_p.simplify_full()))"
   ]
  },
  {
   "cell_type": "code",
   "execution_count": 2,
   "metadata": {},
   "outputs": [],
   "source": [
    "num_moments = 2 # includes constant moment\n",
    "num_eqns = 1 + 2 * num_moments\n",
    "t = var('t')\n",
    "x = var('x')\n",
    "y = var('y')\n",
    "z = var('z')\n",
    "g = var('g')\n",
    "e_x = var('e_x')\n",
    "e_y = var('e_y')\n",
    "e_z = var('e_z')\n",
    "nu = var('nu')\n",
    "lambda_ = var('lambda_')\n",
    "i = var('i', domain='integer')\n",
    "j = var('j', domain='integer')\n",
    "k = var('k', domain='integer')\n",
    "h = function('h', nargs=3)(t, x, y)\n",
    "h_b = function('h_b', nargs=2)(x, y)\n",
    "u = function('u', nargs=3)(t, x, y)\n",
    "v = function('v', nargs=3)(t, x, y)\n",
    "get_symbolic = lambda str_name: function(str_name, nargs=3)(t, x, y)\n",
    "alpha = get_vector_symbolic('alpha', num_moments, get_symbolic)\n",
    "beta = get_vector_symbolic('beta', num_moments, get_symbolic)"
   ]
  },
  {
   "cell_type": "code",
   "execution_count": 3,
   "metadata": {},
   "outputs": [],
   "source": [
    "phi = get_legendre_polynomials_fixed_lower_endpoint(num_moments, 1, 0, 1)\n",
    "A = [[[(2*i + 1)*(phi[i] * phi[j] * phi[k]).integrate(x, 0, 1) for k in range(num_moments)] for j in range(num_moments)] for i in range(num_moments)]\n",
    "B = [[[(2 * i + 1) * (phi[i].derivative(x) * (phi[j](x=z)).integrate(z, 0, x) * phi[k]).integrate(x, 0, 1) for k in range(num_moments)] for j in range(num_moments)] for i in range(num_moments)]\n",
    "C = [[(phi[i].derivative(x) * phi[j].derivative(x)).integrate(x, 0, 1) for j in range(num_moments)] for i in range(num_moments)]\n",
    "D = [(h * alpha[i]).derivative(x) + (h * beta[i]).derivative(y) for i in range(num_moments)]\n",
    "\n",
    "# fluxes\n",
    "fx_list = [\n",
    "    h * u, \n",
    "    h * u^2 + h * sum([alpha[j]^2 / (2 * j + 1) for j in range(1,num_moments)]) + 1/2 * g * e_z * h^2, \n",
    "    h * u * v + h * sum([alpha[j] * beta[j] / (2 * j + 1) for j in range(1, num_moments)]),\n",
    "]\n",
    "fy_list = [\n",
    "    h * v,\n",
    "    h * u * v + h * sum([alpha[j] * beta[j] / (2 * j + 1) for j in range(1, num_moments)]),\n",
    "    h * v^2 + h * sum([beta[j]^2 / (2 * j + 1) for j in range(1, num_moments)]) + 1/2 * g * e_z * h^2,\n",
    "]\n",
    "\n",
    "# source term\n",
    "p_list = [\n",
    "    0,\n",
    "    -nu / lambda_ * (u + sum([alpha[j] for j in range(1, num_moments)])) + h * g * (e_x - e_z * h_b.derivative(x)),\n",
    "    -nu / lambda_ * (v + sum([beta[j] for j in range(1, num_moments)])) + h * g * (e_y - e_z * h_b.derivative(y)),\n",
    "]\n",
    "\n",
    "for i in range(1, num_moments):\n",
    "    fx_list.append(2 * h * u * alpha[i] + h * sum([sum([A[i][j][k] * alpha[j] * alpha[k] for k in range(1, num_moments)]) for j in range(1, num_moments)]))\n",
    "    fx_list.append(h * u * beta[i] + h * v * alpha[i] + h * sum([sum([A[i][j][k] * alpha[j] * beta[k] for k in range(1, num_moments)]) for j in range(1, num_moments)]))\n",
    "    \n",
    "    fy_list.append(h * u * beta[i] + h * v * alpha[i] + h * sum([sum([A[i][j][k] * alpha[j] * beta[j] for k in range(1, num_moments)]) for j in range(1, num_moments)]))\n",
    "    fy_list.append(2 * h * v * beta[i] + h * sum([sum([A[i][j][k] * beta[j] * beta[k] for k in range(1, num_moments)]) for j in range(1, num_moments)]))\n",
    "    \n",
    "    p_list.append(-(2 * i + 1) * nu / lambda_ * (u + sum([(1 + lambda_ / h * C[i][j]) * alpha[j] for j in range(1, num_moments)])))\n",
    "    p_list.append(-(2 * i + 1) * nu / lambda_ * (v + sum([(1 + lambda_ / h * C[i][j]) * beta[j] for j in range(1, num_moments)])))\n",
    "\n",
    "# nonconservative product matrices\n",
    "gx_lists = [[0 for i in range(num_eqns)] for j in range(num_eqns)]\n",
    "gy_lists = [[0 for i in range(num_eqns)] for j in range(num_eqns)]\n",
    "\n",
    "for i in range(1, num_moments):\n",
    "    a_i_eqn = 1 + 2 * i\n",
    "    b_i_eqn = 2 + 2 * i\n",
    "    for j in range(1, num_moments):\n",
    "        # (h alpha_j)_x term, column index\n",
    "        a_j_eqn = 1 + 2 * j\n",
    "        # (h beta_j)_y term, column index\n",
    "        b_j_eqn = 2 + 2 * j\n",
    "        \n",
    "        # h alpha[i] equation\n",
    "        # (h alpha_i)_t + ... = ... - sum{j=1}{N}{D_j \\sum{k=1}{N}{B_ijk alpha_k}} + ...\n",
    "        # (h alpha_j)_x sum{k=1}{N}{-B_ijk alpha_k}\n",
    "        gx_lists[a_i_eqn][a_j_eqn] = sum([-B[i][j][k] * alpha[k] for k in range(1, num_moments)])\n",
    "        # (h beta_j)_y sum{k=1}{N}{-B_ijk alpha_k}\n",
    "        gy_lists[a_i_eqn][b_j_eqn] = sum([-B[i][j][k] * alpha[k] for k in range(1, num_moments)]) \n",
    "        \n",
    "        # (h beta_i)_t + ... = ... - sum{j=1}{N}{D_j \\sum{k=1}{N}{B_ijk beta_k}} + ...\n",
    "        # (h alpha_j)_x sum{k=1}{N}{-B_ijk beta_k}\n",
    "        gx_lists[b_i_eqn][a_j_eqn] = sum([-B[i][j][k] * beta[k] for k in range(1, num_moments)])\n",
    "        # (h beta_j)_y sum{k=1}{N}{-B_ijk beta_k}\n",
    "        gy_lists[b_i_eqn][b_j_eqn] = sum([-B[i][j][k] * beta[k] for k in range(1, num_moments)]) \n",
    "        \n",
    "    \n",
    "    # (h alpha_i)_t + ... = u D_i + ...\n",
    "    # u D_i = u (h alpha_i)_x + u (h beta_i)_y\n",
    "    gx_lists[a_i_eqn][a_i_eqn] += u\n",
    "    gy_lists[a_i_eqn][b_i_eqn] += u\n",
    "    \n",
    "    # (h beta_i)_t + ... = v D_i + ... \n",
    "    # v D_i = v (h alpha_i)_x + v (h beta_i)_y\n",
    "    gx_lists[b_i_eqn][a_i_eqn] += v\n",
    "    gy_lists[b_i_eqn][b_i_eqn] += v\n",
    "\n",
    "fx = matrix(fx_list).transpose()\n",
    "fy = matrix(fy_list).transpose()\n",
    "\n",
    "gx = matrix(gx_lists)\n",
    "gy = matrix(gy_lists)\n",
    "\n",
    "p = matrix(p_list).transpose()"
   ]
  },
  {
   "cell_type": "code",
   "execution_count": 5,
   "metadata": {},
   "outputs": [
    {
     "data": {
      "text/plain": [
       "[                                                               h(t, x, y)*u(t, x, y)]\n",
       "[1/2*e_z*g*h(t, x, y)^2 + 1/3*alpha_1(t, x, y)^2*h(t, x, y) + h(t, x, y)*u(t, x, y)^2]\n",
       "[  1/3*alpha_1(t, x, y)*beta_1(t, x, y)*h(t, x, y) + h(t, x, y)*u(t, x, y)*v(t, x, y)]\n",
       "[                                            2*alpha_1(t, x, y)*h(t, x, y)*u(t, x, y)]\n",
       "[      beta_1(t, x, y)*h(t, x, y)*u(t, x, y) + alpha_1(t, x, y)*h(t, x, y)*v(t, x, y)]"
      ]
     },
     "execution_count": 5,
     "metadata": {},
     "output_type": "execute_result"
    }
   ],
   "source": []
  },
  {
   "cell_type": "code",
   "execution_count": 4,
   "metadata": {},
   "outputs": [
    {
     "name": "stdout",
     "output_type": "stream",
     "text": [
      "\\left(\\begin{array}{r}\n",
      "h\\left(t, x, y\\right) u\\left(t, x, y\\right) \\\\\n",
      "\\frac{1}{2} \\, e_{z} g h\\left(t, x, y\\right)^{2} + \\frac{1}{3} \\, \\alpha_{1}\\left(t, x, y\\right)^{2} h\\left(t, x, y\\right) + h\\left(t, x, y\\right) u\\left(t, x, y\\right)^{2} \\\\\n",
      "\\frac{1}{3} \\, \\alpha_{1}\\left(t, x, y\\right) \\beta_{1}\\left(t, x, y\\right) h\\left(t, x, y\\right) + h\\left(t, x, y\\right) u\\left(t, x, y\\right) v\\left(t, x, y\\right) \\\\\n",
      "2 \\, \\alpha_{1}\\left(t, x, y\\right) h\\left(t, x, y\\right) u\\left(t, x, y\\right) \\\\\n",
      "\\beta_{1}\\left(t, x, y\\right) h\\left(t, x, y\\right) u\\left(t, x, y\\right) + \\alpha_{1}\\left(t, x, y\\right) h\\left(t, x, y\\right) v\\left(t, x, y\\right)\n",
      "\\end{array}\\right)\n",
      "\\left(\\begin{array}{r}\n",
      "h\\left(t, x, y\\right) v\\left(t, x, y\\right) \\\\\n",
      "\\frac{1}{3} \\, \\alpha_{1}\\left(t, x, y\\right) \\beta_{1}\\left(t, x, y\\right) h\\left(t, x, y\\right) + h\\left(t, x, y\\right) u\\left(t, x, y\\right) v\\left(t, x, y\\right) \\\\\n",
      "\\frac{1}{2} \\, e_{z} g h\\left(t, x, y\\right)^{2} + \\frac{1}{3} \\, \\beta_{1}\\left(t, x, y\\right)^{2} h\\left(t, x, y\\right) + h\\left(t, x, y\\right) v\\left(t, x, y\\right)^{2} \\\\\n",
      "\\beta_{1}\\left(t, x, y\\right) h\\left(t, x, y\\right) u\\left(t, x, y\\right) + \\alpha_{1}\\left(t, x, y\\right) h\\left(t, x, y\\right) v\\left(t, x, y\\right) \\\\\n",
      "2 \\, \\beta_{1}\\left(t, x, y\\right) h\\left(t, x, y\\right) v\\left(t, x, y\\right)\n",
      "\\end{array}\\right)\n",
      "\\left(\\begin{array}{rrrrr}\n",
      "0 & 0 & 0 & 0 & 0 \\\\\n",
      "0 & 0 & 0 & 0 & 0 \\\\\n",
      "0 & 0 & 0 & 0 & 0 \\\\\n",
      "0 & 0 & 0 & u\\left(t, x, y\\right) & 0 \\\\\n",
      "0 & 0 & 0 & v\\left(t, x, y\\right) & 0\n",
      "\\end{array}\\right)\n",
      "\\left(\\begin{array}{rrrrr}\n",
      "0 & 0 & 0 & 0 & 0 \\\\\n",
      "0 & 0 & 0 & 0 & 0 \\\\\n",
      "0 & 0 & 0 & 0 & 0 \\\\\n",
      "0 & 0 & 0 & 0 & u\\left(t, x, y\\right) \\\\\n",
      "0 & 0 & 0 & 0 & v\\left(t, x, y\\right)\n",
      "\\end{array}\\right)\n",
      "\\left(\\begin{array}{r}\n",
      "0 \\\\\n",
      "-{\\left(e_{z} \\frac{\\partial}{\\partial x}h_{b}\\left(x, y\\right) - e_{x}\\right)} g h\\left(t, x, y\\right) - \\frac{\\nu {\\left(\\alpha_{1}\\left(t, x, y\\right) + u\\left(t, x, y\\right)\\right)}}{\\lambda} \\\\\n",
      "-{\\left(e_{z} \\frac{\\partial}{\\partial y}h_{b}\\left(x, y\\right) - e_{y}\\right)} g h\\left(t, x, y\\right) - \\frac{\\nu {\\left(\\beta_{1}\\left(t, x, y\\right) + v\\left(t, x, y\\right)\\right)}}{\\lambda} \\\\\n",
      "-\\frac{3 \\, {\\left({\\left(\\frac{4 \\, \\lambda}{h\\left(t, x, y\\right)} + 1\\right)} \\alpha_{1}\\left(t, x, y\\right) + u\\left(t, x, y\\right)\\right)} \\nu}{\\lambda} \\\\\n",
      "-\\frac{3 \\, {\\left({\\left(\\frac{4 \\, \\lambda}{h\\left(t, x, y\\right)} + 1\\right)} \\beta_{1}\\left(t, x, y\\right) + v\\left(t, x, y\\right)\\right)} \\nu}{\\lambda}\n",
      "\\end{array}\\right)\n"
     ]
    }
   ],
   "source": [
    "print(latex(fx))\n",
    "print(latex(fy))\n",
    "print(latex(gx))\n",
    "print(latex(gy))\n",
    "print(latex(p))"
   ]
  },
  {
   "cell_type": "code",
   "execution_count": 137,
   "metadata": {},
   "outputs": [
    {
     "name": "stdout",
     "output_type": "stream",
     "text": [
      "\\left(\\begin{array}{r}\n",
      "h\\left(t, x, y\\right) u\\left(t, x, y\\right) \\\\\n",
      "\\frac{1}{2} \\, e_{z} g h\\left(t, x, y\\right)^{2} + h\\left(t, x, y\\right) u\\left(t, x, y\\right)^{2} + \\frac{1}{105} \\, {\\left(35 \\, \\alpha_{1}\\left(t, x, y\\right)^{2} + 21 \\, \\alpha_{2}\\left(t, x, y\\right)^{2} + 15 \\, \\alpha_{3}\\left(t, x, y\\right)^{2}\\right)} h\\left(t, x, y\\right) \\\\\n",
      "0 \\\\\n",
      "2 \\, \\alpha_{1}\\left(t, x, y\\right) h\\left(t, x, y\\right) u\\left(t, x, y\\right) + \\frac{2}{35} \\, {\\left(14 \\, \\alpha_{1}\\left(t, x, y\\right) \\alpha_{2}\\left(t, x, y\\right) + 9 \\, \\alpha_{2}\\left(t, x, y\\right) \\alpha_{3}\\left(t, x, y\\right)\\right)} h\\left(t, x, y\\right) \\\\\n",
      "0 \\\\\n",
      "2 \\, \\alpha_{2}\\left(t, x, y\\right) h\\left(t, x, y\\right) u\\left(t, x, y\\right) + \\frac{2}{21} \\, {\\left(7 \\, \\alpha_{1}\\left(t, x, y\\right)^{2} + 3 \\, \\alpha_{2}\\left(t, x, y\\right)^{2} + 9 \\, \\alpha_{1}\\left(t, x, y\\right) \\alpha_{3}\\left(t, x, y\\right) + 2 \\, \\alpha_{3}\\left(t, x, y\\right)^{2}\\right)} h\\left(t, x, y\\right) \\\\\n",
      "0 \\\\\n",
      "2 \\, \\alpha_{3}\\left(t, x, y\\right) h\\left(t, x, y\\right) u\\left(t, x, y\\right) + \\frac{2}{15} \\, {\\left(9 \\, \\alpha_{1}\\left(t, x, y\\right) \\alpha_{2}\\left(t, x, y\\right) + 4 \\, \\alpha_{2}\\left(t, x, y\\right) \\alpha_{3}\\left(t, x, y\\right)\\right)} h\\left(t, x, y\\right) \\\\\n",
      "0\n",
      "\\end{array}\\right)\n",
      "\\left(\\begin{array}{rrrrrrrrr}\n",
      "0 & 0 & 0 & 0 & 0 & 0 & 0 & 0 & 0 \\\\\n",
      "0 & 0 & 0 & 0 & 0 & 0 & 0 & 0 & 0 \\\\\n",
      "0 & 0 & 0 & 0 & 0 & 0 & 0 & 0 & 0 \\\\\n",
      "0 & 0 & 0 & -\\frac{1}{5} \\, \\alpha_{2}\\left(t, x, y\\right) + u\\left(t, x, y\\right) & 0 & \\frac{1}{5} \\, \\alpha_{1}\\left(t, x, y\\right) - \\frac{3}{35} \\, \\alpha_{3}\\left(t, x, y\\right) & 0 & \\frac{3}{35} \\, \\alpha_{2}\\left(t, x, y\\right) & 0 \\\\\n",
      "0 & 0 & 0 & 0 & 0 & 0 & 0 & 0 & 0 \\\\\n",
      "0 & 0 & 0 & \\alpha_{1}\\left(t, x, y\\right) - \\frac{3}{7} \\, \\alpha_{3}\\left(t, x, y\\right) & 0 & \\frac{1}{7} \\, \\alpha_{2}\\left(t, x, y\\right) + u\\left(t, x, y\\right) & 0 & \\frac{2}{7} \\, \\alpha_{1}\\left(t, x, y\\right) + \\frac{1}{21} \\, \\alpha_{3}\\left(t, x, y\\right) & 0 \\\\\n",
      "0 & 0 & 0 & 0 & 0 & 0 & 0 & 0 & 0 \\\\\n",
      "0 & 0 & 0 & \\frac{6}{5} \\, \\alpha_{2}\\left(t, x, y\\right) & 0 & \\frac{4}{5} \\, \\alpha_{1}\\left(t, x, y\\right) + \\frac{2}{15} \\, \\alpha_{3}\\left(t, x, y\\right) & 0 & \\frac{1}{5} \\, \\alpha_{2}\\left(t, x, y\\right) + u\\left(t, x, y\\right) & 0 \\\\\n",
      "0 & 0 & 0 & 0 & 0 & 0 & 0 & 0 & 0\n",
      "\\end{array}\\right)\n",
      "\\left(\\begin{array}{r}\n",
      "0 \\\\\n",
      "-{\\left(e_{z} \\frac{\\partial}{\\partial x}h_{b}\\left(x, y\\right) - e_{x}\\right)} g h\\left(t, x, y\\right) - \\frac{\\nu {\\left(\\alpha_{1}\\left(t, x, y\\right) + \\alpha_{2}\\left(t, x, y\\right) + \\alpha_{3}\\left(t, x, y\\right) + u\\left(t, x, y\\right)\\right)}}{\\lambda} \\\\\n",
      "-{\\left(e_{z} \\frac{\\partial}{\\partial y}h_{b}\\left(x, y\\right) - e_{y}\\right)} g h\\left(t, x, y\\right) \\\\\n",
      "-\\frac{3 \\, {\\left({\\left(\\frac{4 \\, \\lambda}{h\\left(t, x, y\\right)} + 1\\right)} \\alpha_{1}\\left(t, x, y\\right) + {\\left(\\frac{4 \\, \\lambda}{h\\left(t, x, y\\right)} + 1\\right)} \\alpha_{3}\\left(t, x, y\\right) + \\alpha_{2}\\left(t, x, y\\right) + u\\left(t, x, y\\right)\\right)} \\nu}{\\lambda} \\\\\n",
      "0 \\\\\n",
      "-\\frac{5 \\, {\\left({\\left(\\frac{12 \\, \\lambda}{h\\left(t, x, y\\right)} + 1\\right)} \\alpha_{2}\\left(t, x, y\\right) + \\alpha_{1}\\left(t, x, y\\right) + \\alpha_{3}\\left(t, x, y\\right) + u\\left(t, x, y\\right)\\right)} \\nu}{\\lambda} \\\\\n",
      "0 \\\\\n",
      "-\\frac{7 \\, {\\left({\\left(\\frac{4 \\, \\lambda}{h\\left(t, x, y\\right)} + 1\\right)} \\alpha_{1}\\left(t, x, y\\right) + {\\left(\\frac{24 \\, \\lambda}{h\\left(t, x, y\\right)} + 1\\right)} \\alpha_{3}\\left(t, x, y\\right) + \\alpha_{2}\\left(t, x, y\\right) + u\\left(t, x, y\\right)\\right)} \\nu}{\\lambda} \\\\\n",
      "0\n",
      "\\end{array}\\right)\n"
     ]
    }
   ],
   "source": [
    "#oned_dict_ = {v: 0, beta_0: 0, beta_1: 0, beta_2: 0}\n",
    "oned_dict_ = {v: 0}\n",
    "for i in range(num_moments):\n",
    "    oned_dict_[beta[i]] = 0\n",
    "print(latex(fx.subs(oned_dict_)))\n",
    "#print(latex(fy.subs(oned_dict_)))\n",
    "print(latex(gx.subs(oned_dict_)))\n",
    "#print(latex(gy.subs(oned_dict_)))\n",
    "print(latex(p.subs(oned_dict_)))"
   ]
  },
  {
   "cell_type": "code",
   "execution_count": 19,
   "metadata": {},
   "outputs": [],
   "source": [
    "phi0(x) = 1\n",
    "phi1(x) = 1 - 2 * x\n",
    "phi2(x) = 1 - 6 * x + 6 * x^2\n",
    "phi3(x) = 1 - 12 * x + 30 * x^2 - 20 * x^3"
   ]
  },
  {
   "cell_type": "code",
   "execution_count": 30,
   "metadata": {},
   "outputs": [
    {
     "data": {
      "text/plain": [
       "1/5"
      ]
     },
     "execution_count": 30,
     "metadata": {},
     "output_type": "execute_result"
    }
   ],
   "source": [
    "(phi2*phi2).integrate(x, 0, 1)"
   ]
  },
  {
   "cell_type": "code",
   "execution_count": 31,
   "metadata": {},
   "outputs": [],
   "source": [
    "phi0(x) = 1\n",
    "phi1(x) = 1 + x\n",
    "phi2(x) = 1 - 6 * x - 3 * x^2"
   ]
  },
  {
   "cell_type": "code",
   "execution_count": 32,
   "metadata": {},
   "outputs": [
    {
     "data": {
      "text/plain": [
       "3/2"
      ]
     },
     "execution_count": 32,
     "metadata": {},
     "output_type": "execute_result"
    }
   ],
   "source": [
    "(phi0*phi1).integrate(x, 0, 1)"
   ]
  },
  {
   "cell_type": "code",
   "execution_count": null,
   "metadata": {},
   "outputs": [],
   "source": []
  }
 ],
 "metadata": {
  "kernelspec": {
   "display_name": "SageMath 9.0",
   "language": "sage",
   "name": "sagemath"
  },
  "language_info": {
   "codemirror_mode": {
    "name": "ipython",
    "version": 3
   },
   "file_extension": ".py",
   "mimetype": "text/x-python",
   "name": "python",
   "nbconvert_exporter": "python",
   "pygments_lexer": "ipython3",
   "version": "3.6.10"
  }
 },
 "nbformat": 4,
 "nbformat_minor": 2
}
