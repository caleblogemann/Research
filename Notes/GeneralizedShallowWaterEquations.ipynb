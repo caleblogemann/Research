{
 "cells": [
  {
   "cell_type": "code",
   "execution_count": 1,
   "metadata": {},
   "outputs": [
    {
     "name": "stdout",
     "output_type": "stream",
     "text": [
      "LegendrePolynomials.sage tests passed\n"
     ]
    }
   ],
   "source": [
    "load(\"../Sage/LegendrePolynomials.sage\")\n",
    "load(\"../Sage/SymbolicVectorMatrix.sage\")"
   ]
  },
  {
   "cell_type": "code",
   "execution_count": 2,
   "metadata": {},
   "outputs": [],
   "source": [
    "num_moments = 2 # includes constant moment\n",
    "num_eqns = 1 + 2 * num_moments\n",
    "t = var('t')\n",
    "x = var('x')\n",
    "y = var('y')\n",
    "z = var('z')\n",
    "g = var('g')\n",
    "e_x = var('e_x')\n",
    "e_y = var('e_y')\n",
    "e_z = var('e_z')\n",
    "nu = var('nu')\n",
    "lambda_ = var('lambda_')\n",
    "i = var('i', domain='integer')\n",
    "j = var('j', domain='integer')\n",
    "k = var('k', domain='integer')\n",
    "h = function('h', nargs=3)(t, x, y)\n",
    "h_b = function('h_b', nargs=2)(x, y)\n",
    "u = function('u', nargs=3)(t, x, y)\n",
    "v = function('v', nargs=3)(t, x, y)\n",
    "get_symbolic = lambda str_name: function(str_name, nargs=3)(t, x, y)\n",
    "alpha = get_vector_symbolic('alpha', num_moments, get_symbolic)\n",
    "beta = get_vector_symbolic('beta', num_moments, get_symbolic)"
   ]
  },
  {
   "cell_type": "code",
   "execution_count": 3,
   "metadata": {},
   "outputs": [],
   "source": [
    "phi = get_legendre_polynomials_fixed_lower_endpoint(num_moments, 1, 0, 1)\n",
    "A = [[[(2*i + 1)*(phi[i] * phi[j] * phi[k]).integrate(x, 0, 1) for k in range(num_moments)] for j in range(num_moments)] for i in range(num_moments)]\n",
    "B = [[[(2 * i + 1) * (phi[i].derivative(x) * (phi[j](x=z)).integrate(z, 0, x) * phi[k]).integrate(x, 0, 1) for k in range(num_moments)] for j in range(num_moments)] for i in range(num_moments)]\n",
    "C = [[(phi[i].derivative(x) * phi[j].derivative(x)).integrate(x, 0, 1) for j in range(num_moments)] for i in range(num_moments)]\n",
    "D = [(h * alpha[i]).derivative(x) + (h * beta[i]).derivative(y) for i in range(num_moments)]\n",
    "\n",
    "# fluxes\n",
    "fx_list = [\n",
    "    h * u, \n",
    "    h * u^2 + h * sum([alpha[j]^2 / (2 * j + 1) for j in range(1,num_moments)]) + 1/2 * g * e_z * h^2, \n",
    "    h * u * v + h * sum([alpha[j] * beta[j] / (2 * j + 1) for j in range(1, num_moments)]),\n",
    "]\n",
    "fy_list = [\n",
    "    h * v,\n",
    "    h * u * v + h * sum([alpha[j] * beta[j] / (2 * j + 1) for j in range(1, num_moments)]),\n",
    "    h * v^2 + h * sum([beta[j]^2 / (2 * j + 1) for j in range(1, num_moments)]) + 1/2 * g * e_z * h^2,\n",
    "]\n",
    "\n",
    "# source term\n",
    "p_list = [\n",
    "    0,\n",
    "    -nu / lambda_ * (u + sum([alpha[j] for j in range(1, num_moments)])) + h * g * (e_x - e_z * h_b.derivative(x)),\n",
    "    -nu / lambda_ * (v + sum([beta[j] for j in range(1, num_moments)])) + h * g * (e_y - e_z * h_b.derivative(y)),\n",
    "]\n",
    "\n",
    "for i in range(1, num_moments):\n",
    "    fx_list.append(2 * h * u * alpha[i] + h * sum([sum([A[i][j][k] * alpha[j] * alpha[k] for k in range(1, num_moments)]) for j in range(1, num_moments)]))\n",
    "    fx_list.append(h * u * beta[i] + h * v * alpha[i] + h * sum([sum([A[i][j][k] * alpha[j] * beta[k] for k in range(1, num_moments)]) for j in range(1, num_moments)]))\n",
    "    \n",
    "    fy_list.append(h * u * beta[i] + h * v * alpha[i] + h * sum([sum([A[i][j][k] * alpha[j] * beta[j] for k in range(1, num_moments)]) for j in range(1, num_moments)]))\n",
    "    fy_list.append(2 * h * v * beta[i] + h * sum([sum([A[i][j][k] * beta[j] * beta[k] for k in range(1, num_moments)]) for j in range(1, num_moments)]))\n",
    "    \n",
    "    p_list.append(-(2 * i + 1) * nu / lambda_ * (u + sum([(1 + lambda_ / h * C[i][j]) * alpha[j] for j in range(1, num_moments)])))\n",
    "    p_list.append(-(2 * i + 1) * nu / lambda_ * (v + sum([(1 + lambda_ / h * C[i][j]) * beta[j] for j in range(1, num_moments)])))\n",
    "\n",
    "# nonconservative product matrices\n",
    "gx_lists = [[0 for i in range(num_eqns)] for j in range(num_eqns)]\n",
    "gy_lists = [[0 for i in range(num_eqns)] for j in range(num_eqns)]\n",
    "\n",
    "for i in range(1, num_moments):\n",
    "    a_i_eqn = 1 + 2 * i\n",
    "    b_i_eqn = 2 + 2 * i\n",
    "    for j in range(1, num_moments):\n",
    "        # (h alpha_j)_x term, column index\n",
    "        a_j_eqn = 1 + 2 * j\n",
    "        # (h beta_j)_y term, column index\n",
    "        b_j_eqn = 2 + 2 * j\n",
    "        \n",
    "        # h alpha[i] equation\n",
    "        # (h alpha_i)_t + ... = ... - sum{j=1}{N}{D_j \\sum{k=1}{N}{B_ijk alpha_k}} + ...\n",
    "        # (h alpha_j)_x sum{k=1}{N}{-B_ijk alpha_k}\n",
    "        gx_lists[a_i_eqn][a_j_eqn] = sum([-B[i][j][k] * alpha[k] for k in range(1, num_moments)])\n",
    "        # (h beta_j)_y sum{k=1}{N}{-B_ijk alpha_k}\n",
    "        gy_lists[a_i_eqn][b_j_eqn] = sum([-B[i][j][k] * alpha[k] for k in range(1, num_moments)]) \n",
    "        \n",
    "        # (h beta_i)_t + ... = ... - sum{j=1}{N}{D_j \\sum{k=1}{N}{B_ijk beta_k}} + ...\n",
    "        # (h alpha_j)_x sum{k=1}{N}{-B_ijk beta_k}\n",
    "        gx_lists[b_i_eqn][a_j_eqn] = sum([-B[i][j][k] * beta[k] for k in range(1, num_moments)])\n",
    "        # (h beta_j)_y sum{k=1}{N}{-B_ijk beta_k}\n",
    "        gy_lists[b_i_eqn][b_j_eqn] = sum([-B[i][j][k] * beta[k] for k in range(1, num_moments)]) \n",
    "        \n",
    "    \n",
    "    # (h alpha_i)_t + ... = u D_i + ...\n",
    "    # u D_i = u (h alpha_i)_x + u (h beta_i)_y\n",
    "    gx_lists[a_i_eqn][a_i_eqn] += u\n",
    "    gy_lists[a_i_eqn][b_i_eqn] += u\n",
    "    \n",
    "    # (h beta_i)_t + ... = v D_i + ... \n",
    "    # v D_i = v (h alpha_i)_x + v (h beta_i)_y\n",
    "    gx_lists[b_i_eqn][a_i_eqn] += v\n",
    "    gy_lists[b_i_eqn][b_i_eqn] += v\n",
    "\n",
    "fx = matrix(fx_list).transpose()\n",
    "fy = matrix(fy_list).transpose()\n",
    "\n",
    "gx = matrix(gx_lists)\n",
    "gy = matrix(gy_lists)\n",
    "\n",
    "p = matrix(p_list).transpose()"
   ]
  },
  {
   "cell_type": "code",
   "execution_count": 5,
   "metadata": {},
   "outputs": [
    {
     "data": {
      "text/plain": [
       "[                                                               h(t, x, y)*u(t, x, y)]\n",
       "[1/2*e_z*g*h(t, x, y)^2 + 1/3*alpha_1(t, x, y)^2*h(t, x, y) + h(t, x, y)*u(t, x, y)^2]\n",
       "[  1/3*alpha_1(t, x, y)*beta_1(t, x, y)*h(t, x, y) + h(t, x, y)*u(t, x, y)*v(t, x, y)]\n",
       "[                                            2*alpha_1(t, x, y)*h(t, x, y)*u(t, x, y)]\n",
       "[      beta_1(t, x, y)*h(t, x, y)*u(t, x, y) + alpha_1(t, x, y)*h(t, x, y)*v(t, x, y)]"
      ]
     },
     "execution_count": 5,
     "metadata": {},
     "output_type": "execute_result"
    }
   ],
   "source": []
  },
  {
   "cell_type": "code",
   "execution_count": 4,
   "metadata": {},
   "outputs": [
    {
     "name": "stdout",
     "output_type": "stream",
     "text": [
      "\\left(\\begin{array}{r}\n",
      "h\\left(t, x, y\\right) u\\left(t, x, y\\right) \\\\\n",
      "\\frac{1}{2} \\, e_{z} g h\\left(t, x, y\\right)^{2} + \\frac{1}{3} \\, \\alpha_{1}\\left(t, x, y\\right)^{2} h\\left(t, x, y\\right) + h\\left(t, x, y\\right) u\\left(t, x, y\\right)^{2} \\\\\n",
      "\\frac{1}{3} \\, \\alpha_{1}\\left(t, x, y\\right) \\beta_{1}\\left(t, x, y\\right) h\\left(t, x, y\\right) + h\\left(t, x, y\\right) u\\left(t, x, y\\right) v\\left(t, x, y\\right) \\\\\n",
      "2 \\, \\alpha_{1}\\left(t, x, y\\right) h\\left(t, x, y\\right) u\\left(t, x, y\\right) \\\\\n",
      "\\beta_{1}\\left(t, x, y\\right) h\\left(t, x, y\\right) u\\left(t, x, y\\right) + \\alpha_{1}\\left(t, x, y\\right) h\\left(t, x, y\\right) v\\left(t, x, y\\right)\n",
      "\\end{array}\\right)\n",
      "\\left(\\begin{array}{r}\n",
      "h\\left(t, x, y\\right) v\\left(t, x, y\\right) \\\\\n",
      "\\frac{1}{3} \\, \\alpha_{1}\\left(t, x, y\\right) \\beta_{1}\\left(t, x, y\\right) h\\left(t, x, y\\right) + h\\left(t, x, y\\right) u\\left(t, x, y\\right) v\\left(t, x, y\\right) \\\\\n",
      "\\frac{1}{2} \\, e_{z} g h\\left(t, x, y\\right)^{2} + \\frac{1}{3} \\, \\beta_{1}\\left(t, x, y\\right)^{2} h\\left(t, x, y\\right) + h\\left(t, x, y\\right) v\\left(t, x, y\\right)^{2} \\\\\n",
      "\\beta_{1}\\left(t, x, y\\right) h\\left(t, x, y\\right) u\\left(t, x, y\\right) + \\alpha_{1}\\left(t, x, y\\right) h\\left(t, x, y\\right) v\\left(t, x, y\\right) \\\\\n",
      "2 \\, \\beta_{1}\\left(t, x, y\\right) h\\left(t, x, y\\right) v\\left(t, x, y\\right)\n",
      "\\end{array}\\right)\n",
      "\\left(\\begin{array}{rrrrr}\n",
      "0 & 0 & 0 & 0 & 0 \\\\\n",
      "0 & 0 & 0 & 0 & 0 \\\\\n",
      "0 & 0 & 0 & 0 & 0 \\\\\n",
      "0 & 0 & 0 & u\\left(t, x, y\\right) & 0 \\\\\n",
      "0 & 0 & 0 & v\\left(t, x, y\\right) & 0\n",
      "\\end{array}\\right)\n",
      "\\left(\\begin{array}{rrrrr}\n",
      "0 & 0 & 0 & 0 & 0 \\\\\n",
      "0 & 0 & 0 & 0 & 0 \\\\\n",
      "0 & 0 & 0 & 0 & 0 \\\\\n",
      "0 & 0 & 0 & 0 & u\\left(t, x, y\\right) \\\\\n",
      "0 & 0 & 0 & 0 & v\\left(t, x, y\\right)\n",
      "\\end{array}\\right)\n",
      "\\left(\\begin{array}{r}\n",
      "0 \\\\\n",
      "-{\\left(e_{z} \\frac{\\partial}{\\partial x}h_{b}\\left(x, y\\right) - e_{x}\\right)} g h\\left(t, x, y\\right) - \\frac{\\nu {\\left(\\alpha_{1}\\left(t, x, y\\right) + u\\left(t, x, y\\right)\\right)}}{\\lambda} \\\\\n",
      "-{\\left(e_{z} \\frac{\\partial}{\\partial y}h_{b}\\left(x, y\\right) - e_{y}\\right)} g h\\left(t, x, y\\right) - \\frac{\\nu {\\left(\\beta_{1}\\left(t, x, y\\right) + v\\left(t, x, y\\right)\\right)}}{\\lambda} \\\\\n",
      "-\\frac{3 \\, {\\left({\\left(\\frac{4 \\, \\lambda}{h\\left(t, x, y\\right)} + 1\\right)} \\alpha_{1}\\left(t, x, y\\right) + u\\left(t, x, y\\right)\\right)} \\nu}{\\lambda} \\\\\n",
      "-\\frac{3 \\, {\\left({\\left(\\frac{4 \\, \\lambda}{h\\left(t, x, y\\right)} + 1\\right)} \\beta_{1}\\left(t, x, y\\right) + v\\left(t, x, y\\right)\\right)} \\nu}{\\lambda}\n",
      "\\end{array}\\right)\n"
     ]
    }
   ],
   "source": [
    "print(latex(fx))\n",
    "print(latex(fy))\n",
    "print(latex(gx))\n",
    "print(latex(gy))\n",
    "print(latex(p))"
   ]
  },
  {
   "cell_type": "code",
   "execution_count": 137,
   "metadata": {},
   "outputs": [
    {
     "name": "stdout",
     "output_type": "stream",
     "text": [
      "\\left(\\begin{array}{r}\n",
      "h\\left(t, x, y\\right) u\\left(t, x, y\\right) \\\\\n",
      "\\frac{1}{2} \\, e_{z} g h\\left(t, x, y\\right)^{2} + h\\left(t, x, y\\right) u\\left(t, x, y\\right)^{2} + \\frac{1}{105} \\, {\\left(35 \\, \\alpha_{1}\\left(t, x, y\\right)^{2} + 21 \\, \\alpha_{2}\\left(t, x, y\\right)^{2} + 15 \\, \\alpha_{3}\\left(t, x, y\\right)^{2}\\right)} h\\left(t, x, y\\right) \\\\\n",
      "0 \\\\\n",
      "2 \\, \\alpha_{1}\\left(t, x, y\\right) h\\left(t, x, y\\right) u\\left(t, x, y\\right) + \\frac{2}{35} \\, {\\left(14 \\, \\alpha_{1}\\left(t, x, y\\right) \\alpha_{2}\\left(t, x, y\\right) + 9 \\, \\alpha_{2}\\left(t, x, y\\right) \\alpha_{3}\\left(t, x, y\\right)\\right)} h\\left(t, x, y\\right) \\\\\n",
      "0 \\\\\n",
      "2 \\, \\alpha_{2}\\left(t, x, y\\right) h\\left(t, x, y\\right) u\\left(t, x, y\\right) + \\frac{2}{21} \\, {\\left(7 \\, \\alpha_{1}\\left(t, x, y\\right)^{2} + 3 \\, \\alpha_{2}\\left(t, x, y\\right)^{2} + 9 \\, \\alpha_{1}\\left(t, x, y\\right) \\alpha_{3}\\left(t, x, y\\right) + 2 \\, \\alpha_{3}\\left(t, x, y\\right)^{2}\\right)} h\\left(t, x, y\\right) \\\\\n",
      "0 \\\\\n",
      "2 \\, \\alpha_{3}\\left(t, x, y\\right) h\\left(t, x, y\\right) u\\left(t, x, y\\right) + \\frac{2}{15} \\, {\\left(9 \\, \\alpha_{1}\\left(t, x, y\\right) \\alpha_{2}\\left(t, x, y\\right) + 4 \\, \\alpha_{2}\\left(t, x, y\\right) \\alpha_{3}\\left(t, x, y\\right)\\right)} h\\left(t, x, y\\right) \\\\\n",
      "0\n",
      "\\end{array}\\right)\n",
      "\\left(\\begin{array}{rrrrrrrrr}\n",
      "0 & 0 & 0 & 0 & 0 & 0 & 0 & 0 & 0 \\\\\n",
      "0 & 0 & 0 & 0 & 0 & 0 & 0 & 0 & 0 \\\\\n",
      "0 & 0 & 0 & 0 & 0 & 0 & 0 & 0 & 0 \\\\\n",
      "0 & 0 & 0 & -\\frac{1}{5} \\, \\alpha_{2}\\left(t, x, y\\right) + u\\left(t, x, y\\right) & 0 & \\frac{1}{5} \\, \\alpha_{1}\\left(t, x, y\\right) - \\frac{3}{35} \\, \\alpha_{3}\\left(t, x, y\\right) & 0 & \\frac{3}{35} \\, \\alpha_{2}\\left(t, x, y\\right) & 0 \\\\\n",
      "0 & 0 & 0 & 0 & 0 & 0 & 0 & 0 & 0 \\\\\n",
      "0 & 0 & 0 & \\alpha_{1}\\left(t, x, y\\right) - \\frac{3}{7} \\, \\alpha_{3}\\left(t, x, y\\right) & 0 & \\frac{1}{7} \\, \\alpha_{2}\\left(t, x, y\\right) + u\\left(t, x, y\\right) & 0 & \\frac{2}{7} \\, \\alpha_{1}\\left(t, x, y\\right) + \\frac{1}{21} \\, \\alpha_{3}\\left(t, x, y\\right) & 0 \\\\\n",
      "0 & 0 & 0 & 0 & 0 & 0 & 0 & 0 & 0 \\\\\n",
      "0 & 0 & 0 & \\frac{6}{5} \\, \\alpha_{2}\\left(t, x, y\\right) & 0 & \\frac{4}{5} \\, \\alpha_{1}\\left(t, x, y\\right) + \\frac{2}{15} \\, \\alpha_{3}\\left(t, x, y\\right) & 0 & \\frac{1}{5} \\, \\alpha_{2}\\left(t, x, y\\right) + u\\left(t, x, y\\right) & 0 \\\\\n",
      "0 & 0 & 0 & 0 & 0 & 0 & 0 & 0 & 0\n",
      "\\end{array}\\right)\n",
      "\\left(\\begin{array}{r}\n",
      "0 \\\\\n",
      "-{\\left(e_{z} \\frac{\\partial}{\\partial x}h_{b}\\left(x, y\\right) - e_{x}\\right)} g h\\left(t, x, y\\right) - \\frac{\\nu {\\left(\\alpha_{1}\\left(t, x, y\\right) + \\alpha_{2}\\left(t, x, y\\right) + \\alpha_{3}\\left(t, x, y\\right) + u\\left(t, x, y\\right)\\right)}}{\\lambda} \\\\\n",
      "-{\\left(e_{z} \\frac{\\partial}{\\partial y}h_{b}\\left(x, y\\right) - e_{y}\\right)} g h\\left(t, x, y\\right) \\\\\n",
      "-\\frac{3 \\, {\\left({\\left(\\frac{4 \\, \\lambda}{h\\left(t, x, y\\right)} + 1\\right)} \\alpha_{1}\\left(t, x, y\\right) + {\\left(\\frac{4 \\, \\lambda}{h\\left(t, x, y\\right)} + 1\\right)} \\alpha_{3}\\left(t, x, y\\right) + \\alpha_{2}\\left(t, x, y\\right) + u\\left(t, x, y\\right)\\right)} \\nu}{\\lambda} \\\\\n",
      "0 \\\\\n",
      "-\\frac{5 \\, {\\left({\\left(\\frac{12 \\, \\lambda}{h\\left(t, x, y\\right)} + 1\\right)} \\alpha_{2}\\left(t, x, y\\right) + \\alpha_{1}\\left(t, x, y\\right) + \\alpha_{3}\\left(t, x, y\\right) + u\\left(t, x, y\\right)\\right)} \\nu}{\\lambda} \\\\\n",
      "0 \\\\\n",
      "-\\frac{7 \\, {\\left({\\left(\\frac{4 \\, \\lambda}{h\\left(t, x, y\\right)} + 1\\right)} \\alpha_{1}\\left(t, x, y\\right) + {\\left(\\frac{24 \\, \\lambda}{h\\left(t, x, y\\right)} + 1\\right)} \\alpha_{3}\\left(t, x, y\\right) + \\alpha_{2}\\left(t, x, y\\right) + u\\left(t, x, y\\right)\\right)} \\nu}{\\lambda} \\\\\n",
      "0\n",
      "\\end{array}\\right)\n"
     ]
    }
   ],
   "source": [
    "#oned_dict_ = {v: 0, beta_0: 0, beta_1: 0, beta_2: 0}\n",
    "oned_dict_ = {v: 0}\n",
    "for i in range(num_moments):\n",
    "    oned_dict_[beta[i]] = 0\n",
    "print(latex(fx.subs(oned_dict_)))\n",
    "#print(latex(fy.subs(oned_dict_)))\n",
    "print(latex(gx.subs(oned_dict_)))\n",
    "#print(latex(gy.subs(oned_dict_)))\n",
    "print(latex(p.subs(oned_dict_)))"
   ]
  },
  {
   "cell_type": "code",
   "execution_count": 19,
   "metadata": {},
   "outputs": [],
   "source": [
    "phi0(x) = 1\n",
    "phi1(x) = 1 - 2 * x\n",
    "phi2(x) = 1 - 6 * x + 6 * x^2\n",
    "phi3(x) = 1 - 12 * x + 30 * x^2 - 20 * x^3"
   ]
  },
  {
   "cell_type": "code",
   "execution_count": 30,
   "metadata": {},
   "outputs": [
    {
     "data": {
      "text/plain": [
       "1/5"
      ]
     },
     "execution_count": 30,
     "metadata": {},
     "output_type": "execute_result"
    }
   ],
   "source": [
    "(phi2*phi2).integrate(x, 0, 1)"
   ]
  },
  {
   "cell_type": "code",
   "execution_count": 31,
   "metadata": {},
   "outputs": [],
   "source": [
    "phi0(x) = 1\n",
    "phi1(x) = 1 + x\n",
    "phi2(x) = 1 - 6 * x - 3 * x^2"
   ]
  },
  {
   "cell_type": "code",
   "execution_count": 32,
   "metadata": {},
   "outputs": [
    {
     "data": {
      "text/plain": [
       "3/2"
      ]
     },
     "execution_count": 32,
     "metadata": {},
     "output_type": "execute_result"
    }
   ],
   "source": [
    "(phi0*phi1).integrate(x, 0, 1)"
   ]
  },
  {
   "cell_type": "code",
   "execution_count": null,
   "metadata": {},
   "outputs": [],
   "source": []
  }
 ],
 "metadata": {
  "kernelspec": {
   "display_name": "SageMath 9.0",
   "language": "sage",
   "name": "sagemath"
  },
  "language_info": {
   "codemirror_mode": {
    "name": "ipython",
    "version": 3
   },
   "file_extension": ".py",
   "mimetype": "text/x-python",
   "name": "python",
   "nbconvert_exporter": "python",
   "pygments_lexer": "ipython3",
   "version": "3.6.10"
  }
 },
 "nbformat": 4,
 "nbformat_minor": 2
}
