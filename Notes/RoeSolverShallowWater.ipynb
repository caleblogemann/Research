{
 "cells": [
  {
   "cell_type": "markdown",
   "metadata": {},
   "source": [
    "# Roe Approximate Riemann Solver Shallow Water Equations"
   ]
  },
  {
   "cell_type": "markdown",
   "metadata": {},
   "source": [
    "$$\n",
    "\\renewcommand{\\v}[1]{\\mathbf{#1}}\n",
    "% redefine integral commands with inputs\n",
    "% indefinite integral without dx\n",
    "\\let\\oldint\\int\n",
    "\\newcommand{\\inta}[1]{\\oldint\\!\\paren{#1}}\n",
    "\\newcommand{\\intna}[1]{\\oldint\\!{#1}}\n",
    "\\def\\int{\\@ifstar{\\inta}{\\intna}}\n",
    "% indefinite integral with dx\n",
    "\\newcommand{\\intta}[2]{\\oldint\\!\\paren{#1}\\,\\mathrm{d}{#2}}\n",
    "\\newcommand{\\inttna}[2]{\\oldint\\!{#1}\\,\\mathrm{d}{#2}}\n",
    "\\def\\intt{\\@ifstar{\\intta}{\\inttna}}\n",
    "% definite integral with bounds but no dx\n",
    "\\newcommand{\\dintna}[3]{\\oldint_{#1}^{#2}\\!{#3}}\n",
    "\\newcommand{\\dinta}[3]{\\oldint_{#1}^{#2}\\!\\paren{#3}}\n",
    "\\def\\dint{\\@ifstar{\\dinta}{\\dintna}}\n",
    "% definite integral\n",
    "\\newcommand{\\dinttna}[4]{\\oldint_{#1}^{#2}\\!{#3}\\,\\mathrm{d}{#4}}\n",
    "\\newcommand{\\dintta}[4]{\\oldint_{#1}^{#2}\\!\\paren{#3}\\,\\mathrm{d}{#4}}\n",
    "\\def\\dintt{\\@ifstar{\\dintta}{\\dinttna}}\n",
    "\\let\\oldiint\\iint\n",
    "\\newcommand{\\iinta}[1]{\\oldiint\\!\\paren{#1}}\n",
    "\\newcommand{\\iintna}[1]{\\oldiint\\!{#1}}\n",
    "\\def\\iint{\\@ifstar{\\iinta}{\\iintna}}\n",
    "% indefinite integral with dx\n",
    "\\newcommand{\\iintta}[2]{\\oldiint\\!\\paren{#1}\\,\\mathrm{d}{#2}}\n",
    "\\newcommand{\\iinttna}[2]{\\oldiint\\!{#1}\\,\\mathrm{d}{#2}}\n",
    "\\def\\iintt{\\@ifstar{\\iintta}{\\iinttna}}\n",
    "% definite integral with bounds but no dx\n",
    "\\newcommand{\\diintna}[3]{\\oldiint_{#1}^{#2}\\!{#3}}\n",
    "\\newcommand{\\diinta}[3]{\\oldiint_{#1}^{#2}\\!\\paren{#3}}\n",
    "\\def\\diint{\\@ifstar{\\diinta}{\\diintna}}\n",
    "% definite integral\n",
    "\\newcommand{\\diinttna}[4]{\\oldiint_{#1}^{#2}\\!{#3}\\,\\mathrm{d}{#4}}\n",
    "\\newcommand{\\diintta}[4]{\\oldiint_{#1}^{#2}\\!\\paren{#3}\\,\\mathrm{d}{#4}}\n",
    "\\def\\diintt{\\@ifstar{\\diintta}{\\diinttna}}\n",
    "% define macro for bounds\n",
    "\\newcommand{\\evalb}[3]{\\left. #1 \\right\\rvert_{#2}^{#3}}\n",
    "\\newcommand{\\evall}[2]{\\left. #1 \\right\\rvert_{#2}}\n",
    "\\def\\eval{\\@ifstar{\\evalb}{\\evall}}\n",
    "$$"
   ]
  },
  {
   "cell_type": "markdown",
   "metadata": {},
   "source": [
    "Conservation Law\n",
    "$$ \\v{q}_t + \\v{f}(\\v{q})_x = 0 $$\n"
   ]
  },
  {
   "cell_type": "code",
   "execution_count": 20,
   "metadata": {},
   "outputs": [],
   "source": [
    "load(\"GeneralizedShallowWaterVariables.sage\")\n",
    "set_generalized_shallow_water_variables(0)\n",
    "# path substitution\n",
    "xi = var('xi')\n",
    "path_subs = {z_1: Z_1_im1 + (Z_1_i - Z_1_im1) * xi, z_2: Z_2_im1 + (Z_2_i - Z_2_im1) * xi}\n",
    "\n",
    "# integrate over path\n",
    "C = f_z_j.subs(path_subs).apply_map(lambda e: integrate(e, xi, 0, 1))\n",
    "B = q_z_j.subs(path_subs).apply_map(lambda e: integrate(e, xi, 0, 1))\n",
    "A = C*B.inverse()\n",
    "\n",
    "assert(A[0, 0] == 0)\n",
    "assert(A[0, 1] == 1)\n",
    "# A[1, 1] = 2 u_bar\n",
    "u_bar = (1/2*A[1, 1].subs(Z_i_to_P_i).subs(Z_im1_to_P_im1)).simplify_full()\n",
    "# A[1, 0] = gh - u^2\n",
    "h_bar = ((A[1, 0] + u_bar^2)/g).subs(Z_i_to_P_i).subs(Z_im1_to_P_im1).simplify_full()\n",
    "\n",
    "# check property A*(Q_i - Q_im1) == f_q(Q_i) - f_q(Q_im1)\n",
    "test = (A.subs(Z_i_to_Q_i).subs(Z_im1_to_Q_im1)*(Q_i - Q_im1) - (f_q.subs(q_to_Q_i) - f_q.subs(q_to_Q_im1))).simplify_full()\n",
    "assert(test[0] == 0)\n",
    "assert(test[1] == 0)"
   ]
  },
  {
   "cell_type": "code",
   "execution_count": 23,
   "metadata": {},
   "outputs": [
    {
     "data": {
      "text/plain": [
       "(sqrt(H_i)*U_i + sqrt(H_im1)*U_im1)/(sqrt(H_i) + sqrt(H_im1))"
      ]
     },
     "execution_count": 23,
     "metadata": {},
     "output_type": "execute_result"
    }
   ],
   "source": [
    "u_bar"
   ]
  },
  {
   "cell_type": "code",
   "execution_count": 22,
   "metadata": {},
   "outputs": [
    {
     "data": {
      "text/plain": [
       "1/2*H_i + 1/2*H_im1"
      ]
     },
     "execution_count": 22,
     "metadata": {},
     "output_type": "execute_result"
    }
   ],
   "source": [
    "h_bar"
   ]
  },
  {
   "cell_type": "code",
   "execution_count": 25,
   "metadata": {},
   "outputs": [],
   "source": [
    "load(\"GeneralizedShallowWaterVariables.sage\")\n",
    "set_generalized_shallow_water_variables(1)\n",
    "\n",
    "# path substitution\n",
    "xi = var('xi')\n",
    "path_subs = {z_1: Z_1_im1 + (Z_1_i - Z_1_im1) * xi, z_2: Z_2_im1 + (Z_2_i - Z_2_im1) * xi, z_3: Z_3_im1 + (Z_3_i - Z_3_im1) * xi}\n",
    "\n",
    "# integrate over path\n",
    "C = f_z_j.subs(path_subs).apply_map(lambda e: integrate(e, xi, 0, 1))\n",
    "B = q_z_j.subs(path_subs).apply_map(lambda e: integrate(e, xi, 0, 1))\n",
    "A = C*B.inverse()\n",
    "\n",
    "# f_q'(q(p)) =\n",
    "#[                  0                   1                   0]\n",
    "#[g*h - 1/3*s^2 - u^2                 2*u               2/3*s]\n",
    "#[             -2*s*u                 2*s                 2*u]\n",
    "# find Roe averages and assert that A = f_q(q_bar) at least initially\n",
    "assert(A[0, 0] == 0)\n",
    "assert(A[0, 1] == 1)\n",
    "assert(A[0, 2] == 0)\n",
    "u_bar = (1/2*A[1, 1].subs(Z_i_to_P_i).subs(Z_im1_to_P_im1)).simplify_full()\n",
    "s_bar = (3/2*A[1, 2].subs(Z_i_to_P_i).subs(Z_im1_to_P_im1)).simplify_full()\n",
    "h_bar = ((A[1,0].subs(Z_i_to_P_i).subs(Z_im1_to_P_im1) + u_bar^2 + 1/3*s_bar^2)/g).simplify_full()\n",
    "assert((A[2, 0].subs(Z_i_to_P_i).subs(Z_im1_to_P_im1) + 2*s_bar*u_bar).simplify_full() == 0)\n",
    "assert(A[2, 1].subs(Z_i_to_P_i).subs(Z_im1_to_P_im1) - 2*s_bar == 0)\n",
    "assert(A[2, 2].subs(Z_i_to_P_i).subs(Z_im1_to_P_im1) - 2*u_bar == 0)\n",
    "\n",
    "# Modify A to match quasilinear form with nonconservative term\n",
    "# Change A[2, 2] to u instead of 2*u\n",
    "A[2, 2] = 1/2*A[2, 2]\n",
    "\n",
    "# check property A*(Q_i - Q_im1) == f_q(Q_i) - f_q(Q_im1)\n",
    "test = (A.subs(Z_i_to_Q_i).subs(Z_im1_to_Q_im1)*(Q_i - Q_im1) - (f_q.subs(q_to_Q_i) - f_q.subs(q_to_Q_im1))).simplify_full()\n",
    "assert(test[0] == 0)\n",
    "assert(test[1] == 0)\n",
    "# third equation wont satisfy this property as q_3 is not conserved"
   ]
  },
  {
   "cell_type": "code",
   "execution_count": 26,
   "metadata": {},
   "outputs": [
    {
     "data": {
      "text/plain": [
       "1/2*H_i + 1/2*H_im1"
      ]
     },
     "execution_count": 26,
     "metadata": {},
     "output_type": "execute_result"
    }
   ],
   "source": [
    "h_bar"
   ]
  },
  {
   "cell_type": "code",
   "execution_count": 27,
   "metadata": {},
   "outputs": [
    {
     "data": {
      "text/plain": [
       "(sqrt(H_i)*U_i + sqrt(H_im1)*U_im1)/(sqrt(H_i) + sqrt(H_im1))"
      ]
     },
     "execution_count": 27,
     "metadata": {},
     "output_type": "execute_result"
    }
   ],
   "source": [
    "u_bar"
   ]
  },
  {
   "cell_type": "code",
   "execution_count": 28,
   "metadata": {},
   "outputs": [
    {
     "data": {
      "text/plain": [
       "(sqrt(H_i)*S_i + sqrt(H_im1)*S_im1)/(sqrt(H_i) + sqrt(H_im1))"
      ]
     },
     "execution_count": 28,
     "metadata": {},
     "output_type": "execute_result"
    }
   ],
   "source": [
    "s_bar"
   ]
  },
  {
   "cell_type": "code",
   "execution_count": null,
   "metadata": {},
   "outputs": [],
   "source": []
  }
 ],
 "metadata": {
  "kernelspec": {
   "display_name": "SageMath 9.0",
   "language": "sage",
   "name": "sagemath"
  },
  "language_info": {
   "codemirror_mode": {
    "name": "ipython",
    "version": 3
   },
   "file_extension": ".py",
   "mimetype": "text/x-python",
   "name": "python",
   "nbconvert_exporter": "python",
   "pygments_lexer": "ipython3",
   "version": "3.6.7"
  }
 },
 "nbformat": 4,
 "nbformat_minor": 2
}
