{
 "cells": [
  {
   "cell_type": "markdown",
   "metadata": {},
   "source": [
    "# Roe Approximate Riemann Solver Shallow Water Equations"
   ]
  },
  {
   "cell_type": "markdown",
   "metadata": {},
   "source": [
    "$$\n",
    "\\renewcommand{\\v}[1]{\\mathbf{#1}}\n",
    "% redefine integral commands with inputs\n",
    "% indefinite integral without dx\n",
    "\\let\\oldint\\int\n",
    "\\newcommand{\\inta}[1]{\\oldint\\!\\paren{#1}}\n",
    "\\newcommand{\\intna}[1]{\\oldint\\!{#1}}\n",
    "\\def\\int{\\@ifstar{\\inta}{\\intna}}\n",
    "% indefinite integral with dx\n",
    "\\newcommand{\\intta}[2]{\\oldint\\!\\paren{#1}\\,\\mathrm{d}{#2}}\n",
    "\\newcommand{\\inttna}[2]{\\oldint\\!{#1}\\,\\mathrm{d}{#2}}\n",
    "\\def\\intt{\\@ifstar{\\intta}{\\inttna}}\n",
    "% definite integral with bounds but no dx\n",
    "\\newcommand{\\dintna}[3]{\\oldint_{#1}^{#2}\\!{#3}}\n",
    "\\newcommand{\\dinta}[3]{\\oldint_{#1}^{#2}\\!\\paren{#3}}\n",
    "\\def\\dint{\\@ifstar{\\dinta}{\\dintna}}\n",
    "% definite integral\n",
    "\\newcommand{\\dinttna}[4]{\\oldint_{#1}^{#2}\\!{#3}\\,\\mathrm{d}{#4}}\n",
    "\\newcommand{\\dintta}[4]{\\oldint_{#1}^{#2}\\!\\paren{#3}\\,\\mathrm{d}{#4}}\n",
    "\\def\\dintt{\\@ifstar{\\dintta}{\\dinttna}}\n",
    "\\let\\oldiint\\iint\n",
    "\\newcommand{\\iinta}[1]{\\oldiint\\!\\paren{#1}}\n",
    "\\newcommand{\\iintna}[1]{\\oldiint\\!{#1}}\n",
    "\\def\\iint{\\@ifstar{\\iinta}{\\iintna}}\n",
    "% indefinite integral with dx\n",
    "\\newcommand{\\iintta}[2]{\\oldiint\\!\\paren{#1}\\,\\mathrm{d}{#2}}\n",
    "\\newcommand{\\iinttna}[2]{\\oldiint\\!{#1}\\,\\mathrm{d}{#2}}\n",
    "\\def\\iintt{\\@ifstar{\\iintta}{\\iinttna}}\n",
    "% definite integral with bounds but no dx\n",
    "\\newcommand{\\diintna}[3]{\\oldiint_{#1}^{#2}\\!{#3}}\n",
    "\\newcommand{\\diinta}[3]{\\oldiint_{#1}^{#2}\\!\\paren{#3}}\n",
    "\\def\\diint{\\@ifstar{\\diinta}{\\diintna}}\n",
    "% definite integral\n",
    "\\newcommand{\\diinttna}[4]{\\oldiint_{#1}^{#2}\\!{#3}\\,\\mathrm{d}{#4}}\n",
    "\\newcommand{\\diintta}[4]{\\oldiint_{#1}^{#2}\\!\\paren{#3}\\,\\mathrm{d}{#4}}\n",
    "\\def\\diintt{\\@ifstar{\\diintta}{\\diinttna}}\n",
    "% define macro for bounds\n",
    "\\newcommand{\\evalb}[3]{\\left. #1 \\right\\rvert_{#2}^{#3}}\n",
    "\\newcommand{\\evall}[2]{\\left. #1 \\right\\rvert_{#2}}\n",
    "\\def\\eval{\\@ifstar{\\evalb}{\\evall}}\n",
    "$$"
   ]
  },
  {
   "cell_type": "markdown",
   "metadata": {},
   "source": [
    "Conservation Law\n",
    "$$ \\v{q}_t + \\v{f}(\\v{q})_x = 0 $$\n"
   ]
  },
  {
   "cell_type": "code",
   "execution_count": 40,
   "metadata": {
    "slideshow": {
     "slide_type": "-"
    }
   },
   "outputs": [],
   "source": [
    "g = var('g')\n",
    "# primitive variables\n",
    "h = var('h')\n",
    "u = var('u')\n",
    "primitive = vector([h, u])\n",
    "p = primitive\n",
    "\n",
    "# f_p(p)\n",
    "flux_primitive = vector([h*u, h*u^2 + 1/2 * g * h^2])\n",
    "f_p = flux_primitive\n",
    "\n",
    "# conserved variables\n",
    "q_1 = var('q_1')\n",
    "q_2 = var('q_2')\n",
    "# q = [q_1, q_2]\n",
    "conserved = vector([q_1, q_2])\n",
    "q = conserved\n",
    "\n",
    "# transform variables\n",
    "z_1 = var('z_1')\n",
    "z_2 = var('z_2')\n",
    "transform = vector([z_1, z_2])\n",
    "z = transform\n",
    "\n",
    "# substitution dictionaries\n",
    "primitive_to_conserved = {h:q_1, u: q_2/q_1}\n",
    "p_to_q = primitive_to_conserved\n",
    "primitive_to_transform = {h:z_1^2, u:z_2/z_1}\n",
    "p_to_z = primitive_to_transform\n",
    "conserved_to_primitive = {q_1:h, q_2: h*u}\n",
    "q_to_p = conserved_to_primitive\n",
    "conserved_to_transform = {q_1:z_1^2, q_2:z_1*z_2}\n",
    "q_to_z = conserved_to_transform\n",
    "transform_to_conserved = {z_1:sqrt(q_1), z_2:q_2/sqrt(q_1)}\n",
    "z_to_q = transform_to_conserved\n",
    "transform_to_primitive = {z_1:sqrt(h), z_2:sqrt(h)*u}\n",
    "z_to_p = transform_to_primitive\n",
    "\n",
    "# transformation symbolic expressions\n",
    "# p_q(q)\n",
    "primitive_from_conserved = vector([q_1, q_2/q_1])\n",
    "p_q = primitive_from_conserved\n",
    "# p_z(z)\n",
    "primitive_from_transform = vector([z_1^2, z_2/z_1])\n",
    "p_z = primitive_from_transform\n",
    "\n",
    "# q_p(p)\n",
    "conserved_from_primitive = vector([h, h*u])\n",
    "q_p = conserved_from_primitive\n",
    "# q_z(z)\n",
    "conserved_from_transform = vector([z_1^2, z_1*z_2])\n",
    "q_z = conserved_from_transform\n",
    "\n",
    "# z_p(p)\n",
    "transform_from_primitive = vector([sqrt(h), sqrt(h)*u])\n",
    "z_p = transform_from_primitive\n",
    "# z_q(q)\n",
    "transform_from_conserved = vector([sqrt(q_1), q_2/sqrt(q_1)])\n",
    "z_q = transform_from_conserved\n",
    "\n",
    "# transformation jacobians\n",
    "p_q_j = jacobian(p_q, q)\n",
    "p_z_j = jacobian(p_z, z)\n",
    "q_p_j = jacobian(q_p, p)\n",
    "q_z_j = jacobian(q_z, z)\n",
    "z_p_j = jacobian(z_p, p)\n",
    "z_q_j = jacobian(z_q, q)\n",
    "\n",
    "# conserved and transform fluxes\n",
    "flux_conserved = flux_primitive.subs(p_to_q)\n",
    "f_q = flux_conserved\n",
    "flux_transform = flux_primitive.subs(p_to_z)\n",
    "f_z = flux_transform\n",
    "\n",
    "# flux_jacobians\n",
    "flux_primitive_jacobian = jacobian(f_p, p)\n",
    "f_p_j = flux_primitive_jacobian\n",
    "flux_conserved_jacobian = jacobian(f_q, q)\n",
    "f_q_j = flux_conserved_jacobian\n",
    "flux_transform_jacobian = jacobian(f_z, z)\n",
    "f_z_j = flux_transform_jacobian\n",
    "\n",
    "# Riemann Problem\n",
    "# P_i = [H_i, U_i]\n",
    "H_i = var('H_i')\n",
    "U_i = var('U_i')\n",
    "p_to_P_i = {h: H_i, u: U_i}\n",
    "P_i = p.subs(p_to_P_i)\n",
    "# P_im1 = [H_im1, U_im1]\n",
    "H_im1 = var('H_im1')\n",
    "U_im1 = var('U_im1')\n",
    "p_to_P_im1 = {h: H_im1, u: U_im1}\n",
    "P_im1 = p.subs(p_to_P_im1)\n",
    "# Q_i = [Q_1_i, Q_2_i]\n",
    "Q_1_i = var('Q_1_i')\n",
    "Q_2_i = var('Q_2_i')\n",
    "q_to_Q_i = {q_1: Q_1_i, q_2: Q_2_i}\n",
    "Q_i = q.subs(q_to_Q_i)\n",
    "# Q_im1 = [Q_1_im1, Q_2_im1]\n",
    "Q_1_im1 = var('Q_1_im1')\n",
    "Q_2_im1 = var('Q_2_im1')\n",
    "q_to_Q_im1 = {q_1: Q_1_im1, q_2: Q_2_im1}\n",
    "Q_im1 = q.subs(q_to_Q_im1)\n",
    "# Z_i = [Z_1_i, Z_2_i]\n",
    "Z_1_i = var('Z_1_i')\n",
    "Z_2_i = var('Z_2_i')\n",
    "z_to_Z_i = {z_1: Z_1_i, z_2: Z_2_i}\n",
    "Z_i = z.subs(z_to_Z_i)\n",
    "# Z_im1 = [Z_1_im1, Z_2_im1]\n",
    "Z_1_im1 = var('Z_1_im1')\n",
    "Z_2_im1 = var('Z_2_im1')\n",
    "z_to_Z_im1 = {z_1: Z_1_im1, z_2: Z_2_im1}\n",
    "Z_im1 = z.subs(z_to_Z_im1)\n",
    "\n",
    "P_i_to_Q_i = {H_i: Q_1_i, U_i: Q_2_i/Q_1_i}\n",
    "P_i_to_Z_i = {H_i: Z_1_i^2, U_i: Z_2_i/Z_1_i}\n",
    "Q_i_to_P_i = {Q_1_i: H_i, Q_2_i: H_i*U_i}\n",
    "Q_i_to_Z_i = {Q_1_i: Z_1_i^2, Q_2_i:Z_1_i*Z_2_i}\n",
    "Z_i_to_Q_i = {Z_1_i:sqrt(Q_1_i), Z_2_i: Q_2_i/sqrt(Q_1_i)}\n",
    "Z_i_to_P_i = {Z_1_i:sqrt(H_i), Z_2_i: sqrt(H_i)*U_i}\n",
    "\n",
    "P_im1_to_Q_im1 = {H_im1: Q_1_im1, U_im1: Q_2_im1/Q_1_im1}\n",
    "P_im1_to_Z_im1 = {H_im1: Z_1_im1^2, U_im1: Z_2_im1/Z_1_im1}\n",
    "Q_im1_to_P_im1 = {Q_1_im1: H_im1, Q_2_im1: H_im1*U_im1}\n",
    "Q_im1_to_Z_im1 = {Q_1_im1: Z_1_im1^2, Q_2_im1: Z_1_im1*Z_2_im1}\n",
    "Z_im1_to_Q_im1 = {Z_1_im1:sqrt(Q_1_im1), Z_2_im1: Q_2_im1/sqrt(Q_1_im1)}\n",
    "Z_im1_to_P_im1 = {Z_1_im1:sqrt(H_im1), Z_2_im1: sqrt(H_im1)*U_im1}\n",
    "\n",
    "# path substitution\n",
    "xi = var('xi')\n",
    "path_subs = {z_1: Z_1_im1 + (Z_1_i - Z_1_im1) * xi, z_2: Z_2_im1 + (Z_2_i - Z_2_im1) * xi}\n",
    "\n",
    "# integrate over path\n",
    "C = f_z_j.subs(path_subs).apply_map(lambda e: integrate(e, xi, 0, 1))\n",
    "B = q_z_j.subs(path_subs).apply_map(lambda e: integrate(e, xi, 0, 1))\n",
    "A = C*B.inverse()\n",
    "\n",
    "assert(A[0, 0] == 0)\n",
    "assert(A[0, 1] == 1)\n",
    "# A[1, 1] = 2 u_bar\n",
    "u_bar = (1/2*A[1, 1].subs(Z_i_to_P_i).subs(Z_im1_to_P_im1)).simplify_full()\n",
    "# A[1, 0] = gh - u^2\n",
    "h_bar = ((A[1, 0] + u_bar^2)/g).subs(Z_i_to_P_i).subs(Z_im1_to_P_im1).simplify_full()\n",
    "\n",
    "# check property A*(Q_i - Q_im1) == f_q(Q_i) - f_q(Q_im1)\n",
    "test = (A.subs(Z_i_to_Q_i).subs(Z_im1_to_Q_im1)*(Q_i - Q_im1) - (f_q.subs(q_to_Q_i) - f_q.subs(q_to_Q_im1))).simplify_full()\n",
    "assert(test[0] == 0)\n",
    "assert(test[1] == 0)"
   ]
  },
  {
   "cell_type": "code",
   "execution_count": 30,
   "metadata": {},
   "outputs": [
    {
     "data": {
      "text/plain": [
       "(sqrt(H_i)*U_i + sqrt(H_im1)*U_im1)/(sqrt(H_i) + sqrt(H_im1))"
      ]
     },
     "execution_count": 30,
     "metadata": {},
     "output_type": "execute_result"
    }
   ],
   "source": [
    "u_bar"
   ]
  },
  {
   "cell_type": "code",
   "execution_count": 31,
   "metadata": {},
   "outputs": [
    {
     "data": {
      "text/plain": [
       "1/2*H_i + 1/2*H_im1"
      ]
     },
     "execution_count": 31,
     "metadata": {},
     "output_type": "execute_result"
    }
   ],
   "source": [
    "h_bar"
   ]
  },
  {
   "cell_type": "code",
   "execution_count": 16,
   "metadata": {},
   "outputs": [],
   "source": [
    "g = var('g')\n",
    "# primitive variables\n",
    "h = var('h')\n",
    "u = var('u')\n",
    "s = var('s')\n",
    "primitive = vector([h, u, s])\n",
    "p = primitive\n",
    "\n",
    "# f_p(p)\n",
    "flux_primitive = vector([h*u, h*u^2 + 1/2 * g * h^2 + 1/3 * h * s^2, 2*h*u*s])\n",
    "f_p = flux_primitive\n",
    "\n",
    "# conserved variables\n",
    "q_1 = var('q_1')\n",
    "q_2 = var('q_2')\n",
    "q_3 = var('q_3')\n",
    "# q = [q_1, q_2]\n",
    "conserved = vector([q_1, q_2, q_3])\n",
    "q = conserved\n",
    "\n",
    "# transform variables\n",
    "z_1 = var('z_1')\n",
    "z_2 = var('z_2')\n",
    "z_3 = var('z_3')\n",
    "transform = vector([z_1, z_2, z_3])\n",
    "z = transform\n",
    "\n",
    "# substitution dictionaries\n",
    "primitive_to_conserved = {h:q_1, u: q_2/q_1, s: q_3/q_1}\n",
    "p_to_q = primitive_to_conserved\n",
    "primitive_to_transform = {h:z_1^2, u:z_2/z_1, s:z_3/z_1}\n",
    "p_to_z = primitive_to_transform\n",
    "conserved_to_primitive = {q_1:h, q_2: h*u, q_3: h*s}\n",
    "q_to_p = conserved_to_primitive\n",
    "conserved_to_transform = {q_1:z_1^2, q_2:z_1*z_2, q_3:z_1*z_3}\n",
    "q_to_z = conserved_to_transform\n",
    "transform_to_conserved = {z_1:sqrt(q_1), z_2:q_2/sqrt(q_1), z_3:q_3/sqrt(q_1)}\n",
    "z_to_q = transform_to_conserved\n",
    "transform_to_primitive = {z_1:sqrt(h), z_2:sqrt(h)*u, z_3:sqrt(h)*s}\n",
    "z_to_p = transform_to_primitive\n",
    "\n",
    "# transformation symbolic expressions\n",
    "# p(q)\n",
    "primitive_from_conserved = vector([q_1, q_2/q_1, q_3/q_1])\n",
    "p_q = primitive_from_conserved\n",
    "# p(z)\n",
    "primitive_from_transform = vector([z_1^2, z_2/z_1, z_3/z_1])\n",
    "p_z = primitive_from_transform\n",
    "\n",
    "# q(p)\n",
    "conserved_from_primitive = vector([h, h*u, h*s])\n",
    "q_p = conserved_from_primitive\n",
    "# q(z)\n",
    "conserved_from_transform = vector([z_1^2, z_1*z_2, z_1*z_3])\n",
    "q_z = conserved_from_transform\n",
    "\n",
    "# z(p)\n",
    "transform_from_primitive = vector([sqrt(h), sqrt(h)*u, sqrt(h)*s])\n",
    "z_p = transform_from_primitive\n",
    "# z(q)\n",
    "transform_from_conserved = vector([sqrt(q_1), q_2/sqrt(q_1), q_3/sqrt(q_1)])\n",
    "z_q = transform_from_conserved\n",
    "\n",
    "# transformation jacobians\n",
    "p_q_j = jacobian(p_q, q)\n",
    "p_z_j = jacobian(p_z, z)\n",
    "q_p_j = jacobian(q_p, p)\n",
    "q_z_j = jacobian(q_z, z)\n",
    "z_p_j = jacobian(z_p, p)\n",
    "z_q_j = jacobian(z_q, q)\n",
    "\n",
    "# conserved and transform fluxes\n",
    "flux_conserved = flux_primitive.subs(p_to_q)\n",
    "f_q = flux_conserved\n",
    "flux_transform = flux_primitive.subs(p_to_z)\n",
    "f_z = flux_transform\n",
    "\n",
    "# flux_jacobians\n",
    "flux_primitive_jacobian = jacobian(f_p, p)\n",
    "f_p_j = flux_primitive_jacobian\n",
    "flux_conserved_jacobian = jacobian(f_q, q)\n",
    "f_q_j = flux_conserved_jacobian\n",
    "flux_transform_jacobian = jacobian(f_z, z)\n",
    "f_z_j = flux_transform_jacobian\n",
    "\n",
    "# Riemann Problem\n",
    "# P_i = [H_i, U_i]\n",
    "H_i = var('H_i')\n",
    "U_i = var('U_i')\n",
    "S_i = var('S_i')\n",
    "p_to_P_i = {h: H_i, u: U_i, s: S_i}\n",
    "P_i = p.subs(p_to_P_i)\n",
    "# P_im1 = [H_im1, U_im1]\n",
    "H_im1 = var('H_im1')\n",
    "U_im1 = var('U_im1')\n",
    "S_im1 = var('S_im1')\n",
    "p_to_P_im1 = {h: H_im1, u: U_im1, s: S_im1}\n",
    "P_im1 = p.subs(p_to_P_im1)\n",
    "# Q_i = [Q_1_i, Q_2_i]\n",
    "Q_1_i = var('Q_1_i')\n",
    "Q_2_i = var('Q_2_i')\n",
    "Q_3_i = var('Q_3_i')\n",
    "q_to_Q_i = {q_1: Q_1_i, q_2: Q_2_i, q_3: Q_3_i}\n",
    "Q_i = q.subs(q_to_Q_i)\n",
    "# Q_im1 = [Q_1_im1, Q_2_im1]\n",
    "Q_1_im1 = var('Q_1_im1')\n",
    "Q_2_im1 = var('Q_2_im1')\n",
    "Q_3_im1 = var('Q_3_im1')\n",
    "q_to_Q_im1 = {q_1: Q_1_im1, q_2: Q_2_im1, q_3: Q_3_im1}\n",
    "Q_im1 = q.subs(q_to_Q_im1)\n",
    "# Z_i = [Z_1_i, Z_2_i]\n",
    "Z_1_i = var('Z_1_i')\n",
    "Z_2_i = var('Z_2_i')\n",
    "Z_3_i = var('Z_3_i')\n",
    "z_to_Z_i = {z_1: Z_1_i, z_2: Z_2_i, z_3: Z_3_i}\n",
    "Z_i = z.subs(z_to_Z_i)\n",
    "# Z_im1 = [Z_1_im1, Z_2_im1]\n",
    "Z_1_im1 = var('Z_1_im1')\n",
    "Z_2_im1 = var('Z_2_im1')\n",
    "Z_3_im1 = var('Z_3_im1')\n",
    "z_to_Z_im1 = {z_1: Z_1_im1, z_2: Z_2_im1, z_3: Z_3_im1}\n",
    "Z_im1 = z.subs(z_to_Z_im1)\n",
    "\n",
    "P_i_to_Q_i = {H_i: Q_1_i, U_i: Q_2_i/Q_1_i, S_i: Q_3_i/Q_1_i}\n",
    "P_i_to_Z_i = {H_i: Z_1_i^2, U_i: Z_2_i/Z_1_i, S_i: Z_3_i/Z_1_i}\n",
    "Q_i_to_P_i = {Q_1_i: H_i, Q_2_i: H_i*U_i, Q_3_i: H_i*S_i}\n",
    "Q_i_to_Z_i = {Q_1_i: Z_1_i^2, Q_2_i: Z_1_i*Z_2_i, Q_3_i: Z_1_i*Z_3_i}\n",
    "Z_i_to_Q_i = {Z_1_i: sqrt(Q_1_i), Z_2_i: Q_2_i/sqrt(Q_1_i), Z_3_i: Q_3_i/sqrt(Q_1_i)}\n",
    "Z_i_to_P_i = {Z_1_i: sqrt(H_i), Z_2_i: sqrt(H_i)*U_i, Z_3_i: sqrt(H_i)*S_i}\n",
    "\n",
    "P_im1_to_Q_im1 = {H_im1: Q_1_im1, U_im1: Q_2_im1/Q_1_im1, S_im1: Q_3_im1/Q_1_im1}\n",
    "P_im1_to_Z_im1 = {H_im1: Z_1_im1^2, U_im1: Z_2_im1/Z_1_im1, S_im1: Z_3_im1/Z_1_im1}\n",
    "Q_im1_to_P_im1 = {Q_1_im1: H_im1, Q_2_im1: H_im1*U_im1, Q_3_im1: H_im1*S_im1}\n",
    "Q_im1_to_Z_im1 = {Q_1_im1: Z_1_im1^2, Q_2_im1: Z_1_im1*Z_2_im1, Q_3_im1: Z_1_im1*Z_3_im1}\n",
    "Z_im1_to_Q_im1 = {Z_1_im1:sqrt(Q_1_im1), Z_2_im1: Q_2_im1/sqrt(Q_1_im1), Z_3_im1: Q_3_im1/sqrt(Q_1_im1)}\n",
    "Z_im1_to_P_im1 = {Z_1_im1:sqrt(H_im1), Z_2_im1: sqrt(H_im1)*U_im1, Z_3_im1: sqrt(H_im1)*S_im1}\n",
    "\n",
    "# path substitution\n",
    "xi = var('xi')\n",
    "path_subs = {z_1: Z_1_im1 + (Z_1_i - Z_1_im1) * xi, z_2: Z_2_im1 + (Z_2_i - Z_2_im1) * xi, z_3: Z_3_im1 + (Z_3_i - Z_3_im1) * xi}\n",
    "\n",
    "# integrate over path\n",
    "C = f_z_j.subs(path_subs).apply_map(lambda e: integrate(e, xi, 0, 1))\n",
    "B = q_z_j.subs(path_subs).apply_map(lambda e: integrate(e, xi, 0, 1))\n",
    "A = C*B.inverse()\n",
    "\n",
    "# f_q'(q(p)) =\n",
    "#[                  0                   1                   0]\n",
    "#[g*h - 1/3*s^2 - u^2                 2*u               2/3*s]\n",
    "#[             -2*s*u                 2*s                 2*u]\n",
    "# find Roe averages and assert that A = f_q(q_bar) at least initially\n",
    "assert(A[0, 0] == 0)\n",
    "assert(A[0, 1] == 1)\n",
    "assert(A[0, 2] == 0)\n",
    "u_bar = (1/2*A[1, 1].subs(Z_i_to_P_i).subs(Z_im1_to_P_im1)).simplify_full()\n",
    "s_bar = (3/2*A[1, 2].subs(Z_i_to_P_i).subs(Z_im1_to_P_im1)).simplify_full()\n",
    "h_bar = ((A[1,0].subs(Z_i_to_P_i).subs(Z_im1_to_P_im1) + u_bar^2 + 1/3*s_bar^2)/g).simplify_full()\n",
    "assert((A[2, 0].subs(Z_i_to_P_i).subs(Z_im1_to_P_im1) + 2*s_bar*u_bar).simplify_full() == 0)\n",
    "assert(A[2, 1].subs(Z_i_to_P_i).subs(Z_im1_to_P_im1) - 2*s_bar == 0)\n",
    "assert(A[2, 2].subs(Z_i_to_P_i).subs(Z_im1_to_P_im1) - 2*u_bar == 0)\n",
    "\n",
    "# Modify A to match quasilinear form with nonconservative term\n",
    "# Change A[2, 2] to u instead of 2*u\n",
    "A[2, 2] = 1/2*A[2, 2]\n",
    "\n",
    "# check property A*(Q_i - Q_im1) == f_q(Q_i) - f_q(Q_im1)\n",
    "test = (A.subs(Z_i_to_Q_i).subs(Z_im1_to_Q_im1)*(Q_i - Q_im1) - (f_q.subs(q_to_Q_i) - f_q.subs(q_to_Q_im1))).simplify_full()\n",
    "assert(test[0] == 0)\n",
    "assert(test[1] == 0)\n",
    "# third equation wont satisfy this property as q_3 is not conserved"
   ]
  },
  {
   "cell_type": "code",
   "execution_count": 5,
   "metadata": {},
   "outputs": [
    {
     "data": {
      "text/plain": [
       "1/2*H_i + 1/2*H_im1"
      ]
     },
     "execution_count": 5,
     "metadata": {},
     "output_type": "execute_result"
    }
   ],
   "source": [
    "h_bar"
   ]
  },
  {
   "cell_type": "code",
   "execution_count": 6,
   "metadata": {},
   "outputs": [
    {
     "data": {
      "text/plain": [
       "(sqrt(H_i)*U_i + sqrt(H_im1)*U_im1)/(sqrt(H_i) + sqrt(H_im1))"
      ]
     },
     "execution_count": 6,
     "metadata": {},
     "output_type": "execute_result"
    }
   ],
   "source": [
    "u_bar"
   ]
  },
  {
   "cell_type": "code",
   "execution_count": 7,
   "metadata": {},
   "outputs": [
    {
     "data": {
      "text/plain": [
       "(sqrt(H_i)*S_i + sqrt(H_im1)*S_im1)/(sqrt(H_i) + sqrt(H_im1))"
      ]
     },
     "execution_count": 7,
     "metadata": {},
     "output_type": "execute_result"
    }
   ],
   "source": [
    "s_bar"
   ]
  },
  {
   "cell_type": "code",
   "execution_count": 17,
   "metadata": {},
   "outputs": [
    {
     "data": {
      "text/plain": [
       "-((((3*Q_1_i*Q_1_im1 + Q_1_im1^2)*Q_2_i + (Q_1_i^2 + 3*Q_1_i*Q_1_im1)*Q_2_im1)*Q_3_i - ((3*Q_1_i*Q_1_im1 + Q_1_im1^2)*Q_2_i + (Q_1_i^2 + 3*Q_1_i*Q_1_im1)*Q_2_im1)*Q_3_im1)*sqrt(Q_1_i)*sqrt(Q_1_im1) + ((Q_1_i^2*Q_1_im1 + 3*Q_1_i*Q_1_im1^2)*Q_2_i + (3*Q_1_i^2*Q_1_im1 + Q_1_i*Q_1_im1^2)*Q_2_im1)*Q_3_i - ((Q_1_i^2*Q_1_im1 + 3*Q_1_i*Q_1_im1^2)*Q_2_i + (3*Q_1_i^2*Q_1_im1 + Q_1_i*Q_1_im1^2)*Q_2_im1)*Q_3_im1)/(Q_1_i^3*Q_1_im1 + 6*Q_1_i^2*Q_1_im1^2 + Q_1_i*Q_1_im1^3 + 4*(Q_1_i^2*Q_1_im1 + Q_1_i*Q_1_im1^2)*sqrt(Q_1_i)*sqrt(Q_1_im1))"
      ]
     },
     "execution_count": 17,
     "metadata": {},
     "output_type": "execute_result"
    }
   ],
   "source": [
    "test[2].simplify()"
   ]
  },
  {
   "cell_type": "code",
   "execution_count": null,
   "metadata": {},
   "outputs": [],
   "source": []
  }
 ],
 "metadata": {
  "kernelspec": {
   "display_name": "SageMath 9.0",
   "language": "sage",
   "name": "sagemath"
  },
  "language_info": {
   "codemirror_mode": {
    "name": "ipython",
    "version": 3
   },
   "file_extension": ".py",
   "mimetype": "text/x-python",
   "name": "python",
   "nbconvert_exporter": "python",
   "pygments_lexer": "ipython3",
   "version": "3.6.7"
  }
 },
 "nbformat": 4,
 "nbformat_minor": 2
}
