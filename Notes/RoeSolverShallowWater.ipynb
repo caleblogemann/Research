{
 "cells": [
  {
   "cell_type": "markdown",
   "metadata": {},
   "source": [
    "# Roe Approximate Riemann Solver Shallow Water Equations"
   ]
  },
  {
   "cell_type": "markdown",
   "metadata": {},
   "source": [
    "$$\n",
    "\\renewcommand{\\v}[1]{\\mathbf{#1}}\n",
    "% redefine integral commands with inputs\n",
    "% indefinite integral without dx\n",
    "\\let\\oldint\\int\n",
    "\\newcommand{\\inta}[1]{\\oldint\\!\\paren{#1}}\n",
    "\\newcommand{\\intna}[1]{\\oldint\\!{#1}}\n",
    "\\def\\int{\\@ifstar{\\inta}{\\intna}}\n",
    "% indefinite integral with dx\n",
    "\\newcommand{\\intta}[2]{\\oldint\\!\\paren{#1}\\,\\mathrm{d}{#2}}\n",
    "\\newcommand{\\inttna}[2]{\\oldint\\!{#1}\\,\\mathrm{d}{#2}}\n",
    "\\def\\intt{\\@ifstar{\\intta}{\\inttna}}\n",
    "% definite integral with bounds but no dx\n",
    "\\newcommand{\\dintna}[3]{\\oldint_{#1}^{#2}\\!{#3}}\n",
    "\\newcommand{\\dinta}[3]{\\oldint_{#1}^{#2}\\!\\paren{#3}}\n",
    "\\def\\dint{\\@ifstar{\\dinta}{\\dintna}}\n",
    "% definite integral\n",
    "\\newcommand{\\dinttna}[4]{\\oldint_{#1}^{#2}\\!{#3}\\,\\mathrm{d}{#4}}\n",
    "\\newcommand{\\dintta}[4]{\\oldint_{#1}^{#2}\\!\\paren{#3}\\,\\mathrm{d}{#4}}\n",
    "\\def\\dintt{\\@ifstar{\\dintta}{\\dinttna}}\n",
    "\\let\\oldiint\\iint\n",
    "\\newcommand{\\iinta}[1]{\\oldiint\\!\\paren{#1}}\n",
    "\\newcommand{\\iintna}[1]{\\oldiint\\!{#1}}\n",
    "\\def\\iint{\\@ifstar{\\iinta}{\\iintna}}\n",
    "% indefinite integral with dx\n",
    "\\newcommand{\\iintta}[2]{\\oldiint\\!\\paren{#1}\\,\\mathrm{d}{#2}}\n",
    "\\newcommand{\\iinttna}[2]{\\oldiint\\!{#1}\\,\\mathrm{d}{#2}}\n",
    "\\def\\iintt{\\@ifstar{\\iintta}{\\iinttna}}\n",
    "% definite integral with bounds but no dx\n",
    "\\newcommand{\\diintna}[3]{\\oldiint_{#1}^{#2}\\!{#3}}\n",
    "\\newcommand{\\diinta}[3]{\\oldiint_{#1}^{#2}\\!\\paren{#3}}\n",
    "\\def\\diint{\\@ifstar{\\diinta}{\\diintna}}\n",
    "% definite integral\n",
    "\\newcommand{\\diinttna}[4]{\\oldiint_{#1}^{#2}\\!{#3}\\,\\mathrm{d}{#4}}\n",
    "\\newcommand{\\diintta}[4]{\\oldiint_{#1}^{#2}\\!\\paren{#3}\\,\\mathrm{d}{#4}}\n",
    "\\def\\diintt{\\@ifstar{\\diintta}{\\diinttna}}\n",
    "% define macro for bounds\n",
    "\\newcommand{\\evalb}[3]{\\left. #1 \\right\\rvert_{#2}^{#3}}\n",
    "\\newcommand{\\evall}[2]{\\left. #1 \\right\\rvert_{#2}}\n",
    "\\def\\eval{\\@ifstar{\\evalb}{\\evall}}\n",
    "$$"
   ]
  },
  {
   "cell_type": "markdown",
   "metadata": {},
   "source": [
    "Conservation Law\n",
    "$$ \\v{q}_t + \\v{f}(\\v{q})_x = 0 $$\n"
   ]
  },
  {
   "cell_type": "code",
   "execution_count": 9,
   "metadata": {
    "slideshow": {
     "slide_type": "-"
    }
   },
   "outputs": [],
   "source": [
    "g = var('g')\n",
    "# primitive variables\n",
    "h = var('h')\n",
    "u = var('u')\n",
    "primitive = vector([h, u])\n",
    "p = primitive\n",
    "\n",
    "# f_p(p)\n",
    "flux_primitive = vector([h*u, h*u^2 + 1/2 * g * h^2])\n",
    "f_p = flux_primitive\n",
    "\n",
    "# conserved variables\n",
    "q1 = var('q_1')\n",
    "q2 = var('q_2')\n",
    "# q = [q_1, q_2]\n",
    "conserved = vector([q1, q2])\n",
    "q = conserved\n",
    "\n",
    "# transform variables\n",
    "z1 = var('z_1')\n",
    "z2 = var('z_2')\n",
    "transform = vector([z1, z2])\n",
    "z = transform\n",
    "\n",
    "# substitution dictionaries\n",
    "primitive_to_conserved = {h:q1, u: q2/q1}\n",
    "p_to_q = primitive_to_conserved\n",
    "primitive_to_transform = {h:z1^2, u:z2/z1}\n",
    "p_to_z = primitive_to_transform\n",
    "conserved_to_primitive = {q1:h, q2: h*u}\n",
    "q_to_p = conserved_to_primitive\n",
    "conserved_to_transform = {q1:z1^2, q2:z1*z2}\n",
    "q_to_z = conserved_to_transform\n",
    "transform_to_conserved = {z1:sqrt(q1), z2:q2/sqrt(q1)}\n",
    "z_to_q = transform_to_conserved\n",
    "transform_to_primitive = {z1:sqrt(h), z2:sqrt(h)*u}\n",
    "z_to_p = transform_to_primitive\n",
    "\n",
    "\n",
    "# transformation symbolic expressions\n",
    "# p(q)\n",
    "primitive_from_conserved = vector([q1, q2/q1])\n",
    "p_q = primitive_from_conserved\n",
    "# p(z)\n",
    "primitive_from_transform = vector([z1^2, z2/z1])\n",
    "p_z = primitive_from_transform\n",
    "\n",
    "# q(p)\n",
    "conserved_from_primitive = vector([h, h*u])\n",
    "q_p = conserved_from_primitive\n",
    "# q(z)\n",
    "conserved_from_transform = vector([z1^2, z1*z2])\n",
    "q_z = conserved_from_transform\n",
    "\n",
    "# z(p)\n",
    "transform_from_primitive = vector([sqrt(h), sqrt(h)*u])\n",
    "z_p = transform_from_primitive\n",
    "# z(q)\n",
    "transform_from_conserved = vector([sqrt(q1), q2/sqrt(q1)])\n",
    "z_q = transform_from_conserved\n",
    "\n",
    "# transformation jacobians\n",
    "p_q_j = jacobian(p_q, q)\n",
    "p_z_j = jacobian(p_z, z)\n",
    "q_p_j = jacobian(q_p, p)\n",
    "q_z_j = jacobian(q_z, z)\n",
    "z_p_j = jacobian(z_p, p)\n",
    "z_q_j = jacobian(z_q, q)\n",
    "\n",
    "flux_conserved = flux_primitive.subs(p_to_q)\n",
    "f_q = flux_conserved\n",
    "flux_transform = flux_primitive.subs(p_to_z)\n",
    "f_z = flux_transform\n",
    "\n",
    "# flux_jacobians\n",
    "flux_primitive_jacobian = jacobian(f_p, p)\n",
    "f_p_j = flux_primitive_jacobian\n",
    "flux_conserved_jacobian = jacobian(f_q, q)\n",
    "f_q_j = flux_conserved_jacobian\n",
    "flux_transform_jacobian = jacobian(f_z, z)\n",
    "f_z_j = flux_transform_jacobian"
   ]
  },
  {
   "cell_type": "code",
   "execution_count": 4,
   "metadata": {},
   "outputs": [
    {
     "data": {
      "text/plain": [
       "[        0         1]\n",
       "[g*h - u^2       2*u]"
      ]
     },
     "execution_count": 4,
     "metadata": {},
     "output_type": "execute_result"
    }
   ],
   "source": []
  },
  {
   "cell_type": "code",
   "execution_count": 8,
   "metadata": {},
   "outputs": [
    {
     "data": {
      "text/plain": [
       "(h, u)"
      ]
     },
     "execution_count": 8,
     "metadata": {},
     "output_type": "execute_result"
    }
   ],
   "source": []
  },
  {
   "cell_type": "code",
   "execution_count": 4,
   "metadata": {},
   "outputs": [
    {
     "data": {
      "text/plain": [
       "(z_1*z_2, 1/2*g*z_1^4 + z_2^2)"
      ]
     },
     "execution_count": 4,
     "metadata": {},
     "output_type": "execute_result"
    }
   ],
   "source": [
    "flux_transform"
   ]
  },
  {
   "cell_type": "code",
   "execution_count": 5,
   "metadata": {},
   "outputs": [
    {
     "data": {
      "text/plain": [
       "(h*u, 1/2*g*h^2 + h*u^2)"
      ]
     },
     "execution_count": 5,
     "metadata": {},
     "output_type": "execute_result"
    }
   ],
   "source": [
    "flux_primitive"
   ]
  },
  {
   "cell_type": "code",
   "execution_count": null,
   "metadata": {},
   "outputs": [],
   "source": []
  }
 ],
 "metadata": {
  "kernelspec": {
   "display_name": "SageMath 9.0",
   "language": "sage",
   "name": "sagemath"
  },
  "language_info": {
   "codemirror_mode": {
    "name": "ipython",
    "version": 3
   },
   "file_extension": ".py",
   "mimetype": "text/x-python",
   "name": "python",
   "nbconvert_exporter": "python",
   "pygments_lexer": "ipython3",
   "version": "3.7.6"
  }
 },
 "nbformat": 4,
 "nbformat_minor": 2
}
