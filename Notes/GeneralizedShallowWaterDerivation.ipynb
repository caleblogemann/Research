{
 "cells": [
  {
   "cell_type": "code",
   "execution_count": 1,
   "metadata": {},
   "outputs": [],
   "source": [
    "t, x, y, z, zeta = var('t x y z zeta')\n",
    "g, e_x, e_y, e_z, rho, nu, lam = var('g e_x e_y e_z rho nu lam')\n",
    "h = function('h', nargs=3)(t, x, y)\n",
    "h_b = function('h_b', nargs=3)(t, x, y)\n",
    "u = function('u', nargs=4)(t, x, y, z)\n",
    "v = function('v', nargs=4)(t, x, y, z)\n",
    "w = function('w', nargs=4)(t, x, y, z)\n",
    "zeta_to_z(t, x, y, zeta) = h(t, x, y) * zeta + h_b(t, x, y)\n",
    "z_to_zeta(t, x, y, z) = (z - h_b(t, x, y)) / h(t, x, y)\n",
    "utilde(t, x, y, zeta) = u(t, x, y, zeta_to_z(t, x, y, zeta))\n",
    "vtilde(t, x, y, zeta) = v(t, x, y, zeta_to_z(t, x, y, zeta))\n",
    "wtilde(t, x, y, zeta) = w(t, x, y, zeta_to_z(t, x, y, zeta))\n",
    "p(t, x, y, z) = (h(t, x, y) + h_b(t, x, y) - z)*rho*g*e_z\n",
    "ptilde(t, x, y, zeta) = p(t, x, y, zeta_to_z(t, x, y, zeta))"
   ]
  },
  {
   "cell_type": "code",
   "execution_count": 16,
   "metadata": {},
   "outputs": [
    {
     "data": {
      "text/plain": [
       "zeta*diff(h(t, x, y), t)*D[3](u)(t, x, y, zeta*h(t, x, y) + h_b(t, x, y)) + diff(h_b(t, x, y), t)*D[3](u)(t, x, y, zeta*h(t, x, y) + h_b(t, x, y)) + D[0](u)(t, x, y, zeta*h(t, x, y) + h_b(t, x, y))"
      ]
     },
     "execution_count": 16,
     "metadata": {},
     "output_type": "execute_result"
    }
   ],
   "source": [
    "u(t, x, y, zeta_to_z(t, x, y, zeta)).derivative(t).full_simplify()"
   ]
  },
  {
   "cell_type": "code",
   "execution_count": 17,
   "metadata": {},
   "outputs": [
    {
     "data": {
      "text/plain": [
       "h(t, x, y)*D[3](u)(t, x, y, zeta*h(t, x, y) + h_b(t, x, y))"
      ]
     },
     "execution_count": 17,
     "metadata": {},
     "output_type": "execute_result"
    }
   ],
   "source": [
    "u(t, x, y, zeta_to_z(t, x, y, zeta)).derivative(zeta)"
   ]
  },
  {
   "cell_type": "code",
   "execution_count": 3,
   "metadata": {},
   "outputs": [],
   "source": [
    "result = 1/rho*(h(t, x, y)*ptilde(t, x, y, zeta)).derivative(x) - 1/rho*((zeta*h(t, x, y) + h_b(t, x, y)).derivative(x)*ptilde(t, x, y, zeta)).derivative(zeta)"
   ]
  },
  {
   "cell_type": "code",
   "execution_count": 4,
   "metadata": {},
   "outputs": [
    {
     "data": {
      "text/plain": [
       "e_z*g*h(t, x, y)*diff(h(t, x, y), x) + e_z*g*h(t, x, y)*diff(h_b(t, x, y), x)"
      ]
     },
     "execution_count": 4,
     "metadata": {},
     "output_type": "execute_result"
    }
   ],
   "source": [
    "result.full_simplify()"
   ]
  },
  {
   "cell_type": "code",
   "execution_count": 21,
   "metadata": {},
   "outputs": [
    {
     "data": {
      "text/plain": [
       "e_z*g*h(t, x, y)*diff(h(t, x, y), x) + e_z*g*h(t, x, y)*diff(h_b(t, x, y), x)"
      ]
     },
     "execution_count": 21,
     "metadata": {},
     "output_type": "execute_result"
    }
   ],
   "source": [
    "ptilde_2(t, x, y, zeta) = h(t, x, y) * (1 - zeta)*rho*g*e_z\n",
    "result_2 = 1/rho*(h(t, x, y)*ptilde_2(t, x, y, zeta)).derivative(x) - 1/rho*((zeta*h(t, x, y) + h_b(t, x, y)).derivative(x)*ptilde_2(t, x, y, zeta)).derivative(zeta)\n",
    "result_2.full_simplify()"
   ]
  },
  {
   "cell_type": "code",
   "execution_count": 2,
   "metadata": {},
   "outputs": [
    {
     "data": {
      "text/plain": [
       "-(zeta*h(t, x, y) - h(t, x, y))*e_z*g*rho"
      ]
     },
     "execution_count": 2,
     "metadata": {},
     "output_type": "execute_result"
    }
   ],
   "source": [
    "ptilde(t, x, y, zeta)"
   ]
  },
  {
   "cell_type": "code",
   "execution_count": null,
   "metadata": {},
   "outputs": [],
   "source": []
  }
 ],
 "metadata": {
  "kernelspec": {
   "display_name": "SageMath 9.0",
   "language": "sage",
   "name": "sagemath"
  },
  "language_info": {
   "codemirror_mode": {
    "name": "ipython",
    "version": 3
   },
   "file_extension": ".py",
   "mimetype": "text/x-python",
   "name": "python",
   "nbconvert_exporter": "python",
   "pygments_lexer": "ipython3",
   "version": "3.7.3"
  }
 },
 "nbformat": 4,
 "nbformat_minor": 2
}
