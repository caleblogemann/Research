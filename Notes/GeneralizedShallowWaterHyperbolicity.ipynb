{
 "cells": [
  {
   "cell_type": "markdown",
   "metadata": {},
   "source": [
    "# Generalized Shallow Water Equations"
   ]
  },
  {
   "cell_type": "code",
   "execution_count": 33,
   "metadata": {},
   "outputs": [
    {
     "name": "stdout",
     "output_type": "stream",
     "text": [
      "LegendrePolynomials.sage tests passed\n"
     ]
    }
   ],
   "source": [
    "load('GeneralizedShallowWaterVariables.sage')"
   ]
  },
  {
   "cell_type": "markdown",
   "metadata": {},
   "source": [
    "## One Dimension"
   ]
  },
  {
   "cell_type": "markdown",
   "metadata": {},
   "source": [
    "### Zeroth Order/Constant System/Shallow Water Equations"
   ]
  },
  {
   "cell_type": "code",
   "execution_count": 38,
   "metadata": {},
   "outputs": [
    {
     "name": "stdout",
     "output_type": "stream",
     "text": [
      "[u - sqrt(g*h), u + sqrt(g*h)]\n",
      "[            1             1]\n",
      "[u - sqrt(g*h) u + sqrt(g*h)]\n",
      "[ 1/2*(u + sqrt(g*h))/sqrt(g*h)                 -1/2/sqrt(g*h)]\n",
      "[-1/2*(u - sqrt(g*h))/sqrt(g*h)                  1/2/sqrt(g*h)]\n"
     ]
    }
   ],
   "source": [
    "set_generalized_shallow_water_variables_1d(0)\n",
    "eig = A_p.eigenvectors_right()\n",
    "eigenvalues = [e[0].simplify_full() for e in eig]\n",
    "eigenvectors = [[ev.simplify_full() for ev in e[1]] for e in eig]\n",
    "R = matrix([ev[0] for ev in eigenvectors]).T\n",
    "L = R.inverse().simplify_full()\n",
    "print(eigenvalues)\n",
    "print(R)\n",
    "print(L)"
   ]
  },
  {
   "cell_type": "code",
   "execution_count": 39,
   "metadata": {},
   "outputs": [
    {
     "data": {
      "text/plain": [
       "0"
      ]
     },
     "execution_count": 39,
     "metadata": {},
     "output_type": "execute_result"
    }
   ],
   "source": [
    "(L[0, 0] - 1/2 * u / sqrt(g * h) - 1/2).simplify_full()"
   ]
  },
  {
   "cell_type": "code",
   "execution_count": 40,
   "metadata": {},
   "outputs": [
    {
     "data": {
      "text/plain": [
       "[1 0]\n",
       "[0 1]"
      ]
     },
     "execution_count": 40,
     "metadata": {},
     "output_type": "execute_result"
    }
   ],
   "source": [
    "(L * R).simplify_full()"
   ]
  },
  {
   "cell_type": "code",
   "execution_count": 41,
   "metadata": {},
   "outputs": [
    {
     "name": "stdout",
     "output_type": "stream",
     "text": [
      "-3/2*g/sqrt(g*h)\n",
      "3/2*g/sqrt(g*h)\n"
     ]
    }
   ],
   "source": [
    "# convexity \\grad \\lambda_i . v_i doesn't change sign\n",
    "grad_lambda_0 = vector([eigenvalues[0].subs(p_to_q).diff(q[i]).subs(q_to_p) for i in range(2)])\n",
    "grad_lambda_1 = vector([eigenvalues[1].subs(p_to_q).diff(q[i]).subs(q_to_p) for i in range(2)])\n",
    "print(grad_lambda_0.dot_product(eigenvectors[0][0]).full_simplify())\n",
    "print(grad_lambda_1.dot_product(eigenvectors[1][0]).full_simplify())"
   ]
  },
  {
   "cell_type": "markdown",
   "metadata": {},
   "source": [
    "### First Order/Linear System"
   ]
  },
  {
   "cell_type": "code",
   "execution_count": 43,
   "metadata": {},
   "outputs": [
    {
     "name": "stdout",
     "output_type": "stream",
     "text": [
      "[u - sqrt(g*h + s^2), u, u + sqrt(g*h + s^2)]\n",
      "R\n",
      "[                   1                    1                    1]\n",
      "[ u - sqrt(g*h + s^2)                    u  u + sqrt(g*h + s^2)]\n",
      "[                 2*s -1/2*(3*g*h - s^2)/s                  2*s]\n",
      "L\n",
      "[                     1/6*(3*g*h - s^2 + 3*sqrt(g*h + s^2)*u)/(g*h + s^2)                                                     -1/2/sqrt(g*h + s^2)                                                        1/3*s/(g*h + s^2)]\n",
      "[                                                     4/3*s^2/(g*h + s^2)                                                                        0                                                       -2/3*s/(g*h + s^2)]\n",
      "[-1/6*(3*(g*h + s^2)*u - (3*g*h - s^2)*sqrt(g*h + s^2))/(g*h + s^2)^(3/2)                                                      1/2/sqrt(g*h + s^2)                                                        1/3*s/(g*h + s^2)]\n"
     ]
    }
   ],
   "source": [
    "set_generalized_shallow_water_variables_1d(1)\n",
    "eig = A_p.eigenvectors_right()\n",
    "eigenvalues = [e[0].simplify_full() for e in eig]\n",
    "eigenvalues.sort()\n",
    "eigenvectors = [[ev.simplify_full() for ev in e[1]] for e in eig]\n",
    "R = matrix([ev[0] for ev in eigenvectors]).T.simplify_full()\n",
    "G = PermutationGroup([(2, 3)])\n",
    "R.permute_columns(G.gens()[0])\n",
    "L = R.inverse().simplify_full()\n",
    "print(eigenvalues)\n",
    "print(\"R\")\n",
    "print(R)\n",
    "print(\"L\")\n",
    "print(L)"
   ]
  },
  {
   "cell_type": "code",
   "execution_count": 45,
   "metadata": {},
   "outputs": [
    {
     "name": "stdout",
     "output_type": "stream",
     "text": [
      "-1/2*(3*g*h + 4*s^2)*sqrt(g*h + s^2)/(g*h^2 + h*s^2)\n",
      "sqrt(g*h + s^2)/h\n",
      "-1/2*(2*g*h + s^2)*sqrt(g*h + s^2)/(g*h^2 + h*s^2)\n"
     ]
    }
   ],
   "source": [
    "# convexity\n",
    "grad_lambda_0 = vector([eigenvalues[0].subs(p_to_q).diff(q[i]).subs(q_to_p) for i in range(3)])\n",
    "grad_lambda_1 = vector([eigenvalues[1].subs(p_to_q).diff(q[i]).subs(q_to_p) for i in range(3)])\n",
    "grad_lambda_2 = vector([eigenvalues[2].subs(p_to_q).diff(q[i]).subs(q_to_p) for i in range(3)])\n",
    "print(grad_lambda_0.dot_product(eigenvectors[0][0]).full_simplify())\n",
    "print(grad_lambda_1.dot_product(eigenvectors[1][0]).full_simplify())\n",
    "print(grad_lambda_2.dot_product(eigenvectors[2][0]).full_simplify())"
   ]
  },
  {
   "cell_type": "markdown",
   "metadata": {},
   "source": [
    "### Second Order/Quadratic"
   ]
  },
  {
   "cell_type": "code",
   "execution_count": 144,
   "metadata": {},
   "outputs": [],
   "source": [
    "import numpy as np\n",
    "import matplotlib.pyplot as plt\n",
    "\n",
    "def is_hyperbolic(A):\n",
    "    # A is square 2D numpy array\n",
    "    eigenvalues = np.linalg.eigvals(A)\n",
    "    return np.all(np.isreal(eigenvalues))\n",
    "\n",
    "def hyperbolicity_data(A, sample):\n",
    "    # A is symbolic sage matrix\n",
    "    n = len(sample)\n",
    "    data = np.zeros((n, n), dtype=int)\n",
    "    for i in range(n):\n",
    "        a0 = sample[i]\n",
    "        for j in range(n):\n",
    "            a1 = sample[j]\n",
    "            A_np = A.subs({e_z: 1, g: 1, h: 0.1, u: 0, alpha_0: a0, alpha_1: a1}).numpy(dtype=np.float64)\n",
    "            data[i, j] = int(is_hyperbolic(A_np))\n",
    "    return data"
   ]
  },
  {
   "cell_type": "code",
   "execution_count": 137,
   "metadata": {},
   "outputs": [],
   "source": [
    "set_generalized_shallow_water_variables_1d(2)\n",
    "\n",
    "#eig = A_p.eigenvectors_right()\n",
    "#eigenvalues = [e[0].simplify_full() for e in eig]\n",
    "#eigenvectors = [[ev.simplify_full() for ev in e[1]] for e in eig]"
   ]
  },
  {
   "cell_type": "code",
   "execution_count": 152,
   "metadata": {},
   "outputs": [],
   "source": [
    "data = hyperbolicity_data(A_p, np.linspace(-1, 1, 200))"
   ]
  },
  {
   "cell_type": "code",
   "execution_count": 155,
   "metadata": {},
   "outputs": [
    {
     "data": {
      "image/png": "[encoded data removed]",
      "text/plain": [
       "<Figure size 432x288 with 1 Axes>"
      ]
     },
     "metadata": {
      "needs_background": "light"
     },
     "output_type": "display_data"
    }
   ],
   "source": [
    "plt.imshow(data, extent=(-1, 1, -1, 1))\n",
    "plt.show()"
   ]
  },
  {
   "cell_type": "code",
   "execution_count": 59,
   "metadata": {},
   "outputs": [],
   "source": [
    "test = [[f(x, y) for x in srange(-1, 1, 0.2)] for y in srange(-1, 1, 0.2)]"
   ]
  },
  {
   "cell_type": "code",
   "execution_count": 78,
   "metadata": {},
   "outputs": [],
   "source": [
    "def is_hyperbolic(A):\n",
    "    eig = A.eigenvectors_right()\n",
    "    eigenvalues = [e[0] for e in eig]\n",
    "    return all([e.is_real() for e in eigenvalues])\n",
    "\n",
    "def hyperbolicity_range(A, range_):\n",
    "    hyperbolicity = [[int(is_hyperbolic(A.subs({alpha_0: x, alpha_1: y}))) for x in range_] for y in range_]\n",
    "    coordinates = [[(x, y) for x in range_] for y in range_]\n",
    "    M = matrix(hyperbolicity)\n",
    "    return (M, coordinates)"
   ]
  },
  {
   "cell_type": "code",
   "execution_count": 91,
   "metadata": {},
   "outputs": [
    {
     "data": {
      "image/png": "[encoded data removed]",
      "text/plain": [
       "Graphics object consisting of 1 graphics primitive"
      ]
     },
     "execution_count": 91,
     "metadata": {},
     "output_type": "execute_result"
    }
   ],
   "source": [
    "tuple_ = hyperbolicity_range(A_p, srange(-1, 1.2, 0.2))\n",
    "matrix_plot(tuple_[0])"
   ]
  },
  {
   "cell_type": "markdown",
   "metadata": {},
   "source": [
    "### Third Order/Cubic Moments"
   ]
  },
  {
   "cell_type": "code",
   "execution_count": 195,
   "metadata": {},
   "outputs": [],
   "source": [
    "import numpy as np\n",
    "import matplotlib.pyplot as plt\n",
    "\n",
    "def is_hyperbolic(A):\n",
    "    # A is square 2D numpy array\n",
    "    eigenvalues = np.linalg.eigvals(A)\n",
    "    return np.all(np.isreal(eigenvalues))\n",
    "\n",
    "def hyperbolicity_data(A, sample):\n",
    "    # A is symbolic sage matrix\n",
    "    n = len(sample)\n",
    "    data = np.zeros((n, n, n), dtype=int)\n",
    "    for i in range(n):\n",
    "        a0 = sample[i]\n",
    "        for j in range(n):\n",
    "            a1 = sample[j]\n",
    "            for k in range(n):\n",
    "                a2 = sample[k]\n",
    "                A_np = A.subs({e_z: 1, g: 1, h: 0.1, u: 0, alpha_0: a0, alpha_1: a1, alpha_2: a2}).numpy(dtype=np.float64)\n",
    "                data[i, j, k] = int(is_hyperbolic(A_np))\n",
    "    return data"
   ]
  },
  {
   "cell_type": "code",
   "execution_count": 196,
   "metadata": {},
   "outputs": [],
   "source": [
    "set_generalized_shallow_water_variables_1d(3)"
   ]
  },
  {
   "cell_type": "code",
   "execution_count": 197,
   "metadata": {},
   "outputs": [
    {
     "ename": "KeyboardInterrupt",
     "evalue": "",
     "output_type": "error",
     "traceback": [
      "\u001b[0;31m---------------------------------------------------------------------------\u001b[0m",
      "\u001b[0;31mKeyboardInterrupt\u001b[0m                         Traceback (most recent call last)",
      "\u001b[0;32m<ipython-input-197-83afdbae4b86>\u001b[0m in \u001b[0;36m<module>\u001b[0;34m()\u001b[0m\n\u001b[1;32m      1\u001b[0m \u001b[0mn\u001b[0m \u001b[0;34m=\u001b[0m \u001b[0mInteger\u001b[0m\u001b[0;34m(\u001b[0m\u001b[0;36m201\u001b[0m\u001b[0;34m)\u001b[0m\u001b[0;34m\u001b[0m\u001b[0;34m\u001b[0m\u001b[0m\n\u001b[1;32m      2\u001b[0m \u001b[0msample\u001b[0m \u001b[0;34m=\u001b[0m \u001b[0mnp\u001b[0m\u001b[0;34m.\u001b[0m\u001b[0mlinspace\u001b[0m\u001b[0;34m(\u001b[0m\u001b[0;34m-\u001b[0m\u001b[0mInteger\u001b[0m\u001b[0;34m(\u001b[0m\u001b[0;36m1\u001b[0m\u001b[0;34m)\u001b[0m\u001b[0;34m,\u001b[0m \u001b[0mInteger\u001b[0m\u001b[0;34m(\u001b[0m\u001b[0;36m1\u001b[0m\u001b[0;34m)\u001b[0m\u001b[0;34m,\u001b[0m \u001b[0mn\u001b[0m\u001b[0;34m)\u001b[0m\u001b[0;34m\u001b[0m\u001b[0;34m\u001b[0m\u001b[0m\n\u001b[0;32m----> 3\u001b[0;31m \u001b[0mdata_3\u001b[0m \u001b[0;34m=\u001b[0m \u001b[0mhyperbolicity_data\u001b[0m\u001b[0;34m(\u001b[0m\u001b[0mA_p\u001b[0m\u001b[0;34m,\u001b[0m \u001b[0msample\u001b[0m\u001b[0;34m)\u001b[0m\u001b[0;34m\u001b[0m\u001b[0;34m\u001b[0m\u001b[0m\n\u001b[0m",
      "\u001b[0;32m<ipython-input-195-659a1311f46b>\u001b[0m in \u001b[0;36mhyperbolicity_data\u001b[0;34m(A, sample)\u001b[0m\n\u001b[1;32m     17\u001b[0m             \u001b[0;32mfor\u001b[0m \u001b[0mk\u001b[0m \u001b[0;32min\u001b[0m \u001b[0mrange\u001b[0m\u001b[0;34m(\u001b[0m\u001b[0mn\u001b[0m\u001b[0;34m)\u001b[0m\u001b[0;34m:\u001b[0m\u001b[0;34m\u001b[0m\u001b[0;34m\u001b[0m\u001b[0m\n\u001b[1;32m     18\u001b[0m                 \u001b[0ma2\u001b[0m \u001b[0;34m=\u001b[0m \u001b[0msample\u001b[0m\u001b[0;34m[\u001b[0m\u001b[0mk\u001b[0m\u001b[0;34m]\u001b[0m\u001b[0;34m\u001b[0m\u001b[0;34m\u001b[0m\u001b[0m\n\u001b[0;32m---> 19\u001b[0;31m                 \u001b[0mA_np\u001b[0m \u001b[0;34m=\u001b[0m \u001b[0mA\u001b[0m\u001b[0;34m.\u001b[0m\u001b[0msubs\u001b[0m\u001b[0;34m(\u001b[0m\u001b[0;34m{\u001b[0m\u001b[0me_z\u001b[0m\u001b[0;34m:\u001b[0m \u001b[0mInteger\u001b[0m\u001b[0;34m(\u001b[0m\u001b[0;36m1\u001b[0m\u001b[0;34m)\u001b[0m\u001b[0;34m,\u001b[0m \u001b[0mg\u001b[0m\u001b[0;34m:\u001b[0m \u001b[0mInteger\u001b[0m\u001b[0;34m(\u001b[0m\u001b[0;36m1\u001b[0m\u001b[0;34m)\u001b[0m\u001b[0;34m,\u001b[0m \u001b[0mh\u001b[0m\u001b[0;34m:\u001b[0m \u001b[0mRealNumber\u001b[0m\u001b[0;34m(\u001b[0m\u001b[0;34m'0.1'\u001b[0m\u001b[0;34m)\u001b[0m\u001b[0;34m,\u001b[0m \u001b[0mu\u001b[0m\u001b[0;34m:\u001b[0m \u001b[0mInteger\u001b[0m\u001b[0;34m(\u001b[0m\u001b[0;36m0\u001b[0m\u001b[0;34m)\u001b[0m\u001b[0;34m,\u001b[0m \u001b[0malpha_0\u001b[0m\u001b[0;34m:\u001b[0m \u001b[0ma0\u001b[0m\u001b[0;34m,\u001b[0m \u001b[0malpha_1\u001b[0m\u001b[0;34m:\u001b[0m \u001b[0ma1\u001b[0m\u001b[0;34m,\u001b[0m \u001b[0malpha_2\u001b[0m\u001b[0;34m:\u001b[0m \u001b[0ma2\u001b[0m\u001b[0;34m}\u001b[0m\u001b[0;34m)\u001b[0m\u001b[0;34m.\u001b[0m\u001b[0mnumpy\u001b[0m\u001b[0;34m(\u001b[0m\u001b[0mdtype\u001b[0m\u001b[0;34m=\u001b[0m\u001b[0mnp\u001b[0m\u001b[0;34m.\u001b[0m\u001b[0mfloat64\u001b[0m\u001b[0;34m)\u001b[0m\u001b[0;34m\u001b[0m\u001b[0;34m\u001b[0m\u001b[0m\n\u001b[0m\u001b[1;32m     20\u001b[0m                 \u001b[0mdata\u001b[0m\u001b[0;34m[\u001b[0m\u001b[0mi\u001b[0m\u001b[0;34m,\u001b[0m \u001b[0mj\u001b[0m\u001b[0;34m,\u001b[0m \u001b[0mk\u001b[0m\u001b[0;34m]\u001b[0m \u001b[0;34m=\u001b[0m \u001b[0mint\u001b[0m\u001b[0;34m(\u001b[0m\u001b[0mis_hyperbolic\u001b[0m\u001b[0;34m(\u001b[0m\u001b[0mA_np\u001b[0m\u001b[0;34m)\u001b[0m\u001b[0;34m)\u001b[0m\u001b[0;34m\u001b[0m\u001b[0;34m\u001b[0m\u001b[0m\n\u001b[1;32m     21\u001b[0m     \u001b[0;32mreturn\u001b[0m \u001b[0mdata\u001b[0m\u001b[0;34m\u001b[0m\u001b[0;34m\u001b[0m\u001b[0m\n",
      "\u001b[0;32m/Users/caleblogemann/miniconda3/envs/sage/lib/python3.6/site-packages/sage/matrix/matrix2.pyx\u001b[0m in \u001b[0;36msage.matrix.matrix2.Matrix.subs (build/cythonized/sage/matrix/matrix2.c:5820)\u001b[0;34m()\u001b[0m\n\u001b[1;32m    192\u001b[0m                     nrows=self._nrows, ncols=self._ncols, sparse=True)\n\u001b[1;32m    193\u001b[0m         \u001b[0;32melse\u001b[0m\u001b[0;34m:\u001b[0m\u001b[0;34m\u001b[0m\u001b[0;34m\u001b[0m\u001b[0m\n\u001b[0;32m--> 194\u001b[0;31m             return matrix([a.subs(*args, **kwds) for a in self.list()],\n\u001b[0m\u001b[1;32m    195\u001b[0m                         nrows=self._nrows, ncols=self._ncols, sparse=False)\n\u001b[1;32m    196\u001b[0m \u001b[0;34m\u001b[0m\u001b[0m\n",
      "\u001b[0;32m/Users/caleblogemann/miniconda3/envs/sage/lib/python3.6/site-packages/sage/symbolic/expression.pyx\u001b[0m in \u001b[0;36msage.symbolic.expression.Expression.substitute (build/cythonized/sage/symbolic/expression.cpp:30516)\u001b[0;34m()\u001b[0m\n\u001b[1;32m   5321\u001b[0m \u001b[0;34m\u001b[0m\u001b[0m\n\u001b[1;32m   5322\u001b[0m         \u001b[0;32mfor\u001b[0m \u001b[0ma\u001b[0m \u001b[0;32min\u001b[0m \u001b[0margs\u001b[0m\u001b[0;34m:\u001b[0m\u001b[0;34m\u001b[0m\u001b[0;34m\u001b[0m\u001b[0m\n\u001b[0;32m-> 5323\u001b[0;31m             \u001b[0m_dict_update_check_duplicate\u001b[0m\u001b[0;34m(\u001b[0m\u001b[0msdict\u001b[0m\u001b[0;34m,\u001b[0m \u001b[0m_subs_make_dict\u001b[0m\u001b[0;34m(\u001b[0m\u001b[0ma\u001b[0m\u001b[0;34m)\u001b[0m\u001b[0;34m)\u001b[0m\u001b[0;34m\u001b[0m\u001b[0;34m\u001b[0m\u001b[0m\n\u001b[0m\u001b[1;32m   5324\u001b[0m \u001b[0;34m\u001b[0m\u001b[0m\n\u001b[1;32m   5325\u001b[0m         \u001b[0;32mif\u001b[0m \u001b[0mkwds\u001b[0m\u001b[0;34m:\u001b[0m\u001b[0;34m\u001b[0m\u001b[0;34m\u001b[0m\u001b[0m\n",
      "\u001b[0;32m/Users/caleblogemann/miniconda3/envs/sage/lib/python3.6/site-packages/sage/symbolic/expression.pyx\u001b[0m in \u001b[0;36msage.symbolic.expression._dict_update_check_duplicate (build/cythonized/sage/symbolic/expression.cpp:5103)\u001b[0;34m()\u001b[0m\n\u001b[1;32m    286\u001b[0m     \u001b[0;31m# is unambiguous.\u001b[0m\u001b[0;34m\u001b[0m\u001b[0;34m\u001b[0m\u001b[0;34m\u001b[0m\u001b[0m\n\u001b[1;32m    287\u001b[0m     \u001b[0;31m#\u001b[0m\u001b[0;34m\u001b[0m\u001b[0;34m\u001b[0m\u001b[0;34m\u001b[0m\u001b[0m\n\u001b[0;32m--> 288\u001b[0;31m     \u001b[0;32mfor\u001b[0m \u001b[0mk\u001b[0m \u001b[0;32min\u001b[0m \u001b[0msorted\u001b[0m\u001b[0;34m(\u001b[0m\u001b[0md2\u001b[0m\u001b[0;34m,\u001b[0m \u001b[0mkey\u001b[0m\u001b[0;34m=\u001b[0m\u001b[0mstr\u001b[0m\u001b[0;34m)\u001b[0m\u001b[0;34m:\u001b[0m\u001b[0;34m\u001b[0m\u001b[0;34m\u001b[0m\u001b[0m\n\u001b[0m\u001b[1;32m    289\u001b[0m         \u001b[0;32mif\u001b[0m \u001b[0mk\u001b[0m \u001b[0;32min\u001b[0m \u001b[0md1\u001b[0m\u001b[0;34m:\u001b[0m\u001b[0;34m\u001b[0m\u001b[0;34m\u001b[0m\u001b[0m\n\u001b[1;32m    290\u001b[0m             \u001b[0mmsg\u001b[0m \u001b[0;34m=\u001b[0m \u001b[0;34m\"duplicate substitution for {}, got values {} and {}\"\u001b[0m\u001b[0;34m\u001b[0m\u001b[0;34m\u001b[0m\u001b[0m\n",
      "\u001b[0;32msrc/cysignals/signals.pyx\u001b[0m in \u001b[0;36mcysignals.signals.python_check_interrupt\u001b[0;34m()\u001b[0m\n",
      "\u001b[0;31mKeyboardInterrupt\u001b[0m: "
     ]
    }
   ],
   "source": [
    "n = 201\n",
    "sample = np.linspace(-1, 1, n)\n",
    "data_3 = hyperbolicity_data(A_p, sample)"
   ]
  },
  {
   "cell_type": "code",
   "execution_count": 194,
   "metadata": {},
   "outputs": [
    {
     "data": {
      "text/plain": [
       "<matplotlib.image.AxesImage object at 0x7ff9d57c55c0>"
      ]
     },
     "execution_count": 194,
     "metadata": {},
     "output_type": "execute_result"
    },
    {
     "data": {
      "image/png": "[encoded data removed]",
      "text/plain": [
       "<Figure size 432x288 with 1 Axes>"
      ]
     },
     "metadata": {
      "needs_background": "light"
     },
     "output_type": "display_data"
    }
   ],
   "source": [
    "nd2 = (n - 1)/2\n",
    "plt.imshow(data_3[:,nd2,:])"
   ]
  },
  {
   "cell_type": "code",
   "execution_count": 199,
   "metadata": {},
   "outputs": [
    {
     "data": {
      "text/plain": [
       "False"
      ]
     },
     "execution_count": 199,
     "metadata": {},
     "output_type": "execute_result"
    }
   ],
   "source": [
    "A_np = A_p.subs({e_z: 1, g: 1, h: 1.0, u: 0, alpha_0: -0.25, alpha_1: 0.0, alpha_2: 0.25}).numpy(dtype=np.float64)\n",
    "is_hyperbolic(A_np)"
   ]
  },
  {
   "cell_type": "code",
   "execution_count": 200,
   "metadata": {},
   "outputs": [
    {
     "data": {
      "text/plain": [
       "array([-1.04368851e+00+0.00000000e+00j,  1.04368851e+00+0.00000000e+00j,\n",
       "       -4.13590306e-25+1.17527811e-09j, -4.13590306e-25-1.17527811e-09j,\n",
       "        9.89711669e-25+0.00000000e+00j])"
      ]
     },
     "execution_count": 200,
     "metadata": {},
     "output_type": "execute_result"
    }
   ],
   "source": [
    "np.linalg.eigvals(A_np)"
   ]
  },
  {
   "cell_type": "code",
   "execution_count": 210,
   "metadata": {},
   "outputs": [
    {
     "data": {
      "text/plain": [
       "array([0.00000000e+00, 5.00000000e-01, 0.00000000e+00, 2.77555756e-17,\n",
       "       0.00000000e+00])"
      ]
     },
     "execution_count": 210,
     "metadata": {},
     "output_type": "execute_result"
    }
   ],
   "source": [
    "A_np[4]"
   ]
  },
  {
   "cell_type": "code",
   "execution_count": 209,
   "metadata": {},
   "outputs": [
    {
     "data": {
      "text/plain": [
       "(-2/3*alpha_0^2 - 2/7*alpha_1^2 - 6/7*alpha_0*alpha_2 - 4/21*alpha_2^2 - 2*alpha_1*u, 2*alpha_1, 1/3*alpha_0 + 9/7*alpha_2, 3/7*alpha_1 + u, 4/7*alpha_0 + 1/3*alpha_2)"
      ]
     },
     "execution_count": 209,
     "metadata": {},
     "output_type": "execute_result"
    }
   ],
   "source": [
    "A_p[3].simplify_full()"
   ]
  },
  {
   "cell_type": "markdown",
   "metadata": {},
   "source": [
    "### Four Moments/Quartic Velocity Profile"
   ]
  },
  {
   "cell_type": "code",
   "execution_count": 192,
   "metadata": {},
   "outputs": [],
   "source": [
    "import numpy as np\n",
    "import matplotlib.pyplot as plt\n",
    "\n",
    "def is_hyperbolic(A):\n",
    "    # A is square 2D numpy array\n",
    "    eigenvalues = np.linalg.eigvals(A)\n",
    "    return np.all(np.isreal(eigenvalues))\n",
    "\n",
    "def hyperbolicity_data(A, sample):\n",
    "    # A is symbolic sage matrix\n",
    "    n = len(sample)\n",
    "    data = np.zeros((n, n), dtype=int)\n",
    "    for i in range(n):\n",
    "        a0 = sample[i]\n",
    "        a1 = 0\n",
    "        a2 = 0\n",
    "        for l in range(n):\n",
    "            a3 = sample[l]\n",
    "            A_np = A.subs({e_z: 1, g: 1, h: 0.1, u: 0, alpha_0: a0, alpha_1: a1, alpha_2: a2, alpha_3: a3}).numpy(dtype=np.float64)\n",
    "            data[i, l] = int(is_hyperbolic(A_np))\n",
    "    return data"
   ]
  },
  {
   "cell_type": "code",
   "execution_count": null,
   "metadata": {},
   "outputs": [],
   "source": [
    "set_generalized_shallow_water_variables_1d(4)"
   ]
  },
  {
   "cell_type": "code",
   "execution_count": null,
   "metadata": {},
   "outputs": [],
   "source": [
    "n = 201\n",
    "sample = np.linspace(-1, 1, n)\n",
    "data_4 = hyperbolicity_data(A_p, sample)"
   ]
  },
  {
   "cell_type": "code",
   "execution_count": null,
   "metadata": {},
   "outputs": [],
   "source": [
    "plt.imshow(data_4)"
   ]
  },
  {
   "cell_type": "markdown",
   "metadata": {},
   "source": [
    "## 2 Dimensions"
   ]
  },
  {
   "cell_type": "markdown",
   "metadata": {},
   "source": [
    "### Zeroeth Order/Constant Moment/Shallow Water Equations"
   ]
  },
  {
   "cell_type": "code",
   "execution_count": 46,
   "metadata": {},
   "outputs": [],
   "source": [
    "set_generalized_shallow_water_variables_2d(0)"
   ]
  },
  {
   "cell_type": "code",
   "execution_count": 48,
   "metadata": {},
   "outputs": [
    {
     "name": "stdout",
     "output_type": "stream",
     "text": [
      "[n_0*u + n_1*v - sqrt(e_z*g*h*n_0^2 + e_z*g*h*n_1^2), n_0*u + n_1*v + sqrt(e_z*g*h*n_0^2 + e_z*g*h*n_1^2), n_0*u + n_1*v]\n"
     ]
    }
   ],
   "source": [
    "n = get_vector_variable('n', 2)\n",
    "eig = (n[0] * A_p + n[1] * B_p).eigenvectors_right()\n",
    "eigenvalues = [e[0].simplify_full() for e in eig]\n",
    "eigenvectors = [[ev.simplify_full() for ev in e[1]] for e in eig]\n",
    "R = matrix([ev[0] for ev in eigenvectors]).T\n",
    "L = R.inverse().simplify_full()\n",
    "print(eigenvalues)\n",
    "#print(R)\n",
    "#print(L)"
   ]
  },
  {
   "cell_type": "code",
   "execution_count": 11,
   "metadata": {},
   "outputs": [
    {
     "data": {
      "text/plain": [
       "[[(1, -sqrt(e_z*g*h)*cos(theta) + u, -sqrt(e_z*g*h)*sin(theta) + v)],\n",
       " [(1, sqrt(e_z*g*h)*cos(theta) + u, sqrt(e_z*g*h)*sin(theta) + v)],\n",
       " [(0, 1, -cos(theta)/sin(theta))]]"
      ]
     },
     "execution_count": 11,
     "metadata": {},
     "output_type": "execute_result"
    }
   ],
   "source": [
    "eigenvectors"
   ]
  },
  {
   "cell_type": "markdown",
   "metadata": {},
   "source": [
    "### First Order/Linear Moments"
   ]
  },
  {
   "cell_type": "code",
   "execution_count": 50,
   "metadata": {},
   "outputs": [],
   "source": [
    "set_generalized_shallow_water_variables_2d(1)"
   ]
  },
  {
   "cell_type": "code",
   "execution_count": 51,
   "metadata": {},
   "outputs": [
    {
     "name": "stdout",
     "output_type": "stream",
     "text": [
      "[n_0*u + n_1*v - sqrt(2*alpha_0*beta_0*n_0*n_1 + (e_z*g*h + alpha_0^2)*n_0^2 + (e_z*g*h + beta_0^2)*n_1^2), n_0*u + n_1*v + sqrt(2*alpha_0*beta_0*n_0*n_1 + (e_z*g*h + alpha_0^2)*n_0^2 + (e_z*g*h + beta_0^2)*n_1^2), n_0*u + n_1*v, -1/3*sqrt(3)*alpha_0*n_0 - 1/3*sqrt(3)*beta_0*n_1 + n_0*u + n_1*v, 1/3*sqrt(3)*alpha_0*n_0 + 1/3*sqrt(3)*beta_0*n_1 + n_0*u + n_1*v]\n"
     ]
    }
   ],
   "source": [
    "n = get_vector_variable('n', 2)\n",
    "eig = (n[0] * A_p + n[1] * B_p).eigenvectors_right()\n",
    "eigenvalues = [e[0].simplify_full() for e in eig]\n",
    "eigenvectors = [[ev.simplify_full() for ev in e[1]] for e in eig]\n",
    "R = matrix([ev[0] for ev in eigenvectors]).T\n",
    "L = R.inverse().simplify_full()\n",
    "print(eigenvalues)"
   ]
  },
  {
   "cell_type": "markdown",
   "metadata": {},
   "source": [
    "### Second Order/Quadratic Moments"
   ]
  },
  {
   "cell_type": "code",
   "execution_count": 54,
   "metadata": {},
   "outputs": [],
   "source": [
    "set_generalized_shallow_water_variables_2d(2)"
   ]
  },
  {
   "cell_type": "code",
   "execution_count": 59,
   "metadata": {},
   "outputs": [
    {
     "ename": "ValueError",
     "evalue": "need more than 0 values to unpack",
     "output_type": "error",
     "traceback": [
      "\u001b[0;31m---------------------------------------------------------------------------\u001b[0m",
      "\u001b[0;31mValueError\u001b[0m                                Traceback (most recent call last)",
      "\u001b[0;32m<ipython-input-59-74e4b87ceb57>\u001b[0m in \u001b[0;36m<module>\u001b[0;34m()\u001b[0m\n\u001b[1;32m      1\u001b[0m \u001b[0mn\u001b[0m \u001b[0;34m=\u001b[0m \u001b[0mget_vector_variable\u001b[0m\u001b[0;34m(\u001b[0m\u001b[0;34m'n'\u001b[0m\u001b[0;34m,\u001b[0m \u001b[0mInteger\u001b[0m\u001b[0;34m(\u001b[0m\u001b[0;36m2\u001b[0m\u001b[0;34m)\u001b[0m\u001b[0;34m)\u001b[0m\u001b[0;34m\u001b[0m\u001b[0;34m\u001b[0m\u001b[0m\n\u001b[0;32m----> 2\u001b[0;31m \u001b[0meig\u001b[0m \u001b[0;34m=\u001b[0m \u001b[0;34m(\u001b[0m\u001b[0mn\u001b[0m\u001b[0;34m[\u001b[0m\u001b[0mInteger\u001b[0m\u001b[0;34m(\u001b[0m\u001b[0;36m0\u001b[0m\u001b[0;34m)\u001b[0m\u001b[0;34m]\u001b[0m \u001b[0;34m*\u001b[0m \u001b[0mA_p\u001b[0m \u001b[0;34m+\u001b[0m \u001b[0mn\u001b[0m\u001b[0;34m[\u001b[0m\u001b[0mInteger\u001b[0m\u001b[0;34m(\u001b[0m\u001b[0;36m1\u001b[0m\u001b[0;34m)\u001b[0m\u001b[0;34m]\u001b[0m \u001b[0;34m*\u001b[0m \u001b[0mB_p\u001b[0m\u001b[0;34m)\u001b[0m\u001b[0;34m.\u001b[0m\u001b[0meigenvectors_right\u001b[0m\u001b[0;34m(\u001b[0m\u001b[0;34m)\u001b[0m\u001b[0;34m\u001b[0m\u001b[0;34m\u001b[0m\u001b[0m\n\u001b[0m\u001b[1;32m      3\u001b[0m \u001b[0meigenvalues\u001b[0m \u001b[0;34m=\u001b[0m \u001b[0;34m[\u001b[0m\u001b[0me\u001b[0m\u001b[0;34m[\u001b[0m\u001b[0mInteger\u001b[0m\u001b[0;34m(\u001b[0m\u001b[0;36m0\u001b[0m\u001b[0;34m)\u001b[0m\u001b[0;34m]\u001b[0m\u001b[0;34m.\u001b[0m\u001b[0msimplify_full\u001b[0m\u001b[0;34m(\u001b[0m\u001b[0;34m)\u001b[0m \u001b[0;32mfor\u001b[0m \u001b[0me\u001b[0m \u001b[0;32min\u001b[0m \u001b[0meig\u001b[0m\u001b[0;34m]\u001b[0m\u001b[0;34m\u001b[0m\u001b[0;34m\u001b[0m\u001b[0m\n\u001b[1;32m      4\u001b[0m \u001b[0meigenvectors\u001b[0m \u001b[0;34m=\u001b[0m \u001b[0;34m[\u001b[0m\u001b[0;34m[\u001b[0m\u001b[0mev\u001b[0m\u001b[0;34m.\u001b[0m\u001b[0msimplify_full\u001b[0m\u001b[0;34m(\u001b[0m\u001b[0;34m)\u001b[0m \u001b[0;32mfor\u001b[0m \u001b[0mev\u001b[0m \u001b[0;32min\u001b[0m \u001b[0me\u001b[0m\u001b[0;34m[\u001b[0m\u001b[0mInteger\u001b[0m\u001b[0;34m(\u001b[0m\u001b[0;36m1\u001b[0m\u001b[0;34m)\u001b[0m\u001b[0;34m]\u001b[0m\u001b[0;34m]\u001b[0m \u001b[0;32mfor\u001b[0m \u001b[0me\u001b[0m \u001b[0;32min\u001b[0m \u001b[0meig\u001b[0m\u001b[0;34m]\u001b[0m\u001b[0;34m\u001b[0m\u001b[0;34m\u001b[0m\u001b[0m\n\u001b[1;32m      5\u001b[0m \u001b[0mR\u001b[0m \u001b[0;34m=\u001b[0m \u001b[0mmatrix\u001b[0m\u001b[0;34m(\u001b[0m\u001b[0;34m[\u001b[0m\u001b[0mev\u001b[0m\u001b[0;34m[\u001b[0m\u001b[0mInteger\u001b[0m\u001b[0;34m(\u001b[0m\u001b[0;36m0\u001b[0m\u001b[0;34m)\u001b[0m\u001b[0;34m]\u001b[0m \u001b[0;32mfor\u001b[0m \u001b[0mev\u001b[0m \u001b[0;32min\u001b[0m \u001b[0meigenvectors\u001b[0m\u001b[0;34m]\u001b[0m\u001b[0;34m)\u001b[0m\u001b[0;34m.\u001b[0m\u001b[0mT\u001b[0m\u001b[0;34m\u001b[0m\u001b[0;34m\u001b[0m\u001b[0m\n",
      "\u001b[0;32m/Users/caleblogemann/miniconda3/envs/sage/lib/python3.6/site-packages/sage/matrix/matrix_symbolic_dense.pyx\u001b[0m in \u001b[0;36msage.matrix.matrix_symbolic_dense.Matrix_symbolic_dense.eigenvectors_right (build/cythonized/sage/matrix/matrix_symbolic_dense.c:3701)\u001b[0;34m()\u001b[0m\n\u001b[1;32m    293\u001b[0m             \u001b[0;32mTrue\u001b[0m\u001b[0;34m\u001b[0m\u001b[0;34m\u001b[0m\u001b[0m\n\u001b[1;32m    294\u001b[0m         \"\"\"\n\u001b[0;32m--> 295\u001b[0;31m         \u001b[0;32mreturn\u001b[0m \u001b[0mself\u001b[0m\u001b[0;34m.\u001b[0m\u001b[0mtranspose\u001b[0m\u001b[0;34m(\u001b[0m\u001b[0;34m)\u001b[0m\u001b[0;34m.\u001b[0m\u001b[0meigenvectors_left\u001b[0m\u001b[0;34m(\u001b[0m\u001b[0;34m)\u001b[0m\u001b[0;34m\u001b[0m\u001b[0;34m\u001b[0m\u001b[0m\n\u001b[0m\u001b[1;32m    296\u001b[0m \u001b[0;34m\u001b[0m\u001b[0m\n\u001b[1;32m    297\u001b[0m     \u001b[0;32mdef\u001b[0m \u001b[0mexp\u001b[0m\u001b[0;34m(\u001b[0m\u001b[0mself\u001b[0m\u001b[0;34m)\u001b[0m\u001b[0;34m:\u001b[0m\u001b[0;34m\u001b[0m\u001b[0;34m\u001b[0m\u001b[0m\n",
      "\u001b[0;32m/Users/caleblogemann/miniconda3/envs/sage/lib/python3.6/site-packages/sage/matrix/matrix_symbolic_dense.pyx\u001b[0m in \u001b[0;36msage.matrix.matrix_symbolic_dense.Matrix_symbolic_dense.eigenvectors_left (build/cythonized/sage/matrix/matrix_symbolic_dense.c:3240)\u001b[0;34m()\u001b[0m\n\u001b[1;32m    261\u001b[0m         \u001b[0;32mfrom\u001b[0m \u001b[0msage\u001b[0m\u001b[0;34m.\u001b[0m\u001b[0mrings\u001b[0m\u001b[0;34m.\u001b[0m\u001b[0minteger_ring\u001b[0m \u001b[0;32mimport\u001b[0m \u001b[0mZZ\u001b[0m\u001b[0;34m\u001b[0m\u001b[0;34m\u001b[0m\u001b[0m\n\u001b[1;32m    262\u001b[0m \u001b[0;34m\u001b[0m\u001b[0m\n\u001b[0;32m--> 263\u001b[0;31m         \u001b[0;34m[\u001b[0m\u001b[0mevals\u001b[0m\u001b[0;34m,\u001b[0m \u001b[0mmults\u001b[0m\u001b[0;34m]\u001b[0m\u001b[0;34m,\u001b[0m \u001b[0mevecs\u001b[0m \u001b[0;34m=\u001b[0m \u001b[0mself\u001b[0m\u001b[0;34m.\u001b[0m\u001b[0mtranspose\u001b[0m\u001b[0;34m(\u001b[0m\u001b[0;34m)\u001b[0m\u001b[0;34m.\u001b[0m\u001b[0m_maxima_\u001b[0m\u001b[0;34m(\u001b[0m\u001b[0mmaxima\u001b[0m\u001b[0;34m)\u001b[0m\u001b[0;34m.\u001b[0m\u001b[0meigenvectors\u001b[0m\u001b[0;34m(\u001b[0m\u001b[0;34m)\u001b[0m\u001b[0;34m.\u001b[0m\u001b[0m_sage_\u001b[0m\u001b[0;34m(\u001b[0m\u001b[0;34m)\u001b[0m\u001b[0;34m\u001b[0m\u001b[0;34m\u001b[0m\u001b[0m\n\u001b[0m\u001b[1;32m    264\u001b[0m         \u001b[0mresult\u001b[0m \u001b[0;34m=\u001b[0m \u001b[0;34m[\u001b[0m\u001b[0;34m]\u001b[0m\u001b[0;34m\u001b[0m\u001b[0;34m\u001b[0m\u001b[0m\n\u001b[1;32m    265\u001b[0m         \u001b[0;32mfor\u001b[0m \u001b[0me\u001b[0m\u001b[0;34m,\u001b[0m \u001b[0mevec\u001b[0m\u001b[0;34m,\u001b[0m \u001b[0mm\u001b[0m \u001b[0;32min\u001b[0m \u001b[0mzip\u001b[0m\u001b[0;34m(\u001b[0m\u001b[0mevals\u001b[0m\u001b[0;34m,\u001b[0m \u001b[0mevecs\u001b[0m\u001b[0;34m,\u001b[0m \u001b[0mmults\u001b[0m\u001b[0;34m)\u001b[0m\u001b[0;34m:\u001b[0m\u001b[0;34m\u001b[0m\u001b[0;34m\u001b[0m\u001b[0m\n",
      "\u001b[0;31mValueError\u001b[0m: need more than 0 values to unpack"
     ]
    }
   ],
   "source": [
    "n = get_vector_variable('n', 2)\n",
    "eig = (n[0] * A_p + n[1] * B_p).eigenvectors_right()\n",
    "eigenvalues = [e[0].simplify_full() for e in eig]\n",
    "eigenvectors = [[ev.simplify_full() for ev in e[1]] for e in eig]\n",
    "R = matrix([ev[0] for ev in eigenvectors]).T\n",
    "L = R.inverse().simplify_full()\n",
    "#print(eigenvalues)"
   ]
  },
  {
   "cell_type": "code",
   "execution_count": 61,
   "metadata": {},
   "outputs": [
    {
     "data": {
      "text/plain": [
       "[                                                                                                                0                                                                                                                 0                                                                                                                 1                                                                                                                 0                                                                                                                 0                                                                                                                 0                                                                                                                 0]\n",
       "[                 1/3*alpha_0*beta_0 + 1/5*alpha_1*beta_1 - 2/15*(5*alpha_0*beta_0/h + 3*alpha_1*beta_1/h)*h - u*v                                                                                                                 v                                                                                                                 u                                                                                                        1/3*beta_0                                                                                                       1/3*alpha_0                                                                                                        1/5*beta_1                                                                                                       1/5*alpha_1]\n",
       "[                               e_z*g*h + 1/3*beta_0^2 + 1/5*beta_1^2 - 2/15*(5*beta_0^2/h + 3*beta_1^2/h)*h - v^2                                                                                                                 0                                                                                                               2*v                                                                                                                 0                                                                                                        2/3*beta_0                                                                                                                 0                                                                                                        2/5*beta_1]\n",
       "[     2/5*alpha_0*beta_0 + 2/5*alpha_1*beta_1 - 4/5*(alpha_0*beta_0/h + alpha_1*beta_1/h)*h - beta_0*u - alpha_0*v                                                                                                            beta_0                                                                                                           alpha_0                                                                                                    2/5*beta_0 + v                                                                                         2/5*alpha_0 + 1/5*alpha_1                                                                                                        2/5*beta_1                                                                                        -1/5*alpha_0 + 2/5*alpha_1]\n",
       "[                                                                                  -4/5*beta_0*beta_1 - 2*beta_0*v                                                                                                                 0                                                                                                          2*beta_0                                                                                                                 0                                                                                                        beta_1 + v                                                                                                                 0                                                                                                        3/5*beta_0]\n",
       "[2/3*alpha_0*beta_0 + 2/7*alpha_1*beta_1 - 4/21*(7*alpha_0*beta_0/h + 3*alpha_1*beta_1/h)*h - beta_1*u - alpha_1*v                                                                                                            beta_1                                                                                                           alpha_1                                                                                                        2/3*beta_0                                                                                                      -1/3*alpha_0                                                                                                    2/7*beta_1 + v                                                                                                       1/7*alpha_1]\n",
       "[                                  2/3*beta_0^2 + 2/7*beta_1^2 - 4/21*(7*beta_0^2/h + 3*beta_1^2/h)*h - 2*beta_1*v                                                                                                                 0                                                                                                          2*beta_1                                                                                                                 0                                                                                                        1/3*beta_0                                                                                                                 0                                                                                                    3/7*beta_1 + v]"
      ]
     },
     "execution_count": 61,
     "metadata": {},
     "output_type": "execute_result"
    }
   ],
   "source": [
    "B_p"
   ]
  },
  {
   "cell_type": "code",
   "execution_count": null,
   "metadata": {},
   "outputs": [],
   "source": []
  }
 ],
 "metadata": {
  "kernelspec": {
   "display_name": "SageMath 9.0",
   "language": "sage",
   "name": "sagemath"
  },
  "language_info": {
   "codemirror_mode": {
    "name": "ipython",
    "version": 3
   },
   "file_extension": ".py",
   "mimetype": "text/x-python",
   "name": "python",
   "nbconvert_exporter": "python",
   "pygments_lexer": "ipython3",
   "version": "3.6.10"
  }
 },
 "nbformat": 4,
 "nbformat_minor": 2
}
