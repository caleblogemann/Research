{
 "cells": [
  {
   "cell_type": "code",
   "execution_count": 15,
   "metadata": {},
   "outputs": [
    {
     "data": {
      "text/plain": [
       "(q_2, 1/2*g*q_1^2 + q_2^2/q_1 + 1/3*q_3^2/q_1, 2*q_2*q_3/q_1)"
      ]
     },
     "execution_count": 15,
     "metadata": {},
     "output_type": "execute_result"
    }
   ],
   "source": [
    "# primitive variables\n",
    "h = var('h', domain='positive')\n",
    "u = var('u')\n",
    "s = var('s')\n",
    "g = var('g', domain='positive')\n",
    "\n",
    "flux_primitive = vector([h*u, h*u^2 + 1/2 * g * h^2 + 1/3 * h * s^2, 2*h*u*s])\n",
    "\n",
    "# conserved variables\n",
    "q1 = var('q_1')\n",
    "q2 = var('q_2')\n",
    "q3 = var('q_3')\n",
    "\n",
    "conserved_to_primitive = {q1:h, q2: h*u, q3: h*s}\n",
    "primitive_to_conserved = {h:q1, u: q2/q1, s: q3/q1}\n",
    "\n",
    "flux_conserved = flux_primitive.subs(primitive_to_conserved)\n",
    "flux_conserved"
   ]
  },
  {
   "cell_type": "code",
   "execution_count": 16,
   "metadata": {},
   "outputs": [
    {
     "data": {
      "text/plain": [
       "[                                    0                                     1                                     0]\n",
       "[g*q_1 - q_2^2/q_1^2 - 1/3*q_3^2/q_1^2                             2*q_2/q_1                           2/3*q_3/q_1]\n",
       "[                     -2*q_2*q_3/q_1^2                             2*q_3/q_1                             2*q_2/q_1]"
      ]
     },
     "execution_count": 16,
     "metadata": {},
     "output_type": "execute_result"
    }
   ],
   "source": [
    "jacobian_conserved = jacobian(flux_conserved, (q1, q2, q3))\n",
    "jacobian_conserved"
   ]
  },
  {
   "cell_type": "code",
   "execution_count": 17,
   "metadata": {},
   "outputs": [
    {
     "data": {
      "text/plain": [
       "[                  0                   1                   0]\n",
       "[g*h - 1/3*s^2 - u^2                 2*u               2/3*s]\n",
       "[             -2*s*u                 2*s                 2*u]"
      ]
     },
     "execution_count": 17,
     "metadata": {},
     "output_type": "execute_result"
    }
   ],
   "source": [
    "jacobian_primitive = jacobian_conserved.subs(conserved_to_primitive)\n",
    "jacobian_primitive"
   ]
  },
  {
   "cell_type": "code",
   "execution_count": 18,
   "metadata": {},
   "outputs": [
    {
     "data": {
      "text/plain": [
       "[-1/18*(3*g*h + 3*s^2 + u^2)*(-I*sqrt(3) + 1)/(-g*h*u - 1/3*s^2*u + 91/27*u^3 + 2/3*(g*h + s^2 - 5*u^2)*u + 1/9*sqrt(-3*g^3*h^3 - 9*g^2*h^2*s^2 - 9*g*h*s^4 - 3*s^6 - (3*g*h - s^2)*u^4 + 6*(g^2*h^2 - 4*g*h*s^2 + s^4)*u^2))^(1/3) - 1/2*(-g*h*u - 1/3*s^2*u + 91/27*u^3 + 2/3*(g*h + s^2 - 5*u^2)*u + 1/9*sqrt(-3*g^3*h^3 - 9*g^2*h^2*s^2 - 9*g*h*s^4 - 3*s^6 - (3*g*h - s^2)*u^4 + 6*(g^2*h^2 - 4*g*h*s^2 + s^4)*u^2))^(1/3)*(I*sqrt(3) + 1) + 4/3*u,\n",
       " -1/18*(3*g*h + 3*s^2 + u^2)*(I*sqrt(3) + 1)/(-g*h*u - 1/3*s^2*u + 91/27*u^3 + 2/3*(g*h + s^2 - 5*u^2)*u + 1/9*sqrt(-3*g^3*h^3 - 9*g^2*h^2*s^2 - 9*g*h*s^4 - 3*s^6 - (3*g*h - s^2)*u^4 + 6*(g^2*h^2 - 4*g*h*s^2 + s^4)*u^2))^(1/3) - 1/2*(-g*h*u - 1/3*s^2*u + 91/27*u^3 + 2/3*(g*h + s^2 - 5*u^2)*u + 1/9*sqrt(-3*g^3*h^3 - 9*g^2*h^2*s^2 - 9*g*h*s^4 - 3*s^6 - (3*g*h - s^2)*u^4 + 6*(g^2*h^2 - 4*g*h*s^2 + s^4)*u^2))^(1/3)*(-I*sqrt(3) + 1) + 4/3*u,\n",
       " 4/3*u + 1/9*(3*g*h + 3*s^2 + u^2)/(-g*h*u - 1/3*s^2*u + 91/27*u^3 + 2/3*(g*h + s^2 - 5*u^2)*u + 1/9*sqrt(-3*g^3*h^3 - 9*g^2*h^2*s^2 - 9*g*h*s^4 - 3*s^6 - (3*g*h - s^2)*u^4 + 6*(g^2*h^2 - 4*g*h*s^2 + s^4)*u^2))^(1/3) + (-g*h*u - 1/3*s^2*u + 91/27*u^3 + 2/3*(g*h + s^2 - 5*u^2)*u + 1/9*sqrt(-3*g^3*h^3 - 9*g^2*h^2*s^2 - 9*g*h*s^4 - 3*s^6 - (3*g*h - s^2)*u^4 + 6*(g^2*h^2 - 4*g*h*s^2 + s^4)*u^2))^(1/3)]"
      ]
     },
     "execution_count": 18,
     "metadata": {},
     "output_type": "execute_result"
    }
   ],
   "source": [
    "eigenvalues_primitive = jacobian_primitive.eigenvalues()\n",
    "eigenvalues_primitive"
   ]
  },
  {
   "cell_type": "code",
   "execution_count": 10,
   "metadata": {},
   "outputs": [
    {
     "data": {
      "text/plain": [
       "-1/6*(3*g*h*(-I*sqrt(3) + 1) + 3*s^2*(-I*sqrt(3) + 1) + u^2*(-I*sqrt(3) + 1) - (u^3 - 9*(g*h - s^2)*u + 3*sqrt(-3*g^3*h^3 - 9*g^2*h^2*s^2 - 9*g*h*s^4 - 3*s^6 - (3*g*h - s^2)*u^4 + 6*(g^2*h^2 - 4*g*h*s^2 + s^4)*u^2))^(2/3)*(-I*sqrt(3) - 1) - 8*(u^3 - 9*(g*h - s^2)*u + 3*sqrt(-3*g^3*h^3 - 9*g^2*h^2*s^2 - 9*g*h*s^4 - 3*s^6 - (3*g*h - s^2)*u^4 + 6*(g^2*h^2 - 4*g*h*s^2 + s^4)*u^2))^(1/3)*u)/(u^3 - 9*(g*h - s^2)*u + 3*sqrt(-3*g^3*h^3 - 9*g^2*h^2*s^2 - 9*g*h*s^4 - 3*s^6 - (3*g*h - s^2)*u^4 + 6*(g^2*h^2 - 4*g*h*s^2 + s^4)*u^2))^(1/3)"
      ]
     },
     "execution_count": 10,
     "metadata": {},
     "output_type": "execute_result"
    }
   ],
   "source": [
    "eigenvalues_primitive[0].full_simplify()"
   ]
  },
  {
   "cell_type": "code",
   "execution_count": 12,
   "metadata": {},
   "outputs": [
    {
     "data": {
      "text/plain": [
       "1/3*(3*g*h + 3*s^2 + u^2 + 4*(u^3 - 9*(g*h - s^2)*u + 3*sqrt(-3*g^3*h^3 - 9*g^2*h^2*s^2 - 9*g*h*s^4 - 3*s^6 - (3*g*h - s^2)*u^4 + 6*(g^2*h^2 - 4*g*h*s^2 + s^4)*u^2))^(1/3)*u + (u^3 - 9*(g*h - s^2)*u + 3*sqrt(-3*g^3*h^3 - 9*g^2*h^2*s^2 - 9*g*h*s^4 - 3*s^6 - (3*g*h - s^2)*u^4 + 6*(g^2*h^2 - 4*g*h*s^2 + s^4)*u^2))^(2/3))/(u^3 - 9*(g*h - s^2)*u + 3*sqrt(-3*g^3*h^3 - 9*g^2*h^2*s^2 - 9*g*h*s^4 - 3*s^6 - (3*g*h - s^2)*u^4 + 6*(g^2*h^2 - 4*g*h*s^2 + s^4)*u^2))^(1/3)"
      ]
     },
     "execution_count": 12,
     "metadata": {},
     "output_type": "execute_result"
    }
   ],
   "source": [
    "eigenvalues_primitive[2].full_simplify()"
   ]
  },
  {
   "cell_type": "code",
   "execution_count": null,
   "metadata": {},
   "outputs": [],
   "source": []
  }
 ],
 "metadata": {
  "kernelspec": {
   "display_name": "SageMath 8.9",
   "language": "sage",
   "name": "sagemath"
  },
  "language_info": {
   "codemirror_mode": {
    "name": "ipython",
    "version": 2
   },
   "file_extension": ".py",
   "mimetype": "text/x-python",
   "name": "python",
   "nbconvert_exporter": "python",
   "pygments_lexer": "ipython2",
   "version": "2.7.15"
  }
 },
 "nbformat": 4,
 "nbformat_minor": 2
}
