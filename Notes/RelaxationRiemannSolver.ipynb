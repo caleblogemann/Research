{
 "cells": [
  {
   "cell_type": "code",
   "execution_count": 96,
   "metadata": {},
   "outputs": [
    {
     "name": "stdout",
     "output_type": "stream",
     "text": [
      "[       0        0        0|       1        0        0]\n",
      "[       0        0        0|       0        1        0]\n",
      "[       0        0 -q_2/q_1|       0        0        1]\n",
      "[--------------------------+--------------------------]\n",
      "[     s^2        0        0|       0        0        0]\n",
      "[       0      s^2        0|       0        0        0]\n",
      "[       0        0      s^2|       0        0        0]\n"
     ]
    }
   ],
   "source": [
    "load(\"GeneralizedShallowWaterVariables.sage\")\n",
    "load('../Sage/VectorMatrixVariables.sage')\n",
    "num_moments = 1\n",
    "set_generalized_shallow_water_variables(num_moments)\n",
    "num_basis_cpts = 2 + num_moments\n",
    "\n",
    "s = var('s', domain=\"positive\")\n",
    "# Local Lax Friedrichs\n",
    "c = -s\n",
    "d = s\n",
    "I = matrix.identity(num_basis_cpts)\n",
    "B = block_matrix([[-Q_q, I],[-c*d*I, (c + d)*I]])\n",
    "print(B)"
   ]
  },
  {
   "cell_type": "code",
   "execution_count": 97,
   "metadata": {},
   "outputs": [
    {
     "name": "stdout",
     "output_type": "stream",
     "text": [
      "[-1/2*(q_2 + sqrt(4*q_1^2*s^2 + q_2^2))/q_1, -1/2*(q_2 - sqrt(4*q_1^2*s^2 + q_2^2))/q_1, -s, -s, s, s]\n"
     ]
    }
   ],
   "source": [
    "eig = B.eigenvectors_right()\n",
    "eigenvalues = flatten([[e[0].simplify_full() for i in range(e[2])] for e in eig])\n",
    "eigenvectors = flatten([[ev.simplify_full() for ev in e[1]] for e in eig])\n",
    "R = matrix(eigenvectors).T\n",
    "L = R.inverse().simplify_full()\n",
    "print(eigenvalues)"
   ]
  },
  {
   "cell_type": "code",
   "execution_count": 98,
   "metadata": {},
   "outputs": [],
   "source": [
    "Q_r = get_vector_variable(\"Q_r\", num_basis_cpts)\n",
    "Q_l = get_vector_variable(\"Q_l\", num_basis_cpts)\n",
    "f_Q_r = get_vector_variable(\"f_Q_r\", num_basis_cpts)\n",
    "f_Q_l = get_vector_variable(\"f_Q_l\", num_basis_cpts)\n",
    "Q_diff = Q_r - Q_l\n",
    "f_diff = f_Q_r - f_Q_l\n",
    "v = vector(Q_diff.list() + f_diff.list())\n",
    "alphas = L*v"
   ]
  },
  {
   "cell_type": "code",
   "execution_count": 99,
   "metadata": {},
   "outputs": [
    {
     "data": {
      "text/plain": [
       "(0, 0, 0, 0, 0, 0)"
      ]
     },
     "execution_count": 99,
     "metadata": {},
     "output_type": "execute_result"
    }
   ],
   "source": [
    "(R*alphas - v).simplify_full()"
   ]
  },
  {
   "cell_type": "code",
   "execution_count": 100,
   "metadata": {},
   "outputs": [
    {
     "name": "stdout",
     "output_type": "stream",
     "text": [
      "(1/2*(Q_l_0 - Q_r_0)*s - 1/2*f_Q_l_0 + 1/2*f_Q_r_0, 1/2*(Q_l_1 - Q_r_1)*s - 1/2*f_Q_l_1 + 1/2*f_Q_r_1, -1/2*((f_Q_l_2 - f_Q_r_2)*q_1*q_2^2 - (Q_l_2 - Q_r_2)*q_2^3 + 4*((f_Q_l_2 - f_Q_r_2)*q_1^3 - (Q_l_2 - Q_r_2)*q_1^2*q_2)*s^2 + (2*(Q_l_2 - Q_r_2)*q_1^2*s^2 - (f_Q_l_2 - f_Q_r_2)*q_1*q_2 + (Q_l_2 - Q_r_2)*q_2^2)*sqrt(4*q_1^2*s^2 + q_2^2))/(4*q_1^3*s^2 + q_1*q_2^2) - 1/2*((f_Q_l_2 - f_Q_r_2)*q_1*q_2^2 - (Q_l_2 - Q_r_2)*q_2^3 + 4*((f_Q_l_2 - f_Q_r_2)*q_1^3 - (Q_l_2 - Q_r_2)*q_1^2*q_2)*s^2 - (2*(Q_l_2 - Q_r_2)*q_1^2*s^2 - (f_Q_l_2 - f_Q_r_2)*q_1*q_2 + (Q_l_2 - Q_r_2)*q_2^2)*sqrt(4*q_1^2*s^2 + q_2^2))/(4*q_1^3*s^2 + q_1*q_2^2))\n",
      "(-1/2*(Q_l_0 - Q_r_0)*s - 1/2*f_Q_l_0 + 1/2*f_Q_r_0, -1/2*(Q_l_1 - Q_r_1)*s - 1/2*f_Q_l_1 + 1/2*f_Q_r_1, -1/2*((f_Q_l_2 - f_Q_r_2)*q_1*q_2^2 - (Q_l_2 - Q_r_2)*q_2^3 + 4*((f_Q_l_2 - f_Q_r_2)*q_1^3 - (Q_l_2 - Q_r_2)*q_1^2*q_2)*s^2 + (2*(Q_l_2 - Q_r_2)*q_1^2*s^2 - (f_Q_l_2 - f_Q_r_2)*q_1*q_2 + (Q_l_2 - Q_r_2)*q_2^2)*sqrt(4*q_1^2*s^2 + q_2^2))/(4*q_1^3*s^2 + q_1*q_2^2) - 1/2*((f_Q_l_2 - f_Q_r_2)*q_1*q_2^2 - (Q_l_2 - Q_r_2)*q_2^3 + 4*((f_Q_l_2 - f_Q_r_2)*q_1^3 - (Q_l_2 - Q_r_2)*q_1^2*q_2)*s^2 - (2*(Q_l_2 - Q_r_2)*q_1^2*s^2 - (f_Q_l_2 - f_Q_r_2)*q_1*q_2 + (Q_l_2 - Q_r_2)*q_2^2)*sqrt(4*q_1^2*s^2 + q_2^2))/(4*q_1^3*s^2 + q_1*q_2^2))\n"
     ]
    }
   ],
   "source": [
    "# wave propogation\n",
    "Am_deltaQ = sum([(min(eigenvalues[i], 0)*alphas[i]*eigenvectors[i][:num_basis_cpts]).simplify_full() for i in range(2*num_basis_cpts)])\n",
    "print(Am_deltaQ)\n",
    "Ap_deltaQ = sum([(max(eigenvalues[i], 0)*alphas[i]*eigenvectors[i][:num_basis_cpts]).simplify_full() for i in range(2*num_basis_cpts)])\n",
    "print(Ap_deltaQ)"
   ]
  },
  {
   "cell_type": "code",
   "execution_count": 106,
   "metadata": {},
   "outputs": [
    {
     "name": "stdout",
     "output_type": "stream",
     "text": [
      "(1/2*(Q_l_0 - Q_r_0)*s + 1/2*f_Q_l_0 + 1/2*f_Q_r_0, 1/2*(Q_l_1 - Q_r_1)*s + 1/2*f_Q_l_1 + 1/2*f_Q_r_1, (f_Q_r_2*q_1 + (Q_l_2 - Q_r_2)*q_2)/q_1)\n",
      "(1/2*(Q_l_0 - Q_r_0)*s + 1/2*f_Q_l_0 + 1/2*f_Q_r_0, 1/2*(Q_l_1 - Q_r_1)*s + 1/2*f_Q_l_1 + 1/2*f_Q_r_1, (f_Q_l_2*q_1 - (Q_l_2 - Q_r_2)*q_2)/q_1)\n"
     ]
    }
   ],
   "source": [
    "# numerical flux\n",
    "F_l = (f_Q_l + Am_deltaQ).simplify_full()\n",
    "print(F_l)\n",
    "F_r = (f_Q_r - Ap_deltaQ).simplify_full()\n",
    "print(F_r)"
   ]
  },
  {
   "cell_type": "code",
   "execution_count": 110,
   "metadata": {},
   "outputs": [
    {
     "data": {
      "text/plain": [
       "0"
      ]
     },
     "execution_count": 110,
     "metadata": {},
     "output_type": "execute_result"
    }
   ],
   "source": [
    "(((f_Q_r_2*q_1 + (Q_l_2 - Q_r_2)*q_2)/q_1) - ((f_Q_r_2 + (Q_l_2 - Q_r_2)*q_2/q_1))).simplify_full()"
   ]
  },
  {
   "cell_type": "code",
   "execution_count": 132,
   "metadata": {},
   "outputs": [
    {
     "data": {
      "text/plain": [
       "-1/2*(h*u + sqrt(4*h^2*s^2 + h^2*u^2))/h"
      ]
     },
     "execution_count": 132,
     "metadata": {},
     "output_type": "execute_result"
    }
   ],
   "source": [
    "eigenvalues[0].subs(q_to_p).simplify_full()"
   ]
  },
  {
   "cell_type": "code",
   "execution_count": 129,
   "metadata": {},
   "outputs": [
    {
     "data": {
      "text/plain": [
       "-1/2*(q_2 + sqrt(4*q_1^2*s^2 + q_2^2))/q_1"
      ]
     },
     "execution_count": 129,
     "metadata": {},
     "output_type": "execute_result"
    }
   ],
   "source": [
    "-1/2*(q_2 + sqrt(4*q_1^2*s^2 + q_2^2))/q_1"
   ]
  },
  {
   "cell_type": "code",
   "execution_count": null,
   "metadata": {},
   "outputs": [],
   "source": []
  }
 ],
 "metadata": {
  "kernelspec": {
   "display_name": "SageMath 9.0",
   "language": "sage",
   "name": "sagemath"
  },
  "language_info": {
   "codemirror_mode": {
    "name": "ipython",
    "version": 3
   },
   "file_extension": ".py",
   "mimetype": "text/x-python",
   "name": "python",
   "nbconvert_exporter": "python",
   "pygments_lexer": "ipython3",
   "version": "3.6.7"
  }
 },
 "nbformat": 4,
 "nbformat_minor": 2
}
