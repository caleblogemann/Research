{
 "cells": [
  {
   "cell_type": "code",
   "execution_count": 2,
   "metadata": {},
   "outputs": [
    {
     "name": "stdout",
     "output_type": "stream",
     "text": [
      "[  0   0   0|  1   0   0]\n",
      "[  0   0   0|  0   1   0]\n",
      "[  0   0  -u|  0   0   1]\n",
      "[-----------+-----------]\n",
      "[s^2   0   0|  0   0   0]\n",
      "[  0 s^2   0|  0   0   0]\n",
      "[  0   0 s^2|  0   0   0]\n"
     ]
    }
   ],
   "source": [
    "load(\"GeneralizedShallowWaterVariables.sage\")\n",
    "load('../Sage/VectorMatrixVariables.sage')\n",
    "num_moments = 1\n",
    "set_generalized_shallow_water_variables(num_moments)\n",
    "num_basis_cpts = 2 + num_moments\n",
    "\n",
    "s = var('s', domain=\"positive\")\n",
    "# Local Lax Friedrichs\n",
    "c = -s\n",
    "d = s\n",
    "I = matrix.identity(num_basis_cpts)\n",
    "B = block_matrix([[-Q_p, I],[-c*d*I, (c + d)*I]])\n",
    "print(B)"
   ]
  },
  {
   "cell_type": "code",
   "execution_count": 3,
   "metadata": {},
   "outputs": [
    {
     "name": "stdout",
     "output_type": "stream",
     "text": [
      "[-1/2*u - 1/2*sqrt(4*s^2 + u^2), -1/2*u + 1/2*sqrt(4*s^2 + u^2), -s, -s, s, s]\n",
      "[                            0                             0                             1                             0                             1                             0]\n",
      "[                            0                             0                             0                             1                             0                             1]\n",
      "[                            1                             1                             0                             0                             0                             0]\n",
      "[                            0                             0                            -s                             0                             s                             0]\n",
      "[                            0                             0                             0                            -s                             0                             s]\n",
      "[1/2*u - 1/2*sqrt(4*s^2 + u^2) 1/2*u + 1/2*sqrt(4*s^2 + u^2)                             0                             0                             0                             0]\n"
     ]
    }
   ],
   "source": [
    "eig = B.eigenvectors_right()\n",
    "eigenvalues = flatten([[e[0].simplify_full() for i in range(e[2])] for e in eig])\n",
    "eigenvectors = flatten([[ev.simplify_full() for ev in e[1]] for e in eig])\n",
    "R = matrix(eigenvectors).T\n",
    "L = R.inverse().simplify_full()\n",
    "print(eigenvalues)\n",
    "print(R)"
   ]
  },
  {
   "cell_type": "code",
   "execution_count": 4,
   "metadata": {},
   "outputs": [
    {
     "name": "stdout",
     "output_type": "stream",
     "text": [
      "(-1/2*(4*(Q_l_2 - Q_r_2)*s^2 + (Q_l_2 - Q_r_2)*u^2 + sqrt(4*s^2 + u^2)*((Q_l_2 - Q_r_2)*u - 2*f_Q_l_2 + 2*f_Q_r_2))/(4*s^2 + u^2), -1/2*(4*(Q_l_2 - Q_r_2)*s^2 + (Q_l_2 - Q_r_2)*u^2 - sqrt(4*s^2 + u^2)*((Q_l_2 - Q_r_2)*u - 2*f_Q_l_2 + 2*f_Q_r_2))/(4*s^2 + u^2), -1/2*((Q_l_0 - Q_r_0)*s - f_Q_l_0 + f_Q_r_0)/s, -1/2*((Q_l_1 - Q_r_1)*s - f_Q_l_1 + f_Q_r_1)/s, -1/2*((Q_l_0 - Q_r_0)*s + f_Q_l_0 - f_Q_r_0)/s, -1/2*((Q_l_1 - Q_r_1)*s + f_Q_l_1 - f_Q_r_1)/s)\n"
     ]
    }
   ],
   "source": [
    "Q_r = get_vector_variable(\"Q_r\", num_basis_cpts)\n",
    "Q_l = get_vector_variable(\"Q_l\", num_basis_cpts)\n",
    "f_Q_r = get_vector_variable(\"f_Q_r\", num_basis_cpts)\n",
    "f_Q_l = get_vector_variable(\"f_Q_l\", num_basis_cpts)\n",
    "Q_diff = Q_r - Q_l\n",
    "f_diff = f_Q_r - f_Q_l\n",
    "v = vector(Q_diff.list() + f_diff.list())\n",
    "alphas = (L*v).simplify_full()\n",
    "print(alphas)"
   ]
  },
  {
   "cell_type": "code",
   "execution_count": 99,
   "metadata": {},
   "outputs": [
    {
     "data": {
      "text/plain": [
       "(0, 0, 0, 0, 0, 0)"
      ]
     },
     "execution_count": 99,
     "metadata": {},
     "output_type": "execute_result"
    }
   ],
   "source": [
    "(R*alphas - v).simplify_full()"
   ]
  },
  {
   "cell_type": "code",
   "execution_count": 5,
   "metadata": {},
   "outputs": [
    {
     "name": "stdout",
     "output_type": "stream",
     "text": [
      "(1/2*(Q_l_0 - Q_r_0)*s - 1/2*f_Q_l_0 + 1/2*f_Q_r_0, 1/2*(Q_l_1 - Q_r_1)*s - 1/2*f_Q_l_1 + 1/2*f_Q_r_1, 1/2*(4*(Q_l_2 - Q_r_2)*s^2*u + (Q_l_2 - Q_r_2)*u^3 - 4*(f_Q_l_2 - f_Q_r_2)*s^2 - (f_Q_l_2 - f_Q_r_2)*u^2 + (2*(Q_l_2 - Q_r_2)*s^2 + (Q_l_2 - Q_r_2)*u^2 - (f_Q_l_2 - f_Q_r_2)*u)*sqrt(4*s^2 + u^2))/(4*s^2 + u^2))\n",
      "(-1/2*(Q_l_0 - Q_r_0)*s - 1/2*f_Q_l_0 + 1/2*f_Q_r_0, -1/2*(Q_l_1 - Q_r_1)*s - 1/2*f_Q_l_1 + 1/2*f_Q_r_1, 1/2*(4*(Q_l_2 - Q_r_2)*s^2*u + (Q_l_2 - Q_r_2)*u^3 - 4*(f_Q_l_2 - f_Q_r_2)*s^2 - (f_Q_l_2 - f_Q_r_2)*u^2 - (2*(Q_l_2 - Q_r_2)*s^2 + (Q_l_2 - Q_r_2)*u^2 - (f_Q_l_2 - f_Q_r_2)*u)*sqrt(4*s^2 + u^2))/(4*s^2 + u^2))\n"
     ]
    }
   ],
   "source": [
    "# wave propogation\n",
    "Am_deltaQ = (eigenvalues[0]*alphas[0]*eigenvectors[0][:num_basis_cpts] + eigenvalues[2]*alphas[2]*eigenvectors[2][:num_basis_cpts] + eigenvalues[3]*alphas[3]*eigenvectors[3][:num_basis_cpts]).simplify_full()\n",
    "#sum([(min(eigenvalues[i], 0)*alphas[i]*eigenvectors[i][:num_basis_cpts]).simplify_full() for i in range(2*num_basis_cpts)])\n",
    "print(Am_deltaQ)\n",
    "Ap_deltaQ = (eigenvalues[1]*alphas[1]*eigenvectors[1][:num_basis_cpts] + eigenvalues[4]*alphas[4]*eigenvectors[4][:num_basis_cpts] + eigenvalues[5]*alphas[5]*eigenvectors[5][:num_basis_cpts]).simplify_full()\n",
    "#sum([(max(eigenvalues[i], 0)*alphas[i]*eigenvectors[i][:num_basis_cpts]).simplify_full() for i in range(2*num_basis_cpts)])\n",
    "print(Ap_deltaQ)"
   ]
  },
  {
   "cell_type": "code",
   "execution_count": 6,
   "metadata": {},
   "outputs": [
    {
     "name": "stdout",
     "output_type": "stream",
     "text": [
      "(1/2*(Q_l_0 - Q_r_0)*s + 1/2*f_Q_l_0 + 1/2*f_Q_r_0, 1/2*(Q_l_1 - Q_r_1)*s + 1/2*f_Q_l_1 + 1/2*f_Q_r_1, 1/2*(4*(Q_l_2 - Q_r_2)*s^2*u + (Q_l_2 - Q_r_2)*u^3 + 4*(f_Q_l_2 + f_Q_r_2)*s^2 + (f_Q_l_2 + f_Q_r_2)*u^2 + (2*(Q_l_2 - Q_r_2)*s^2 + (Q_l_2 - Q_r_2)*u^2 - (f_Q_l_2 - f_Q_r_2)*u)*sqrt(4*s^2 + u^2))/(4*s^2 + u^2))\n",
      "(1/2*(Q_l_0 - Q_r_0)*s + 1/2*f_Q_l_0 + 1/2*f_Q_r_0, 1/2*(Q_l_1 - Q_r_1)*s + 1/2*f_Q_l_1 + 1/2*f_Q_r_1, -1/2*(4*(Q_l_2 - Q_r_2)*s^2*u + (Q_l_2 - Q_r_2)*u^3 - 4*(f_Q_l_2 + f_Q_r_2)*s^2 - (f_Q_l_2 + f_Q_r_2)*u^2 - (2*(Q_l_2 - Q_r_2)*s^2 + (Q_l_2 - Q_r_2)*u^2 - (f_Q_l_2 - f_Q_r_2)*u)*sqrt(4*s^2 + u^2))/(4*s^2 + u^2))\n"
     ]
    }
   ],
   "source": [
    "# numerical flux\n",
    "F_l = (f_Q_l + Am_deltaQ).simplify_full()\n",
    "print(F_l)\n",
    "F_r = (f_Q_r - Ap_deltaQ).simplify_full()\n",
    "print(F_r)"
   ]
  },
  {
   "cell_type": "code",
   "execution_count": 110,
   "metadata": {},
   "outputs": [
    {
     "data": {
      "text/plain": [
       "0"
      ]
     },
     "execution_count": 110,
     "metadata": {},
     "output_type": "execute_result"
    }
   ],
   "source": [
    "(((f_Q_r_2*q_1 + (Q_l_2 - Q_r_2)*q_2)/q_1) - ((f_Q_r_2 + (Q_l_2 - Q_r_2)*q_2/q_1))).simplify_full()"
   ]
  },
  {
   "cell_type": "code",
   "execution_count": 30,
   "metadata": {},
   "outputs": [
    {
     "data": {
      "text/plain": [
       "(Q_l_2 - Q_r_2)*u"
      ]
     },
     "execution_count": 30,
     "metadata": {},
     "output_type": "execute_result"
    }
   ],
   "source": [
    "(F_l[2] - F_r[2]).simplify_full()"
   ]
  },
  {
   "cell_type": "code",
   "execution_count": 129,
   "metadata": {},
   "outputs": [
    {
     "data": {
      "text/plain": [
       "-1/2*(q_2 + sqrt(4*q_1^2*s^2 + q_2^2))/q_1"
      ]
     },
     "execution_count": 129,
     "metadata": {},
     "output_type": "execute_result"
    }
   ],
   "source": []
  },
  {
   "cell_type": "code",
   "execution_count": 23,
   "metadata": {},
   "outputs": [
    {
     "data": {
      "text/plain": [
       "1/2*(4*(Q_l_2 - Q_r_2)*s^2*u + (Q_l_2 - Q_r_2)*u^3 - 4*(f_Q_l_2 - f_Q_r_2)*s^2 - (f_Q_l_2 - f_Q_r_2)*u^2 + (2*(Q_l_2 - Q_r_2)*s^2 + (Q_l_2 - Q_r_2)*u^2 - (f_Q_l_2 - f_Q_r_2)*u)*sqrt(4*s^2 + u^2))/(4*s^2 + u^2)"
      ]
     },
     "execution_count": 23,
     "metadata": {},
     "output_type": "execute_result"
    }
   ],
   "source": [
    "(alphas[0]*eigenvalues[0]).simplify_full()"
   ]
  },
  {
   "cell_type": "code",
   "execution_count": 18,
   "metadata": {},
   "outputs": [
    {
     "data": {
      "text/plain": [
       "-1/2*((Q_l_1 - Q_r_1)*s - f_Q_l_1 + f_Q_r_1)/s"
      ]
     },
     "execution_count": 18,
     "metadata": {},
     "output_type": "execute_result"
    }
   ],
   "source": [
    "alphas[3]"
   ]
  },
  {
   "cell_type": "code",
   "execution_count": 19,
   "metadata": {},
   "outputs": [
    {
     "data": {
      "text/plain": [
       "-1/2*u - 1/2*sqrt(4*s^2 + u^2)"
      ]
     },
     "execution_count": 19,
     "metadata": {},
     "output_type": "execute_result"
    }
   ],
   "source": [
    "eigenvalues[0]"
   ]
  },
  {
   "cell_type": "code",
   "execution_count": 10,
   "metadata": {},
   "outputs": [
    {
     "data": {
      "text/plain": [
       "(0, 0, 1, 0, 0, 1/2*u - 1/2*sqrt(4*s^2 + u^2))"
      ]
     },
     "execution_count": 10,
     "metadata": {},
     "output_type": "execute_result"
    }
   ],
   "source": [
    "eigenvectors[0]"
   ]
  },
  {
   "cell_type": "code",
   "execution_count": 14,
   "metadata": {},
   "outputs": [
    {
     "data": {
      "text/plain": [
       "(1, 0, 0, -s, 0, 0)"
      ]
     },
     "execution_count": 14,
     "metadata": {},
     "output_type": "execute_result"
    }
   ],
   "source": [
    "eigenvectors[2]"
   ]
  },
  {
   "cell_type": "code",
   "execution_count": 36,
   "metadata": {},
   "outputs": [
    {
     "data": {
      "text/plain": [
       "(4*(f_Q_l_2 + f_Q_r_2)*s^2 + (f_Q_l_2 + f_Q_r_2)*u^2 + (2*(Q_l_2 - Q_r_2)*s^2 + (Q_l_2 - Q_r_2)*u^2 - (f_Q_l_2 - f_Q_r_2)*u)*sqrt(4*s^2 + u^2))/(4*s^2 + u^2)"
      ]
     },
     "execution_count": 36,
     "metadata": {},
     "output_type": "execute_result"
    }
   ],
   "source": [
    "(F_r[2]+F_l[2]).simplify_full()"
   ]
  },
  {
   "cell_type": "code",
   "execution_count": 25,
   "metadata": {},
   "outputs": [
    {
     "data": {
      "text/plain": [
       "f_Q_l_2"
      ]
     },
     "execution_count": 25,
     "metadata": {},
     "output_type": "execute_result"
    }
   ],
   "source": [
    "f_Q_l[2]"
   ]
  },
  {
   "cell_type": "code",
   "execution_count": null,
   "metadata": {},
   "outputs": [],
   "source": []
  }
 ],
 "metadata": {
  "kernelspec": {
   "display_name": "SageMath 9.0",
   "language": "sage",
   "name": "sagemath"
  },
  "language_info": {
   "codemirror_mode": {
    "name": "ipython",
    "version": 3
   },
   "file_extension": ".py",
   "mimetype": "text/x-python",
   "name": "python",
   "nbconvert_exporter": "python",
   "pygments_lexer": "ipython3",
   "version": "3.6.7"
  }
 },
 "nbformat": 4,
 "nbformat_minor": 2
}
