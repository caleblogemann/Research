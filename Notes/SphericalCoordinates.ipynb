{
 "cells": [
  {
   "cell_type": "code",
   "execution_count": 26,
   "metadata": {},
   "outputs": [],
   "source": [
    "x = SR.symbol('x', domain='real')\n",
    "y = SR.symbol('y', domain='real')\n",
    "z = SR.symbol('z', domain='real')\n",
    "theta = SR.symbol('theta', domain='real')\n",
    "phi = SR.symbol('phi', domain='real')\n",
    "r = SR.symbol('r', domain='positive')\n",
    "x_vec = vector([x, y, z])\n",
    "r_vec = vector([theta, phi, r])\n",
    "s_vec = vector([arctan(y/x), arccos(z / sqrt(x^2 + y^2 + z^2)), sqrt(x^2 + y^2 + z^2)])\n",
    "c_vec = vector([r * sin(phi) * cos(theta), r * sin(phi) * sin(theta), r * cos(phi)])\n",
    "s_to_c = dict({r: s_vec[0], theta: s_vec[1], phi: s_vec[2]})\n",
    "c_to_s = dict({x: c_vec[0], y: c_vec[1], z: c_vec[2]})\n",
    "s_j = jacobian(s_vec, x_vec)\n",
    "c_j = jacobian(c_vec, r_vec)\n",
    "h = (c_j.transpose() * c_j).simplify_full()\n",
    "kappa = sqrt(h.det())\n",
    "gamma = [\n",
    "    [\n",
    "        [\n",
    "            sum([\n",
    "                1 / 2 * h_inv[alpha, k] * (h[alpha, m].diff(r_vec[n]) \n",
    "                                   + h[alpha, n].diff(r_vec[m]) \n",
    "                                   + h[m, n].diff(r_vec[alpha])) for alpha in range(3)\n",
    "            ]) for k in range(3)\n",
    "        ] for n in range(3)\n",
    "    ] for m in range(3)\n",
    "]\n",
    "\n",
    "r_hat = s_vec[0].gradient(x_vec).subs(c_to_s).simplify_full()\n",
    "theta_hat = vector([-sin(theta), cos(theta), 0])\n",
    "phi_hat = vector([cos(phi)*cos(theta), cos(phi)*sin(theta), -sin(phi)])\n",
    "x_hat = vector([r_hat[0], theta_hat[0], phi_hat[0]])\n",
    "y_hat = vector([r_hat[1], theta_hat[1], phi_hat[1]])\n",
    "z_hat = vector([r_hat[2], theta_hat[2], phi_hat[2]])\n",
    "\n",
    "r_x = s_vec[0].diff(x).subs(c_to_s).simplify_full()\n",
    "r_y = s_vec[0].diff(y).subs(c_to_s).simplify_full()\n",
    "r_z = s_vec[0].diff(z).subs(c_to_s).simplify_full()\n",
    "\n",
    "theta_x = s_vec[1].diff(x).simplify_full().subs(c_to_s).simplify_full()\n",
    "theta_y = s_vec[1].diff(y).subs(c_to_s).simplify_full()\n",
    "theta_z = s_vec[1].diff(z)\n",
    "\n",
    "phi_x = cos(theta) * cos(phi) / r\n",
    "phi_y = cos(phi) * sin(theta) / r\n",
    "phi_z = s_vec[2].diff(z).subs(c_to_s).simplify_full()"
   ]
  },
  {
   "cell_type": "code",
   "execution_count": 44,
   "metadata": {},
   "outputs": [
    {
     "data": {
      "text/plain": [
       "[-r*sin(phi)*sin(theta)  r*cos(phi)*cos(theta)    cos(theta)*sin(phi)]\n",
       "[ r*cos(theta)*sin(phi)  r*cos(phi)*sin(theta)    sin(phi)*sin(theta)]\n",
       "[                     0            -r*sin(phi)               cos(phi)]"
      ]
     },
     "execution_count": 44,
     "metadata": {},
     "output_type": "execute_result"
    }
   ],
   "source": [
    "c_j"
   ]
  },
  {
   "cell_type": "code",
   "execution_count": 28,
   "metadata": {},
   "outputs": [
    {
     "data": {
      "text/plain": [
       "[r^2*sin(phi)^2              0              0]\n",
       "[             0            r^2              0]\n",
       "[             0              0              1]"
      ]
     },
     "execution_count": 28,
     "metadata": {},
     "output_type": "execute_result"
    }
   ],
   "source": [
    "h"
   ]
  },
  {
   "cell_type": "code",
   "execution_count": 30,
   "metadata": {},
   "outputs": [
    {
     "data": {
      "text/plain": [
       "[1/(r^2*sin(phi)^2)                  0                  0]\n",
       "[                 0             r^(-2)                  0]\n",
       "[                 0                  0                  1]"
      ]
     },
     "execution_count": 30,
     "metadata": {},
     "output_type": "execute_result"
    }
   ],
   "source": [
    "h_inv = h.inverse()\n",
    "h_inv"
   ]
  },
  {
   "cell_type": "code",
   "execution_count": 41,
   "metadata": {},
   "outputs": [
    {
     "data": {
      "text/plain": [
       "cos(phi)/sin(phi)"
      ]
     },
     "execution_count": 41,
     "metadata": {},
     "output_type": "execute_result"
    }
   ],
   "source": [
    "gamma[0][0][1]"
   ]
  },
  {
   "cell_type": "code",
   "execution_count": 110,
   "metadata": {},
   "outputs": [],
   "source": [
    "u = SR.symbol('u', domain='real')\n",
    "u_func = function('uf', nargs=3)(x, y, z)\n",
    "v = SR.symbol('v', domain='real')\n",
    "v_func = function('vf', nargs=3)(x, y, z)\n",
    "w = SR.symbol('w', domain='real')\n",
    "w_func = function('wf', nargs=3)(x, y, z)\n",
    "u_vec = vector([u, v, w])\n",
    "u_vec_func = vector([u_func, v_func, w_func])\n",
    "u_r = SR.symbol('u_r', domain='real')\n",
    "u_r_func = function('u_rf', nargs=3)(r, theta, phi)\n",
    "u_theta = SR.symbol('u_theta', domain='real')\n",
    "u_theta_func = function('u_thetaf', nargs=3)(r, theta, phi)\n",
    "u_phi = SR.symbol('u_phi', domain='real')\n",
    "u_phi_func = function('u_phif', nargs=3)(r, theta, phi)\n",
    "u_r_vec = vector([u_r, u_theta, u_phi])\n",
    "u_r_vec_func = vector([u_r_func, u_theta_func, u_phi_func])"
   ]
  },
  {
   "cell_type": "code",
   "execution_count": 113,
   "metadata": {},
   "outputs": [
    {
     "data": {
      "text/plain": [
       "-sin(phi)*sin(theta)*u_rf(r, theta, phi) - cos(phi)*sin(theta)*u_thetaf(r, theta, phi) + cos(theta)*sin(phi)*diff(u_rf(r, theta, phi), theta) + cos(phi)*cos(theta)*diff(u_thetaf(r, theta, phi), theta) - cos(theta)*u_phif(r, theta, phi) - sin(theta)*diff(u_phif(r, theta, phi), theta)"
      ]
     },
     "execution_count": 113,
     "metadata": {},
     "output_type": "execute_result"
    }
   ],
   "source": [
    "# f(r, theta, phi) = f(s(x, y, z))\n",
    "# \\partial_t = f(s(x, y, z)) = f_r(r, theta, phi) s_1_t + f_theta(r, theta, phi) s_2_t + f_phi(r, theta, phi) s_3_t"
   ]
  },
  {
   "cell_type": "code",
   "execution_count": 174,
   "metadata": {},
   "outputs": [
    {
     "data": {
      "text/plain": [
       "-sin(theta)/(r*sin(phi))"
      ]
     },
     "execution_count": 174,
     "metadata": {},
     "output_type": "execute_result"
    }
   ],
   "source": [
    "theta_x"
   ]
  },
  {
   "cell_type": "code",
   "execution_count": 102,
   "metadata": {},
   "outputs": [
    {
     "data": {
      "text/plain": [
       "<class 'sage.symbolic.function_factory.function_factory.<locals>.NewSymbolicFunction'>"
      ]
     },
     "execution_count": 102,
     "metadata": {},
     "output_type": "execute_result"
    }
   ],
   "source": [
    "type(w)"
   ]
  },
  {
   "cell_type": "code",
   "execution_count": 103,
   "metadata": {},
   "outputs": [
    {
     "data": {
      "text/plain": [
       "<class 'sage.symbolic.expression.Expression'>"
      ]
     },
     "execution_count": 103,
     "metadata": {},
     "output_type": "execute_result"
    }
   ],
   "source": [
    "type(x)"
   ]
  },
  {
   "cell_type": "markdown",
   "metadata": {},
   "source": [
    "# Latitude and Longitude"
   ]
  },
  {
   "cell_type": "code",
   "execution_count": 45,
   "metadata": {},
   "outputs": [],
   "source": [
    "x = SR.symbol('x', domain='real')\n",
    "y = SR.symbol('y', domain='real')\n",
    "z = SR.symbol('z', domain='real')\n",
    "# theta - longitude\n",
    "theta = SR.symbol('theta', domain='real')\n",
    "# phi - latitude\n",
    "phi = SR.symbol('phi', domain='real')\n",
    "r = SR.symbol('r', domain='positive')\n",
    "x_vec = vector([x, y, z])\n",
    "r_vec = vector([theta, phi, r])\n",
    "s_vec = vector([arctan(y/x), arctan(z / sqrt(x^2 + y^2)), sqrt(x^2 + y^2 + z^2)])\n",
    "c_vec = vector([r * cos(phi) * cos(theta), r * cos(phi) * sin(theta), r * sin(phi)])\n",
    "s_to_c = dict({r: s_vec[0], theta: s_vec[1], phi: s_vec[2]})\n",
    "c_to_s = dict({x: c_vec[0], y: c_vec[1], z: c_vec[2]})\n",
    "s_j = jacobian(s_vec, x_vec)\n",
    "c_j = jacobian(c_vec, r_vec)\n",
    "h = (c_j.transpose() * c_j).simplify_full()\n",
    "kappa = sqrt(h.det())\n",
    "gamma = [\n",
    "    [\n",
    "        [\n",
    "            sum([\n",
    "                1 / 2 * h_inv[alpha, k] * (h[alpha, m].diff(r_vec[n]) \n",
    "                                   + h[alpha, n].diff(r_vec[m]) \n",
    "                                   + h[m, n].diff(r_vec[alpha])) for alpha in range(3)\n",
    "            ]) for k in range(3)\n",
    "        ] for n in range(3)\n",
    "    ] for m in range(3)\n",
    "]"
   ]
  },
  {
   "cell_type": "code",
   "execution_count": 50,
   "metadata": {},
   "outputs": [
    {
     "data": {
      "text/plain": [
       "[                     1                      0                      0]\n",
       "[                     0 cos(phi)/abs(cos(phi))                      0]\n",
       "[                     0                      0                      1]"
      ]
     },
     "execution_count": 50,
     "metadata": {},
     "output_type": "execute_result"
    }
   ],
   "source": [
    "(s_j * c_j).subs(c_to_s).simplify_full()"
   ]
  },
  {
   "cell_type": "code",
   "execution_count": 51,
   "metadata": {},
   "outputs": [
    {
     "data": {
      "text/plain": [
       "r^2*abs(cos(phi))"
      ]
     },
     "execution_count": 51,
     "metadata": {},
     "output_type": "execute_result"
    }
   ],
   "source": [
    "kappa"
   ]
  },
  {
   "cell_type": "code",
   "execution_count": 52,
   "metadata": {},
   "outputs": [
    {
     "data": {
      "text/plain": [
       "[r^2*cos(phi)^2              0              0]\n",
       "[             0            r^2              0]\n",
       "[             0              0              1]"
      ]
     },
     "execution_count": 52,
     "metadata": {},
     "output_type": "execute_result"
    }
   ],
   "source": [
    "h"
   ]
  },
  {
   "cell_type": "code",
   "execution_count": 53,
   "metadata": {},
   "outputs": [
    {
     "data": {
      "text/plain": [
       "[[cos(phi)^2/(r*sin(phi)^2), 0, 0], [0, 1/r, 0], [0, 0, 0]]"
      ]
     },
     "execution_count": 53,
     "metadata": {},
     "output_type": "execute_result"
    }
   ],
   "source": [
    "gamma[:][:][2]"
   ]
  },
  {
   "cell_type": "code",
   "execution_count": null,
   "metadata": {},
   "outputs": [],
   "source": []
  }
 ],
 "metadata": {
  "kernelspec": {
   "display_name": "SageMath 9.0",
   "language": "sage",
   "name": "sagemath"
  },
  "language_info": {
   "codemirror_mode": {
    "name": "ipython",
    "version": 3
   },
   "file_extension": ".py",
   "mimetype": "text/x-python",
   "name": "python",
   "nbconvert_exporter": "python",
   "pygments_lexer": "ipython3",
   "version": "3.6.7"
  }
 },
 "nbformat": 4,
 "nbformat_minor": 2
}
