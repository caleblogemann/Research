{
 "cells": [
  {
   "cell_type": "code",
   "execution_count": 9,
   "metadata": {},
   "outputs": [
    {
     "name": "stdout",
     "output_type": "stream",
     "text": [
      "LegendrePolynomials.sage tests passed\n"
     ]
    }
   ],
   "source": [
    "load('../Sage/VectorMatrixVariables.sage')\n",
    "load('../Sage/LegendrePolynomials.sage')"
   ]
  },
  {
   "cell_type": "code",
   "execution_count": 58,
   "metadata": {},
   "outputs": [
    {
     "data": {
      "text/plain": [
       "(-4/9*(Q_im1_0 - Q_ip1_0)/delta_x)"
      ]
     },
     "execution_count": 58,
     "metadata": {},
     "output_type": "execute_result"
    }
   ],
   "source": [
    "N = 1\n",
    "N_bar = 3\n",
    "normalization_constant = 1/2\n",
    "\n",
    "Q_i = get_vector_variable('Q_i', N)\n",
    "Q_im1 = get_vector_variable('Q_im1', N)\n",
    "Q_ip1 = get_vector_variable('Q_ip1', N)\n",
    "Q_bar = get_vector_variable('Q_bar', N_bar)\n",
    "Q_tilde = get_vector_variable('Q_tilde', N)\n",
    "\n",
    "x = var('x')\n",
    "xi = var('xi')\n",
    "x_i = var('x_i')\n",
    "x_im1 = var('x_im1')\n",
    "x_ip1 = var('x_ip1')\n",
    "delta_x = var('delta_x')\n",
    "delta_x_i = var('delta_x_i')\n",
    "delta_x_im1 = var('delta_x_im1')\n",
    "delta_x_ip1 = var('delta_x_ip1')\n",
    "x_bar = var('x_bar')\n",
    "delta_x_bar = var('delta_x_bar')\n",
    "xi_to_x_i = delta_x_i * xi / 2 + x_i\n",
    "xi_to_x_im1 = delta_x_im1 * xi / 2 + x_im1\n",
    "xi_to_x_ip1 = delta_x_ip1 * xi / 2 + x_ip1\n",
    "xi_i = (x - x_i) * 2 / delta_x_i\n",
    "xi_im1 = (x - x_im1) * 2 / delta_x_im1\n",
    "xi_ip1 = (x - x_ip1) * 2 / delta_x_ip1\n",
    "xi_bar = (x - x_bar) * 2 / delta_x_bar\n",
    "\n",
    "M_bar = get_mass_matrix(N_bar, normalization_constant)\n",
    "M_bar_inverse = get_mass_matrix_inverse(N_bar, normalization_constant)\n",
    "M = get_mass_matrix(N, normalization_constant)\n",
    "M_inverse = get_mass_matrix_inverse(N, normalization_constant)\n",
    "\n",
    "phi = get_legendre_polynomials(N_bar, normalization_constant)\n",
    "\n",
    "list_ = []\n",
    "for k in range(N_bar):\n",
    "    list_1 = []\n",
    "    for l in range(N):\n",
    "        list_1.append((phi[l](xi)*phi[k](xi_bar.subs({x: xi_to_x_i}))).integrate(xi, -1, 1))\n",
    "    list_.append(list_1)\n",
    "M_i = matrix(list_)\n",
    "\n",
    "list_ = []\n",
    "for k in range(N_bar):\n",
    "    list_1 = []\n",
    "    for l in range(N):\n",
    "        list_1.append((phi[l](xi)*phi[k](xi_bar.subs({x: xi_to_x_im1}))).integrate(xi, -1, 1))\n",
    "    list_.append(list_1)\n",
    "M_im1 = matrix(list_)\n",
    "\n",
    "list_ = []\n",
    "for k in range(N_bar):\n",
    "    list_1 = []\n",
    "    for l in range(N):\n",
    "        list_1.append((phi[l](xi)*phi[k](xi_bar.subs({x: xi_to_x_ip1}))).integrate(xi, -1, 1))\n",
    "    list_.append(list_1)\n",
    "M_ip1 = matrix(list_)\n",
    "\n",
    "uniform = {x_bar : x_i, delta_x_bar: 3*delta_x, delta_x_i: delta_x, delta_x_im1: delta_x, delta_x_ip1: delta_x}\n",
    "\n",
    "Q_bar = 1 / delta_x_bar * M_bar_inverse * (delta_x_im1 * M_im1 * Q_im1 + delta_x_i * M_i * Q_i + delta_x_ip1 * M_ip1 * Q_ip1)\n",
    "\n",
    "list_ = []\n",
    "for k in range(N):\n",
    "    list_1 = []\n",
    "    for l in range(N_bar):\n",
    "        list_1.append((phi[l].derivative()(xi_bar.subs({x: xi_to_x_i}), xi)*phi[k](xi)).integrate(xi, -1, 1))\n",
    "    list_.append(list_1)\n",
    "B = matrix(list_)\n",
    "\n",
    "Q_tilde = derivative(xi_bar, x) * M_inverse * B * Q_bar\n",
    "\n",
    "Q_tilde.subs(uniform).subs({x_im1: x_i - delta_x, x_ip1: x_i + delta_x}).simplify_full()"
   ]
  },
  {
   "cell_type": "code",
   "execution_count": 23,
   "metadata": {},
   "outputs": [
    {
     "data": {
      "text/plain": [
       "[                                                                                                                                                                                                   2]\n",
       "[                                                                                                                                                                  -4/3*sqrt(3)*(x_i - x_ip1)/delta_x]\n",
       "[-1/9*sqrt(5)*((4*delta_x^2 + 3*delta_x*x_i - 6*x_i^2 - 3*(delta_x - 4*x_i)*x_ip1 - 6*x_ip1^2)/delta_x^2 + (4*delta_x^2 - 3*delta_x*x_i - 6*x_i^2 + 3*(delta_x + 4*x_i)*x_ip1 - 6*x_ip1^2)/delta_x^2)]"
      ]
     },
     "execution_count": 23,
     "metadata": {},
     "output_type": "execute_result"
    }
   ],
   "source": [
    "M_ip1.subs(uniform)"
   ]
  },
  {
   "cell_type": "code",
   "execution_count": 12,
   "metadata": {},
   "outputs": [
    {
     "data": {
      "text/plain": [
       "2"
      ]
     },
     "execution_count": 12,
     "metadata": {},
     "output_type": "execute_result"
    }
   ],
   "source": [
    "(phi[2]*phi[2]).integrate(x, -1, 1)"
   ]
  },
  {
   "cell_type": "code",
   "execution_count": 26,
   "metadata": {},
   "outputs": [
    {
     "data": {
      "text/plain": [
       "15*sqrt(1/5)*xi"
      ]
     },
     "execution_count": 26,
     "metadata": {},
     "output_type": "execute_result"
    }
   ],
   "source": [
    "derivative(phi[2](xi), xi)"
   ]
  },
  {
   "cell_type": "code",
   "execution_count": 29,
   "metadata": {},
   "outputs": [
    {
     "data": {
      "text/plain": [
       "x |--> 0"
      ]
     },
     "execution_count": 29,
     "metadata": {},
     "output_type": "execute_result"
    }
   ],
   "source": [
    "phi[2].derivative()"
   ]
  },
  {
   "cell_type": "code",
   "execution_count": 38,
   "metadata": {},
   "outputs": [
    {
     "data": {
      "text/plain": [
       "(-2/3*Q_im1_0 + 2/3*Q_ip1_0)"
      ]
     },
     "execution_count": 38,
     "metadata": {},
     "output_type": "execute_result"
    }
   ],
   "source": [
    "Q_tilde.subs(uniform).subs({x_im1: x_i - delta_x, x_ip1: x_i + delta_x}).simplify_full()"
   ]
  },
  {
   "cell_type": "code",
   "execution_count": 53,
   "metadata": {},
   "outputs": [
    {
     "data": {
      "text/plain": [
       "0.459754596682332"
      ]
     },
     "execution_count": 53,
     "metadata": {},
     "output_type": "execute_result"
    }
   ],
   "source": [
    "534355052/1162261467.0"
   ]
  },
  {
   "cell_type": "code",
   "execution_count": 55,
   "metadata": {},
   "outputs": [
    {
     "data": {
      "text/plain": [
       "0.490782458870917812"
      ]
     },
     "execution_count": 55,
     "metadata": {},
     "output_type": "execute_result"
    }
   ],
   "source": [
    "73663814174394880/150094635296999121.0"
   ]
  },
  {
   "cell_type": "code",
   "execution_count": 56,
   "metadata": {},
   "outputs": [
    {
     "data": {
      "text/plain": [
       "0.444444444444444"
      ]
     },
     "execution_count": 56,
     "metadata": {},
     "output_type": "execute_result"
    }
   ],
   "source": [
    "4/9.0"
   ]
  },
  {
   "cell_type": "code",
   "execution_count": null,
   "metadata": {},
   "outputs": [],
   "source": []
  }
 ],
 "metadata": {
  "kernelspec": {
   "display_name": "SageMath 9.0",
   "language": "sage",
   "name": "sagemath"
  },
  "language_info": {
   "codemirror_mode": {
    "name": "ipython",
    "version": 3
   },
   "file_extension": ".py",
   "mimetype": "text/x-python",
   "name": "python",
   "nbconvert_exporter": "python",
   "pygments_lexer": "ipython3",
   "version": "3.6.7"
  }
 },
 "nbformat": 4,
 "nbformat_minor": 2
}
