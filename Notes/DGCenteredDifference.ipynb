{
 "cells": [
  {
   "cell_type": "code",
   "execution_count": 1,
   "metadata": {},
   "outputs": [],
   "source": [
    "load('../Sage/VectorMatrixVariables.sage')"
   ]
  },
  {
   "cell_type": "code",
   "execution_count": 5,
   "metadata": {},
   "outputs": [],
   "source": [
    "num_basis_cpts = 1\n",
    "Q_i = get_vector_variable('Q_i', num_basis_cpts)\n",
    "Q_im1 = get_vector_variable('Q_im1', num_basis_cpts)\n",
    "Q_ip1 = get_vector_variable('Q_ip1', num_basis_cpts)\n",
    "x_i = var('x_i')\n",
    "x_im1 = var('x_im1')\n",
    "x_ip1 = var('x_ip1')\n",
    "delta_x_i = var('delta_x_i')\n",
    "delta_x_im1 = var('delta_x_im1')\n",
    "delta_x_ip1 = var('delta_x_ip1')\n"
   ]
  },
  {
   "cell_type": "code",
   "execution_count": 7,
   "metadata": {},
   "outputs": [
    {
     "data": {
      "text/plain": [
       "(Q_i_0)"
      ]
     },
     "execution_count": 7,
     "metadata": {},
     "output_type": "execute_result"
    }
   ],
   "source": [
    "Q_i"
   ]
  },
  {
   "cell_type": "code",
   "execution_count": null,
   "metadata": {},
   "outputs": [],
   "source": []
  }
 ],
 "metadata": {
  "kernelspec": {
   "display_name": "SageMath 9.0",
   "language": "sage",
   "name": "sagemath"
  },
  "language_info": {
   "codemirror_mode": {
    "name": "ipython",
    "version": 3
   },
   "file_extension": ".py",
   "mimetype": "text/x-python",
   "name": "python",
   "nbconvert_exporter": "python",
   "pygments_lexer": "ipython3",
   "version": "3.6.7"
  }
 },
 "nbformat": 4,
 "nbformat_minor": 2
}
