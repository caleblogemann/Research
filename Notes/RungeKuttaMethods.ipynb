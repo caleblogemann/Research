{
 "cells": [
  {
   "cell_type": "code",
   "execution_count": 1,
   "metadata": {},
   "outputs": [],
   "source": [
    "load(\"../Sage/SymbolicVectorMatrix.sage\")"
   ]
  },
  {
   "cell_type": "code",
   "execution_count": 2,
   "metadata": {},
   "outputs": [],
   "source": [
    "num_stages = 3\n",
    "# shu osher form\n",
    "a_s = get_matrix_variable(\"a_s\", num_stages + 1, num_stages + 1)\n",
    "b_s = get_matrix_variable(\"b_s\", num_stages + 1, num_stages + 1)\n",
    "c_s = get_vector_variable(\"c_s\", num_stages + 1)\n",
    "c_s[0] = 0\n",
    "c_s[num_stages] = 1\n",
    "for i in range(num_stages + 1):\n",
    "    a_s[i, i:] = 0\n",
    "    b_s[i, i:] = 0\n",
    "    \n",
    "# butcher form\n",
    "a_b = get_matrix_variable(\"a_b\", num_stages, num_stages)\n",
    "b_b = get_vector_variable(\"b_b\", num_stages)\n",
    "c_b = get_vector_variable(\"c_b\", num_stages)\n",
    "c_b[0] = 0\n",
    "for i in range(num_stages):\n",
    "    a_b[i, i:] = 0"
   ]
  },
  {
   "cell_type": "code",
   "execution_count": 51,
   "metadata": {},
   "outputs": [],
   "source": [
    "q_n = var(\"q_n\")\n",
    "t_n = var(\"t_n\")\n",
    "t = var(\"t\")\n",
    "q = var(\"q\")\n",
    "delta_t = var(\"delta_t\")\n",
    "Lfunc = function(\"L\", nargs=2)(t, q)\n",
    "\n",
    "\n",
    "# butcher form\n",
    "k = get_vector_variable(\"k\", num_stages)\n",
    "k_dict_ = dict()\n",
    "for i in range(num_stages):\n",
    "    k_dict_[k[i]] = Lfunc(t=t_n + c_b[i] * delta_t, q=q_n + delta_t * sum([a_b[i, j] * k[j] for j in range(0, i)]))\n",
    "q_np1_b = q_n + delta_t * sum([b_b[i] * k[i] for i in range(num_stages)])\n",
    "\n",
    "# shu_osher_form\n",
    "y = get_vector_variable(\"y\", num_stages + 1)\n",
    "L = get_vector_variable(\"L\", num_stages)\n",
    "y_dict_ = dict()\n",
    "y_dict_[y[0]] = q_n\n",
    "for i in range(1, num_stages+1):\n",
    "    y_dict_[y[i]] = sum([a_s[i,j] * y[j] + b_s[i,j] * delta_t * L[j] for j in range(0,i)])\n",
    "    \n",
    "L_dict_ = dict()\n",
    "for i in range(num_stages):\n",
    "    L_dict_[L[i]] = Lfunc(t=t_n + c_s[i] * delta_t, q=y[i])\n",
    "q_np1_s = y[num_stages]\n",
    "\n",
    "def shu_osher_form(a_s, b_s, c_s):\n",
    "    num_stages = a_s.nrows() - 1\n",
    "    y = vector(SR, num_stages + 1)\n",
    "    L = vector(SR, num_stages)\n",
    "    y[0] = q_n\n",
    "    for i in range(1, num_stages+1):\n",
    "        y[i] = sum([a_s[i,j] * y[j] + b_s[i,j] * delta_t * Lfunc(t=t_n + c_s[j] * delta_t, q=y[j]) for j in range(i)])\n",
    "\n",
    "    q_np1_s = y[num_stages]\n",
    "    return q_np1_s\n",
    "\n",
    "def butcher_form(a_b, b_b, c_b):\n",
    "    num_stages = a_b.nrows()\n",
    "    k = vector(SR, num_stages)\n",
    "    \n",
    "    for i in range(num_stages):\n",
    "        k[i] = Lfunc(t=t_n + c_b[i] * delta_t, q=q_n + delta_t * sum([a_b[i, j] * k[j] for j in range(0, i)]))\n",
    "    q_np1_b = q_n + delta_t * sum([b_b[i] * k[i] for i in range(num_stages)])\n",
    "    return q_np1_b"
   ]
  },
  {
   "cell_type": "code",
   "execution_count": 4,
   "metadata": {},
   "outputs": [],
   "source": [
    "def convert_shu_osher_to_butcher_form(a_s, b_s, c_s):\n",
    "    num_stages = a_s.nrows() - 1\n",
    "    c_b = c_s[0:-1]\n",
    "    \n",
    "    m = sum([a_s ** j * b_s for j in range(num_stages)])\n",
    "    a_b = m[:num_stages, :num_stages]\n",
    "    b_b = vector(m[-1, :num_stages])\n",
    "    return (a_b, b_b, c_b)"
   ]
  },
  {
   "cell_type": "code",
   "execution_count": 23,
   "metadata": {},
   "outputs": [],
   "source": [
    "def convert_butcher_to_shu_osher_form(a_b, b_b, c_b):\n",
    "    # This is not a unique transformation\n",
    "    num_stages = a_b.nrows()\n",
    "    list_ = c_b.list()\n",
    "    list_.append(1)\n",
    "    c_s = vector(list_)\n",
    "    \n",
    "    a_s = matrix(ring=SR, nrows=num_stages + 1, ncols=num_stages + 1)\n",
    "    b_s = matrix(ring=SR, nrows=num_stages + 1, ncols=num_stages + 1)\n",
    "    \n",
    "    a_s[1:, 0] = 1\n",
    "    b_s[:num_stages, :num_stages] = a_b[:, :]\n",
    "    b_s[num_stages, :num_stages] = b_b[:]\n",
    "    \n",
    "    return (a_s, b_s, c_s)"
   ]
  },
  {
   "cell_type": "code",
   "execution_count": 24,
   "metadata": {},
   "outputs": [
    {
     "name": "stdout",
     "output_type": "stream",
     "text": [
      "[0 0 0 0]\n",
      "[1 0 0 0]\n",
      "[1 0 0 0]\n",
      "[1 0 0 0]\n",
      "[      0       0       0       0]\n",
      "[a_b_1_0       0       0       0]\n",
      "[a_b_2_0 a_b_2_1       0       0]\n",
      "[  b_b_0   b_b_1   b_b_2       0]\n",
      "(0, c_b_1, c_b_2, 1)\n"
     ]
    }
   ],
   "source": [
    "tuple_ = convert_butcher_to_shu_osher_form(a_b, b_b, c_b)\n",
    "print(tuple_[0])\n",
    "print(tuple_[1])\n",
    "print(tuple_[2])"
   ]
  },
  {
   "cell_type": "code",
   "execution_count": 64,
   "metadata": {},
   "outputs": [
    {
     "name": "stdout",
     "output_type": "stream",
     "text": [
      "[                        0                         0                         0]\n",
      "[                  b_s_1_0                         0                         0]\n",
      "[a_s_2_1*b_s_1_0 + b_s_2_0                   b_s_2_1                         0]\n",
      "(a_s_2_1*a_s_3_2*b_s_1_0 + a_s_3_1*b_s_1_0 + a_s_3_2*b_s_2_0 + b_s_3_0, a_s_3_2*b_s_2_1 + b_s_3_1, b_s_3_2)\n",
      "(0, c_s_1, c_s_2)\n"
     ]
    }
   ],
   "source": [
    "tuple_ = convert_shu_osher_to_butcher_form(a_s, b_s, c_s)\n",
    "print(tuple_[0])\n",
    "print(tuple_[1])\n",
    "print(tuple_[2])"
   ]
  },
  {
   "cell_type": "code",
   "execution_count": 52,
   "metadata": {},
   "outputs": [
    {
     "data": {
      "text/plain": [
       "b_b_1*delta_t*L(c_b_1*delta_t + t_n, a_b_1_0*delta_t*L(t_n, q_n) + q_n) + b_b_2*delta_t*L(c_b_2*delta_t + t_n, a_b_2_1*delta_t*L(c_b_1*delta_t + t_n, a_b_1_0*delta_t*L(t_n, q_n) + q_n) + a_b_2_0*delta_t*L(t_n, q_n) + q_n) + b_b_0*delta_t*L(t_n, q_n) + q_n"
      ]
     },
     "execution_count": 52,
     "metadata": {},
     "output_type": "execute_result"
    }
   ],
   "source": [
    "shu_osher_form(tuple_[0], tuple_[1], tuple_[2])"
   ]
  },
  {
   "cell_type": "code",
   "execution_count": 46,
   "metadata": {},
   "outputs": [
    {
     "data": {
      "text/plain": [
       "(b_b_1*L(c_b_1*delta_t + t_n, a_b_1_0*delta_t*L(t_n, q_n) + q_n) + b_b_2*L(c_b_2*delta_t + t_n, (a_b_2_1*L(c_b_1*delta_t + t_n, a_b_1_0*delta_t*L(t_n, q_n) + q_n) + a_b_2_0*L(t_n, q_n))*delta_t + q_n) + b_b_0*L(t_n, q_n))*delta_t + q_n"
      ]
     },
     "execution_count": 46,
     "metadata": {},
     "output_type": "execute_result"
    }
   ],
   "source": [
    "butcher_form(a_b, b_b, c_b)"
   ]
  },
  {
   "cell_type": "code",
   "execution_count": 55,
   "metadata": {},
   "outputs": [
    {
     "data": {
      "text/plain": [
       "0"
      ]
     },
     "execution_count": 55,
     "metadata": {},
     "output_type": "execute_result"
    }
   ],
   "source": [
    "tuple_ = convert_butcher_to_shu_osher_form(a_b, b_b, c_b)\n",
    "(butcher_form(a_b, b_b, c_b) - shu_osher_form(tuple_[0], tuple_[1], tuple_[2])).full_simplify()"
   ]
  },
  {
   "cell_type": "code",
   "execution_count": 61,
   "metadata": {},
   "outputs": [
    {
     "data": {
      "text/plain": [
       "-(a_s_3_2*b_s_2_1 + b_s_3_1)*delta_t*L(c_s_1*delta_t + t_n, b_s_1_0*delta_t*L(t_n, q_n) + a_s_1_0*q_n) + (a_s_3_2*b_s_2_1 + b_s_3_1)*delta_t*L(c_s_1*delta_t + t_n, b_s_1_0*delta_t*L(t_n, q_n) + q_n) - b_s_3_2*delta_t*L(c_s_2*delta_t + t_n, b_s_2_1*delta_t*L(c_s_1*delta_t + t_n, b_s_1_0*delta_t*L(t_n, q_n) + a_s_1_0*q_n) + (a_s_2_1*b_s_1_0 + b_s_2_0)*delta_t*L(t_n, q_n) + (a_s_1_0*a_s_2_1 + a_s_2_0)*q_n) + b_s_3_2*delta_t*L(c_s_2*delta_t + t_n, b_s_2_1*delta_t*L(c_s_1*delta_t + t_n, b_s_1_0*delta_t*L(t_n, q_n) + q_n) + (a_s_2_1*b_s_1_0 + b_s_2_0)*delta_t*L(t_n, q_n) + q_n) - (a_s_1_0*a_s_3_1 + (a_s_1_0*a_s_2_1 + a_s_2_0)*a_s_3_2 + a_s_3_0 - 1)*q_n"
      ]
     },
     "execution_count": 61,
     "metadata": {},
     "output_type": "execute_result"
    }
   ],
   "source": [
    "tuple_ = convert_shu_osher_to_butcher_form(a_s, b_s, c_s)\n",
    "(butcher_form(tuple_[0], tuple_[1], tuple_[2]) - shu_osher_form(a_s, b_s, c_s)).full_simplify()"
   ]
  },
  {
   "cell_type": "code",
   "execution_count": 123,
   "metadata": {},
   "outputs": [],
   "source": [
    "a_s_fe = matrix([[0, 0], [1, 0]])\n",
    "b_s_fe = matrix([[0, 0], [1, 0]])\n",
    "c_s_fe = vector([0, 1])\n",
    "a_b_fe = matrix([[0]])\n",
    "b_b_fe = vector([1])\n",
    "c_b_fe = vector([0])\n",
    "\n",
    "tuple_ = convert_shu_osher_to_butcher_form(a_s_fe, b_s_fe, c_s_fe)\n",
    "assert tuple_[0] == a_b_fe\n",
    "assert tuple_[1] == b_b_fe\n",
    "assert tuple_[2] == c_b_fe\n",
    "\n",
    "tuple_ = convert_butcher_to_shu_osher(a_b_fe, b_b_fe, c_b_fe)\n",
    "assert tuple_[0] == a_s_fe\n",
    "assert tuple_[1] == b_s_fe\n",
    "assert tuple_[2] == c_s_fe"
   ]
  },
  {
   "cell_type": "code",
   "execution_count": 63,
   "metadata": {},
   "outputs": [
    {
     "ename": "AssertionError",
     "evalue": "",
     "output_type": "error",
     "traceback": [
      "\u001b[0;31m---------------------------------------------------------------------------\u001b[0m",
      "\u001b[0;31mAssertionError\u001b[0m                            Traceback (most recent call last)",
      "\u001b[0;32m<ipython-input-63-c8e179691e15>\u001b[0m in \u001b[0;36m<module>\u001b[0;34m()\u001b[0m\n\u001b[1;32m     12\u001b[0m \u001b[0;34m\u001b[0m\u001b[0m\n\u001b[1;32m     13\u001b[0m \u001b[0mtuple_\u001b[0m \u001b[0;34m=\u001b[0m \u001b[0mconvert_butcher_to_shu_osher_form\u001b[0m\u001b[0;34m(\u001b[0m\u001b[0ma_b_tvdrk2\u001b[0m\u001b[0;34m,\u001b[0m \u001b[0mb_b_tvdrk2\u001b[0m\u001b[0;34m,\u001b[0m \u001b[0mc_b_tvdrk2\u001b[0m\u001b[0;34m)\u001b[0m\u001b[0;34m\u001b[0m\u001b[0;34m\u001b[0m\u001b[0m\n\u001b[0;32m---> 14\u001b[0;31m \u001b[0;32massert\u001b[0m \u001b[0mtuple_\u001b[0m\u001b[0;34m[\u001b[0m\u001b[0mInteger\u001b[0m\u001b[0;34m(\u001b[0m\u001b[0;36m0\u001b[0m\u001b[0;34m)\u001b[0m\u001b[0;34m]\u001b[0m \u001b[0;34m==\u001b[0m \u001b[0ma_s_tvdrk2\u001b[0m\u001b[0;34m\u001b[0m\u001b[0;34m\u001b[0m\u001b[0m\n\u001b[0m\u001b[1;32m     15\u001b[0m \u001b[0;32massert\u001b[0m \u001b[0mtuple_\u001b[0m\u001b[0;34m[\u001b[0m\u001b[0mInteger\u001b[0m\u001b[0;34m(\u001b[0m\u001b[0;36m1\u001b[0m\u001b[0;34m)\u001b[0m\u001b[0;34m]\u001b[0m \u001b[0;34m==\u001b[0m \u001b[0mb_s_tvdrk2\u001b[0m\u001b[0;34m\u001b[0m\u001b[0;34m\u001b[0m\u001b[0m\n\u001b[1;32m     16\u001b[0m \u001b[0;32massert\u001b[0m \u001b[0mtuple_\u001b[0m\u001b[0;34m[\u001b[0m\u001b[0mInteger\u001b[0m\u001b[0;34m(\u001b[0m\u001b[0;36m2\u001b[0m\u001b[0;34m)\u001b[0m\u001b[0;34m]\u001b[0m \u001b[0;34m==\u001b[0m \u001b[0mc_s_tvdrk2\u001b[0m\u001b[0;34m\u001b[0m\u001b[0;34m\u001b[0m\u001b[0m\n",
      "\u001b[0;31mAssertionError\u001b[0m: "
     ]
    }
   ],
   "source": [
    "a_s_tvdrk2 = matrix([[0, 0, 0], [1, 0, 0], [1/2, 1/2, 0]])\n",
    "b_s_tvdrk2 = matrix([[0, 0, 0], [1, 0, 0], [0, 1/2, 0]])\n",
    "c_s_tvdrk2 = vector([0, 1, 1])\n",
    "a_b_tvdrk2 = matrix([[0, 0], [1, 0]])\n",
    "b_b_tvdrk2 = vector([1/2, 1/2])\n",
    "c_b_tvdrk2 = vector([0, 1])\n",
    "\n",
    "tuple_ = convert_shu_osher_to_butcher_form(a_s_tvdrk2, b_s_tvdrk2, c_s_tvdrk2)\n",
    "assert tuple_[0] == a_b_tvdrk2\n",
    "assert tuple_[1] == b_b_tvdrk2\n",
    "assert tuple_[2] == c_b_tvdrk2\n",
    "\n",
    "tuple_ = convert_butcher_to_shu_osher_form(a_b_tvdrk2, b_b_tvdrk2, c_b_tvdrk2)\n",
    "assert tuple_[0] == a_s_tvdrk2\n",
    "assert tuple_[1] == b_s_tvdrk2\n",
    "assert tuple_[2] == c_s_tvdrk2"
   ]
  },
  {
   "cell_type": "code",
   "execution_count": null,
   "metadata": {},
   "outputs": [],
   "source": []
  }
 ],
 "metadata": {
  "kernelspec": {
   "display_name": "SageMath 9.0",
   "language": "sage",
   "name": "sagemath"
  },
  "language_info": {
   "codemirror_mode": {
    "name": "ipython",
    "version": 3
   },
   "file_extension": ".py",
   "mimetype": "text/x-python",
   "name": "python",
   "nbconvert_exporter": "python",
   "pygments_lexer": "ipython3",
   "version": "3.6.10"
  }
 },
 "nbformat": 4,
 "nbformat_minor": 2
}
