{
 "cells": [
  {
   "cell_type": "code",
   "execution_count": 1,
   "metadata": {},
   "outputs": [
    {
     "name": "stdout",
     "output_type": "stream",
     "text": [
      "-T*f_l + T*f_s + (T*q_l - T*q_s)*s_l\n",
      "T*f_r - T*f_s - (T*q_r - T*q_s)*s_r\n",
      "-T*f_l + T*f_r + (T*q_l - T*q_s)*s_l - (T*q_r - T*q_s)*s_r\n"
     ]
    }
   ],
   "source": [
    "x = var('x')\n",
    "x_l = var('x_l')\n",
    "x_r = var('x_r')\n",
    "\n",
    "t = var('t')\n",
    "T = var('T')\n",
    "\n",
    "s_l = var('s_l')\n",
    "s_r = var('s_r')\n",
    "s = var('s')\n",
    "\n",
    "q = var('q')\n",
    "q_l = var('q_l')\n",
    "q_r = var('q_r')\n",
    "q_s = var('q_s')\n",
    "\n",
    "f = var('f')\n",
    "# f_l = f(q_l), f_r = f(q_r), f_s = f(q_s)\n",
    "f_l = var('f_l')\n",
    "f_r = var('f_r')\n",
    "f_s = var('f_s')\n",
    "\n",
    "n_1 = vector([0, -1])\n",
    "n_2 = vector([1, 0])\n",
    "n_3 = vector([0, 1])\n",
    "n_4 = vector([-1, 0])\n",
    "\n",
    "u = vector([q, f(q)])\n",
    "\n",
    "# s_1 = \\dintt{0}{T}{u . n_1}{t} = \\dintt{0}{T}{-f(q(x = x_l)}{t} = - f(q_l) T\n",
    "s_1 = -1 * f_l * T\n",
    "# s_2 = \\dintt{x_l}{0}{u . n_2}{x} = \\dintt{x_l}{s_l T}{q_l}{x} + \\dintt{s_l T}{0}{q_s}{x} = q_l (s_l T - x_l) + q_s(- s_l T)\n",
    "s_2 = q_l * (s_l * T - x_l) + q_s * (-1 * s_l * T)\n",
    "# s_3 = \\dintt{0}{x_r}{u . n_2}{x} = \\dintt{0}{s_r T}{q_s}{x} + \\dintt{s_r T}{x_r}{q_r}{x} = q_s (- s_r T) + q_r (x_r - s_r T)\n",
    "s_3 = q_s * (s_r * T) + q_r * (x_r - s_r * T)\n",
    "# s_4 = \\dintt{0}{T}{u . n_3}{t} = \\dintt{0}{T}{f(q_r)}{t} = f(q_r) T\n",
    "s_4 = f_r * T\n",
    "# s_5 = \\dintt{0}{x_r}{u . n_4}{x} = \\dintt{0}{x_r}{-q_r}{x} = -q_r x_r\n",
    "s_5 = -1 * q_r * x_r\n",
    "# s_6 = \\dintt{x_l}{0}{u . n_4}{x} = \\dintt{x_l}{0}{-q_l}{x} = q_l x_l\n",
    "s_6 = q_l * x_l\n",
    "# s_7 = \\dintt{0}{T}{u . n_1}{t} = \\dintt{0}{T}{-f(q_s)}{t} = - f(q_s) T\n",
    "s_7 = -1 * f_s * T\n",
    "# s_8 = \\dintt{0}{T}{u . n_3}{t} = \\dintt{0}{T}{f(q_s)}{t} = f(q_s) T\n",
    "s_8 = f_s * T\n",
    "left_cell = s_1 + s_2 + s_8 + s_6\n",
    "right_cell = s_3 + s_4 + s_5 + s_7\n",
    "both_cells = s_1 + s_2 + s_3 + s_4 + s_5 + s_6\n",
    "print(left_cell.simplify_full())\n",
    "print(right_cell.simplify_full())\n",
    "print(both_cells.simplify_full())"
   ]
  },
  {
   "cell_type": "markdown",
   "metadata": {},
   "source": [
    "## HLL Riemann Solver Conservative"
   ]
  },
  {
   "cell_type": "code",
   "execution_count": 2,
   "metadata": {},
   "outputs": [
    {
     "name": "stdout",
     "output_type": "stream",
     "text": [
      "q_s == (q_l*s_l - q_r*s_r - f_l + f_r)/(s_l - s_r)\n"
     ]
    }
   ],
   "source": [
    "rhs = left_cell + right_cell\n",
    "sol = solve(rhs == 0, q_s)\n",
    "print(sol[0])"
   ]
  },
  {
   "cell_type": "code",
   "execution_count": 9,
   "metadata": {},
   "outputs": [],
   "source": [
    "q_s_dict = {q_s : (q_l*s_l - q_r*s_r - f_l + f_r)/(s_l - s_r)}"
   ]
  },
  {
   "cell_type": "code",
   "execution_count": 11,
   "metadata": {},
   "outputs": [
    {
     "name": "stdout",
     "output_type": "stream",
     "text": [
      "f_s == (f_r*s_l + ((q_l - q_r)*s_l - f_l)*s_r)/(s_l - s_r)\n"
     ]
    }
   ],
   "source": [
    "rhs = left_cell - right_cell\n",
    "sol2 = solve(rhs == 0, f_s)\n",
    "print(sol2[0].subs(q_s_dict).simplify_full())"
   ]
  },
  {
   "cell_type": "code",
   "execution_count": 8,
   "metadata": {},
   "outputs": [
    {
     "data": {
      "text/plain": [
       "<class 'sage.symbolic.expression.Expression'>"
      ]
     },
     "execution_count": 8,
     "metadata": {},
     "output_type": "execute_result"
    }
   ],
   "source": [
    "type(sol[0])"
   ]
  },
  {
   "cell_type": "markdown",
   "metadata": {},
   "source": [
    "## Local Lax Friedrichs/Rusanov Riemann Solver Conservative"
   ]
  },
  {
   "cell_type": "code",
   "execution_count": 5,
   "metadata": {},
   "outputs": [],
   "source": [
    "llf_dict = {s_l: -s, s_r: s}"
   ]
  },
  {
   "cell_type": "code",
   "execution_count": 14,
   "metadata": {},
   "outputs": [
    {
     "data": {
      "text/plain": [
       "[q_s == 1/2*((q_l + q_r)*s + f_l - f_r)/s]"
      ]
     },
     "execution_count": 14,
     "metadata": {},
     "output_type": "execute_result"
    }
   ],
   "source": [
    "rhs = (left_cell + right_cell).subs(llf_dict).simplify_full()\n",
    "solve(rhs == 0, q_s)"
   ]
  },
  {
   "cell_type": "code",
   "execution_count": 25,
   "metadata": {},
   "outputs": [
    {
     "data": {
      "text/plain": [
       "[s == -(f_l - f_r)/(q_l + q_r)]"
      ]
     },
     "execution_count": 25,
     "metadata": {},
     "output_type": "execute_result"
    }
   ],
   "source": [
    "rhs = (s_1 + s_2 + s_3 + s_4 + s_5 + s_6 + s_7 + s_8).subs(llf_dict)\n",
    "solve(rhs == 0, s)"
   ]
  },
  {
   "cell_type": "code",
   "execution_count": 6,
   "metadata": {},
   "outputs": [
    {
     "name": "stdout",
     "output_type": "stream",
     "text": [
      "f_s == 1/2*(q_l - q_r)*s + 1/2*f_l + 1/2*f_r\n"
     ]
    }
   ],
   "source": [
    "q_s_dict = {q_s: 1/2*((q_l + q_r)*s + f_l - f_r)/s}\n",
    "rhs = left_cell - right_cell\n",
    "sol2 = solve(rhs == 0, f_s)\n",
    "print(sol2[0].subs(q_s_dict).subs(llf_dict).simplify_full())"
   ]
  },
  {
   "cell_type": "code",
   "execution_count": null,
   "metadata": {},
   "outputs": [],
   "source": []
  }
 ],
 "metadata": {
  "kernelspec": {
   "display_name": "SageMath 9.0",
   "language": "sage",
   "name": "sagemath"
  },
  "language_info": {
   "codemirror_mode": {
    "name": "ipython",
    "version": 3
   },
   "file_extension": ".py",
   "mimetype": "text/x-python",
   "name": "python",
   "nbconvert_exporter": "python",
   "pygments_lexer": "ipython3",
   "version": "3.6.10"
  }
 },
 "nbformat": 4,
 "nbformat_minor": 2
}
