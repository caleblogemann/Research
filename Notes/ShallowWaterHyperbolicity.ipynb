{
 "cells": [
  {
   "cell_type": "code",
   "execution_count": 9,
   "metadata": {},
   "outputs": [
    {
     "data": {
      "text/plain": [
       "(q_2, 1/2*g*q_1^2 + q_2^2/q_1)"
      ]
     },
     "execution_count": 9,
     "metadata": {},
     "output_type": "execute_result"
    }
   ],
   "source": [
    "# primitive variables\n",
    "h = var('h')\n",
    "u = var('u')\n",
    "g = var('g')\n",
    "\n",
    "flux_primitive = vector([h*u, h*u^2 + 1/2 * g * h^2])\n",
    "\n",
    "# conserved variables\n",
    "q1 = var('q_1')\n",
    "q2 = var('q_2')\n",
    "\n",
    "conserved_to_primitive = {q1:h, q2: h*u}\n",
    "primitive_to_conserved = {h:q1, u: q2/q1}\n",
    "\n",
    "flux_conserved = flux_primitive.subs(primitive_to_conserved)\n",
    "flux_conserved"
   ]
  },
  {
   "cell_type": "code",
   "execution_count": 10,
   "metadata": {},
   "outputs": [
    {
     "data": {
      "text/plain": [
       "[                  0                   1]\n",
       "[g*q_1 - q_2^2/q_1^2           2*q_2/q_1]"
      ]
     },
     "execution_count": 10,
     "metadata": {},
     "output_type": "execute_result"
    }
   ],
   "source": [
    "jacobian_conserved = jacobian(flux_conserved, (q1, q2))\n",
    "jacobian_conserved"
   ]
  },
  {
   "cell_type": "code",
   "execution_count": 12,
   "metadata": {},
   "outputs": [
    {
     "data": {
      "text/plain": [
       "[        0         1]\n",
       "[g*h - u^2       2*u]"
      ]
     },
     "execution_count": 12,
     "metadata": {},
     "output_type": "execute_result"
    }
   ],
   "source": [
    "jacobian_primitive = jacobian_conserved.subs(conserved_to_primitive)\n",
    "jacobian_primitive"
   ]
  },
  {
   "cell_type": "code",
   "execution_count": 15,
   "metadata": {},
   "outputs": [
    {
     "data": {
      "text/plain": [
       "[u - sqrt(g*h), u + sqrt(g*h)]"
      ]
     },
     "execution_count": 15,
     "metadata": {},
     "output_type": "execute_result"
    }
   ],
   "source": [
    "eigenvalues_primitive = jacobian_primitive.eigenvalues()\n",
    "eigenvalues_primitive"
   ]
  },
  {
   "cell_type": "code",
   "execution_count": 18,
   "metadata": {},
   "outputs": [
    {
     "data": {
      "text/plain": [
       "[-sqrt(g*q_1) + q_2/q_1, sqrt(g*q_1) + q_2/q_1]"
      ]
     },
     "execution_count": 18,
     "metadata": {},
     "output_type": "execute_result"
    }
   ],
   "source": [
    "eigenvalues_conserved = [e.subs(primitive_to_conserved) for e in eigenvalues_primitive]\n",
    "assert(eigenvalues_conserved == jacobian_conserved.eigenvalues())\n",
    "eigenvalues_conserved"
   ]
  },
  {
   "cell_type": "code",
   "execution_count": 19,
   "metadata": {},
   "outputs": [
    {
     "data": {
      "text/plain": [
       "[(u - sqrt(g*h), [(1, u - sqrt(g*h))], 1),\n",
       " (u + sqrt(g*h), [(1, u + sqrt(g*h))], 1)]"
      ]
     },
     "execution_count": 19,
     "metadata": {},
     "output_type": "execute_result"
    }
   ],
   "source": [
    "eigenvectors_primitive = jacobian_primitive.eigenvectors_right()\n",
    "eigenvectors_primitive"
   ]
  },
  {
   "cell_type": "code",
   "execution_count": null,
   "metadata": {},
   "outputs": [],
   "source": [
    " "
   ]
  }
 ],
 "metadata": {
  "kernelspec": {
   "display_name": "SageMath 9.0",
   "language": "sage",
   "name": "sagemath"
  },
  "language_info": {
   "codemirror_mode": {
    "name": "ipython",
    "version": 3
   },
   "file_extension": ".py",
   "mimetype": "text/x-python",
   "name": "python",
   "nbconvert_exporter": "python",
   "pygments_lexer": "ipython3",
   "version": "3.7.3"
  }
 },
 "nbformat": 4,
 "nbformat_minor": 2
}
