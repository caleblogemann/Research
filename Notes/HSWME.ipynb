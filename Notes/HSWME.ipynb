{
 "cells": [
  {
   "cell_type": "code",
   "execution_count": 7,
   "metadata": {},
   "outputs": [
    {
     "name": "stdout",
     "output_type": "stream",
     "text": [
      "LegendrePolynomials.sage tests passed\n"
     ]
    }
   ],
   "source": [
    "load('GeneralizedShallowWaterVariables.sage')"
   ]
  },
  {
   "cell_type": "markdown",
   "metadata": {},
   "source": [
    "# Hyperbolic Shallow Water Moment Equations"
   ]
  },
  {
   "cell_type": "code",
   "execution_count": 8,
   "metadata": {},
   "outputs": [],
   "source": [
    "set_generalized_shallow_water_variables_1d(2)"
   ]
  },
  {
   "cell_type": "code",
   "execution_count": 13,
   "metadata": {},
   "outputs": [
    {
     "data": {
      "text/plain": [
       "[                                                                                     0                                                                                      1                                                                                      0                                                                                      0]\n",
       "[e_z*g*h + 1/3*alpha_1^2 + 1/5*alpha_2^2 - 2/15*(5*alpha_1^2/h + 3*alpha_2^2/h)*h - u^2                                                                                    2*u                                                                            2/3*alpha_1                                                                            2/5*alpha_2]\n",
       "[                                                    -4/5*alpha_1*alpha_2 - 2*alpha_1*u                                                                              2*alpha_1                                                                      4/5*alpha_2 + 2*u                                                                            4/5*alpha_1]\n",
       "[  2/3*alpha_1^2 + 2/7*alpha_2^2 - 4/21*(7*alpha_1^2/h + 3*alpha_2^2/h)*h - 2*alpha_2*u                                                                              2*alpha_2                                                                            4/3*alpha_1                                                                      4/7*alpha_2 + 2*u]"
      ]
     },
     "execution_count": 13,
     "metadata": {},
     "output_type": "execute_result"
    }
   ],
   "source": [
    "jacobian(f_q, q).subs(q_to_p)"
   ]
  },
  {
   "cell_type": "code",
   "execution_count": 10,
   "metadata": {},
   "outputs": [
    {
     "data": {
      "text/plain": [
       "[               0                0                0                0]\n",
       "[               0                0                0                0]\n",
       "[               0                0 -1/5*alpha_2 + u      1/5*alpha_1]\n",
       "[               0                0          alpha_1  1/7*alpha_2 + u]"
      ]
     },
     "execution_count": 10,
     "metadata": {},
     "output_type": "execute_result"
    }
   ],
   "source": [
    "G_p"
   ]
  },
  {
   "cell_type": "code",
   "execution_count": 23,
   "metadata": {},
   "outputs": [],
   "source": [
    "l_f_p = f_p.subs({alpha_2: 0})"
   ]
  },
  {
   "cell_type": "code",
   "execution_count": 28,
   "metadata": {},
   "outputs": [
    {
     "data": {
      "text/plain": [
       "[                            0                             1                             0                             0]\n",
       "[e_z*g*h - 1/3*alpha_1^2 - u^2                           2*u                   2/3*alpha_1                             0]\n",
       "[                 -2*alpha_1*u                     2*alpha_1                           2*u                             0]\n",
       "[               -2/3*alpha_1^2                             0                   4/3*alpha_1                             0]"
      ]
     },
     "execution_count": 28,
     "metadata": {},
     "output_type": "execute_result"
    }
   ],
   "source": [
    "jacobian(l_f_p.subs(p_to_q), q).subs(q_to_p)"
   ]
  },
  {
   "cell_type": "code",
   "execution_count": 27,
   "metadata": {},
   "outputs": [
    {
     "data": {
      "text/plain": [
       "[                            0                             1                             0                             0]\n",
       "[e_z*g*h - 1/3*alpha_1^2 - u^2                           2*u                   2/3*alpha_1                             0]\n",
       "[                 -2*alpha_1*u                     2*alpha_1                             u                   3/5*alpha_1]\n",
       "[               -2/3*alpha_1^2                             0                   1/3*alpha_1                             u]"
      ]
     },
     "execution_count": 27,
     "metadata": {},
     "output_type": "execute_result"
    }
   ],
   "source": [
    "A_p.subs({alpha_2: 0})"
   ]
  },
  {
   "cell_type": "code",
   "execution_count": 29,
   "metadata": {},
   "outputs": [
    {
     "data": {
      "text/plain": [
       "[                            0                             1                             0                             0]\n",
       "[e_z*g*h - 1/3*alpha_1^2 - u^2                           2*u                   2/3*alpha_1                             0]\n",
       "[                 -2*alpha_1*u                     2*alpha_1                           2*u                   4/5*alpha_1]\n",
       "[               -2/3*alpha_1^2                             0                   4/3*alpha_1                           2*u]"
      ]
     },
     "execution_count": 29,
     "metadata": {},
     "output_type": "execute_result"
    }
   ],
   "source": [
    "f_q_j.subs(q_to_p).subs({alpha_2: 0})"
   ]
  },
  {
   "cell_type": "code",
   "execution_count": 30,
   "metadata": {},
   "outputs": [
    {
     "data": {
      "text/plain": [
       "(h*u, 1/2*e_z*g*h^2 + 1/3*alpha_1^2*h + h*u^2, 2*alpha_1*h*u, 2/3*alpha_1^2*h)"
      ]
     },
     "execution_count": 30,
     "metadata": {},
     "output_type": "execute_result"
    }
   ],
   "source": [
    "l_f_p"
   ]
  },
  {
   "cell_type": "code",
   "execution_count": 32,
   "metadata": {},
   "outputs": [
    {
     "data": {
      "text/plain": [
       "[                                            0                                             1                                             0                                             0]\n",
       "[e_z*g*h - 1/3*alpha_1^2 - 1/5*alpha_2^2 - u^2                                           2*u                                   2/3*alpha_1                                   2/5*alpha_2]\n",
       "[           -4/5*alpha_1*alpha_2 - 2*alpha_1*u                                     2*alpha_1                                   alpha_2 + u                                   3/5*alpha_1]\n",
       "[ -2/3*alpha_1^2 - 2/7*alpha_2^2 - 2*alpha_2*u                                     2*alpha_2                                   1/3*alpha_1                               3/7*alpha_2 + u]"
      ]
     },
     "execution_count": 32,
     "metadata": {},
     "output_type": "execute_result"
    }
   ],
   "source": [
    "A_p.simplify_full()"
   ]
  },
  {
   "cell_type": "code",
   "execution_count": 35,
   "metadata": {},
   "outputs": [
    {
     "data": {
      "text/plain": [
       "(h, u, alpha_1, alpha_2)"
      ]
     },
     "execution_count": 35,
     "metadata": {},
     "output_type": "execute_result"
    }
   ],
   "source": []
  },
  {
   "cell_type": "code",
   "execution_count": null,
   "metadata": {},
   "outputs": [],
   "source": []
  }
 ],
 "metadata": {
  "kernelspec": {
   "display_name": "SageMath 9.0",
   "language": "sage",
   "name": "sagemath"
  },
  "language_info": {
   "codemirror_mode": {
    "name": "ipython",
    "version": 3
   },
   "file_extension": ".py",
   "mimetype": "text/x-python",
   "name": "python",
   "nbconvert_exporter": "python",
   "pygments_lexer": "ipython3",
   "version": "3.6.10"
  }
 },
 "nbformat": 4,
 "nbformat_minor": 2
}
